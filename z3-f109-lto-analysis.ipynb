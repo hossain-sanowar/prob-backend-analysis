{
 "cells": [
  {
   "cell_type": "markdown",
   "metadata": {},
   "source": [
    "# Analysis of Z3 backend over the 109 features set\n",
    "\n",
    "In this note book we will explore the SMTLib backend with default settings over the F109 feature set by employing decision trees and random forests."
   ]
  },
  {
   "cell_type": "code",
   "execution_count": 1,
   "metadata": {},
   "outputs": [
    {
     "data": {
      "text/html": "<div>\n<style scoped>\n    .dataframe tbody tr th:only-of-type {\n        vertical-align: middle;\n    }\n\n    .dataframe tbody tr th {\n        vertical-align: top;\n    }\n\n    .dataframe thead th {\n        text-align: right;\n    }\n</style>\n<table border=\"1\" class=\"dataframe\">\n  <thead>\n    <tr style=\"text-align: right;\">\n      <th></th>\n      <th>Feature0</th>\n      <th>Feature1</th>\n      <th>Feature2</th>\n      <th>Feature3</th>\n      <th>Feature4</th>\n      <th>Feature5</th>\n      <th>Feature6</th>\n      <th>Feature7</th>\n      <th>Feature8</th>\n      <th>Feature9</th>\n      <th>...</th>\n      <th>Feature100</th>\n      <th>Feature101</th>\n      <th>Feature102</th>\n      <th>Feature103</th>\n      <th>Feature104</th>\n      <th>Feature105</th>\n      <th>Feature106</th>\n      <th>Feature107</th>\n      <th>Feature108</th>\n      <th>Label0</th>\n    </tr>\n  </thead>\n  <tbody>\n    <tr>\n      <th>0</th>\n      <td>0.0</td>\n      <td>0.0</td>\n      <td>0.0</td>\n      <td>0.0</td>\n      <td>0.0</td>\n      <td>0.0</td>\n      <td>0.0</td>\n      <td>0.0</td>\n      <td>0.0</td>\n      <td>0.0</td>\n      <td>...</td>\n      <td>0.0</td>\n      <td>0.0</td>\n      <td>0.0</td>\n      <td>0.0</td>\n      <td>0.0</td>\n      <td>0.0</td>\n      <td>0.0</td>\n      <td>0.0</td>\n      <td>0.0</td>\n      <td>0.0</td>\n    </tr>\n    <tr>\n      <th>1</th>\n      <td>0.0</td>\n      <td>0.0</td>\n      <td>0.0</td>\n      <td>0.0</td>\n      <td>0.0</td>\n      <td>0.0</td>\n      <td>0.0</td>\n      <td>0.0</td>\n      <td>0.0</td>\n      <td>0.0</td>\n      <td>...</td>\n      <td>0.0</td>\n      <td>0.0</td>\n      <td>0.0</td>\n      <td>0.0</td>\n      <td>0.0</td>\n      <td>0.0</td>\n      <td>0.0</td>\n      <td>0.0</td>\n      <td>0.0</td>\n      <td>0.0</td>\n    </tr>\n    <tr>\n      <th>2</th>\n      <td>0.0</td>\n      <td>0.0</td>\n      <td>0.0</td>\n      <td>0.0</td>\n      <td>0.0</td>\n      <td>0.0</td>\n      <td>0.0</td>\n      <td>0.0</td>\n      <td>0.0</td>\n      <td>0.0</td>\n      <td>...</td>\n      <td>0.0</td>\n      <td>0.0</td>\n      <td>0.0</td>\n      <td>0.0</td>\n      <td>0.0</td>\n      <td>0.0</td>\n      <td>0.0</td>\n      <td>0.0</td>\n      <td>0.0</td>\n      <td>1.0</td>\n    </tr>\n    <tr>\n      <th>3</th>\n      <td>0.0</td>\n      <td>0.0</td>\n      <td>0.0</td>\n      <td>0.0</td>\n      <td>0.0</td>\n      <td>0.0</td>\n      <td>0.0</td>\n      <td>0.0</td>\n      <td>0.0</td>\n      <td>0.0</td>\n      <td>...</td>\n      <td>0.0</td>\n      <td>0.0</td>\n      <td>0.0</td>\n      <td>0.0</td>\n      <td>0.0</td>\n      <td>0.0</td>\n      <td>0.0</td>\n      <td>0.0</td>\n      <td>0.0</td>\n      <td>0.0</td>\n    </tr>\n    <tr>\n      <th>4</th>\n      <td>0.0</td>\n      <td>0.0</td>\n      <td>0.0</td>\n      <td>0.0</td>\n      <td>0.0</td>\n      <td>0.0</td>\n      <td>0.0</td>\n      <td>0.0</td>\n      <td>0.0</td>\n      <td>0.0</td>\n      <td>...</td>\n      <td>0.0</td>\n      <td>0.0</td>\n      <td>0.0</td>\n      <td>0.0</td>\n      <td>0.0</td>\n      <td>0.0</td>\n      <td>0.0</td>\n      <td>0.0</td>\n      <td>0.0</td>\n      <td>0.0</td>\n    </tr>\n  </tbody>\n</table>\n<p>5 rows × 110 columns</p>\n</div>",
      "text/plain": "   Feature0  Feature1  Feature2  Feature3  Feature4  Feature5  Feature6  \\\n0       0.0       0.0       0.0       0.0       0.0       0.0       0.0   \n1       0.0       0.0       0.0       0.0       0.0       0.0       0.0   \n2       0.0       0.0       0.0       0.0       0.0       0.0       0.0   \n3       0.0       0.0       0.0       0.0       0.0       0.0       0.0   \n4       0.0       0.0       0.0       0.0       0.0       0.0       0.0   \n\n   Feature7  Feature8  Feature9  ...  Feature100  Feature101  Feature102  \\\n0       0.0       0.0       0.0  ...         0.0         0.0         0.0   \n1       0.0       0.0       0.0  ...         0.0         0.0         0.0   \n2       0.0       0.0       0.0  ...         0.0         0.0         0.0   \n3       0.0       0.0       0.0  ...         0.0         0.0         0.0   \n4       0.0       0.0       0.0  ...         0.0         0.0         0.0   \n\n   Feature103  Feature104  Feature105  Feature106  Feature107  Feature108  \\\n0         0.0         0.0         0.0         0.0         0.0         0.0   \n1         0.0         0.0         0.0         0.0         0.0         0.0   \n2         0.0         0.0         0.0         0.0         0.0         0.0   \n3         0.0         0.0         0.0         0.0         0.0         0.0   \n4         0.0         0.0         0.0         0.0         0.0         0.0   \n\n   Label0  \n0     0.0  \n1     0.0  \n2     1.0  \n3     0.0  \n4     0.0  \n\n[5 rows x 110 columns]"
     },
     "execution_count": 1,
     "metadata": {},
     "output_type": "execute_result"
    }
   ],
   "source": [
    "%run f109_info.py\n",
    "\n",
    "import pandas as pd\n",
    "import numpy as np\n",
    "\n",
    "data = pd.read_csv('data/2020-01-23/z3-f109-lto_unique.csv')\n",
    "n_features = 109\n",
    "\n",
    "data.head()"
   ]
  },
  {
   "cell_type": "markdown",
   "metadata": {},
   "source": [
    "## Data insights\n",
    "\n",
    "Firstly, we check how many positive and negative samples exist in the data."
   ]
  },
  {
   "cell_type": "code",
   "execution_count": 2,
   "metadata": {},
   "outputs": [
    {
     "name": "stdout",
     "output_type": "stream",
     "text": "We have 173449 samples in the dataset.\nFor 34939 of these, ProB is able to find a solution (0.201%)\nFor 138510 of these, ProB is _not_ able to find a solution (0.799%)\n"
    }
   ],
   "source": [
    "sample_count = len(data)\n",
    "positive = data[data[\"Label0\"] == 1]\n",
    "negative = data[data[\"Label0\"] == 0]\n",
    "\n",
    "print(\"We have %d samples in the dataset.\" % sample_count)\n",
    "print(\"For %d of these, ProB is able to find a solution (%0.3f%%)\" % (len(positive), len(positive)/sample_count))\n",
    "print(\"For %d of these, ProB is _not_ able to find a solution (%0.3f%%)\" % (len(negative), len(negative)/sample_count))"
   ]
  },
  {
   "cell_type": "code",
   "execution_count": 3,
   "metadata": {},
   "outputs": [
    {
     "data": {
      "text/plain": "Text(0, 0.5, '# Samples')"
     },
     "execution_count": 3,
     "metadata": {},
     "output_type": "execute_result"
    },
    {
     "data": {
      "image/png": "[encoded data removed]",
      "image/svg+xml": "<?xml version=\"1.0\" encoding=\"utf-8\" standalone=\"no\"?>\n<!DOCTYPE svg PUBLIC \"-//W3C//DTD SVG 1.1//EN\"\n  \"http://www.w3.org/Graphics/SVG/1.1/DTD/svg11.dtd\">\n<!-- Created with matplotlib (https://matplotlib.org/) -->\n<svg height=\"245.2025pt\" version=\"1.1\" viewBox=\"0 0 408.053125 245.2025\" width=\"408.053125pt\" xmlns=\"http://www.w3.org/2000/svg\" xmlns:xlink=\"http://www.w3.org/1999/xlink\">\n <defs>\n  <style type=\"text/css\">\n*{stroke-linecap:butt;stroke-linejoin:round;}\n  </style>\n </defs>\n <g id=\"figure_1\">\n  <g id=\"patch_1\">\n   <path d=\"M 0 245.2025 \nL 408.053125 245.2025 \nL 408.053125 0 \nL 0 0 \nz\n\" style=\"fill:none;\"/>\n  </g>\n  <g id=\"axes_1\">\n   <g id=\"patch_2\">\n    <path d=\"M 66.053125 224.64 \nL 400.853125 224.64 \nL 400.853125 7.2 \nL 66.053125 7.2 \nz\n\" style=\"fill:#ffffff;\"/>\n   </g>\n   <g id=\"patch_3\">\n    <path clip-path=\"url(#pcf8ab7f02e)\" d=\"M 149.753125 224.64 \nL 233.453125 224.64 \nL 233.453125 172.402849 \nL 149.753125 172.402849 \nz\n\" style=\"fill:#1f77b4;\"/>\n   </g>\n   <g id=\"patch_4\">\n    <path clip-path=\"url(#pcf8ab7f02e)\" d=\"M 233.453125 224.64 \nL 317.153125 224.64 \nL 317.153125 17.554286 \nL 233.453125 17.554286 \nz\n\" style=\"fill:#ff7f0e;\"/>\n   </g>\n   <g id=\"matplotlib.axis_1\">\n    <g id=\"xtick_1\">\n     <g id=\"line2d_1\">\n      <defs>\n       <path d=\"M 0 0 \nL 0 3.5 \n\" id=\"m805cdd6ae8\" style=\"stroke:#000000;stroke-width:0.8;\"/>\n      </defs>\n      <g>\n       <use style=\"stroke:#000000;stroke-width:0.8;\" x=\"233.453125\" xlink:href=\"#m805cdd6ae8\" y=\"224.64\"/>\n      </g>\n     </g>\n     <g id=\"text_1\">\n      <!-- 0 -->\n      <defs>\n       <path d=\"M 31.78125 66.40625 \nQ 24.171875 66.40625 20.328125 58.90625 \nQ 16.5 51.421875 16.5 36.375 \nQ 16.5 21.390625 20.328125 13.890625 \nQ 24.171875 6.390625 31.78125 6.390625 \nQ 39.453125 6.390625 43.28125 13.890625 \nQ 47.125 21.390625 47.125 36.375 \nQ 47.125 51.421875 43.28125 58.90625 \nQ 39.453125 66.40625 31.78125 66.40625 \nz\nM 31.78125 74.21875 \nQ 44.046875 74.21875 50.515625 64.515625 \nQ 56.984375 54.828125 56.984375 36.375 \nQ 56.984375 17.96875 50.515625 8.265625 \nQ 44.046875 -1.421875 31.78125 -1.421875 \nQ 19.53125 -1.421875 13.0625 8.265625 \nQ 6.59375 17.96875 6.59375 36.375 \nQ 6.59375 54.828125 13.0625 64.515625 \nQ 19.53125 74.21875 31.78125 74.21875 \nz\n\" id=\"DejaVuSans-48\"/>\n      </defs>\n      <g transform=\"translate(236.2125 238.0025)rotate(-90)scale(0.1 -0.1)\">\n       <use xlink:href=\"#DejaVuSans-48\"/>\n      </g>\n     </g>\n    </g>\n   </g>\n   <g id=\"matplotlib.axis_2\">\n    <g id=\"ytick_1\">\n     <g id=\"line2d_2\">\n      <defs>\n       <path d=\"M 0 0 \nL -3.5 0 \n\" id=\"m4c5b85ebb5\" style=\"stroke:#000000;stroke-width:0.8;\"/>\n      </defs>\n      <g>\n       <use style=\"stroke:#000000;stroke-width:0.8;\" x=\"66.053125\" xlink:href=\"#m4c5b85ebb5\" y=\"224.64\"/>\n      </g>\n     </g>\n     <g id=\"text_2\">\n      <!-- 0 -->\n      <g transform=\"translate(52.690625 228.439219)scale(0.1 -0.1)\">\n       <use xlink:href=\"#DejaVuSans-48\"/>\n      </g>\n     </g>\n    </g>\n    <g id=\"ytick_2\">\n     <g id=\"line2d_3\">\n      <g>\n       <use style=\"stroke:#000000;stroke-width:0.8;\" x=\"66.053125\" xlink:href=\"#m4c5b85ebb5\" y=\"194.738085\"/>\n      </g>\n     </g>\n     <g id=\"text_3\">\n      <!-- 20000 -->\n      <defs>\n       <path d=\"M 19.1875 8.296875 \nL 53.609375 8.296875 \nL 53.609375 0 \nL 7.328125 0 \nL 7.328125 8.296875 \nQ 12.9375 14.109375 22.625 23.890625 \nQ 32.328125 33.6875 34.8125 36.53125 \nQ 39.546875 41.84375 41.421875 45.53125 \nQ 43.3125 49.21875 43.3125 52.78125 \nQ 43.3125 58.59375 39.234375 62.25 \nQ 35.15625 65.921875 28.609375 65.921875 \nQ 23.96875 65.921875 18.8125 64.3125 \nQ 13.671875 62.703125 7.8125 59.421875 \nL 7.8125 69.390625 \nQ 13.765625 71.78125 18.9375 73 \nQ 24.125 74.21875 28.421875 74.21875 \nQ 39.75 74.21875 46.484375 68.546875 \nQ 53.21875 62.890625 53.21875 53.421875 \nQ 53.21875 48.921875 51.53125 44.890625 \nQ 49.859375 40.875 45.40625 35.40625 \nQ 44.1875 33.984375 37.640625 27.21875 \nQ 31.109375 20.453125 19.1875 8.296875 \nz\n\" id=\"DejaVuSans-50\"/>\n      </defs>\n      <g transform=\"translate(27.240625 198.537303)scale(0.1 -0.1)\">\n       <use xlink:href=\"#DejaVuSans-50\"/>\n       <use x=\"63.623047\" xlink:href=\"#DejaVuSans-48\"/>\n       <use x=\"127.246094\" xlink:href=\"#DejaVuSans-48\"/>\n       <use x=\"190.869141\" xlink:href=\"#DejaVuSans-48\"/>\n       <use x=\"254.492188\" xlink:href=\"#DejaVuSans-48\"/>\n      </g>\n     </g>\n    </g>\n    <g id=\"ytick_3\">\n     <g id=\"line2d_4\">\n      <g>\n       <use style=\"stroke:#000000;stroke-width:0.8;\" x=\"66.053125\" xlink:href=\"#m4c5b85ebb5\" y=\"164.836169\"/>\n      </g>\n     </g>\n     <g id=\"text_4\">\n      <!-- 40000 -->\n      <defs>\n       <path d=\"M 37.796875 64.3125 \nL 12.890625 25.390625 \nL 37.796875 25.390625 \nz\nM 35.203125 72.90625 \nL 47.609375 72.90625 \nL 47.609375 25.390625 \nL 58.015625 25.390625 \nL 58.015625 17.1875 \nL 47.609375 17.1875 \nL 47.609375 0 \nL 37.796875 0 \nL 37.796875 17.1875 \nL 4.890625 17.1875 \nL 4.890625 26.703125 \nz\n\" id=\"DejaVuSans-52\"/>\n      </defs>\n      <g transform=\"translate(27.240625 168.635388)scale(0.1 -0.1)\">\n       <use xlink:href=\"#DejaVuSans-52\"/>\n       <use x=\"63.623047\" xlink:href=\"#DejaVuSans-48\"/>\n       <use x=\"127.246094\" xlink:href=\"#DejaVuSans-48\"/>\n       <use x=\"190.869141\" xlink:href=\"#DejaVuSans-48\"/>\n       <use x=\"254.492188\" xlink:href=\"#DejaVuSans-48\"/>\n      </g>\n     </g>\n    </g>\n    <g id=\"ytick_4\">\n     <g id=\"line2d_5\">\n      <g>\n       <use style=\"stroke:#000000;stroke-width:0.8;\" x=\"66.053125\" xlink:href=\"#m4c5b85ebb5\" y=\"134.934254\"/>\n      </g>\n     </g>\n     <g id=\"text_5\">\n      <!-- 60000 -->\n      <defs>\n       <path d=\"M 33.015625 40.375 \nQ 26.375 40.375 22.484375 35.828125 \nQ 18.609375 31.296875 18.609375 23.390625 \nQ 18.609375 15.53125 22.484375 10.953125 \nQ 26.375 6.390625 33.015625 6.390625 \nQ 39.65625 6.390625 43.53125 10.953125 \nQ 47.40625 15.53125 47.40625 23.390625 \nQ 47.40625 31.296875 43.53125 35.828125 \nQ 39.65625 40.375 33.015625 40.375 \nz\nM 52.59375 71.296875 \nL 52.59375 62.3125 \nQ 48.875 64.0625 45.09375 64.984375 \nQ 41.3125 65.921875 37.59375 65.921875 \nQ 27.828125 65.921875 22.671875 59.328125 \nQ 17.53125 52.734375 16.796875 39.40625 \nQ 19.671875 43.65625 24.015625 45.921875 \nQ 28.375 48.1875 33.59375 48.1875 \nQ 44.578125 48.1875 50.953125 41.515625 \nQ 57.328125 34.859375 57.328125 23.390625 \nQ 57.328125 12.15625 50.6875 5.359375 \nQ 44.046875 -1.421875 33.015625 -1.421875 \nQ 20.359375 -1.421875 13.671875 8.265625 \nQ 6.984375 17.96875 6.984375 36.375 \nQ 6.984375 53.65625 15.1875 63.9375 \nQ 23.390625 74.21875 37.203125 74.21875 \nQ 40.921875 74.21875 44.703125 73.484375 \nQ 48.484375 72.75 52.59375 71.296875 \nz\n\" id=\"DejaVuSans-54\"/>\n      </defs>\n      <g transform=\"translate(27.240625 138.733473)scale(0.1 -0.1)\">\n       <use xlink:href=\"#DejaVuSans-54\"/>\n       <use x=\"63.623047\" xlink:href=\"#DejaVuSans-48\"/>\n       <use x=\"127.246094\" xlink:href=\"#DejaVuSans-48\"/>\n       <use x=\"190.869141\" xlink:href=\"#DejaVuSans-48\"/>\n       <use x=\"254.492188\" xlink:href=\"#DejaVuSans-48\"/>\n      </g>\n     </g>\n    </g>\n    <g id=\"ytick_5\">\n     <g id=\"line2d_6\">\n      <g>\n       <use style=\"stroke:#000000;stroke-width:0.8;\" x=\"66.053125\" xlink:href=\"#m4c5b85ebb5\" y=\"105.032339\"/>\n      </g>\n     </g>\n     <g id=\"text_6\">\n      <!-- 80000 -->\n      <defs>\n       <path d=\"M 31.78125 34.625 \nQ 24.75 34.625 20.71875 30.859375 \nQ 16.703125 27.09375 16.703125 20.515625 \nQ 16.703125 13.921875 20.71875 10.15625 \nQ 24.75 6.390625 31.78125 6.390625 \nQ 38.8125 6.390625 42.859375 10.171875 \nQ 46.921875 13.96875 46.921875 20.515625 \nQ 46.921875 27.09375 42.890625 30.859375 \nQ 38.875 34.625 31.78125 34.625 \nz\nM 21.921875 38.8125 \nQ 15.578125 40.375 12.03125 44.71875 \nQ 8.5 49.078125 8.5 55.328125 \nQ 8.5 64.0625 14.71875 69.140625 \nQ 20.953125 74.21875 31.78125 74.21875 \nQ 42.671875 74.21875 48.875 69.140625 \nQ 55.078125 64.0625 55.078125 55.328125 \nQ 55.078125 49.078125 51.53125 44.71875 \nQ 48 40.375 41.703125 38.8125 \nQ 48.828125 37.15625 52.796875 32.3125 \nQ 56.78125 27.484375 56.78125 20.515625 \nQ 56.78125 9.90625 50.3125 4.234375 \nQ 43.84375 -1.421875 31.78125 -1.421875 \nQ 19.734375 -1.421875 13.25 4.234375 \nQ 6.78125 9.90625 6.78125 20.515625 \nQ 6.78125 27.484375 10.78125 32.3125 \nQ 14.796875 37.15625 21.921875 38.8125 \nz\nM 18.3125 54.390625 \nQ 18.3125 48.734375 21.84375 45.5625 \nQ 25.390625 42.390625 31.78125 42.390625 \nQ 38.140625 42.390625 41.71875 45.5625 \nQ 45.3125 48.734375 45.3125 54.390625 \nQ 45.3125 60.0625 41.71875 63.234375 \nQ 38.140625 66.40625 31.78125 66.40625 \nQ 25.390625 66.40625 21.84375 63.234375 \nQ 18.3125 60.0625 18.3125 54.390625 \nz\n\" id=\"DejaVuSans-56\"/>\n      </defs>\n      <g transform=\"translate(27.240625 108.831558)scale(0.1 -0.1)\">\n       <use xlink:href=\"#DejaVuSans-56\"/>\n       <use x=\"63.623047\" xlink:href=\"#DejaVuSans-48\"/>\n       <use x=\"127.246094\" xlink:href=\"#DejaVuSans-48\"/>\n       <use x=\"190.869141\" xlink:href=\"#DejaVuSans-48\"/>\n       <use x=\"254.492188\" xlink:href=\"#DejaVuSans-48\"/>\n      </g>\n     </g>\n    </g>\n    <g id=\"ytick_6\">\n     <g id=\"line2d_7\">\n      <g>\n       <use style=\"stroke:#000000;stroke-width:0.8;\" x=\"66.053125\" xlink:href=\"#m4c5b85ebb5\" y=\"75.130424\"/>\n      </g>\n     </g>\n     <g id=\"text_7\">\n      <!-- 100000 -->\n      <defs>\n       <path d=\"M 12.40625 8.296875 \nL 28.515625 8.296875 \nL 28.515625 63.921875 \nL 10.984375 60.40625 \nL 10.984375 69.390625 \nL 28.421875 72.90625 \nL 38.28125 72.90625 \nL 38.28125 8.296875 \nL 54.390625 8.296875 \nL 54.390625 0 \nL 12.40625 0 \nz\n\" id=\"DejaVuSans-49\"/>\n      </defs>\n      <g transform=\"translate(20.878125 78.929642)scale(0.1 -0.1)\">\n       <use xlink:href=\"#DejaVuSans-49\"/>\n       <use x=\"63.623047\" xlink:href=\"#DejaVuSans-48\"/>\n       <use x=\"127.246094\" xlink:href=\"#DejaVuSans-48\"/>\n       <use x=\"190.869141\" xlink:href=\"#DejaVuSans-48\"/>\n       <use x=\"254.492188\" xlink:href=\"#DejaVuSans-48\"/>\n       <use x=\"318.115234\" xlink:href=\"#DejaVuSans-48\"/>\n      </g>\n     </g>\n    </g>\n    <g id=\"ytick_7\">\n     <g id=\"line2d_8\">\n      <g>\n       <use style=\"stroke:#000000;stroke-width:0.8;\" x=\"66.053125\" xlink:href=\"#m4c5b85ebb5\" y=\"45.228508\"/>\n      </g>\n     </g>\n     <g id=\"text_8\">\n      <!-- 120000 -->\n      <g transform=\"translate(20.878125 49.027727)scale(0.1 -0.1)\">\n       <use xlink:href=\"#DejaVuSans-49\"/>\n       <use x=\"63.623047\" xlink:href=\"#DejaVuSans-50\"/>\n       <use x=\"127.246094\" xlink:href=\"#DejaVuSans-48\"/>\n       <use x=\"190.869141\" xlink:href=\"#DejaVuSans-48\"/>\n       <use x=\"254.492188\" xlink:href=\"#DejaVuSans-48\"/>\n       <use x=\"318.115234\" xlink:href=\"#DejaVuSans-48\"/>\n      </g>\n     </g>\n    </g>\n    <g id=\"ytick_8\">\n     <g id=\"line2d_9\">\n      <g>\n       <use style=\"stroke:#000000;stroke-width:0.8;\" x=\"66.053125\" xlink:href=\"#m4c5b85ebb5\" y=\"15.326593\"/>\n      </g>\n     </g>\n     <g id=\"text_9\">\n      <!-- 140000 -->\n      <g transform=\"translate(20.878125 19.125812)scale(0.1 -0.1)\">\n       <use xlink:href=\"#DejaVuSans-49\"/>\n       <use x=\"63.623047\" xlink:href=\"#DejaVuSans-52\"/>\n       <use x=\"127.246094\" xlink:href=\"#DejaVuSans-48\"/>\n       <use x=\"190.869141\" xlink:href=\"#DejaVuSans-48\"/>\n       <use x=\"254.492188\" xlink:href=\"#DejaVuSans-48\"/>\n       <use x=\"318.115234\" xlink:href=\"#DejaVuSans-48\"/>\n      </g>\n     </g>\n    </g>\n    <g id=\"text_10\">\n     <!-- # Samples -->\n     <defs>\n      <path d=\"M 51.125 44 \nL 36.921875 44 \nL 32.8125 27.6875 \nL 47.125 27.6875 \nz\nM 43.796875 71.78125 \nL 38.71875 51.515625 \nL 52.984375 51.515625 \nL 58.109375 71.78125 \nL 65.921875 71.78125 \nL 60.890625 51.515625 \nL 76.125 51.515625 \nL 76.125 44 \nL 58.984375 44 \nL 54.984375 27.6875 \nL 70.515625 27.6875 \nL 70.515625 20.21875 \nL 53.078125 20.21875 \nL 48 0 \nL 40.1875 0 \nL 45.21875 20.21875 \nL 30.90625 20.21875 \nL 25.875 0 \nL 18.015625 0 \nL 23.09375 20.21875 \nL 7.71875 20.21875 \nL 7.71875 27.6875 \nL 24.90625 27.6875 \nL 29 44 \nL 13.28125 44 \nL 13.28125 51.515625 \nL 30.90625 51.515625 \nL 35.890625 71.78125 \nz\n\" id=\"DejaVuSans-35\"/>\n      <path id=\"DejaVuSans-32\"/>\n      <path d=\"M 53.515625 70.515625 \nL 53.515625 60.890625 \nQ 47.90625 63.578125 42.921875 64.890625 \nQ 37.9375 66.21875 33.296875 66.21875 \nQ 25.25 66.21875 20.875 63.09375 \nQ 16.5 59.96875 16.5 54.203125 \nQ 16.5 49.359375 19.40625 46.890625 \nQ 22.3125 44.4375 30.421875 42.921875 \nL 36.375 41.703125 \nQ 47.40625 39.59375 52.65625 34.296875 \nQ 57.90625 29 57.90625 20.125 \nQ 57.90625 9.515625 50.796875 4.046875 \nQ 43.703125 -1.421875 29.984375 -1.421875 \nQ 24.8125 -1.421875 18.96875 -0.25 \nQ 13.140625 0.921875 6.890625 3.21875 \nL 6.890625 13.375 \nQ 12.890625 10.015625 18.65625 8.296875 \nQ 24.421875 6.59375 29.984375 6.59375 \nQ 38.421875 6.59375 43.015625 9.90625 \nQ 47.609375 13.234375 47.609375 19.390625 \nQ 47.609375 24.75 44.3125 27.78125 \nQ 41.015625 30.8125 33.5 32.328125 \nL 27.484375 33.5 \nQ 16.453125 35.6875 11.515625 40.375 \nQ 6.59375 45.0625 6.59375 53.421875 \nQ 6.59375 63.09375 13.40625 68.65625 \nQ 20.21875 74.21875 32.171875 74.21875 \nQ 37.3125 74.21875 42.625 73.28125 \nQ 47.953125 72.359375 53.515625 70.515625 \nz\n\" id=\"DejaVuSans-83\"/>\n      <path d=\"M 34.28125 27.484375 \nQ 23.390625 27.484375 19.1875 25 \nQ 14.984375 22.515625 14.984375 16.5 \nQ 14.984375 11.71875 18.140625 8.90625 \nQ 21.296875 6.109375 26.703125 6.109375 \nQ 34.1875 6.109375 38.703125 11.40625 \nQ 43.21875 16.703125 43.21875 25.484375 \nL 43.21875 27.484375 \nz\nM 52.203125 31.203125 \nL 52.203125 0 \nL 43.21875 0 \nL 43.21875 8.296875 \nQ 40.140625 3.328125 35.546875 0.953125 \nQ 30.953125 -1.421875 24.3125 -1.421875 \nQ 15.921875 -1.421875 10.953125 3.296875 \nQ 6 8.015625 6 15.921875 \nQ 6 25.140625 12.171875 29.828125 \nQ 18.359375 34.515625 30.609375 34.515625 \nL 43.21875 34.515625 \nL 43.21875 35.40625 \nQ 43.21875 41.609375 39.140625 45 \nQ 35.0625 48.390625 27.6875 48.390625 \nQ 23 48.390625 18.546875 47.265625 \nQ 14.109375 46.140625 10.015625 43.890625 \nL 10.015625 52.203125 \nQ 14.9375 54.109375 19.578125 55.046875 \nQ 24.21875 56 28.609375 56 \nQ 40.484375 56 46.34375 49.84375 \nQ 52.203125 43.703125 52.203125 31.203125 \nz\n\" id=\"DejaVuSans-97\"/>\n      <path d=\"M 52 44.1875 \nQ 55.375 50.25 60.0625 53.125 \nQ 64.75 56 71.09375 56 \nQ 79.640625 56 84.28125 50.015625 \nQ 88.921875 44.046875 88.921875 33.015625 \nL 88.921875 0 \nL 79.890625 0 \nL 79.890625 32.71875 \nQ 79.890625 40.578125 77.09375 44.375 \nQ 74.3125 48.1875 68.609375 48.1875 \nQ 61.625 48.1875 57.5625 43.546875 \nQ 53.515625 38.921875 53.515625 30.90625 \nL 53.515625 0 \nL 44.484375 0 \nL 44.484375 32.71875 \nQ 44.484375 40.625 41.703125 44.40625 \nQ 38.921875 48.1875 33.109375 48.1875 \nQ 26.21875 48.1875 22.15625 43.53125 \nQ 18.109375 38.875 18.109375 30.90625 \nL 18.109375 0 \nL 9.078125 0 \nL 9.078125 54.6875 \nL 18.109375 54.6875 \nL 18.109375 46.1875 \nQ 21.1875 51.21875 25.484375 53.609375 \nQ 29.78125 56 35.6875 56 \nQ 41.65625 56 45.828125 52.96875 \nQ 50 49.953125 52 44.1875 \nz\n\" id=\"DejaVuSans-109\"/>\n      <path d=\"M 18.109375 8.203125 \nL 18.109375 -20.796875 \nL 9.078125 -20.796875 \nL 9.078125 54.6875 \nL 18.109375 54.6875 \nL 18.109375 46.390625 \nQ 20.953125 51.265625 25.265625 53.625 \nQ 29.59375 56 35.59375 56 \nQ 45.5625 56 51.78125 48.09375 \nQ 58.015625 40.1875 58.015625 27.296875 \nQ 58.015625 14.40625 51.78125 6.484375 \nQ 45.5625 -1.421875 35.59375 -1.421875 \nQ 29.59375 -1.421875 25.265625 0.953125 \nQ 20.953125 3.328125 18.109375 8.203125 \nz\nM 48.6875 27.296875 \nQ 48.6875 37.203125 44.609375 42.84375 \nQ 40.53125 48.484375 33.40625 48.484375 \nQ 26.265625 48.484375 22.1875 42.84375 \nQ 18.109375 37.203125 18.109375 27.296875 \nQ 18.109375 17.390625 22.1875 11.75 \nQ 26.265625 6.109375 33.40625 6.109375 \nQ 40.53125 6.109375 44.609375 11.75 \nQ 48.6875 17.390625 48.6875 27.296875 \nz\n\" id=\"DejaVuSans-112\"/>\n      <path d=\"M 9.421875 75.984375 \nL 18.40625 75.984375 \nL 18.40625 0 \nL 9.421875 0 \nz\n\" id=\"DejaVuSans-108\"/>\n      <path d=\"M 56.203125 29.59375 \nL 56.203125 25.203125 \nL 14.890625 25.203125 \nQ 15.484375 15.921875 20.484375 11.0625 \nQ 25.484375 6.203125 34.421875 6.203125 \nQ 39.59375 6.203125 44.453125 7.46875 \nQ 49.3125 8.734375 54.109375 11.28125 \nL 54.109375 2.78125 \nQ 49.265625 0.734375 44.1875 -0.34375 \nQ 39.109375 -1.421875 33.890625 -1.421875 \nQ 20.796875 -1.421875 13.15625 6.1875 \nQ 5.515625 13.8125 5.515625 26.8125 \nQ 5.515625 40.234375 12.765625 48.109375 \nQ 20.015625 56 32.328125 56 \nQ 43.359375 56 49.78125 48.890625 \nQ 56.203125 41.796875 56.203125 29.59375 \nz\nM 47.21875 32.234375 \nQ 47.125 39.59375 43.09375 43.984375 \nQ 39.0625 48.390625 32.421875 48.390625 \nQ 24.90625 48.390625 20.390625 44.140625 \nQ 15.875 39.890625 15.1875 32.171875 \nz\n\" id=\"DejaVuSans-101\"/>\n      <path d=\"M 44.28125 53.078125 \nL 44.28125 44.578125 \nQ 40.484375 46.53125 36.375 47.5 \nQ 32.28125 48.484375 27.875 48.484375 \nQ 21.1875 48.484375 17.84375 46.4375 \nQ 14.5 44.390625 14.5 40.28125 \nQ 14.5 37.15625 16.890625 35.375 \nQ 19.28125 33.59375 26.515625 31.984375 \nL 29.59375 31.296875 \nQ 39.15625 29.25 43.1875 25.515625 \nQ 47.21875 21.78125 47.21875 15.09375 \nQ 47.21875 7.46875 41.1875 3.015625 \nQ 35.15625 -1.421875 24.609375 -1.421875 \nQ 20.21875 -1.421875 15.453125 -0.5625 \nQ 10.6875 0.296875 5.421875 2 \nL 5.421875 11.28125 \nQ 10.40625 8.6875 15.234375 7.390625 \nQ 20.0625 6.109375 24.8125 6.109375 \nQ 31.15625 6.109375 34.5625 8.28125 \nQ 37.984375 10.453125 37.984375 14.40625 \nQ 37.984375 18.0625 35.515625 20.015625 \nQ 33.0625 21.96875 24.703125 23.78125 \nL 21.578125 24.515625 \nQ 13.234375 26.265625 9.515625 29.90625 \nQ 5.8125 33.546875 5.8125 39.890625 \nQ 5.8125 47.609375 11.28125 51.796875 \nQ 16.75 56 26.8125 56 \nQ 31.78125 56 36.171875 55.265625 \nQ 40.578125 54.546875 44.28125 53.078125 \nz\n\" id=\"DejaVuSans-115\"/>\n     </defs>\n     <g transform=\"translate(14.798438 143.052031)rotate(-90)scale(0.1 -0.1)\">\n      <use xlink:href=\"#DejaVuSans-35\"/>\n      <use x=\"83.789062\" xlink:href=\"#DejaVuSans-32\"/>\n      <use x=\"115.576172\" xlink:href=\"#DejaVuSans-83\"/>\n      <use x=\"179.052734\" xlink:href=\"#DejaVuSans-97\"/>\n      <use x=\"240.332031\" xlink:href=\"#DejaVuSans-109\"/>\n      <use x=\"337.744141\" xlink:href=\"#DejaVuSans-112\"/>\n      <use x=\"401.220703\" xlink:href=\"#DejaVuSans-108\"/>\n      <use x=\"429.003906\" xlink:href=\"#DejaVuSans-101\"/>\n      <use x=\"490.527344\" xlink:href=\"#DejaVuSans-115\"/>\n     </g>\n    </g>\n   </g>\n   <g id=\"patch_5\">\n    <path d=\"M 66.053125 224.64 \nL 66.053125 7.2 \n\" style=\"fill:none;stroke:#000000;stroke-linecap:square;stroke-linejoin:miter;stroke-width:0.8;\"/>\n   </g>\n   <g id=\"patch_6\">\n    <path d=\"M 400.853125 224.64 \nL 400.853125 7.2 \n\" style=\"fill:none;stroke:#000000;stroke-linecap:square;stroke-linejoin:miter;stroke-width:0.8;\"/>\n   </g>\n   <g id=\"patch_7\">\n    <path d=\"M 66.053125 224.64 \nL 400.853125 224.64 \n\" style=\"fill:none;stroke:#000000;stroke-linecap:square;stroke-linejoin:miter;stroke-width:0.8;\"/>\n   </g>\n   <g id=\"patch_8\">\n    <path d=\"M 66.053125 7.2 \nL 400.853125 7.2 \n\" style=\"fill:none;stroke:#000000;stroke-linecap:square;stroke-linejoin:miter;stroke-width:0.8;\"/>\n   </g>\n   <g id=\"legend_1\">\n    <g id=\"patch_9\">\n     <path d=\"M 73.053125 44.55625 \nL 148.790625 44.55625 \nQ 150.790625 44.55625 150.790625 42.55625 \nL 150.790625 14.2 \nQ 150.790625 12.2 148.790625 12.2 \nL 73.053125 12.2 \nQ 71.053125 12.2 71.053125 14.2 \nL 71.053125 42.55625 \nQ 71.053125 44.55625 73.053125 44.55625 \nz\n\" style=\"fill:#ffffff;opacity:0.8;stroke:#cccccc;stroke-linejoin:miter;\"/>\n    </g>\n    <g id=\"patch_10\">\n     <path d=\"M 75.053125 23.798437 \nL 95.053125 23.798437 \nL 95.053125 16.798437 \nL 75.053125 16.798437 \nz\n\" style=\"fill:#1f77b4;\"/>\n    </g>\n    <g id=\"text_11\">\n     <!-- positive -->\n     <defs>\n      <path d=\"M 30.609375 48.390625 \nQ 23.390625 48.390625 19.1875 42.75 \nQ 14.984375 37.109375 14.984375 27.296875 \nQ 14.984375 17.484375 19.15625 11.84375 \nQ 23.34375 6.203125 30.609375 6.203125 \nQ 37.796875 6.203125 41.984375 11.859375 \nQ 46.1875 17.53125 46.1875 27.296875 \nQ 46.1875 37.015625 41.984375 42.703125 \nQ 37.796875 48.390625 30.609375 48.390625 \nz\nM 30.609375 56 \nQ 42.328125 56 49.015625 48.375 \nQ 55.71875 40.765625 55.71875 27.296875 \nQ 55.71875 13.875 49.015625 6.21875 \nQ 42.328125 -1.421875 30.609375 -1.421875 \nQ 18.84375 -1.421875 12.171875 6.21875 \nQ 5.515625 13.875 5.515625 27.296875 \nQ 5.515625 40.765625 12.171875 48.375 \nQ 18.84375 56 30.609375 56 \nz\n\" id=\"DejaVuSans-111\"/>\n      <path d=\"M 9.421875 54.6875 \nL 18.40625 54.6875 \nL 18.40625 0 \nL 9.421875 0 \nz\nM 9.421875 75.984375 \nL 18.40625 75.984375 \nL 18.40625 64.59375 \nL 9.421875 64.59375 \nz\n\" id=\"DejaVuSans-105\"/>\n      <path d=\"M 18.3125 70.21875 \nL 18.3125 54.6875 \nL 36.8125 54.6875 \nL 36.8125 47.703125 \nL 18.3125 47.703125 \nL 18.3125 18.015625 \nQ 18.3125 11.328125 20.140625 9.421875 \nQ 21.96875 7.515625 27.59375 7.515625 \nL 36.8125 7.515625 \nL 36.8125 0 \nL 27.59375 0 \nQ 17.1875 0 13.234375 3.875 \nQ 9.28125 7.765625 9.28125 18.015625 \nL 9.28125 47.703125 \nL 2.6875 47.703125 \nL 2.6875 54.6875 \nL 9.28125 54.6875 \nL 9.28125 70.21875 \nz\n\" id=\"DejaVuSans-116\"/>\n      <path d=\"M 2.984375 54.6875 \nL 12.5 54.6875 \nL 29.59375 8.796875 \nL 46.6875 54.6875 \nL 56.203125 54.6875 \nL 35.6875 0 \nL 23.484375 0 \nz\n\" id=\"DejaVuSans-118\"/>\n     </defs>\n     <g transform=\"translate(103.053125 23.798437)scale(0.1 -0.1)\">\n      <use xlink:href=\"#DejaVuSans-112\"/>\n      <use x=\"63.476562\" xlink:href=\"#DejaVuSans-111\"/>\n      <use x=\"124.658203\" xlink:href=\"#DejaVuSans-115\"/>\n      <use x=\"176.757812\" xlink:href=\"#DejaVuSans-105\"/>\n      <use x=\"204.541016\" xlink:href=\"#DejaVuSans-116\"/>\n      <use x=\"243.75\" xlink:href=\"#DejaVuSans-105\"/>\n      <use x=\"271.533203\" xlink:href=\"#DejaVuSans-118\"/>\n      <use x=\"330.712891\" xlink:href=\"#DejaVuSans-101\"/>\n     </g>\n    </g>\n    <g id=\"patch_11\">\n     <path d=\"M 75.053125 38.476562 \nL 95.053125 38.476562 \nL 95.053125 31.476562 \nL 75.053125 31.476562 \nz\n\" style=\"fill:#ff7f0e;\"/>\n    </g>\n    <g id=\"text_12\">\n     <!-- negative -->\n     <defs>\n      <path d=\"M 54.890625 33.015625 \nL 54.890625 0 \nL 45.90625 0 \nL 45.90625 32.71875 \nQ 45.90625 40.484375 42.875 44.328125 \nQ 39.84375 48.1875 33.796875 48.1875 \nQ 26.515625 48.1875 22.3125 43.546875 \nQ 18.109375 38.921875 18.109375 30.90625 \nL 18.109375 0 \nL 9.078125 0 \nL 9.078125 54.6875 \nL 18.109375 54.6875 \nL 18.109375 46.1875 \nQ 21.34375 51.125 25.703125 53.5625 \nQ 30.078125 56 35.796875 56 \nQ 45.21875 56 50.046875 50.171875 \nQ 54.890625 44.34375 54.890625 33.015625 \nz\n\" id=\"DejaVuSans-110\"/>\n      <path d=\"M 45.40625 27.984375 \nQ 45.40625 37.75 41.375 43.109375 \nQ 37.359375 48.484375 30.078125 48.484375 \nQ 22.859375 48.484375 18.828125 43.109375 \nQ 14.796875 37.75 14.796875 27.984375 \nQ 14.796875 18.265625 18.828125 12.890625 \nQ 22.859375 7.515625 30.078125 7.515625 \nQ 37.359375 7.515625 41.375 12.890625 \nQ 45.40625 18.265625 45.40625 27.984375 \nz\nM 54.390625 6.78125 \nQ 54.390625 -7.171875 48.1875 -13.984375 \nQ 42 -20.796875 29.203125 -20.796875 \nQ 24.46875 -20.796875 20.265625 -20.09375 \nQ 16.0625 -19.390625 12.109375 -17.921875 \nL 12.109375 -9.1875 \nQ 16.0625 -11.328125 19.921875 -12.34375 \nQ 23.78125 -13.375 27.78125 -13.375 \nQ 36.625 -13.375 41.015625 -8.765625 \nQ 45.40625 -4.15625 45.40625 5.171875 \nL 45.40625 9.625 \nQ 42.625 4.78125 38.28125 2.390625 \nQ 33.9375 0 27.875 0 \nQ 17.828125 0 11.671875 7.65625 \nQ 5.515625 15.328125 5.515625 27.984375 \nQ 5.515625 40.671875 11.671875 48.328125 \nQ 17.828125 56 27.875 56 \nQ 33.9375 56 38.28125 53.609375 \nQ 42.625 51.21875 45.40625 46.390625 \nL 45.40625 54.6875 \nL 54.390625 54.6875 \nz\n\" id=\"DejaVuSans-103\"/>\n     </defs>\n     <g transform=\"translate(103.053125 38.476562)scale(0.1 -0.1)\">\n      <use xlink:href=\"#DejaVuSans-110\"/>\n      <use x=\"63.378906\" xlink:href=\"#DejaVuSans-101\"/>\n      <use x=\"124.902344\" xlink:href=\"#DejaVuSans-103\"/>\n      <use x=\"188.378906\" xlink:href=\"#DejaVuSans-97\"/>\n      <use x=\"249.658203\" xlink:href=\"#DejaVuSans-116\"/>\n      <use x=\"288.867188\" xlink:href=\"#DejaVuSans-105\"/>\n      <use x=\"316.650391\" xlink:href=\"#DejaVuSans-118\"/>\n      <use x=\"375.830078\" xlink:href=\"#DejaVuSans-101\"/>\n     </g>\n    </g>\n   </g>\n  </g>\n </g>\n <defs>\n  <clipPath id=\"pcf8ab7f02e\">\n   <rect height=\"217.44\" width=\"334.8\" x=\"66.053125\" y=\"7.2\"/>\n  </clipPath>\n </defs>\n</svg>\n",
      "text/plain": "<Figure size 432x288 with 1 Axes>"
     },
     "metadata": {
      "needs_background": "light"
     },
     "output_type": "display_data"
    }
   ],
   "source": [
    "%matplotlib inline\n",
    "\n",
    "class_balance = pd.DataFrame(data={\"positive\": [len(positive)], \"negative\": [len(negative)]})\n",
    "class_balance_plot = class_balance.plot(kind=\"bar\")\n",
    "class_balance_plot.set_ylabel(\"# Samples\")"
   ]
  },
  {
   "cell_type": "markdown",
   "metadata": {},
   "source": [
    "Now we will inspect how often each feature is used in the data in the first place. Thus we can evaluate how much significance each evaluation over the subdomains has."
   ]
  },
  {
   "cell_type": "code",
   "execution_count": 4,
   "metadata": {},
   "outputs": [
    {
     "data": {
      "text/html": "<div>\n<style scoped>\n    .dataframe tbody tr th:only-of-type {\n        vertical-align: middle;\n    }\n\n    .dataframe tbody tr th {\n        vertical-align: top;\n    }\n\n    .dataframe thead th {\n        text-align: right;\n    }\n</style>\n<table border=\"1\" class=\"dataframe\">\n  <thead>\n    <tr style=\"text-align: right;\">\n      <th></th>\n      <th>Feature0</th>\n      <th>Feature1</th>\n      <th>Feature2</th>\n      <th>Feature3</th>\n      <th>Feature4</th>\n      <th>Feature5</th>\n      <th>Feature6</th>\n      <th>Feature7</th>\n      <th>Feature8</th>\n      <th>Feature9</th>\n      <th>...</th>\n      <th>Feature99</th>\n      <th>Feature100</th>\n      <th>Feature101</th>\n      <th>Feature102</th>\n      <th>Feature103</th>\n      <th>Feature104</th>\n      <th>Feature105</th>\n      <th>Feature106</th>\n      <th>Feature107</th>\n      <th>Feature108</th>\n    </tr>\n  </thead>\n  <tbody>\n    <tr>\n      <th>0</th>\n      <td>103929</td>\n      <td>147805</td>\n      <td>139707</td>\n      <td>139707</td>\n      <td>139707</td>\n      <td>173340</td>\n      <td>129386</td>\n      <td>119759</td>\n      <td>138507</td>\n      <td>25731</td>\n      <td>...</td>\n      <td>438</td>\n      <td>1042</td>\n      <td>882</td>\n      <td>300</td>\n      <td>1138</td>\n      <td>478</td>\n      <td>491</td>\n      <td>127</td>\n      <td>447</td>\n      <td>54</td>\n    </tr>\n  </tbody>\n</table>\n<p>1 rows × 109 columns</p>\n</div>",
      "text/plain": "   Feature0  Feature1  Feature2  Feature3  Feature4  Feature5  Feature6  \\\n0    103929    147805    139707    139707    139707    173340    129386   \n\n   Feature7  Feature8  Feature9  ...  Feature99  Feature100  Feature101  \\\n0    119759    138507     25731  ...        438        1042         882   \n\n   Feature102  Feature103  Feature104  Feature105  Feature106  Feature107  \\\n0         300        1138         478         491         127         447   \n\n   Feature108  \n0          54  \n\n[1 rows x 109 columns]"
     },
     "execution_count": 4,
     "metadata": {},
     "output_type": "execute_result"
    }
   ],
   "source": [
    "feature_uses = data[data > 0].count() \n",
    "rel_feature_uses = feature_uses/sample_count\n",
    "\n",
    "fd = {}\n",
    "for f in range(n_features):\n",
    "    fd[\"Feature%d\" % f] = [feature_uses[f]]\n",
    "feature_data = pd.DataFrame(data=fd)\n",
    "feature_data"
   ]
  },
  {
   "cell_type": "code",
   "execution_count": 5,
   "metadata": {},
   "outputs": [
    {
     "data": {
      "text/html": "<div>\n<style scoped>\n    .dataframe tbody tr th:only-of-type {\n        vertical-align: middle;\n    }\n\n    .dataframe tbody tr th {\n        vertical-align: top;\n    }\n\n    .dataframe thead th {\n        text-align: right;\n    }\n</style>\n<table border=\"1\" class=\"dataframe\">\n  <thead>\n    <tr style=\"text-align: right;\">\n      <th></th>\n      <th>Feature0</th>\n      <th>Feature1</th>\n      <th>Feature2</th>\n      <th>Feature3</th>\n      <th>Feature4</th>\n      <th>Feature5</th>\n      <th>Feature6</th>\n      <th>Feature7</th>\n      <th>Feature8</th>\n      <th>Feature9</th>\n      <th>...</th>\n      <th>Feature99</th>\n      <th>Feature100</th>\n      <th>Feature101</th>\n      <th>Feature102</th>\n      <th>Feature103</th>\n      <th>Feature104</th>\n      <th>Feature105</th>\n      <th>Feature106</th>\n      <th>Feature107</th>\n      <th>Feature108</th>\n    </tr>\n  </thead>\n  <tbody>\n    <tr>\n      <th>0</th>\n      <td>0.599191</td>\n      <td>0.852153</td>\n      <td>0.805464</td>\n      <td>0.805464</td>\n      <td>0.805464</td>\n      <td>0.999372</td>\n      <td>0.74596</td>\n      <td>0.690457</td>\n      <td>0.798546</td>\n      <td>0.148349</td>\n      <td>...</td>\n      <td>0.002525</td>\n      <td>0.006008</td>\n      <td>0.005085</td>\n      <td>0.00173</td>\n      <td>0.006561</td>\n      <td>0.002756</td>\n      <td>0.002831</td>\n      <td>0.000732</td>\n      <td>0.002577</td>\n      <td>0.000311</td>\n    </tr>\n  </tbody>\n</table>\n<p>1 rows × 109 columns</p>\n</div>",
      "text/plain": "   Feature0  Feature1  Feature2  Feature3  Feature4  Feature5  Feature6  \\\n0  0.599191  0.852153  0.805464  0.805464  0.805464  0.999372   0.74596   \n\n   Feature7  Feature8  Feature9  ...  Feature99  Feature100  Feature101  \\\n0  0.690457  0.798546  0.148349  ...   0.002525    0.006008    0.005085   \n\n   Feature102  Feature103  Feature104  Feature105  Feature106  Feature107  \\\n0     0.00173    0.006561    0.002756    0.002831    0.000732    0.002577   \n\n   Feature108  \n0    0.000311  \n\n[1 rows x 109 columns]"
     },
     "execution_count": 5,
     "metadata": {},
     "output_type": "execute_result"
    }
   ],
   "source": [
    "# We also calculate the relative amount of feature uses.\n",
    "fd = {}\n",
    "for f in range(n_features):\n",
    "    fd[\"Feature%d\" % f] = [rel_feature_uses[f]]\n",
    "rel_feature_data = pd.DataFrame(data=fd)\n",
    "rel_feature_data"
   ]
  },
  {
   "cell_type": "code",
   "execution_count": 6,
   "metadata": {},
   "outputs": [
    {
     "data": {
      "text/html": "<div>\n<style scoped>\n    .dataframe tbody tr th:only-of-type {\n        vertical-align: middle;\n    }\n\n    .dataframe tbody tr th {\n        vertical-align: top;\n    }\n\n    .dataframe thead th {\n        text-align: right;\n    }\n</style>\n<table border=\"1\" class=\"dataframe\">\n  <thead>\n    <tr style=\"text-align: right;\">\n      <th></th>\n      <th>Feature0</th>\n      <th>Feature1</th>\n      <th>Feature2</th>\n      <th>Feature3</th>\n      <th>Feature4</th>\n      <th>Feature5</th>\n      <th>Feature6</th>\n      <th>Feature7</th>\n      <th>Feature8</th>\n      <th>Feature9</th>\n      <th>...</th>\n      <th>Feature99</th>\n      <th>Feature100</th>\n      <th>Feature101</th>\n      <th>Feature102</th>\n      <th>Feature103</th>\n      <th>Feature104</th>\n      <th>Feature105</th>\n      <th>Feature106</th>\n      <th>Feature107</th>\n      <th>Feature108</th>\n    </tr>\n    <tr>\n      <th>Label0</th>\n      <th></th>\n      <th></th>\n      <th></th>\n      <th></th>\n      <th></th>\n      <th></th>\n      <th></th>\n      <th></th>\n      <th></th>\n      <th></th>\n      <th></th>\n      <th></th>\n      <th></th>\n      <th></th>\n      <th></th>\n      <th></th>\n      <th></th>\n      <th></th>\n      <th></th>\n      <th></th>\n      <th></th>\n    </tr>\n  </thead>\n  <tbody>\n    <tr>\n      <th>0.0</th>\n      <td>1.911869</td>\n      <td>2.784347</td>\n      <td>0.568581</td>\n      <td>0.390108</td>\n      <td>0.648908</td>\n      <td>28.258127</td>\n      <td>-7.261246</td>\n      <td>7.973993</td>\n      <td>0.274942</td>\n      <td>0.011877</td>\n      <td>...</td>\n      <td>0.002235</td>\n      <td>0.006205</td>\n      <td>0.004555</td>\n      <td>0.00054</td>\n      <td>0.005149</td>\n      <td>0.001415</td>\n      <td>0.001661</td>\n      <td>0.000134</td>\n      <td>0.002904</td>\n      <td>0.000279</td>\n    </tr>\n    <tr>\n      <th>1.0</th>\n      <td>1.307148</td>\n      <td>1.710082</td>\n      <td>0.645154</td>\n      <td>0.486616</td>\n      <td>0.648025</td>\n      <td>7.880320</td>\n      <td>-0.178410</td>\n      <td>0.823271</td>\n      <td>0.339511</td>\n      <td>0.014224</td>\n      <td>...</td>\n      <td>0.000000</td>\n      <td>0.000372</td>\n      <td>0.000000</td>\n      <td>0.00000</td>\n      <td>0.004036</td>\n      <td>0.000000</td>\n      <td>0.000000</td>\n      <td>0.000000</td>\n      <td>0.000406</td>\n      <td>0.000000</td>\n    </tr>\n  </tbody>\n</table>\n<p>2 rows × 109 columns</p>\n</div>",
      "text/plain": "        Feature0  Feature1  Feature2  Feature3  Feature4   Feature5  Feature6  \\\nLabel0                                                                          \n0.0     1.911869  2.784347  0.568581  0.390108  0.648908  28.258127 -7.261246   \n1.0     1.307148  1.710082  0.645154  0.486616  0.648025   7.880320 -0.178410   \n\n        Feature7  Feature8  Feature9  ...  Feature99  Feature100  Feature101  \\\nLabel0                                ...                                      \n0.0     7.973993  0.274942  0.011877  ...   0.002235    0.006205    0.004555   \n1.0     0.823271  0.339511  0.014224  ...   0.000000    0.000372    0.000000   \n\n        Feature102  Feature103  Feature104  Feature105  Feature106  \\\nLabel0                                                               \n0.0        0.00054    0.005149    0.001415    0.001661    0.000134   \n1.0        0.00000    0.004036    0.000000    0.000000    0.000000   \n\n        Feature107  Feature108  \nLabel0                          \n0.0       0.002904    0.000279  \n1.0       0.000406    0.000000  \n\n[2 rows x 109 columns]"
     },
     "execution_count": 6,
     "metadata": {},
     "output_type": "execute_result"
    }
   ],
   "source": [
    "mean_diffs = data.groupby(\"Label0\").mean()\n",
    "mean_diffs"
   ]
  },
  {
   "cell_type": "markdown",
   "metadata": {},
   "source": [
    "Let us list the sorted differences in mean by feature. The higher the relative value, the more was the feature used in samples Z3 _could not_ find an answer for."
   ]
  },
  {
   "cell_type": "code",
   "execution_count": 9,
   "metadata": {},
   "outputs": [
    {
     "name": "stdout",
     "output_type": "stream",
     "text": "number of iterations per conjunct inf\n`reverse` calls ratio per seq op inf\nGeneral prod ratio of arithmetic ops inf\nParallel products ratio of rel ops inf\nDirect products ratio of rel ops inf\nBijective relations ratio of all relations inf\nSurjective relations ratio of all relations inf\nTotal relations ratio of all relations inf\n`concatenation` calls ratio per seq op inf\nfront insertions ratio per seq op inf\nfront restrictions ratio per seq op inf\ntail restrictions ratio per seq op inf\ngeneral concatenations ratio per seq op inf\nBijective, partial function ratio over functions inf\nGeneral sum ratio of arithmetic ops 131.0374739545496\nConjunctions per logic ops 40.69985750068064\nRelational inversions ratio of rel ops 36.45765372749582\nRange restriction ratio of rel ops 34.84384122241885\nRel ops per conjunct 27.956227256540714\nRelational images ratio of rel ops 24.23776914263572\nQuantified intersections per set set op 22.12641463166857\nforward composition ratio of rel ops 20.32693508159631\nQuantifiers per conjunct 17.653995301025216\n`permutation` calls ratio per seq op 16.676583414774868\nBijective, total function ratio over functions 16.059279239287964\nTotal amount of sequences per conjunct 14.84253451257255\nRelation var ratio of identifiers 12.853661040492103\nPowersets per conjunct 9.81348566893022\nDisjunctions per logic ops 9.685743952380122\nRange subtraction ratio of rel ops 9.480408903975906\nprj2 ratio of rel ops 9.002268024302584\nInjective, total function ratio over functions 8.980526791105927\nFunction applications per conjunct 8.326001528886898\nRelational overrides ratio of rel ops 8.039594015463635\nSurjective, partial function ratio over functions 8.030775745934097\nRelations per conjunct 7.740716552019871\nprj1 ratio of rel ops 7.595390380816377\nGeneral set unions per set set op 7.514397270626999\nSet operations per conjunct 7.218708086053791\nnumber of closures per conjunct 7.151614746521181\nNormal sequence ratio of all sequences 6.952899125297444\nRelational domain ratio of rel ops 6.738612358532397\nLambda-expression ratio over functions 6.617090169117656\nFunctions per conjunct 6.61356794559186\nGeneral relations ratio of all relations 6.358870175846759\nDomain subtraction ratio of rel ops 6.3444690594780395\nIntersections per set set op 6.140126301546432\n\\exists ratio of all quantifiers 5.84225928638857\nRelational range ratio of rel ops 5.453482516053449\nSeq ops per conjunct 5.3835948906279345\nQuantified set unions per set set op 5.293704839230976\nFunction var ratio of identifiers 4.775019879170471\nInjective, partial function ratio over functions 4.508761175485191\n`first` calls ratio per seq op 4.48949021742163\nSet inclusions per conjunct 4.208946789621766\nGeneral, partial function ratio over functions 3.8379535974696295\n`front` calls ratio per seq op 3.714063178229512\nPowersets per set op 3.665477458313432\nLogic ops per conjunct 3.5859111837133977\n`last` calls ratio per seq op 3.231108272274592\nInequality per conjunct 3.042626325756607\n`tail` calls ratio per seq op 2.897921199096392\nGeneral intersections per set set op 2.8759044573350017\nSet comprehensions per conjunct 2.8338531267114804\nEquality per conjunct 2.5803388433601726\nSet unions per set set op 2.5166431722142075\nBoolean literals per conjunct 2.355523689524125\nNumber of identifiers per conjunct 2.3292768889711692\nSurjective, total function ratio over functions 2.311218082511266\nSubsets per set inclusion op 2.234243222275895\n\\forall ratio of all quantifiers 2.2223362984046653\nGeneral, total function ratio over functions 2.1287083061358087\nMultiplication ratio of arithmetic ops 1.8363535641856141\nComparissons ratio of arithmetic ops 1.7941207400682417\naverage nesting depth of quantifiers 1.7692148834668473\nMax conjunct depth per conjunct 1.6281954292299305\nSet var ratio of identifiers 1.6233660252478868\nNumber of conjuncts (log2) 1.4626262863432418\nNested Powerset ration of powersets 1.3672434312008015\n#ids with unbounded domains ratio of all identifers, explicit 1.3106233667348464\ntail insertions ratio per seq op 1.2760125268263383\nArithmetic ops per conjunct 1.1375092171837802\nStrict subsets per set inclusion op 1.0918480269955873\n#ids with semi-bounded domains ratio of all identifers, symbolic 1.0822180013374672\nSet memberships ratio of set inclusion ops 1.051181037842419\nmax negation depth per number of negations 1.0013619580922477\n`pred` ratio of arithmetic ops 0.8886271021635402\nnumber of negations per conjunct 0.881309978252535\nNegative set memberships per set inclusion op 0.849899958367078\nEquivalences per logic ops 0.835001519728142\navg. power set nesting depth 0.8138707344172119\nImplications per logic ops 0.8098177339781848\nmax negation depth per conjunct 0.801676186245946\nAddition ratio of arithmetic ops 0.7824065210938461\n#ids with bounded domains ratio of all identifers, symbolic 0.7303558305969596\n#identifier relations per id 0.627535891240157\nDomain restriction ratio of rel ops 0.6035871414964298\nModulo ratio of arithmetic ops 0.598169054570949\n#ids with unbounded domains ratio of all identifers, symbolic 0.30280869451144155\n#ids with bounded domains ratio of all identifers, explicit 0.2966180732998002\nInteger var ratio of identifiers 0.28880015545096055\n`succ` ratio of arithmetic ops 0.2836671306473593\nBoolean conversions per conjunct 0.2687402196941695\nDivision ratio of arithmetic ops 0.2656186035839947\n#ids with semi-bounded domains ratio of all identifers, explicit 0.26518679542909634\nBoolean var ratio of identifiers 0.22614977601965233\nSet subtractions per set set op nan\nInjective sequence ratio of all sequences nan\n`size` calls ratio per seq op nan\n"
    }
   ],
   "source": [
    "sorted_mean_diffs = ((mean_diffs.iloc[0] / mean_diffs.iloc[1])).sort_values(ascending=False)\n",
    "\n",
    "for k in sorted_mean_diffs.keys():\n",
    "    fid = int(k[7:])\n",
    "    print(f109_name(fid), sorted_mean_diffs[k])"
   ]
  },
  {
   "cell_type": "markdown",
   "metadata": {},
   "source": [
    "## Training a Classifier\n",
    "\n",
    "First, let's check the performance a decision tree or a random forest can reach on a designated train and test set."
   ]
  },
  {
   "cell_type": "markdown",
   "metadata": {},
   "source": [
    "### Prepare the training and test data"
   ]
  },
  {
   "cell_type": "code",
   "execution_count": 10,
   "metadata": {},
   "outputs": [],
   "source": [
    "from sklearn.model_selection import train_test_split\n",
    "\n",
    "train, test = train_test_split(data, test_size = 0.2)\n",
    "train_x = train[train.columns[0:n_features]]\n",
    "train_y = train[\"Label0\"]\n",
    "\n",
    "test_x = test[test.columns[0:n_features]]\n",
    "test_y = test[\"Label0\"]"
   ]
  },
  {
   "cell_type": "code",
   "execution_count": 11,
   "metadata": {},
   "outputs": [
    {
     "data": {
      "text/plain": "<Figure size 432x288 with 0 Axes>"
     },
     "metadata": {},
     "output_type": "display_data"
    }
   ],
   "source": [
    "%run printing.py"
   ]
  },
  {
   "cell_type": "markdown",
   "metadata": {},
   "source": [
    "### Decision Tree"
   ]
  },
  {
   "cell_type": "code",
   "execution_count": 12,
   "metadata": {},
   "outputs": [
    {
     "data": {
      "text/plain": "DecisionTreeClassifier(ccp_alpha=0.0, class_weight='balanced', criterion='gini',\n                       max_depth=None, max_features=None, max_leaf_nodes=None,\n                       min_impurity_decrease=0.0, min_impurity_split=None,\n                       min_samples_leaf=1, min_samples_split=2,\n                       min_weight_fraction_leaf=0.0, presort='deprecated',\n                       random_state=None, splitter='best')"
     },
     "execution_count": 12,
     "metadata": {},
     "output_type": "execute_result"
    }
   ],
   "source": [
    "from sklearn.tree import DecisionTreeClassifier\n",
    "\n",
    "tree = DecisionTreeClassifier(class_weight=\"balanced\")\n",
    "\n",
    "tree.fit(train_x, train_y)"
   ]
  },
  {
   "cell_type": "code",
   "execution_count": 13,
   "metadata": {},
   "outputs": [
    {
     "name": "stdout",
     "output_type": "stream",
     "text": "Test accuracy: 0.906\nTest balanced accuracy: 0.851\nTest precision: 0.776\nTest recall: 0.757\nTest F1: 0.766\n"
    }
   ],
   "source": [
    "print_classifier_stats(tree, test_x, test_y)"
   ]
  },
  {
   "cell_type": "markdown",
   "metadata": {},
   "source": [
    "### Random Forest and Gini Importance\n",
    "\n",
    "Next we will train a random forest with Gini Impurity and also calculate the respective gini importances of each feature."
   ]
  },
  {
   "cell_type": "code",
   "execution_count": 14,
   "metadata": {},
   "outputs": [
    {
     "data": {
      "text/plain": "RandomForestClassifier(bootstrap=False, ccp_alpha=0.0, class_weight='balanced',\n                       criterion='gini', max_depth=None, max_features=0.7,\n                       max_leaf_nodes=None, max_samples=None,\n                       min_impurity_decrease=0.0, min_impurity_split=None,\n                       min_samples_leaf=1, min_samples_split=2,\n                       min_weight_fraction_leaf=0.0, n_estimators=100, n_jobs=6,\n                       oob_score=False, random_state=124, verbose=0,\n                       warm_start=False)"
     },
     "execution_count": 14,
     "metadata": {},
     "output_type": "execute_result"
    }
   ],
   "source": [
    "from sklearn.ensemble import RandomForestClassifier\n",
    "\n",
    "forest_0 = RandomForestClassifier(\n",
    "    n_estimators=100, # 100 Trees.\n",
    "    criterion=\"gini\", # Using Gini index instead of \"entropy\"\n",
    "    n_jobs=6, # Number of CPUs to use.\n",
    "    bootstrap=False,\n",
    "    max_features=0.7,\n",
    "    random_state=124,\n",
    "    class_weight=\"balanced\")\n",
    "\n",
    "forest_0.fit(train_x, train_y)\n"
   ]
  },
  {
   "cell_type": "code",
   "execution_count": 15,
   "metadata": {},
   "outputs": [
    {
     "name": "stdout",
     "output_type": "stream",
     "text": "Test accuracy: 0.919\nTest balanced accuracy: 0.873\nTest precision: 0.799\nTest recall: 0.795\nTest F1: 0.797\n"
    }
   ],
   "source": [
    "print_classifier_stats(forest_0, test_x, test_y)\n"
   ]
  },
  {
   "cell_type": "markdown",
   "metadata": {},
   "source": [
    "## Training on the full data set\n",
    "\n",
    "For the feature evaluation it might be more of interest to not exclude the test set from the training data. We do not aim for a good predictor but instead for an analysis over the whole dataset."
   ]
  },
  {
   "cell_type": "code",
   "execution_count": 16,
   "metadata": {},
   "outputs": [
    {
     "data": {
      "text/plain": "RandomForestClassifier(bootstrap=False, ccp_alpha=0.0, class_weight='balanced',\n                       criterion='gini', max_depth=None, max_features=0.7,\n                       max_leaf_nodes=None, max_samples=None,\n                       min_impurity_decrease=0.0, min_impurity_split=None,\n                       min_samples_leaf=1, min_samples_split=2,\n                       min_weight_fraction_leaf=0.0, n_estimators=50, n_jobs=6,\n                       oob_score=False, random_state=123, verbose=0,\n                       warm_start=False)"
     },
     "execution_count": 16,
     "metadata": {},
     "output_type": "execute_result"
    }
   ],
   "source": [
    "X = data[data.columns[0:n_features]]\n",
    "Y = data[\"Label0\"]\n",
    "\n",
    "forest = RandomForestClassifier(\n",
    "    n_estimators=50, # 50 Trees.\n",
    "    criterion=\"gini\", # Using Gini index instead of \"entropy\"\n",
    "    n_jobs=6, # Number of CPUs to use.\n",
    "    bootstrap=False,\n",
    "    max_features=0.7,\n",
    "    random_state=123,\n",
    "    class_weight=\"balanced\")\n",
    "\n",
    "forest.fit(X, Y)"
   ]
  },
  {
   "cell_type": "code",
   "execution_count": 17,
   "metadata": {},
   "outputs": [
    {
     "name": "stdout",
     "output_type": "stream",
     "text": "Test accuracy: 0.975\nTest balanced accuracy: 0.945\nTest precision: 1.000\nTest recall: 0.889\nTest F1: 0.941\n"
    }
   ],
   "source": [
    "print_classifier_stats(forest, X, Y)"
   ]
  },
  {
   "cell_type": "markdown",
   "metadata": {},
   "source": [
    "List features by importance"
   ]
  },
  {
   "cell_type": "code",
   "execution_count": 18,
   "metadata": {},
   "outputs": [],
   "source": [
    "importances = forest.feature_importances_\n",
    "std = np.std([tree.feature_importances_ for tree in forest.estimators_],\n",
    "             axis=0)\n",
    "indices = np.argsort(importances)[::-1]"
   ]
  },
  {
   "cell_type": "code",
   "execution_count": 19,
   "metadata": {},
   "outputs": [
    {
     "name": "stdout",
     "output_type": "stream",
     "text": "Feature ranking:\n  1. feature  60 (importance: 0.238579, rel. usage: 0.574071):  [Relations  ]  Rel ops per conjunct\n  2. feature  70 (importance: 0.079556, rel. usage: 0.402977):  [Relations  ]  Relational domain ratio of rel ops\n  3. feature  79 (importance: 0.063304, rel. usage: 0.667972):  [Functions  ]  Functions per conjunct\n  4. feature  23 (importance: 0.034756, rel. usage: 0.466166):  [Identifiers]  Function var ratio of identifiers\n  5. feature  58 (importance: 0.028537, rel. usage: 0.431833):  [Relations  ]  avg. power set nesting depth\n  6. feature  75 (importance: 0.025374, rel. usage: 0.130863):  [Relations  ]  Domain restriction ratio of rel ops\n  7. feature  30 (importance: 0.025138, rel. usage: 0.974240):  [Arithmetic ]  #ids with unbounded domains ratio of all identifers, explicit\n  8. feature  18 (importance: 0.023153, rel. usage: 0.999619):  [Identifiers]  Number of identifiers per conjunct\n  9. feature   1 (importance: 0.022135, rel. usage: 0.852153):  [Logic      ]  Max conjunct depth per conjunct\n 10. feature  80 (importance: 0.018797, rel. usage: 0.472698):  [Functions  ]  Function applications per conjunct\n 11. feature  12 (importance: 0.017385, rel. usage: 0.464367):  [Quantifiers]  Quantifiers per conjunct\n 12. feature  41 (importance: 0.016953, rel. usage: 0.965696):  [Set theory ]  Set inclusions per conjunct\n 13. feature  17 (importance: 0.016906, rel. usage: 0.724611):  [Identifiers]  Inequality per conjunct\n 14. feature  21 (importance: 0.016453, rel. usage: 0.640240):  [Identifiers]  Set var ratio of identifiers\n 15. feature  31 (importance: 0.016079, rel. usage: 0.601618):  [Arithmetic ]  Arithmetic ops per conjunct\n 16. feature  14 (importance: 0.015436, rel. usage: 0.398221):  [Quantifiers]  \\exists ratio of all quantifiers\n 17. feature  24 (importance: 0.014318, rel. usage: 0.462464):  [Identifiers]  #identifier relations per id\n 18. feature   5 (importance: 0.014166, rel. usage: 0.999372):  [Logic      ]  Logic ops per conjunct\n 19. feature  16 (importance: 0.014003, rel. usage: 0.779169):  [Equality   ]  Equality per conjunct\n 20. feature  81 (importance: 0.013288, rel. usage: 0.333585):  [Functions  ]  General, partial function ratio over functions\n 21. feature  28 (importance: 0.012266, rel. usage: 0.422424):  [Identifiers]  #ids with semi-bounded domains ratio of all identifers, explicit\n 22. feature   6 (importance: 0.011579, rel. usage: 0.745960):  [Logic      ]  Conjunctions per logic ops\n 23. feature  82 (importance: 0.011030, rel. usage: 0.456786):  [Functions  ]  General, total function ratio over functions\n 24. feature  22 (importance: 0.011010, rel. usage: 0.340331):  [Identifiers]  Relation var ratio of identifiers\n 25. feature   8 (importance: 0.010726, rel. usage: 0.798546):  [Logic      ]  Implications per logic ops\n 26. feature   7 (importance: 0.010667, rel. usage: 0.690457):  [Logic      ]  Disjunctions per logic ops\n 27. feature  19 (importance: 0.010549, rel. usage: 0.465024):  [Identifiers]  Integer var ratio of identifiers\n 28. feature   2 (importance: 0.009915, rel. usage: 0.805464):  [Logic      ]  number of negations per conjunct\n 29. feature  10 (importance: 0.009860, rel. usage: 0.324326):  [Logic      ]  Boolean literals per conjunct\n 30. feature  44 (importance: 0.009843, rel. usage: 0.858863):  [Set theory ]  Set memberships ratio of set inclusion ops\n 31. feature  15 (importance: 0.009282, rel. usage: 0.464367):  [Equality   ]  average nesting depth of quantifiers\n 32. feature  45 (importance: 0.008748, rel. usage: 0.650387):  [Set theory ]  Negative set memberships per set inclusion op\n 33. feature  25 (importance: 0.008641, rel. usage: 0.438873):  [Identifiers]  #ids with bounded domains ratio of all identifers, symbolic\n 34. feature  90 (importance: 0.008623, rel. usage: 0.045287):  [Sequences  ]  Total amount of sequences per conjunct\n 35. feature  57 (importance: 0.008603, rel. usage: 0.431833):  [Set theory ]  Powersets per set op\n 36. feature  36 (importance: 0.008405, rel. usage: 0.478902):  [Arithmetic ]  Comparissons ratio of arithmetic ops\n 37. feature  33 (importance: 0.008362, rel. usage: 0.106792):  [Arithmetic ]  Multiplication ratio of arithmetic ops\n 38. feature  32 (importance: 0.007553, rel. usage: 0.231077):  [Arithmetic ]  Addition ratio of arithmetic ops\n 39. feature  27 (importance: 0.007034, rel. usage: 0.992793):  [Identifiers]  #ids with semi-bounded domains ratio of all identifers, symbolic\n 40. feature   0 (importance: 0.007032, rel. usage: 0.599191):  [Logic      ]  Number of conjuncts (log2)\n 41. feature  55 (importance: 0.006654, rel. usage: 0.431833):  [Set theory ]  Powersets per conjunct\n 42. feature  29 (importance: 0.006508, rel. usage: 0.267992):  [Identifiers]  #ids with unbounded domains ratio of all identifers, symbolic\n 43. feature   4 (importance: 0.006430, rel. usage: 0.805464):  [Logic      ]  max negation depth per number of negations\n 44. feature  43 (importance: 0.006165, rel. usage: 0.041026):  [Set theory ]  Set comprehensions per conjunct\n 45. feature   3 (importance: 0.005810, rel. usage: 0.805464):  [Logic      ]  max negation depth per conjunct\n 46. feature  42 (importance: 0.005810, rel. usage: 0.343553):  [Set theory ]  Set operations per conjunct\n 47. feature  48 (importance: 0.005353, rel. usage: 0.245323):  [Set theory ]  Set unions per set set op\n 48. feature   9 (importance: 0.003758, rel. usage: 0.148349):  [Logic      ]  Equivalences per logic ops\n 49. feature  92 (importance: 0.003750, rel. usage: 0.045287):  [Sequences  ]  Normal sequence ratio of all sequences\n 50. feature  83 (importance: 0.003578, rel. usage: 0.122872):  [Functions  ]  Injective, partial function ratio over functions\n 51. feature  46 (importance: 0.003540, rel. usage: 0.313026):  [Set theory ]  Subsets per set inclusion op\n 52. feature  91 (importance: 0.003521, rel. usage: 0.031652):  [Sequences  ]  Seq ops per conjunct\n 53. feature  20 (importance: 0.003325, rel. usage: 0.158035):  [Identifiers]  Boolean var ratio of identifiers\n 54. feature  59 (importance: 0.003187, rel. usage: 0.163944):  [Relations  ]  Relations per conjunct\n 55. feature  47 (importance: 0.002902, rel. usage: 0.129560):  [Set theory ]  Strict subsets per set inclusion op\n 56. feature  71 (importance: 0.002636, rel. usage: 0.256352):  [Relations  ]  Relational range ratio of rel ops\n 57. feature  49 (importance: 0.001883, rel. usage: 0.248050):  [Set theory ]  Intersections per set set op\n 58. feature  61 (importance: 0.001880, rel. usage: 0.152765):  [Relations  ]  General relations ratio of all relations\n 59. feature  26 (importance: 0.001741, rel. usage: 0.044244):  [Identifiers]  #ids with bounded domains ratio of all identifers, explicit\n 60. feature  88 (importance: 0.001367, rel. usage: 0.067420):  [Functions  ]  Bijective, total function ratio over functions\n 61. feature  85 (importance: 0.001298, rel. usage: 0.021534):  [Functions  ]  Surjective, partial function ratio over functions\n 62. feature  13 (importance: 0.001245, rel. usage: 0.270114):  [Quantifiers]  \\forall ratio of all quantifiers\n 63. feature  89 (importance: 0.001241, rel. usage: 0.030015):  [Sequences  ]  Lambda-expression ratio over functions\n 64. feature  84 (importance: 0.001033, rel. usage: 0.023638):  [Functions  ]  Injective, total function ratio over functions\n 65. feature  34 (importance: 0.000885, rel. usage: 0.016558):  [Arithmetic ]  Division ratio of arithmetic ops\n 66. feature  65 (importance: 0.000880, rel. usage: 0.265012):  [Relations  ]  Relational images ratio of rel ops\n 67. feature  66 (importance: 0.000824, rel. usage: 0.237828):  [Relations  ]  Relational inversions ratio of rel ops\n 68. feature  53 (importance: 0.000757, rel. usage: 0.005097):  [Set theory ]  Quantified set unions per set set op\n 69. feature  67 (importance: 0.000757, rel. usage: 0.150286):  [Relations  ]  Relational overrides ratio of rel ops\n 70. feature  35 (importance: 0.000667, rel. usage: 0.010107):  [Arithmetic ]  Modulo ratio of arithmetic ops\n 71. feature  38 (importance: 0.000659, rel. usage: 0.001222):  [Arithmetic ]  General prod ratio of arithmetic ops\n 72. feature  51 (importance: 0.000566, rel. usage: 0.005258):  [Set theory ]  General set unions per set set op\n 73. feature  37 (importance: 0.000509, rel. usage: 0.003384):  [Arithmetic ]  General sum ratio of arithmetic ops\n 74. feature  56 (importance: 0.000485, rel. usage: 0.007639):  [Set theory ]  Nested Powerset ration of powersets\n 75. feature  74 (importance: 0.000452, rel. usage: 0.116507):  [Relations  ]  forward composition ratio of rel ops\n 76. feature 107 (importance: 0.000442, rel. usage: 0.002577):  [Closure    ]  number of closures per conjunct\n 77. feature  76 (importance: 0.000356, rel. usage: 0.044930):  [Relations  ]  Domain subtraction ratio of rel ops\n 78. feature  97 (importance: 0.000351, rel. usage: 0.006048):  [Sequences  ]  `last` calls ratio per seq op\n 79. feature  78 (importance: 0.000292, rel. usage: 0.018507):  [Functions  ]  Range subtraction ratio of rel ops\n 80. feature  86 (importance: 0.000285, rel. usage: 0.013341):  [Functions  ]  Surjective, total function ratio over functions\n 81. feature  11 (importance: 0.000234, rel. usage: 0.008250):  [Quantifiers]  Boolean conversions per conjunct\n 82. feature  52 (importance: 0.000230, rel. usage: 0.002715):  [Set theory ]  General intersections per set set op\n 83. feature  96 (importance: 0.000222, rel. usage: 0.006330):  [Sequences  ]  `tail` calls ratio per seq op\n 84. feature  54 (importance: 0.000216, rel. usage: 0.002675):  [Set theory ]  Quantified intersections per set set op\n 85. feature  95 (importance: 0.000205, rel. usage: 0.008971):  [Sequences  ]  `first` calls ratio per seq op\n 86. feature 100 (importance: 0.000165, rel. usage: 0.006008):  [Sequences  ]  `permutation` calls ratio per seq op\n 87. feature  40 (importance: 0.000162, rel. usage: 0.000680):  [Set theory ]  `pred` ratio of arithmetic ops\n 88. feature  77 (importance: 0.000150, rel. usage: 0.045368):  [Relations  ]  Range restriction ratio of rel ops\n 89. feature 103 (importance: 0.000138, rel. usage: 0.006561):  [Sequences  ]  tail insertions ratio per seq op\n 90. feature  98 (importance: 0.000107, rel. usage: 0.001660):  [Sequences  ]  `front` calls ratio per seq op\n 91. feature  99 (importance: 0.000079, rel. usage: 0.002525):  [Sequences  ]  `reverse` calls ratio per seq op\n 92. feature 101 (importance: 0.000074, rel. usage: 0.005085):  [Sequences  ]  `concatenation` calls ratio per seq op\n 93. feature  73 (importance: 0.000073, rel. usage: 0.007103):  [Relations  ]  prj2 ratio of rel ops\n 94. feature  72 (importance: 0.000042, rel. usage: 0.007247):  [Relations  ]  prj1 ratio of rel ops\n 95. feature  39 (importance: 0.000026, rel. usage: 0.000651):  [Arithmetic ]  `succ` ratio of arithmetic ops\n 96. feature 105 (importance: 0.000019, rel. usage: 0.002831):  [Sequences  ]  tail restrictions ratio per seq op\n 97. feature 104 (importance: 0.000010, rel. usage: 0.002756):  [Sequences  ]  front restrictions ratio per seq op\n 98. feature  63 (importance: 0.000009, rel. usage: 0.011179):  [Relations  ]  Surjective relations ratio of all relations\n 99. feature 108 (importance: 0.000004, rel. usage: 0.000311):  [Closure    ]  number of iterations per conjunct\n100. feature 102 (importance: 0.000002, rel. usage: 0.001730):  [Sequences  ]  front insertions ratio per seq op\n"
    }
   ],
   "source": [
    "# Print the feature ranking\n",
    "print(\"Feature ranking:\")\n",
    "\n",
    "cat_count_top50 = {}\n",
    "cat_count_top100 = {}\n",
    "for f in range(100):\n",
    "    cat = f109_category(indices[f])\n",
    "    cat_count_top100[cat] = cat_count_top100.get(cat, 0) + 1\n",
    "    if f < 50:\n",
    "        cat_count_top50[cat] = cat_count_top50.get(cat, 0) + 1\n",
    "    print(\"%3d. feature %3d (importance: %1.6f, rel. usage: %1.6f):  [%-11s]  %s\" % (f + 1, indices[f], importances[indices[f]], rel_feature_uses[indices[f]], cat, f109_name(indices[f])))"
   ]
  },
  {
   "cell_type": "markdown",
   "metadata": {},
   "source": [
    "How many of the features of each category made it to the top 100?"
   ]
  },
  {
   "cell_type": "code",
   "execution_count": 20,
   "metadata": {},
   "outputs": [],
   "source": [
    "cat_count_total = {}\n",
    "for f in range(n_features):\n",
    "    cat = f109_category(f)\n",
    "    cat_count_total[cat] = cat_count_total.get(cat, 0) + 1"
   ]
  },
  {
   "cell_type": "markdown",
   "metadata": {},
   "source": [
    "### Category count in Top 100"
   ]
  },
  {
   "cell_type": "code",
   "execution_count": 21,
   "metadata": {},
   "outputs": [
    {
     "name": "stdout",
     "output_type": "stream",
     "text": "Logic      : 11/11, 1.000%\nQuantifiers:  4/ 4, 1.000%\nEquality   :  2/ 2, 1.000%\nIdentifiers: 13/13, 1.000%\nArithmetic : 10/10, 1.000%\nSet theory : 17/18, 0.944%\nRelations  : 16/20, 0.800%\nFunctions  : 10/11, 0.909%\nSequences  : 15/17, 0.882%\nClosure    :  2/ 3, 0.667%\n"
    }
   ],
   "source": [
    "for cat, count in cat_count_total.items():\n",
    "    top100 = cat_count_top100.get(cat, 0)\n",
    "    print(\"%-11s: %2d/%2d, %.3f%%\" % (cat, top100, count, top100/count))"
   ]
  },
  {
   "cell_type": "markdown",
   "metadata": {},
   "source": [
    "### Category count in Top 50"
   ]
  },
  {
   "cell_type": "code",
   "execution_count": 22,
   "metadata": {},
   "outputs": [
    {
     "name": "stdout",
     "output_type": "stream",
     "text": "Logic      : 11/11, 1.000%\nQuantifiers:  2/ 4, 0.500%\nEquality   :  2/ 2, 1.000%\nIdentifiers: 11/13, 0.846%\nArithmetic :  5/10, 0.500%\nSet theory :  8/18, 0.444%\nRelations  :  4/20, 0.200%\nFunctions  :  5/11, 0.455%\nSequences  :  2/17, 0.118%\nClosure    :  0/ 3, 0.000%\n"
    }
   ],
   "source": [
    "for cat, count in cat_count_total.items():\n",
    "    top50 = cat_count_top50.get(cat, 0)\n",
    "    print(\"%-11s: %2d/%2d, %.3f%%\" % (cat, top50, count, top50/count))"
   ]
  },
  {
   "cell_type": "markdown",
   "metadata": {},
   "source": [
    "### Category counts Top 50 vs. Top 100"
   ]
  },
  {
   "cell_type": "code",
   "execution_count": 23,
   "metadata": {},
   "outputs": [
    {
     "name": "stdout",
     "output_type": "stream",
     "text": "------------ T100  T50   Decline\nLogic      : 1.000 1.000 0.000\nQuantifiers: 1.000 0.500 0.500\nEquality   : 1.000 1.000 0.000\nIdentifiers: 1.000 0.846 0.154\nArithmetic : 1.000 0.500 0.500\nSet theory : 0.944 0.444 0.529\nRelations  : 0.800 0.200 0.750\nFunctions  : 0.909 0.455 0.500\nSequences  : 0.882 0.118 0.867\nClosure    : 0.667 0.000 1.000\n"
    }
   ],
   "source": [
    "print(\"------------ %-5s %-5s Decline\" % (\"T100\", \"T50\"))\n",
    "for cat, count in cat_count_total.items():\n",
    "    top50 = cat_count_top50.get(cat, 0)\n",
    "    top100 = cat_count_top100.get(cat, 0)\n",
    "    print(\"%-11s: %.3f %.3f %.3f\" % (cat, top100/count, top50/count, ((top100-top50)/top100) if top100>0 else 0))\n"
   ]
  },
  {
   "cell_type": "markdown",
   "metadata": {},
   "source": [
    "## Taking a look at permutation importance\n",
    "\n",
    "While the Gini index captures the average gain of splitting on each feature in their respective position in the tree, the permutation importance is more robust against variable codependencies."
   ]
  },
  {
   "cell_type": "code",
   "execution_count": 24,
   "metadata": {},
   "outputs": [],
   "source": [
    "from sklearn.inspection import permutation_importance\n",
    "\n",
    "perm_importances = permutation_importance(forest, X, Y, scoring='balanced_accuracy', n_repeats=5, n_jobs=1, random_state=1234)\n",
    "perm_indices = perm_importances.importances_mean.argsort()[::-1]"
   ]
  },
  {
   "cell_type": "code",
   "execution_count": 25,
   "metadata": {},
   "outputs": [
    {
     "name": "stdout",
     "output_type": "stream",
     "text": "Feature ranking:\n  1. feature  60 (importance: 0.262736, rel. usage: 0.574071):  [Relations  ]  Rel ops per conjunct\n  2. feature  79 (importance: 0.223804, rel. usage: 0.667972):  [Functions  ]  Functions per conjunct\n  3. feature  58 (importance: 0.063145, rel. usage: 0.431833):  [Relations  ]  avg. power set nesting depth\n  4. feature  21 (importance: 0.054657, rel. usage: 0.640240):  [Identifiers]  Set var ratio of identifiers\n  5. feature  23 (importance: 0.047833, rel. usage: 0.466166):  [Identifiers]  Function var ratio of identifiers\n  6. feature  30 (importance: 0.047668, rel. usage: 0.974240):  [Arithmetic ]  #ids with unbounded domains ratio of all identifers, explicit\n  7. feature  55 (importance: 0.044009, rel. usage: 0.431833):  [Set theory ]  Powersets per conjunct\n  8. feature  18 (importance: 0.035550, rel. usage: 0.999619):  [Identifiers]  Number of identifiers per conjunct\n  9. feature  31 (importance: 0.029113, rel. usage: 0.601618):  [Arithmetic ]  Arithmetic ops per conjunct\n 10. feature  41 (importance: 0.027355, rel. usage: 0.965696):  [Set theory ]  Set inclusions per conjunct\n 11. feature  42 (importance: 0.025914, rel. usage: 0.343553):  [Set theory ]  Set operations per conjunct\n 12. feature  17 (importance: 0.022992, rel. usage: 0.724611):  [Identifiers]  Inequality per conjunct\n 13. feature  75 (importance: 0.021805, rel. usage: 0.130863):  [Relations  ]  Domain restriction ratio of rel ops\n 14. feature  12 (importance: 0.021785, rel. usage: 0.464367):  [Quantifiers]  Quantifiers per conjunct\n 15. feature  57 (importance: 0.020550, rel. usage: 0.431833):  [Set theory ]  Powersets per set op\n 16. feature   1 (importance: 0.019350, rel. usage: 0.852153):  [Logic      ]  Max conjunct depth per conjunct\n 17. feature  36 (importance: 0.018025, rel. usage: 0.478902):  [Arithmetic ]  Comparissons ratio of arithmetic ops\n 18. feature  16 (importance: 0.017904, rel. usage: 0.779169):  [Equality   ]  Equality per conjunct\n 19. feature  80 (importance: 0.017423, rel. usage: 0.472698):  [Functions  ]  Function applications per conjunct\n 20. feature  81 (importance: 0.017351, rel. usage: 0.333585):  [Functions  ]  General, partial function ratio over functions\n 21. feature  43 (importance: 0.015835, rel. usage: 0.041026):  [Set theory ]  Set comprehensions per conjunct\n 22. feature  10 (importance: 0.015141, rel. usage: 0.324326):  [Logic      ]  Boolean literals per conjunct\n 23. feature  33 (importance: 0.013362, rel. usage: 0.106792):  [Arithmetic ]  Multiplication ratio of arithmetic ops\n 24. feature  48 (importance: 0.013082, rel. usage: 0.245323):  [Set theory ]  Set unions per set set op\n 25. feature  82 (importance: 0.012741, rel. usage: 0.456786):  [Functions  ]  General, total function ratio over functions\n 26. feature  44 (importance: 0.009793, rel. usage: 0.858863):  [Set theory ]  Set memberships ratio of set inclusion ops\n 27. feature  46 (importance: 0.009762, rel. usage: 0.313026):  [Set theory ]  Subsets per set inclusion op\n 28. feature  19 (importance: 0.009584, rel. usage: 0.465024):  [Identifiers]  Integer var ratio of identifiers\n 29. feature   5 (importance: 0.008396, rel. usage: 0.999372):  [Logic      ]  Logic ops per conjunct\n 30. feature  90 (importance: 0.007089, rel. usage: 0.045287):  [Sequences  ]  Total amount of sequences per conjunct\n 31. feature   7 (importance: 0.006973, rel. usage: 0.690457):  [Logic      ]  Disjunctions per logic ops\n 32. feature  24 (importance: 0.006395, rel. usage: 0.462464):  [Identifiers]  #identifier relations per id\n 33. feature   2 (importance: 0.005694, rel. usage: 0.805464):  [Logic      ]  number of negations per conjunct\n 34. feature  70 (importance: 0.005399, rel. usage: 0.402977):  [Relations  ]  Relational domain ratio of rel ops\n 35. feature  45 (importance: 0.005384, rel. usage: 0.650387):  [Set theory ]  Negative set memberships per set inclusion op\n 36. feature   8 (importance: 0.005082, rel. usage: 0.798546):  [Logic      ]  Implications per logic ops\n 37. feature   4 (importance: 0.004748, rel. usage: 0.805464):  [Logic      ]  max negation depth per number of negations\n 38. feature  91 (importance: 0.004714, rel. usage: 0.031652):  [Sequences  ]  Seq ops per conjunct\n 39. feature   6 (importance: 0.004648, rel. usage: 0.745960):  [Logic      ]  Conjunctions per logic ops\n 40. feature   0 (importance: 0.004586, rel. usage: 0.599191):  [Logic      ]  Number of conjuncts (log2)\n 41. feature  14 (importance: 0.004469, rel. usage: 0.398221):  [Quantifiers]  \\exists ratio of all quantifiers\n 42. feature  32 (importance: 0.004240, rel. usage: 0.231077):  [Arithmetic ]  Addition ratio of arithmetic ops\n 43. feature  83 (importance: 0.003904, rel. usage: 0.122872):  [Functions  ]  Injective, partial function ratio over functions\n 44. feature  28 (importance: 0.003262, rel. usage: 0.422424):  [Identifiers]  #ids with semi-bounded domains ratio of all identifers, explicit\n 45. feature  15 (importance: 0.002236, rel. usage: 0.464367):  [Equality   ]  average nesting depth of quantifiers\n 46. feature  22 (importance: 0.002193, rel. usage: 0.340331):  [Identifiers]  Relation var ratio of identifiers\n 47. feature  25 (importance: 0.002058, rel. usage: 0.438873):  [Identifiers]  #ids with bounded domains ratio of all identifers, symbolic\n 48. feature  27 (importance: 0.002057, rel. usage: 0.992793):  [Identifiers]  #ids with semi-bounded domains ratio of all identifers, symbolic\n 49. feature   9 (importance: 0.001776, rel. usage: 0.148349):  [Logic      ]  Equivalences per logic ops\n 50. feature  71 (importance: 0.001540, rel. usage: 0.256352):  [Relations  ]  Relational range ratio of rel ops\n 51. feature  59 (importance: 0.001285, rel. usage: 0.163944):  [Relations  ]  Relations per conjunct\n 52. feature  29 (importance: 0.001262, rel. usage: 0.267992):  [Identifiers]  #ids with unbounded domains ratio of all identifers, symbolic\n 53. feature   3 (importance: 0.000902, rel. usage: 0.805464):  [Logic      ]  max negation depth per conjunct\n 54. feature  61 (importance: 0.000891, rel. usage: 0.152765):  [Relations  ]  General relations ratio of all relations\n 55. feature  92 (importance: 0.000808, rel. usage: 0.045287):  [Sequences  ]  Normal sequence ratio of all sequences\n 56. feature  26 (importance: 0.000609, rel. usage: 0.044244):  [Identifiers]  #ids with bounded domains ratio of all identifers, explicit\n 57. feature  37 (importance: 0.000522, rel. usage: 0.003384):  [Arithmetic ]  General sum ratio of arithmetic ops\n 58. feature  85 (importance: 0.000421, rel. usage: 0.021534):  [Functions  ]  Surjective, partial function ratio over functions\n 59. feature  47 (importance: 0.000401, rel. usage: 0.129560):  [Set theory ]  Strict subsets per set inclusion op\n 60. feature  49 (importance: 0.000385, rel. usage: 0.248050):  [Set theory ]  Intersections per set set op\n 61. feature  35 (importance: 0.000247, rel. usage: 0.010107):  [Arithmetic ]  Modulo ratio of arithmetic ops\n 62. feature  74 (importance: 0.000227, rel. usage: 0.116507):  [Relations  ]  forward composition ratio of rel ops\n 63. feature  65 (importance: 0.000226, rel. usage: 0.265012):  [Relations  ]  Relational images ratio of rel ops\n 64. feature  34 (importance: 0.000194, rel. usage: 0.016558):  [Arithmetic ]  Division ratio of arithmetic ops\n 65. feature  67 (importance: 0.000190, rel. usage: 0.150286):  [Relations  ]  Relational overrides ratio of rel ops\n 66. feature  38 (importance: 0.000170, rel. usage: 0.001222):  [Arithmetic ]  General prod ratio of arithmetic ops\n 67. feature 107 (importance: 0.000139, rel. usage: 0.002577):  [Closure    ]  number of closures per conjunct\n 68. feature  51 (importance: 0.000121, rel. usage: 0.005258):  [Set theory ]  General set unions per set set op\n 69. feature  20 (importance: 0.000115, rel. usage: 0.158035):  [Identifiers]  Boolean var ratio of identifiers\n 70. feature  84 (importance: 0.000114, rel. usage: 0.023638):  [Functions  ]  Injective, total function ratio over functions\n 71. feature  56 (importance: 0.000110, rel. usage: 0.007639):  [Set theory ]  Nested Powerset ration of powersets\n 72. feature  13 (importance: 0.000097, rel. usage: 0.270114):  [Quantifiers]  \\forall ratio of all quantifiers\n 73. feature  11 (importance: 0.000092, rel. usage: 0.008250):  [Quantifiers]  Boolean conversions per conjunct\n 74. feature  40 (importance: 0.000086, rel. usage: 0.000680):  [Set theory ]  `pred` ratio of arithmetic ops\n 75. feature  78 (importance: 0.000086, rel. usage: 0.018507):  [Functions  ]  Range subtraction ratio of rel ops\n 76. feature  86 (importance: 0.000068, rel. usage: 0.013341):  [Functions  ]  Surjective, total function ratio over functions\n 77. feature  88 (importance: 0.000061, rel. usage: 0.067420):  [Functions  ]  Bijective, total function ratio over functions\n 78. feature  76 (importance: 0.000057, rel. usage: 0.044930):  [Relations  ]  Domain subtraction ratio of rel ops\n 79. feature  89 (importance: 0.000045, rel. usage: 0.030015):  [Sequences  ]  Lambda-expression ratio over functions\n 80. feature  98 (importance: 0.000043, rel. usage: 0.001660):  [Sequences  ]  `front` calls ratio per seq op\n 81. feature  66 (importance: 0.000036, rel. usage: 0.237828):  [Relations  ]  Relational inversions ratio of rel ops\n 82. feature  52 (importance: 0.000028, rel. usage: 0.002715):  [Set theory ]  General intersections per set set op\n 83. feature 100 (importance: 0.000028, rel. usage: 0.006008):  [Sequences  ]  `permutation` calls ratio per seq op\n 84. feature  97 (importance: 0.000021, rel. usage: 0.006048):  [Sequences  ]  `last` calls ratio per seq op\n 85. feature  73 (importance: 0.000014, rel. usage: 0.007103):  [Relations  ]  prj2 ratio of rel ops\n 86. feature  95 (importance: 0.000010, rel. usage: 0.008971):  [Sequences  ]  `first` calls ratio per seq op\n 87. feature  77 (importance: 0.000004, rel. usage: 0.045368):  [Relations  ]  Range restriction ratio of rel ops\n 88. feature  53 (importance: 0.000004, rel. usage: 0.005097):  [Set theory ]  Quantified set unions per set set op\n 89. feature 108 (importance: 0.000000, rel. usage: 0.000311):  [Closure    ]  number of iterations per conjunct\n 90. feature  39 (importance: 0.000000, rel. usage: 0.000651):  [Arithmetic ]  `succ` ratio of arithmetic ops\n 91. feature  50 (importance: 0.000000, rel. usage: 0.000000):  [Set theory ]  Set subtractions per set set op\n 92. feature 106 (importance: 0.000000, rel. usage: 0.000732):  [Closure    ]  general concatenations ratio per seq op\n 93. feature 105 (importance: 0.000000, rel. usage: 0.002831):  [Sequences  ]  tail restrictions ratio per seq op\n 94. feature 104 (importance: 0.000000, rel. usage: 0.002756):  [Sequences  ]  front restrictions ratio per seq op\n 95. feature 103 (importance: 0.000000, rel. usage: 0.006561):  [Sequences  ]  tail insertions ratio per seq op\n 96. feature 102 (importance: 0.000000, rel. usage: 0.001730):  [Sequences  ]  front insertions ratio per seq op\n 97. feature 101 (importance: 0.000000, rel. usage: 0.005085):  [Sequences  ]  `concatenation` calls ratio per seq op\n 98. feature  99 (importance: 0.000000, rel. usage: 0.002525):  [Sequences  ]  `reverse` calls ratio per seq op\n 99. feature  96 (importance: 0.000000, rel. usage: 0.006330):  [Sequences  ]  `tail` calls ratio per seq op\n100. feature  94 (importance: 0.000000, rel. usage: 0.000000):  [Sequences  ]  `size` calls ratio per seq op\n"
    }
   ],
   "source": [
    "# Print the feature ranking\n",
    "print(\"Feature ranking:\")\n",
    "\n",
    "pcat_count_top50 = {}\n",
    "pcat_count_top100 = {}\n",
    "for f in range(100):\n",
    "    cat = f109_category(perm_indices[f])\n",
    "    pcat_count_top100[cat] = pcat_count_top100.get(cat, 0) + 1\n",
    "    if f < 50:\n",
    "        pcat_count_top50[cat] = pcat_count_top50.get(cat, 0) + 1\n",
    "    print(\"%3d. feature %3d (importance: %1.6f, rel. usage: %1.6f):  [%-11s]  %s\" % (f + 1, perm_indices[f], perm_importances.importances_mean[perm_indices[f]], rel_feature_uses[perm_indices[f]], cat, f109_name(perm_indices[f])))"
   ]
  },
  {
   "cell_type": "code",
   "execution_count": 26,
   "metadata": {},
   "outputs": [
    {
     "name": "stdout",
     "output_type": "stream",
     "text": "------------ T100  T50   Decline\nLogic      : 1.000 0.909 0.091\nQuantifiers: 1.000 0.500 0.500\nEquality   : 1.000 1.000 0.000\nIdentifiers: 1.000 0.769 0.231\nArithmetic : 1.000 0.500 0.500\nSet theory : 0.944 0.500 0.471\nRelations  : 0.700 0.250 0.643\nFunctions  : 0.909 0.455 0.500\nSequences  : 0.941 0.118 0.875\nClosure    : 1.000 0.000 1.000\n"
    }
   ],
   "source": [
    "print(\"------------ %-5s %-5s Decline\" % (\"T100\", \"T50\"))\n",
    "for cat, count in cat_count_total.items():\n",
    "    top50 = pcat_count_top50.get(cat, 0)\n",
    "    top100 = pcat_count_top100.get(cat, 0)\n",
    "    print(\"%-11s: %.3f %.3f %.3f\" % (cat, top100/count, top50/count, ((top100-top50)/top100) if top100>0 else 0))\n"
   ]
  },
  {
   "cell_type": "markdown",
   "metadata": {},
   "source": [
    "## Top 50/100 comparison between Gini Importance and Permutation Importance"
   ]
  },
  {
   "cell_type": "code",
   "execution_count": 27,
   "metadata": {},
   "outputs": [
    {
     "name": "stdout",
     "output_type": "stream",
     "text": ".             Gini         Permutation\n.             T100  T50    T100  T50  \nLogic      :  1.000 1.000  1.000 0.909\nQuantifiers:  1.000 0.500  1.000 0.500\nEquality   :  1.000 1.000  1.000 1.000\nIdentifiers:  1.000 0.846  1.000 0.769\nArithmetic :  1.000 0.500  1.000 0.500\nSet theory :  0.944 0.444  0.944 0.500\nRelations  :  0.800 0.200  0.700 0.250\nFunctions  :  0.909 0.455  0.909 0.455\nSequences  :  0.882 0.118  0.941 0.118\nClosure    :  0.667 0.000  1.000 0.000\n"
    }
   ],
   "source": [
    "print(\".             Gini         Permutation\")\n",
    "print(\".             %-5s %-5s  %-5s %-5s\" % (\"T100\", \"T50\", \"T100\", \"T50\"))\n",
    "for cat, count in cat_count_total.items():\n",
    "    top50 = cat_count_top50.get(cat, 0)\n",
    "    top100 = cat_count_top100.get(cat, 0)\n",
    "    ptop50 = pcat_count_top50.get(cat, 0)\n",
    "    ptop100 = pcat_count_top100.get(cat, 0)\n",
    "    print(\"%-11s:  %.3f %.3f  %.3f %.3f\" % (cat, top100/count, top50/count, ptop100/count, ptop50/count))\n"
   ]
  },
  {
   "cell_type": "markdown",
   "metadata": {},
   "source": [
    "## Taking a look at the individual decision trees"
   ]
  },
  {
   "cell_type": "code",
   "execution_count": 28,
   "metadata": {},
   "outputs": [],
   "source": [
    "%run feature_stats.py\n",
    "\n",
    "def calc_feature_stats(feature_ids):\n",
    "    \"\"\"Returns a dictionary over the given feature ids as keys.\n",
    "    For each feature, another dictionary with the following structure is returned:\n",
    "        {'rank-gini': rank_gini_importance, 'rank-permutation': rank_permutation_importance,\n",
    "         'tendency': tendency,\n",
    "         'thresholds': {'list': thresholds,\n",
    "                        'avg': avg_threshold,\n",
    "                        'median': median_threshold},\n",
    "         'num_lower_below_threshold': num_left_lower,\n",
    "         'num_lower_above_threshold': num_right_lower}\n",
    "    The entry might be an empty dictionary if the corresponding feature was not used.\n",
    "    \"\"\"\n",
    "    stats = {}\n",
    "    for fid in feature_ids:\n",
    "        rank_gini = np.argwhere(indices == fid)[0][0]+1\n",
    "        rank_perm = np.argwhere(perm_indices == fid)[0][0]+1\n",
    "        thresholds = []\n",
    "        num_left_lower = 0\n",
    "        num_right_lower = 0\n",
    "        for tinfo in ftree_infos:\n",
    "            split_info = tinfo['splits'][fid]\n",
    "            if split_info == {}: continue # Feature not used in this tree.\n",
    "            thresholds.append(split_info['threshold'])\n",
    "            if split_info['unknown_rate'] > split_info['unknown_rate_left']:\n",
    "                num_left_lower += 1\n",
    "            else:\n",
    "                num_right_lower += 1\n",
    "        thresholds.sort()\n",
    "        if (len(thresholds) == 0):\n",
    "            stats[fid] = {}\n",
    "            continue\n",
    "        avg_threshold = sum(thresholds)/len(ftree_infos)\n",
    "        med_threshold = thresholds[len(thresholds)//2]\n",
    "        tendency = num_right_lower - num_left_lower\n",
    "        stats[fid] = {'rank-gini': rank_gini, 'rank-permutation': rank_perm,\n",
    "                      'tendency': tendency, 'thresholds': {'list': thresholds, 'avg': avg_threshold, 'median': med_threshold},\n",
    "                      'num_lower_below_threshold': num_left_lower, 'num_lower_above_threshold': num_right_lower}\n",
    "    return stats\n",
    "\n",
    "\n",
    "def print_feature_stats(feature_stats):\n",
    "    for fid in sorted(feature_stats.keys()):\n",
    "        stats = feature_stats.get(fid)\n",
    "        if stats == {}:\n",
    "            print(f109_name(fid))\n",
    "            print(\"  feature is not used.\")\n",
    "            continue\n",
    "        print(f109_name(fid))\n",
    "        print(\"  - Gini rank no.\", stats['rank-gini'], \"  Perm. rank no.\", stats['rank-permutation'], \"-\")\n",
    "        print(\"  avg threshold: %.3f (min %.3f, max %.3f, median %.3f)\" % (stats['thresholds']['avg'], stats['thresholds']['list'][0], stats['thresholds']['list'][-1], stats['thresholds']['median']))\n",
    "        tendency = stats['tendency']\n",
    "        num_left_lower = stats['num_lower_below_threshold']\n",
    "        num_right_lower = stats['num_lower_above_threshold']\n",
    "        print(\"  %.2f%% of trees observe higher solvability if below threshold, %.2f%% above\" % (100*num_left_lower/len(ftree_infos), 100*num_right_lower/len(ftree_infos)))\n",
    "        print(\"  tendency of %s values for more solvable constraints (tendency value: %d)\" % (\"higher\" if tendency > 0 else \"lower\", tendency))\n",
    "\n",
    "\n",
    "def print_feature_group_stats(features, category_name):\n",
    "    print(\"#\", category_name)\n",
    "    fs = calc_feature_stats(features)\n",
    "    tendencies = [fs[s]['tendency'] for s in fs.keys() if fs[s] != {}]\n",
    "    print(\"  Average tendency:\", sum(tendencies)/len(tendencies))\n",
    "    print_feature_stats(fs)\n",
    "\n"
   ]
  },
  {
   "cell_type": "code",
   "execution_count": 29,
   "metadata": {},
   "outputs": [],
   "source": [
    "forest_trees = forest.estimators_\n",
    "\n",
    "ftree_infos = []\n",
    "\n",
    "for tree in forest_trees:\n",
    "    ftree_infos.append(gather_tree_info(tree))"
   ]
  },
  {
   "cell_type": "markdown",
   "metadata": {},
   "source": [
    "For the top 50 features, what are the thresholds and where do they lead?\n",
    "The tendency values range from -50 to 50 (including) and show how many trees in the forest lead to an answer if the value is below (-50) or above (+50) their respective threshold."
   ]
  },
  {
   "cell_type": "code",
   "execution_count": 30,
   "metadata": {},
   "outputs": [
    {
     "name": "stdout",
     "output_type": "stream",
     "text": "-> Rel ops per conjunct\n  avg threshold: 0.010 (min 0.002, max 0.333, median 0.002)\n  100.00% of trees observe higher solvability if below threshold, 0.00% above\n  tendency of lower values for more solvable constraints (tendency value: -50)\n-> Relational domain ratio of rel ops\n  avg threshold: 0.386 (min 0.010, max 1.000, median 0.500)\n  52.00% of trees observe higher solvability if below threshold, 48.00% above\n  tendency of lower values for more solvable constraints (tendency value: -2)\n-> Functions per conjunct\n  avg threshold: 0.075 (min 0.002, max 0.229, median 0.017)\n  100.00% of trees observe higher solvability if below threshold, 0.00% above\n  tendency of lower values for more solvable constraints (tendency value: -50)\n-> Function var ratio of identifiers\n  avg threshold: 0.107 (min 0.004, max 0.500, median 0.148)\n  78.00% of trees observe higher solvability if below threshold, 22.00% above\n  tendency of lower values for more solvable constraints (tendency value: -28)\n-> avg. power set nesting depth\n  avg threshold: 0.468 (min 0.019, max 0.875, median 0.417)\n  54.00% of trees observe higher solvability if below threshold, 46.00% above\n  tendency of lower values for more solvable constraints (tendency value: -4)\n-> Domain restriction ratio of rel ops\n  avg threshold: 0.741 (min 0.500, max 1.000, median 0.757)\n  16.00% of trees observe higher solvability if below threshold, 84.00% above\n  tendency of higher values for more solvable constraints (tendency value: 34)\n-> #ids with unbounded domains ratio of all identifers, explicit\n  avg threshold: 0.597 (min 0.444, max 1.000, median 0.517)\n  94.00% of trees observe higher solvability if below threshold, 6.00% above\n  tendency of lower values for more solvable constraints (tendency value: -44)\n-> Number of identifiers per conjunct\n  avg threshold: 6.166 (min 0.017, max 48.500, median 0.538)\n  42.00% of trees observe higher solvability if below threshold, 58.00% above\n  tendency of higher values for more solvable constraints (tendency value: 8)\n-> Max conjunct depth per conjunct\n  avg threshold: 2.072 (min 0.500, max 6.731, median 1.583)\n  64.00% of trees observe higher solvability if below threshold, 36.00% above\n  tendency of lower values for more solvable constraints (tendency value: -14)\n-> Function applications per conjunct\n  avg threshold: 0.699 (min 0.003, max 4.000, median 0.500)\n  42.00% of trees observe higher solvability if below threshold, 58.00% above\n  tendency of higher values for more solvable constraints (tendency value: 8)\n-> Quantifiers per conjunct\n  avg threshold: 3.689 (min 0.077, max 4.500, median 4.500)\n  98.00% of trees observe higher solvability if below threshold, 2.00% above\n  tendency of lower values for more solvable constraints (tendency value: -48)\n-> Set inclusions per conjunct\n  avg threshold: 0.461 (min 0.032, max 1.500, median 0.421)\n  10.00% of trees observe higher solvability if below threshold, 90.00% above\n  tendency of higher values for more solvable constraints (tendency value: 40)\n-> Inequality per conjunct\n  avg threshold: 0.690 (min 0.137, max 6.500, median 0.500)\n  58.00% of trees observe higher solvability if below threshold, 42.00% above\n  tendency of lower values for more solvable constraints (tendency value: -8)\n-> Set var ratio of identifiers\n  avg threshold: 0.165 (min 0.052, max 0.667, median 0.162)\n  88.00% of trees observe higher solvability if below threshold, 12.00% above\n  tendency of lower values for more solvable constraints (tendency value: -38)\n-> Arithmetic ops per conjunct\n  avg threshold: 1.789 (min 0.125, max 20.500, median 0.500)\n  22.00% of trees observe higher solvability if below threshold, 78.00% above\n  tendency of higher values for more solvable constraints (tendency value: 28)\n-> \\exists ratio of all quantifiers\n  avg threshold: 0.702 (min 0.250, max 1.000, median 0.500)\n  80.00% of trees observe higher solvability if below threshold, 20.00% above\n  tendency of lower values for more solvable constraints (tendency value: -30)\n-> #identifier relations per id\n  avg threshold: 0.334 (min 0.017, max 0.833, median 0.250)\n  44.00% of trees observe higher solvability if below threshold, 56.00% above\n  tendency of higher values for more solvable constraints (tendency value: 6)\n-> Logic ops per conjunct\n  avg threshold: 2.600 (min 0.003, max 27.500, median 0.500)\n  48.00% of trees observe higher solvability if below threshold, 52.00% above\n  tendency of higher values for more solvable constraints (tendency value: 2)\n-> Equality per conjunct\n  avg threshold: 0.503 (min 0.167, max 0.946, median 0.500)\n  0.00% of trees observe higher solvability if below threshold, 100.00% above\n  tendency of higher values for more solvable constraints (tendency value: 50)\n-> General, partial function ratio over functions\n  avg threshold: 0.609 (min 0.036, max 1.000, median 0.500)\n  54.00% of trees observe higher solvability if below threshold, 46.00% above\n  tendency of lower values for more solvable constraints (tendency value: -4)\n-> #ids with semi-bounded domains ratio of all identifers, explicit\n  avg threshold: 0.570 (min 0.125, max 1.000, median 0.536)\n  8.00% of trees observe higher solvability if below threshold, 92.00% above\n  tendency of higher values for more solvable constraints (tendency value: 42)\n-> Conjunctions per logic ops\n  avg threshold: -1.377 (min -14.500, max 1.000, median 0.500)\n  50.00% of trees observe higher solvability if below threshold, 50.00% above\n  tendency of lower values for more solvable constraints (tendency value: 0)\n-> General, total function ratio over functions\n  avg threshold: 0.769 (min 0.500, max 1.000, median 0.929)\n  56.00% of trees observe higher solvability if below threshold, 44.00% above\n  tendency of lower values for more solvable constraints (tendency value: -6)\n-> Relation var ratio of identifiers\n  avg threshold: 0.111 (min 0.002, max 0.167, median 0.125)\n  100.00% of trees observe higher solvability if below threshold, 0.00% above\n  tendency of lower values for more solvable constraints (tendency value: -50)\n-> Implications per logic ops\n  avg threshold: 0.600 (min 0.027, max 1.000, median 0.500)\n  48.00% of trees observe higher solvability if below threshold, 52.00% above\n  tendency of higher values for more solvable constraints (tendency value: 2)\n-> Disjunctions per logic ops\n  avg threshold: 1.762 (min 0.042, max 10.500, median 0.500)\n  22.00% of trees observe higher solvability if below threshold, 78.00% above\n  tendency of higher values for more solvable constraints (tendency value: 28)\n-> Integer var ratio of identifiers\n  avg threshold: 0.555 (min 0.054, max 1.000, median 0.592)\n  12.00% of trees observe higher solvability if below threshold, 88.00% above\n  tendency of higher values for more solvable constraints (tendency value: 38)\n-> number of negations per conjunct\n  avg threshold: 1.417 (min 0.031, max 5.500, median 0.500)\n  50.00% of trees observe higher solvability if below threshold, 50.00% above\n  tendency of lower values for more solvable constraints (tendency value: 0)\n-> Boolean literals per conjunct\n  avg threshold: 3.329 (min 0.194, max 9.000, median 1.868)\n  70.00% of trees observe higher solvability if below threshold, 30.00% above\n  tendency of lower values for more solvable constraints (tendency value: -20)\n-> Set memberships ratio of set inclusion ops\n  avg threshold: 0.740 (min 0.056, max 1.000, median 0.750)\n  30.00% of trees observe higher solvability if below threshold, 70.00% above\n  tendency of higher values for more solvable constraints (tendency value: 20)\n-> average nesting depth of quantifiers\n  avg threshold: 0.549 (min 0.250, max 0.750, median 0.500)\n  56.00% of trees observe higher solvability if below threshold, 44.00% above\n  tendency of lower values for more solvable constraints (tendency value: -6)\n-> Negative set memberships per set inclusion op\n  avg threshold: 0.597 (min 0.028, max 1.000, median 0.500)\n  56.00% of trees observe higher solvability if below threshold, 44.00% above\n  tendency of lower values for more solvable constraints (tendency value: -6)\n-> #ids with bounded domains ratio of all identifers, symbolic\n  avg threshold: 0.422 (min 0.038, max 1.000, median 0.414)\n  52.00% of trees observe higher solvability if below threshold, 48.00% above\n  tendency of lower values for more solvable constraints (tendency value: -2)\n-> Total amount of sequences per conjunct\n  avg threshold: 0.565 (min 0.022, max 2.500, median 0.500)\n  98.00% of trees observe higher solvability if below threshold, 2.00% above\n  tendency of lower values for more solvable constraints (tendency value: -48)\n-> Powersets per set op\n  avg threshold: 1230000.306 (min 0.118, max 3500000.000, median 1000001.000)\n  70.00% of trees observe higher solvability if below threshold, 30.00% above\n  tendency of lower values for more solvable constraints (tendency value: -20)\n-> Comparissons ratio of arithmetic ops\n  avg threshold: 0.410 (min 0.045, max 1.000, median 0.355)\n  38.00% of trees observe higher solvability if below threshold, 62.00% above\n  tendency of higher values for more solvable constraints (tendency value: 12)\n-> Multiplication ratio of arithmetic ops\n  avg threshold: 0.361 (min 0.038, max 1.000, median 0.377)\n  96.00% of trees observe higher solvability if below threshold, 4.00% above\n  tendency of lower values for more solvable constraints (tendency value: -46)\n-> Addition ratio of arithmetic ops\n  avg threshold: 0.728 (min 0.167, max 1.000, median 0.875)\n  56.00% of trees observe higher solvability if below threshold, 44.00% above\n  tendency of lower values for more solvable constraints (tendency value: -6)\n-> #ids with semi-bounded domains ratio of all identifers, symbolic\n  avg threshold: 0.713 (min 0.167, max 1.000, median 0.798)\n  30.00% of trees observe higher solvability if below threshold, 70.00% above\n  tendency of higher values for more solvable constraints (tendency value: 20)\n-> Number of conjuncts (log2)\n  avg threshold: 2.451 (min 0.500, max 6.313, median 1.792)\n  46.00% of trees observe higher solvability if below threshold, 54.00% above\n  tendency of higher values for more solvable constraints (tendency value: 4)\n-> Powersets per conjunct\n  avg threshold: 0.604 (min 0.056, max 6.000, median 0.236)\n  94.00% of trees observe higher solvability if below threshold, 6.00% above\n  tendency of lower values for more solvable constraints (tendency value: -44)\n-> #ids with unbounded domains ratio of all identifers, symbolic\n  avg threshold: 0.345 (min 0.017, max 1.000, median 0.250)\n  22.00% of trees observe higher solvability if below threshold, 78.00% above\n  tendency of higher values for more solvable constraints (tendency value: 28)\n-> max negation depth per number of negations\n  avg threshold: 0.559 (min 0.183, max 1.000, median 0.500)\n  38.00% of trees observe higher solvability if below threshold, 62.00% above\n  tendency of higher values for more solvable constraints (tendency value: 12)\n-> Set comprehensions per conjunct\n  avg threshold: 0.028 (min 0.006, max 0.250, median 0.012)\n  30.00% of trees observe higher solvability if below threshold, 70.00% above\n  tendency of higher values for more solvable constraints (tendency value: 20)\n-> max negation depth per conjunct\n  avg threshold: 0.392 (min 0.003, max 1.500, median 0.250)\n  34.00% of trees observe higher solvability if below threshold, 66.00% above\n  tendency of higher values for more solvable constraints (tendency value: 16)\n-> Set operations per conjunct\n  avg threshold: 1.118 (min 0.016, max 12.000, median 0.500)\n  84.00% of trees observe higher solvability if below threshold, 16.00% above\n  tendency of lower values for more solvable constraints (tendency value: -34)\n-> Set unions per set set op\n  avg threshold: 0.539 (min 0.125, max 1.000, median 0.500)\n  62.00% of trees observe higher solvability if below threshold, 38.00% above\n  tendency of lower values for more solvable constraints (tendency value: -12)\n-> Equivalences per logic ops\n  avg threshold: 0.231 (min 0.027, max 0.606, median 0.200)\n  44.00% of trees observe higher solvability if below threshold, 56.00% above\n  tendency of higher values for more solvable constraints (tendency value: 6)\n-> Normal sequence ratio of all sequences\n  avg threshold: 0.560 (min 0.500, max 1.000, median 0.500)\n  86.00% of trees observe higher solvability if below threshold, 14.00% above\n  tendency of lower values for more solvable constraints (tendency value: -36)\n-> Injective, partial function ratio over functions\n  avg threshold: 0.824 (min 0.250, max 1.000, median 1.000)\n  52.00% of trees observe higher solvability if below threshold, 48.00% above\n  tendency of lower values for more solvable constraints (tendency value: -2)\n"
    }
   ],
   "source": [
    "for fid in indices[0:50]:\n",
    "    print(\"->\", f109_name(fid))\n",
    "    thresholds = []\n",
    "    num_left_lower = 0\n",
    "    num_right_lower = 0\n",
    "    for tinfo in ftree_infos:\n",
    "        split_info = tinfo['splits'][fid]\n",
    "        if split_info == {}: continue # Feature not used in this tree.\n",
    "        thresholds.append(split_info['threshold'])\n",
    "        if split_info['unknown_rate'] > split_info['unknown_rate_left']:\n",
    "            num_left_lower += 1\n",
    "        else:\n",
    "            num_right_lower += 1\n",
    "    thresholds.sort()\n",
    "    avg_threshold = sum(thresholds)/len(ftree_infos)\n",
    "    med_threshold = thresholds[len(ftree_infos)//2]\n",
    "    print(\"  avg threshold: %.3f (min %.3f, max %.3f, median %.3f)\" % (avg_threshold, thresholds[0], thresholds[-1], med_threshold))\n",
    "    print(\"  %.2f%% of trees observe higher solvability if below threshold, %.2f%% above\" % (100*num_left_lower/len(ftree_infos), 100*num_right_lower/len(ftree_infos)))\n",
    "    tendency = num_right_lower - num_left_lower\n",
    "    print(\"  tendency of %s values for more solvable constraints (tendency value: %d)\" % (\"higher\" if tendency > 0 else \"lower\", tendency))\n"
   ]
  },
  {
   "cell_type": "markdown",
   "metadata": {},
   "source": [
    "We see that certain features, while having high relevancy for classification, display a tendency around 0. \n",
    "But what does that mean regarding their relevancy? Naively it look as the feature is not a language-subset in which the backend performs worse but rather that unknown-results are related to the rest of the predicate. Depending on the random data subset the respective tree was trained on, the threshold might split into better or worse samples."
   ]
  },
  {
   "cell_type": "markdown",
   "metadata": {},
   "source": [
    "### Display of tendencies per category"
   ]
  },
  {
   "cell_type": "code",
   "execution_count": 31,
   "metadata": {},
   "outputs": [
    {
     "name": "stdout",
     "output_type": "stream",
     "text": "# Logic\n  Average tendency: -0.8333333333333334\nNumber of conjuncts (log2)\n  - Gini rank no. 40   Perm. rank no. 40 -\n  avg threshold: 2.451 (min 0.500, max 6.313, median 1.792)\n  46.00% of trees observe higher solvability if below threshold, 54.00% above\n  tendency of higher values for more solvable constraints (tendency value: 4)\nMax conjunct depth per conjunct\n  - Gini rank no. 9   Perm. rank no. 16 -\n  avg threshold: 2.072 (min 0.500, max 6.731, median 1.583)\n  64.00% of trees observe higher solvability if below threshold, 36.00% above\n  tendency of lower values for more solvable constraints (tendency value: -14)\nnumber of negations per conjunct\n  - Gini rank no. 28   Perm. rank no. 33 -\n  avg threshold: 1.417 (min 0.031, max 5.500, median 0.500)\n  50.00% of trees observe higher solvability if below threshold, 50.00% above\n  tendency of lower values for more solvable constraints (tendency value: 0)\nmax negation depth per conjunct\n  - Gini rank no. 45   Perm. rank no. 53 -\n  avg threshold: 0.392 (min 0.003, max 1.500, median 0.250)\n  34.00% of trees observe higher solvability if below threshold, 66.00% above\n  tendency of higher values for more solvable constraints (tendency value: 16)\nmax negation depth per number of negations\n  - Gini rank no. 43   Perm. rank no. 37 -\n  avg threshold: 0.559 (min 0.183, max 1.000, median 0.500)\n  38.00% of trees observe higher solvability if below threshold, 62.00% above\n  tendency of higher values for more solvable constraints (tendency value: 12)\nLogic ops per conjunct\n  - Gini rank no. 18   Perm. rank no. 29 -\n  avg threshold: 2.600 (min 0.003, max 27.500, median 0.500)\n  48.00% of trees observe higher solvability if below threshold, 52.00% above\n  tendency of higher values for more solvable constraints (tendency value: 2)\nConjunctions per logic ops\n  - Gini rank no. 22   Perm. rank no. 39 -\n  avg threshold: -1.377 (min -14.500, max 1.000, median 0.500)\n  50.00% of trees observe higher solvability if below threshold, 50.00% above\n  tendency of lower values for more solvable constraints (tendency value: 0)\nDisjunctions per logic ops\n  - Gini rank no. 26   Perm. rank no. 31 -\n  avg threshold: 1.762 (min 0.042, max 10.500, median 0.500)\n  22.00% of trees observe higher solvability if below threshold, 78.00% above\n  tendency of higher values for more solvable constraints (tendency value: 28)\nImplications per logic ops\n  - Gini rank no. 25   Perm. rank no. 36 -\n  avg threshold: 0.600 (min 0.027, max 1.000, median 0.500)\n  48.00% of trees observe higher solvability if below threshold, 52.00% above\n  tendency of higher values for more solvable constraints (tendency value: 2)\nEquivalences per logic ops\n  - Gini rank no. 48   Perm. rank no. 49 -\n  avg threshold: 0.231 (min 0.027, max 0.606, median 0.200)\n  44.00% of trees observe higher solvability if below threshold, 56.00% above\n  tendency of higher values for more solvable constraints (tendency value: 6)\nBoolean literals per conjunct\n  - Gini rank no. 29   Perm. rank no. 22 -\n  avg threshold: 3.329 (min 0.194, max 9.000, median 1.868)\n  70.00% of trees observe higher solvability if below threshold, 30.00% above\n  tendency of lower values for more solvable constraints (tendency value: -20)\nBoolean conversions per conjunct\n  - Gini rank no. 81   Perm. rank no. 73 -\n  avg threshold: 1.341 (min 0.046, max 2.500, median 1.000)\n  96.00% of trees observe higher solvability if below threshold, 4.00% above\n  tendency of lower values for more solvable constraints (tendency value: -46)\n"
    }
   ],
   "source": [
    "print_feature_group_stats(range(12), \"Logic\")"
   ]
  },
  {
   "cell_type": "code",
   "execution_count": 32,
   "metadata": {},
   "outputs": [
    {
     "name": "stdout",
     "output_type": "stream",
     "text": "# Quantifiers\n  Average tendency: -31.5\nQuantifiers per conjunct\n  - Gini rank no. 11   Perm. rank no. 14 -\n  avg threshold: 3.689 (min 0.077, max 4.500, median 4.500)\n  98.00% of trees observe higher solvability if below threshold, 2.00% above\n  tendency of lower values for more solvable constraints (tendency value: -48)\n\\forall ratio of all quantifiers\n  - Gini rank no. 62   Perm. rank no. 72 -\n  avg threshold: 0.695 (min 0.250, max 1.000, median 0.500)\n  92.00% of trees observe higher solvability if below threshold, 8.00% above\n  tendency of lower values for more solvable constraints (tendency value: -42)\n\\exists ratio of all quantifiers\n  - Gini rank no. 16   Perm. rank no. 41 -\n  avg threshold: 0.702 (min 0.250, max 1.000, median 0.500)\n  80.00% of trees observe higher solvability if below threshold, 20.00% above\n  tendency of lower values for more solvable constraints (tendency value: -30)\naverage nesting depth of quantifiers\n  - Gini rank no. 31   Perm. rank no. 45 -\n  avg threshold: 0.549 (min 0.250, max 0.750, median 0.500)\n  56.00% of trees observe higher solvability if below threshold, 44.00% above\n  tendency of lower values for more solvable constraints (tendency value: -6)\n"
    }
   ],
   "source": [
    "print_feature_group_stats(range(12, 16), \"Quantifiers\") "
   ]
  },
  {
   "cell_type": "code",
   "execution_count": 33,
   "metadata": {},
   "outputs": [
    {
     "name": "stdout",
     "output_type": "stream",
     "text": "# Equality\n  Average tendency: 21.0\nEquality per conjunct\n  - Gini rank no. 19   Perm. rank no. 18 -\n  avg threshold: 0.503 (min 0.167, max 0.946, median 0.500)\n  0.00% of trees observe higher solvability if below threshold, 100.00% above\n  tendency of higher values for more solvable constraints (tendency value: 50)\nInequality per conjunct\n  - Gini rank no. 13   Perm. rank no. 12 -\n  avg threshold: 0.690 (min 0.137, max 6.500, median 0.500)\n  58.00% of trees observe higher solvability if below threshold, 42.00% above\n  tendency of lower values for more solvable constraints (tendency value: -8)\n"
    }
   ],
   "source": [
    "print_feature_group_stats(range(16, 18), \"Equality\") "
   ]
  },
  {
   "cell_type": "code",
   "execution_count": 34,
   "metadata": {},
   "outputs": [
    {
     "name": "stdout",
     "output_type": "stream",
     "text": "# Identifiers\n  Average tendency: 0.9230769230769231\nNumber of identifiers per conjunct\n  - Gini rank no. 8   Perm. rank no. 8 -\n  avg threshold: 6.166 (min 0.017, max 48.500, median 0.538)\n  42.00% of trees observe higher solvability if below threshold, 58.00% above\n  tendency of higher values for more solvable constraints (tendency value: 8)\nInteger var ratio of identifiers\n  - Gini rank no. 27   Perm. rank no. 28 -\n  avg threshold: 0.555 (min 0.054, max 1.000, median 0.592)\n  12.00% of trees observe higher solvability if below threshold, 88.00% above\n  tendency of higher values for more solvable constraints (tendency value: 38)\nBoolean var ratio of identifiers\n  - Gini rank no. 53   Perm. rank no. 69 -\n  avg threshold: 0.326 (min 0.018, max 0.937, median 0.181)\n  24.00% of trees observe higher solvability if below threshold, 76.00% above\n  tendency of higher values for more solvable constraints (tendency value: 26)\nSet var ratio of identifiers\n  - Gini rank no. 14   Perm. rank no. 4 -\n  avg threshold: 0.165 (min 0.052, max 0.667, median 0.162)\n  88.00% of trees observe higher solvability if below threshold, 12.00% above\n  tendency of lower values for more solvable constraints (tendency value: -38)\nRelation var ratio of identifiers\n  - Gini rank no. 24   Perm. rank no. 46 -\n  avg threshold: 0.111 (min 0.002, max 0.167, median 0.125)\n  100.00% of trees observe higher solvability if below threshold, 0.00% above\n  tendency of lower values for more solvable constraints (tendency value: -50)\nFunction var ratio of identifiers\n  - Gini rank no. 4   Perm. rank no. 5 -\n  avg threshold: 0.107 (min 0.004, max 0.500, median 0.148)\n  78.00% of trees observe higher solvability if below threshold, 22.00% above\n  tendency of lower values for more solvable constraints (tendency value: -28)\n#identifier relations per id\n  - Gini rank no. 17   Perm. rank no. 32 -\n  avg threshold: 0.334 (min 0.017, max 0.833, median 0.250)\n  44.00% of trees observe higher solvability if below threshold, 56.00% above\n  tendency of higher values for more solvable constraints (tendency value: 6)\n#ids with bounded domains ratio of all identifers, symbolic\n  - Gini rank no. 33   Perm. rank no. 47 -\n  avg threshold: 0.422 (min 0.038, max 1.000, median 0.414)\n  52.00% of trees observe higher solvability if below threshold, 48.00% above\n  tendency of lower values for more solvable constraints (tendency value: -2)\n#ids with bounded domains ratio of all identifers, explicit\n  - Gini rank no. 59   Perm. rank no. 56 -\n  avg threshold: 0.208 (min 0.011, max 0.750, median 0.191)\n  44.00% of trees observe higher solvability if below threshold, 56.00% above\n  tendency of higher values for more solvable constraints (tendency value: 6)\n#ids with semi-bounded domains ratio of all identifers, symbolic\n  - Gini rank no. 39   Perm. rank no. 48 -\n  avg threshold: 0.713 (min 0.167, max 1.000, median 0.798)\n  30.00% of trees observe higher solvability if below threshold, 70.00% above\n  tendency of higher values for more solvable constraints (tendency value: 20)\n#ids with semi-bounded domains ratio of all identifers, explicit\n  - Gini rank no. 21   Perm. rank no. 44 -\n  avg threshold: 0.570 (min 0.125, max 1.000, median 0.536)\n  8.00% of trees observe higher solvability if below threshold, 92.00% above\n  tendency of higher values for more solvable constraints (tendency value: 42)\n#ids with unbounded domains ratio of all identifers, symbolic\n  - Gini rank no. 42   Perm. rank no. 52 -\n  avg threshold: 0.345 (min 0.017, max 1.000, median 0.250)\n  22.00% of trees observe higher solvability if below threshold, 78.00% above\n  tendency of higher values for more solvable constraints (tendency value: 28)\n#ids with unbounded domains ratio of all identifers, explicit\n  - Gini rank no. 7   Perm. rank no. 6 -\n  avg threshold: 0.597 (min 0.444, max 1.000, median 0.517)\n  94.00% of trees observe higher solvability if below threshold, 6.00% above\n  tendency of lower values for more solvable constraints (tendency value: -44)\n"
    }
   ],
   "source": [
    "print_feature_group_stats(range(18, 31), \"Identifiers\") "
   ]
  },
  {
   "cell_type": "code",
   "execution_count": 35,
   "metadata": {},
   "outputs": [
    {
     "name": "stdout",
     "output_type": "stream",
     "text": "# Arithmetic\n  Average tendency: -12.0\nArithmetic ops per conjunct\n  - Gini rank no. 15   Perm. rank no. 9 -\n  avg threshold: 1.789 (min 0.125, max 20.500, median 0.500)\n  22.00% of trees observe higher solvability if below threshold, 78.00% above\n  tendency of higher values for more solvable constraints (tendency value: 28)\nAddition ratio of arithmetic ops\n  - Gini rank no. 38   Perm. rank no. 42 -\n  avg threshold: 0.728 (min 0.167, max 1.000, median 0.875)\n  56.00% of trees observe higher solvability if below threshold, 44.00% above\n  tendency of lower values for more solvable constraints (tendency value: -6)\nMultiplication ratio of arithmetic ops\n  - Gini rank no. 37   Perm. rank no. 23 -\n  avg threshold: 0.361 (min 0.038, max 1.000, median 0.377)\n  96.00% of trees observe higher solvability if below threshold, 4.00% above\n  tendency of lower values for more solvable constraints (tendency value: -46)\nDivision ratio of arithmetic ops\n  - Gini rank no. 65   Perm. rank no. 64 -\n  avg threshold: 0.450 (min 0.018, max 1.000, median 0.500)\n  10.00% of trees observe higher solvability if below threshold, 90.00% above\n  tendency of higher values for more solvable constraints (tendency value: 40)\nModulo ratio of arithmetic ops\n  - Gini rank no. 70   Perm. rank no. 61 -\n  avg threshold: 0.292 (min 0.016, max 0.583, median 0.250)\n  66.00% of trees observe higher solvability if below threshold, 34.00% above\n  tendency of lower values for more solvable constraints (tendency value: -16)\nComparissons ratio of arithmetic ops\n  - Gini rank no. 36   Perm. rank no. 17 -\n  avg threshold: 0.410 (min 0.045, max 1.000, median 0.355)\n  38.00% of trees observe higher solvability if below threshold, 62.00% above\n  tendency of higher values for more solvable constraints (tendency value: 12)\nGeneral sum ratio of arithmetic ops\n  - Gini rank no. 73   Perm. rank no. 57 -\n  avg threshold: 0.116 (min 0.091, max 0.500, median 0.091)\n  100.00% of trees observe higher solvability if below threshold, 0.00% above\n  tendency of lower values for more solvable constraints (tendency value: -50)\nGeneral prod ratio of arithmetic ops\n  - Gini rank no. 71   Perm. rank no. 66 -\n  avg threshold: 0.138 (min 0.004, max 0.500, median 0.091)\n  100.00% of trees observe higher solvability if below threshold, 0.00% above\n  tendency of lower values for more solvable constraints (tendency value: -50)\n`succ` ratio of arithmetic ops\n  - Gini rank no. 95   Perm. rank no. 90 -\n  avg threshold: 0.043 (min 0.042, max 0.091, median 0.080)\n  56.00% of trees observe higher solvability if below threshold, 6.00% above\n  tendency of lower values for more solvable constraints (tendency value: -25)\n`pred` ratio of arithmetic ops\n  - Gini rank no. 87   Perm. rank no. 74 -\n  avg threshold: 0.691 (min 0.200, max 1.000, median 0.833)\n  56.00% of trees observe higher solvability if below threshold, 42.00% above\n  tendency of lower values for more solvable constraints (tendency value: -7)\n"
    }
   ],
   "source": [
    "print_feature_group_stats(range(31, 41), \"Arithmetic\") "
   ]
  },
  {
   "cell_type": "code",
   "execution_count": 36,
   "metadata": {},
   "outputs": [
    {
     "name": "stdout",
     "output_type": "stream",
     "text": "# Set theory\n  Average tendency: -10.176470588235293\nSet inclusions per conjunct\n  - Gini rank no. 12   Perm. rank no. 10 -\n  avg threshold: 0.461 (min 0.032, max 1.500, median 0.421)\n  10.00% of trees observe higher solvability if below threshold, 90.00% above\n  tendency of higher values for more solvable constraints (tendency value: 40)\nSet operations per conjunct\n  - Gini rank no. 46   Perm. rank no. 11 -\n  avg threshold: 1.118 (min 0.016, max 12.000, median 0.500)\n  84.00% of trees observe higher solvability if below threshold, 16.00% above\n  tendency of lower values for more solvable constraints (tendency value: -34)\nSet comprehensions per conjunct\n  - Gini rank no. 44   Perm. rank no. 21 -\n  avg threshold: 0.028 (min 0.006, max 0.250, median 0.012)\n  30.00% of trees observe higher solvability if below threshold, 70.00% above\n  tendency of higher values for more solvable constraints (tendency value: 20)\nSet memberships ratio of set inclusion ops\n  - Gini rank no. 30   Perm. rank no. 26 -\n  avg threshold: 0.740 (min 0.056, max 1.000, median 0.750)\n  30.00% of trees observe higher solvability if below threshold, 70.00% above\n  tendency of higher values for more solvable constraints (tendency value: 20)\nNegative set memberships per set inclusion op\n  - Gini rank no. 32   Perm. rank no. 35 -\n  avg threshold: 0.597 (min 0.028, max 1.000, median 0.500)\n  56.00% of trees observe higher solvability if below threshold, 44.00% above\n  tendency of lower values for more solvable constraints (tendency value: -6)\nSubsets per set inclusion op\n  - Gini rank no. 51   Perm. rank no. 27 -\n  avg threshold: 0.369 (min 0.036, max 1.000, median 0.250)\n  84.00% of trees observe higher solvability if below threshold, 16.00% above\n  tendency of lower values for more solvable constraints (tendency value: -34)\nStrict subsets per set inclusion op\n  - Gini rank no. 55   Perm. rank no. 59 -\n  avg threshold: 0.356 (min 0.083, max 0.750, median 0.367)\n  70.00% of trees observe higher solvability if below threshold, 30.00% above\n  tendency of lower values for more solvable constraints (tendency value: -20)\nSet unions per set set op\n  - Gini rank no. 47   Perm. rank no. 24 -\n  avg threshold: 0.539 (min 0.125, max 1.000, median 0.500)\n  62.00% of trees observe higher solvability if below threshold, 38.00% above\n  tendency of lower values for more solvable constraints (tendency value: -12)\nIntersections per set set op\n  - Gini rank no. 57   Perm. rank no. 60 -\n  avg threshold: 0.543 (min 0.038, max 1.000, median 0.500)\n  58.00% of trees observe higher solvability if below threshold, 42.00% above\n  tendency of lower values for more solvable constraints (tendency value: -8)\nSet subtractions per set set op\n  feature is not used.\nGeneral set unions per set set op\n  - Gini rank no. 72   Perm. rank no. 68 -\n  avg threshold: 0.196 (min 0.002, max 0.292, median 0.250)\n  44.00% of trees observe higher solvability if below threshold, 56.00% above\n  tendency of higher values for more solvable constraints (tendency value: 6)\nGeneral intersections per set set op\n  - Gini rank no. 82   Perm. rank no. 82 -\n  avg threshold: 0.225 (min 0.091, max 0.417, median 0.250)\n  30.00% of trees observe higher solvability if below threshold, 70.00% above\n  tendency of higher values for more solvable constraints (tendency value: 20)\nQuantified set unions per set set op\n  - Gini rank no. 68   Perm. rank no. 88 -\n  avg threshold: 0.099 (min 0.002, max 0.417, median 0.062)\n  80.00% of trees observe higher solvability if below threshold, 18.00% above\n  tendency of lower values for more solvable constraints (tendency value: -31)\nQuantified intersections per set set op\n  - Gini rank no. 84   Perm. rank no. 109 -\n  avg threshold: 0.058 (min 0.002, max 0.125, median 0.125)\n  60.00% of trees observe higher solvability if below threshold, 0.00% above\n  tendency of lower values for more solvable constraints (tendency value: -30)\nPowersets per conjunct\n  - Gini rank no. 41   Perm. rank no. 7 -\n  avg threshold: 0.604 (min 0.056, max 6.000, median 0.236)\n  94.00% of trees observe higher solvability if below threshold, 6.00% above\n  tendency of lower values for more solvable constraints (tendency value: -44)\nNested Powerset ration of powersets\n  - Gini rank no. 74   Perm. rank no. 71 -\n  avg threshold: 0.173 (min 0.125, max 0.500, median 0.125)\n  86.00% of trees observe higher solvability if below threshold, 14.00% above\n  tendency of lower values for more solvable constraints (tendency value: -36)\nPowersets per set op\n  - Gini rank no. 35   Perm. rank no. 15 -\n  avg threshold: 1230000.306 (min 0.118, max 3500000.000, median 1000001.000)\n  70.00% of trees observe higher solvability if below threshold, 30.00% above\n  tendency of lower values for more solvable constraints (tendency value: -20)\navg. power set nesting depth\n  - Gini rank no. 5   Perm. rank no. 3 -\n  avg threshold: 0.468 (min 0.019, max 0.875, median 0.417)\n  54.00% of trees observe higher solvability if below threshold, 46.00% above\n  tendency of lower values for more solvable constraints (tendency value: -4)\n"
    }
   ],
   "source": [
    "print_feature_group_stats(range(41, 59), \"Set theory\") "
   ]
  },
  {
   "cell_type": "code",
   "execution_count": 37,
   "metadata": {},
   "outputs": [
    {
     "name": "stdout",
     "output_type": "stream",
     "text": "# Relations\n  Average tendency: 0.47058823529411764\nRelations per conjunct\n  - Gini rank no. 54   Perm. rank no. 51 -\n  avg threshold: 0.524 (min 0.200, max 1.875, median 0.417)\n  66.00% of trees observe higher solvability if below threshold, 34.00% above\n  tendency of lower values for more solvable constraints (tendency value: -16)\nRel ops per conjunct\n  - Gini rank no. 1   Perm. rank no. 1 -\n  avg threshold: 0.010 (min 0.002, max 0.333, median 0.002)\n  100.00% of trees observe higher solvability if below threshold, 0.00% above\n  tendency of lower values for more solvable constraints (tendency value: -50)\nGeneral relations ratio of all relations\n  - Gini rank no. 58   Perm. rank no. 54 -\n  avg threshold: 0.530 (min 0.500, max 1.000, median 0.500)\n  60.00% of trees observe higher solvability if below threshold, 40.00% above\n  tendency of lower values for more solvable constraints (tendency value: -10)\nTotal relations ratio of all relations\n  feature is not used.\nSurjective relations ratio of all relations\n  - Gini rank no. 98   Perm. rank no. 107 -\n  avg threshold: 0.150 (min 0.500, max 0.500, median 0.500)\n  30.00% of trees observe higher solvability if below threshold, 0.00% above\n  tendency of lower values for more solvable constraints (tendency value: -15)\nBijective relations ratio of all relations\n  feature is not used.\nRelational images ratio of rel ops\n  - Gini rank no. 66   Perm. rank no. 63 -\n  avg threshold: 0.479 (min 0.143, max 1.000, median 0.500)\n  44.00% of trees observe higher solvability if below threshold, 56.00% above\n  tendency of higher values for more solvable constraints (tendency value: 6)\nRelational inversions ratio of rel ops\n  - Gini rank no. 67   Perm. rank no. 81 -\n  avg threshold: 0.498 (min 0.125, max 0.875, median 0.500)\n  44.00% of trees observe higher solvability if below threshold, 56.00% above\n  tendency of higher values for more solvable constraints (tendency value: 6)\nRelational overrides ratio of rel ops\n  - Gini rank no. 69   Perm. rank no. 65 -\n  avg threshold: 0.639 (min 0.071, max 1.000, median 0.500)\n  36.00% of trees observe higher solvability if below threshold, 64.00% above\n  tendency of higher values for more solvable constraints (tendency value: 14)\nDirect products ratio of rel ops\n  feature is not used.\nParallel products ratio of rel ops\n  - Gini rank no. 101   Perm. rank no. 104 -\n  avg threshold: 0.000 (min 0.018, max 0.018, median 0.018)\n  2.00% of trees observe higher solvability if below threshold, 0.00% above\n  tendency of lower values for more solvable constraints (tendency value: -1)\nRelational domain ratio of rel ops\n  - Gini rank no. 2   Perm. rank no. 34 -\n  avg threshold: 0.386 (min 0.010, max 1.000, median 0.500)\n  52.00% of trees observe higher solvability if below threshold, 48.00% above\n  tendency of lower values for more solvable constraints (tendency value: -2)\nRelational range ratio of rel ops\n  - Gini rank no. 56   Perm. rank no. 50 -\n  avg threshold: 0.676 (min 0.250, max 1.000, median 0.500)\n  42.00% of trees observe higher solvability if below threshold, 58.00% above\n  tendency of higher values for more solvable constraints (tendency value: 8)\nprj1 ratio of rel ops\n  - Gini rank no. 94   Perm. rank no. 103 -\n  avg threshold: 0.230 (min 0.167, max 0.750, median 0.500)\n  24.00% of trees observe higher solvability if below threshold, 26.00% above\n  tendency of higher values for more solvable constraints (tendency value: 1)\nprj2 ratio of rel ops\n  - Gini rank no. 93   Perm. rank no. 85 -\n  avg threshold: 0.540 (min 0.125, max 1.000, median 0.750)\n  8.00% of trees observe higher solvability if below threshold, 70.00% above\n  tendency of higher values for more solvable constraints (tendency value: 31)\nforward composition ratio of rel ops\n  - Gini rank no. 75   Perm. rank no. 62 -\n  avg threshold: 0.594 (min 0.067, max 1.000, median 0.633)\n  38.00% of trees observe higher solvability if below threshold, 62.00% above\n  tendency of higher values for more solvable constraints (tendency value: 12)\nDomain restriction ratio of rel ops\n  - Gini rank no. 6   Perm. rank no. 13 -\n  avg threshold: 0.741 (min 0.500, max 1.000, median 0.757)\n  16.00% of trees observe higher solvability if below threshold, 84.00% above\n  tendency of higher values for more solvable constraints (tendency value: 34)\nDomain subtraction ratio of rel ops\n  - Gini rank no. 77   Perm. rank no. 78 -\n  avg threshold: 0.485 (min 0.167, max 0.750, median 0.500)\n  76.00% of trees observe higher solvability if below threshold, 24.00% above\n  tendency of lower values for more solvable constraints (tendency value: -26)\nRange restriction ratio of rel ops\n  - Gini rank no. 88   Perm. rank no. 87 -\n  avg threshold: 0.439 (min 0.100, max 0.500, median 0.500)\n  78.00% of trees observe higher solvability if below threshold, 22.00% above\n  tendency of lower values for more solvable constraints (tendency value: -28)\nRange subtraction ratio of rel ops\n  - Gini rank no. 79   Perm. rank no. 75 -\n  avg threshold: 0.495 (min 0.167, max 0.833, median 0.500)\n  6.00% of trees observe higher solvability if below threshold, 94.00% above\n  tendency of higher values for more solvable constraints (tendency value: 44)\n"
    }
   ],
   "source": [
    "print_feature_group_stats(range(59, 79), \"Relations\") "
   ]
  },
  {
   "cell_type": "code",
   "execution_count": 38,
   "metadata": {},
   "outputs": [
    {
     "name": "stdout",
     "output_type": "stream",
     "text": "# Functions\n  Average tendency: -10.4\nFunctions per conjunct\n  - Gini rank no. 3   Perm. rank no. 2 -\n  avg threshold: 0.075 (min 0.002, max 0.229, median 0.017)\n  100.00% of trees observe higher solvability if below threshold, 0.00% above\n  tendency of lower values for more solvable constraints (tendency value: -50)\nFunction applications per conjunct\n  - Gini rank no. 10   Perm. rank no. 19 -\n  avg threshold: 0.699 (min 0.003, max 4.000, median 0.500)\n  42.00% of trees observe higher solvability if below threshold, 58.00% above\n  tendency of higher values for more solvable constraints (tendency value: 8)\nGeneral, partial function ratio over functions\n  - Gini rank no. 20   Perm. rank no. 20 -\n  avg threshold: 0.609 (min 0.036, max 1.000, median 0.500)\n  54.00% of trees observe higher solvability if below threshold, 46.00% above\n  tendency of lower values for more solvable constraints (tendency value: -4)\nGeneral, total function ratio over functions\n  - Gini rank no. 23   Perm. rank no. 25 -\n  avg threshold: 0.769 (min 0.500, max 1.000, median 0.929)\n  56.00% of trees observe higher solvability if below threshold, 44.00% above\n  tendency of lower values for more solvable constraints (tendency value: -6)\nInjective, partial function ratio over functions\n  - Gini rank no. 50   Perm. rank no. 43 -\n  avg threshold: 0.824 (min 0.250, max 1.000, median 1.000)\n  52.00% of trees observe higher solvability if below threshold, 48.00% above\n  tendency of lower values for more solvable constraints (tendency value: -2)\nInjective, total function ratio over functions\n  - Gini rank no. 64   Perm. rank no. 70 -\n  avg threshold: 0.298 (min 0.050, max 1.000, median 0.250)\n  76.00% of trees observe higher solvability if below threshold, 24.00% above\n  tendency of lower values for more solvable constraints (tendency value: -26)\nSurjective, partial function ratio over functions\n  - Gini rank no. 61   Perm. rank no. 58 -\n  avg threshold: 0.522 (min 0.062, max 1.000, median 0.500)\n  64.00% of trees observe higher solvability if below threshold, 36.00% above\n  tendency of lower values for more solvable constraints (tendency value: -14)\nSurjective, total function ratio over functions\n  - Gini rank no. 80   Perm. rank no. 76 -\n  avg threshold: 0.675 (min 0.100, max 1.000, median 0.900)\n  20.00% of trees observe higher solvability if below threshold, 80.00% above\n  tendency of higher values for more solvable constraints (tendency value: 30)\nBijective, partial function ratio over functions\n  feature is not used.\nBijective, total function ratio over functions\n  - Gini rank no. 60   Perm. rank no. 77 -\n  avg threshold: 0.429 (min 0.062, max 1.000, median 0.500)\n  74.00% of trees observe higher solvability if below threshold, 26.00% above\n  tendency of lower values for more solvable constraints (tendency value: -24)\nLambda-expression ratio over functions\n  - Gini rank no. 63   Perm. rank no. 79 -\n  avg threshold: 0.402 (min 0.071, max 1.000, median 0.417)\n  66.00% of trees observe higher solvability if below threshold, 34.00% above\n  tendency of lower values for more solvable constraints (tendency value: -16)\n"
    }
   ],
   "source": [
    "print_feature_group_stats(range(79, 90), \"Functions\") "
   ]
  },
  {
   "cell_type": "code",
   "execution_count": 39,
   "metadata": {},
   "outputs": [
    {
     "name": "stdout",
     "output_type": "stream",
     "text": "# Sequences\n  Average tendency: -28.6\nTotal amount of sequences per conjunct\n  - Gini rank no. 34   Perm. rank no. 30 -\n  avg threshold: 0.565 (min 0.022, max 2.500, median 0.500)\n  98.00% of trees observe higher solvability if below threshold, 2.00% above\n  tendency of lower values for more solvable constraints (tendency value: -48)\nSeq ops per conjunct\n  - Gini rank no. 52   Perm. rank no. 38 -\n  avg threshold: 0.425 (min 0.250, max 1.500, median 0.250)\n  100.00% of trees observe higher solvability if below threshold, 0.00% above\n  tendency of lower values for more solvable constraints (tendency value: -50)\nNormal sequence ratio of all sequences\n  - Gini rank no. 49   Perm. rank no. 55 -\n  avg threshold: 0.560 (min 0.500, max 1.000, median 0.500)\n  86.00% of trees observe higher solvability if below threshold, 14.00% above\n  tendency of lower values for more solvable constraints (tendency value: -36)\nInjective sequence ratio of all sequences\n  feature is not used.\n`size` calls ratio per seq op\n  feature is not used.\n`first` calls ratio per seq op\n  - Gini rank no. 85   Perm. rank no. 86 -\n  avg threshold: 0.556 (min 0.200, max 1.000, median 0.500)\n  94.00% of trees observe higher solvability if below threshold, 6.00% above\n  tendency of lower values for more solvable constraints (tendency value: -44)\n`tail` calls ratio per seq op\n  - Gini rank no. 83   Perm. rank no. 99 -\n  avg threshold: 0.406 (min 0.100, max 0.500, median 0.500)\n  100.00% of trees observe higher solvability if below threshold, 0.00% above\n  tendency of lower values for more solvable constraints (tendency value: -50)\n`last` calls ratio per seq op\n  - Gini rank no. 78   Perm. rank no. 84 -\n  avg threshold: 0.276 (min 0.038, max 1.000, median 0.200)\n  96.00% of trees observe higher solvability if below threshold, 4.00% above\n  tendency of lower values for more solvable constraints (tendency value: -46)\n`front` calls ratio per seq op\n  - Gini rank no. 90   Perm. rank no. 80 -\n  avg threshold: 0.584 (min 0.038, max 0.750, median 0.750)\n  18.00% of trees observe higher solvability if below threshold, 78.00% above\n  tendency of higher values for more solvable constraints (tendency value: 30)\n`reverse` calls ratio per seq op\n  - Gini rank no. 91   Perm. rank no. 98 -\n  avg threshold: 0.407 (min 0.118, max 0.500, median 0.500)\n  88.00% of trees observe higher solvability if below threshold, 0.00% above\n  tendency of lower values for more solvable constraints (tendency value: -44)\n`permutation` calls ratio per seq op\n  - Gini rank no. 86   Perm. rank no. 83 -\n  avg threshold: 0.440 (min 0.095, max 0.750, median 0.500)\n  92.00% of trees observe higher solvability if below threshold, 6.00% above\n  tendency of lower values for more solvable constraints (tendency value: -43)\n`concatenation` calls ratio per seq op\n  - Gini rank no. 92   Perm. rank no. 97 -\n  avg threshold: 0.153 (min 0.091, max 0.500, median 0.091)\n  72.00% of trees observe higher solvability if below threshold, 0.00% above\n  tendency of lower values for more solvable constraints (tendency value: -36)\nfront insertions ratio per seq op\n  - Gini rank no. 100   Perm. rank no. 96 -\n  avg threshold: 0.083 (min 0.167, max 0.500, median 0.500)\n  18.00% of trees observe higher solvability if below threshold, 0.00% above\n  tendency of lower values for more solvable constraints (tendency value: -9)\ntail insertions ratio per seq op\n  - Gini rank no. 89   Perm. rank no. 95 -\n  avg threshold: 0.483 (min 0.038, max 0.750, median 0.500)\n  70.00% of trees observe higher solvability if below threshold, 30.00% above\n  tendency of lower values for more solvable constraints (tendency value: -20)\nfront restrictions ratio per seq op\n  - Gini rank no. 97   Perm. rank no. 94 -\n  avg threshold: 0.031 (min 0.091, max 0.500, median 0.091)\n  22.00% of trees observe higher solvability if below threshold, 0.00% above\n  tendency of lower values for more solvable constraints (tendency value: -11)\ntail restrictions ratio per seq op\n  - Gini rank no. 96   Perm. rank no. 93 -\n  avg threshold: 0.041 (min 0.091, max 0.167, median 0.091)\n  38.00% of trees observe higher solvability if below threshold, 0.00% above\n  tendency of lower values for more solvable constraints (tendency value: -19)\ngeneral concatenations ratio per seq op\n  - Gini rank no. 102   Perm. rank no. 92 -\n  avg threshold: 0.020 (min 0.250, max 0.500, median 0.250)\n  6.00% of trees observe higher solvability if below threshold, 0.00% above\n  tendency of lower values for more solvable constraints (tendency value: -3)\n"
    }
   ],
   "source": [
    "print_feature_group_stats(range(90, 107), \"Sequences\") "
   ]
  },
  {
   "cell_type": "code",
   "execution_count": 40,
   "metadata": {},
   "outputs": [
    {
     "name": "stdout",
     "output_type": "stream",
     "text": "# Closure and Iterate\n  Average tendency: -28.0\nnumber of closures per conjunct\n  - Gini rank no. 76   Perm. rank no. 67 -\n  avg threshold: 0.213 (min 0.045, max 0.833, median 0.071)\n  96.00% of trees observe higher solvability if below threshold, 4.00% above\n  tendency of lower values for more solvable constraints (tendency value: -46)\nnumber of iterations per conjunct\n  - Gini rank no. 99   Perm. rank no. 89 -\n  avg threshold: 0.150 (min 0.500, max 1.000, median 1.000)\n  20.00% of trees observe higher solvability if below threshold, 0.00% above\n  tendency of lower values for more solvable constraints (tendency value: -10)\n"
    }
   ],
   "source": [
    "print_feature_group_stats(range(107, 109), \"Closure and Iterate\")"
   ]
  },
  {
   "cell_type": "markdown",
   "metadata": {},
   "source": [
    "### Gather information over the learned rules with inTrees"
   ]
  },
  {
   "cell_type": "code",
   "execution_count": 0,
   "metadata": {},
   "outputs": [],
   "source": [
    "%run intrees.py"
   ]
  },
  {
   "cell_type": "code",
   "execution_count": 0,
   "metadata": {},
   "outputs": [],
   "source": [
    "extracted_rules = extract_rules(forest)"
   ]
  },
  {
   "cell_type": "markdown",
   "metadata": {},
   "source": [
    "How many rules did we collect?"
   ]
  },
  {
   "cell_type": "code",
   "execution_count": 0,
   "metadata": {},
   "outputs": [],
   "source": [
    "rule_count = 0\n",
    "for tree in forest.estimators_:\n",
    "    rule_set = extracted_rules[tree]\n",
    "    rule_count += len(rule_set)\n",
    "rule_count"
   ]
  },
  {
   "cell_type": "markdown",
   "metadata": {},
   "source": [
    "How many conditions can we collect?"
   ]
  },
  {
   "cell_type": "code",
   "execution_count": 0,
   "metadata": {},
   "outputs": [],
   "source": [
    "extracted_conds = extract_conditions(forest, max_depth=15)"
   ]
  },
  {
   "cell_type": "code",
   "execution_count": 0,
   "metadata": {},
   "outputs": [],
   "source": [
    "cond_count = 0\n",
    "for tree in forest.estimators_:\n",
    "    conds = extracted_conds[tree]\n",
    "    cond_count += len(conds)\n",
    "cond_count"
   ]
  },
  {
   "cell_type": "code",
   "execution_count": 0,
   "metadata": {},
   "outputs": [],
   "source": [
    "avg_rule_length = 0\n",
    "avg_rule_error = 0\n",
    "avg_rule_freq = 0\n",
    "\n",
    "annotated_rules = [] # Tuples (rule, frequency, error, length, tree)\n",
    "\n",
    "for tree in forest.estimators_:\n",
    "    rule_set = extracted_rules[tree]\n",
    "    for rule in rule_set:\n",
    "        rl = rule_length(tree, rule)\n",
    "        re = rule_error(tree, rule)\n",
    "        rf = rule_frequency(tree, rule)\n",
    "        avg_rule_length += rl\n",
    "        avg_rule_error += re\n",
    "        avg_rule_freq += rf\n",
    "        annotated_rules += [(rule, rf, re, rl, tree)]\n",
    "\n",
    "avg_rule_error /= rule_count\n",
    "avg_rule_length /= rule_count\n",
    "avg_rule_freq /= rule_count\n",
    "\n",
    "print(\"Avg frequency:\", avg_rule_freq)\n",
    "print(\"Avg error:\", avg_rule_error)\n",
    "print(\"Avg length:\", avg_rule_length)"
   ]
  },
  {
   "cell_type": "code",
   "execution_count": 0,
   "metadata": {},
   "outputs": [],
   "source": [
    "def pretty_print_rule(rule):\n",
    "    cond, target = rule\n",
    "    for (_, fid, thresh, leq) in cond:\n",
    "        comp_sign = \"<=\" if leq else \">\"\n",
    "        print(\"# %3d: %s %s %.3f\" % (fid, f109_name(fid), comp_sign, thresh))\n",
    "    print(\"=> %d\" % target)"
   ]
  },
  {
   "cell_type": "code",
   "execution_count": 0,
   "metadata": {},
   "outputs": [],
   "source": [
    "# Top 10 rules sorted by frequency, length, and error\n",
    "for ranked_rule in sorted(annotated_rules, key = lambda r: (1/r[1], 1/r[3], r[2]))[0:10]:\n",
    "    pretty_print_rule(ranked_rule[0])\n",
    "    print(\"Freq.: %f, error: %f, length: %d\" % (ranked_rule[1], ranked_rule[2], ranked_rule[3]))\n",
    "    print()"
   ]
  },
  {
   "cell_type": "code",
   "execution_count": 0,
   "metadata": {},
   "outputs": [],
   "source": [
    "# Prints the first five rules for unkown\n",
    "count = 0\n",
    "for ranked_rule in sorted(annotated_rules, key = lambda r: (1/r[1], 1/r[3], r[2])):\n",
    "    rule = ranked_rule[0]\n",
    "    if rule[1] == 0:\n",
    "        pretty_print_rule(rule)\n",
    "        print()\n",
    "        count += 1\n",
    "    if count >= 5: break\n",
    "        "
   ]
  },
  {
   "cell_type": "markdown",
   "metadata": {},
   "source": [
    "Further, we will investigate only the rules which concern themselves with negative outcomes."
   ]
  },
  {
   "cell_type": "code",
   "execution_count": 0,
   "metadata": {},
   "outputs": [],
   "source": [
    "neg_rules = []\n",
    "for tree in extracted_rules:\n",
    "    neg_rules += [(c, o) for (c, o) in extracted_rules[tree] if o == 0]\n",
    "len(neg_rules)"
   ]
  },
  {
   "cell_type": "code",
   "execution_count": 0,
   "metadata": {},
   "outputs": [],
   "source": [
    "# This calculates the support and confidence of each rule **restricted onto the longest 5000 rules***\n",
    "max_depth = 10 # Only considering first 10 items in each rule\n",
    "sneg_rules = sorted(neg_rules, key=lambda x: 1/len(x[0]))\n",
    "annotated_neg_rules = analyse_rule_set(sneg_rules[:5000], max_depth=max_depth)"
   ]
  },
  {
   "cell_type": "code",
   "execution_count": 0,
   "metadata": {},
   "outputs": [],
   "source": [
    "def pretty_print_assoc_rule(rule):\n",
    "    (cond, target) = rule\n",
    "    for c in sorted(cond, key=lambda x: 1/perm_importances.importances_mean[x[0]]):\n",
    "        fid, leq = c\n",
    "        print(f109_name(fid), \"(low)\" if leq else \"(**high**)\", \"perm. imp.: %.2f\" % perm_importances.importances_mean[fid])\n",
    "    print(\"=>\", target)"
   ]
  },
  {
   "cell_type": "code",
   "execution_count": 0,
   "metadata": {},
   "outputs": [],
   "source": [
    "ar_c, ar_o, _, _ = sorted(annotated_neg_rules, key=lambda r: 1/(r[2]+1))[0]\n",
    "pretty_print_assoc_rule((ar_c, ar_o))"
   ]
  },
  {
   "cell_type": "code",
   "execution_count": 0,
   "metadata": {},
   "outputs": [],
   "source": [
    "seen = set([])\n",
    "for (cond, out, supp, conf) in sorted(annotated_neg_rules, key=lambda r: 1/(r[2]+1)):\n",
    "    if not frozenset(cond) in seen:\n",
    "        seen.add(frozenset(cond))\n",
    "        pretty_print_assoc_rule((cond, out))\n",
    "        print('Support: %.2f%%, Confidence: %.2f' % (supp*100, conf))\n",
    "        print()"
   ]
  },
  {
   "cell_type": "code",
   "execution_count": null,
   "metadata": {},
   "outputs": [],
   "source": []
  }
 ],
 "metadata": {
  "file_extension": ".py",
  "kernelspec": {
   "display_name": "Python 3.7.3 64-bit ('base': conda)",
   "language": "python",
   "name": "python37364bitbasecondaa44689f717164eca8bd0dfe8b5d9d391"
  },
  "language_info": {
   "codemirror_mode": {
    "name": "ipython",
    "version": 3
   },
   "file_extension": ".py",
   "mimetype": "text/x-python",
   "name": "python",
   "nbconvert_exporter": "python",
   "pygments_lexer": "ipython3",
   "version": "3.7.3-final"
  },
  "mimetype": "text/x-python",
  "name": "python",
  "npconvert_exporter": "python",
  "pygments_lexer": "ipython3",
  "version": 3
 },
 "nbformat": 4,
 "nbformat_minor": 2
}