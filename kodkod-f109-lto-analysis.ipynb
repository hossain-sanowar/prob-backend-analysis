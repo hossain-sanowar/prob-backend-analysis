{
 "cells": [
  {
   "cell_type": "markdown",
   "metadata": {},
   "source": [
    "# Analysis of Kodkod backend over the 109 features set\n",
    "\n",
    "In this note book we will explore the ProB native backend with default settings over the F109 feature set by employing decision trees and random forests."
   ]
  },
  {
   "cell_type": "code",
   "execution_count": 1,
   "metadata": {},
   "outputs": [
    {
     "data": {
      "text/html": "<div>\n<style scoped>\n    .dataframe tbody tr th:only-of-type {\n        vertical-align: middle;\n    }\n\n    .dataframe tbody tr th {\n        vertical-align: top;\n    }\n\n    .dataframe thead th {\n        text-align: right;\n    }\n</style>\n<table border=\"1\" class=\"dataframe\">\n  <thead>\n    <tr style=\"text-align: right;\">\n      <th></th>\n      <th>Feature0</th>\n      <th>Feature1</th>\n      <th>Feature2</th>\n      <th>Feature3</th>\n      <th>Feature4</th>\n      <th>Feature5</th>\n      <th>Feature6</th>\n      <th>Feature7</th>\n      <th>Feature8</th>\n      <th>Feature9</th>\n      <th>...</th>\n      <th>Feature100</th>\n      <th>Feature101</th>\n      <th>Feature102</th>\n      <th>Feature103</th>\n      <th>Feature104</th>\n      <th>Feature105</th>\n      <th>Feature106</th>\n      <th>Feature107</th>\n      <th>Feature108</th>\n      <th>Label0</th>\n    </tr>\n  </thead>\n  <tbody>\n    <tr>\n      <th>0</th>\n      <td>0.0</td>\n      <td>0.0</td>\n      <td>0.0</td>\n      <td>0.0</td>\n      <td>0.0</td>\n      <td>0.0</td>\n      <td>0.0</td>\n      <td>0.0</td>\n      <td>0.0</td>\n      <td>0.0</td>\n      <td>...</td>\n      <td>0.0</td>\n      <td>0.0</td>\n      <td>0.0</td>\n      <td>0.0</td>\n      <td>0.0</td>\n      <td>0.0</td>\n      <td>0.0</td>\n      <td>0.0</td>\n      <td>0.0</td>\n      <td>0.0</td>\n    </tr>\n    <tr>\n      <th>1</th>\n      <td>0.0</td>\n      <td>0.0</td>\n      <td>0.0</td>\n      <td>0.0</td>\n      <td>0.0</td>\n      <td>0.0</td>\n      <td>0.0</td>\n      <td>0.0</td>\n      <td>0.0</td>\n      <td>0.0</td>\n      <td>...</td>\n      <td>0.0</td>\n      <td>0.0</td>\n      <td>0.0</td>\n      <td>0.0</td>\n      <td>0.0</td>\n      <td>0.0</td>\n      <td>0.0</td>\n      <td>0.0</td>\n      <td>0.0</td>\n      <td>1.0</td>\n    </tr>\n    <tr>\n      <th>2</th>\n      <td>0.0</td>\n      <td>0.0</td>\n      <td>0.0</td>\n      <td>0.0</td>\n      <td>0.0</td>\n      <td>0.0</td>\n      <td>0.0</td>\n      <td>0.0</td>\n      <td>0.0</td>\n      <td>0.0</td>\n      <td>...</td>\n      <td>0.0</td>\n      <td>0.0</td>\n      <td>0.0</td>\n      <td>0.0</td>\n      <td>0.0</td>\n      <td>0.0</td>\n      <td>0.0</td>\n      <td>0.0</td>\n      <td>0.0</td>\n      <td>1.0</td>\n    </tr>\n    <tr>\n      <th>3</th>\n      <td>0.0</td>\n      <td>0.0</td>\n      <td>0.0</td>\n      <td>0.0</td>\n      <td>0.0</td>\n      <td>0.0</td>\n      <td>0.0</td>\n      <td>0.0</td>\n      <td>0.0</td>\n      <td>0.0</td>\n      <td>...</td>\n      <td>0.0</td>\n      <td>0.0</td>\n      <td>0.0</td>\n      <td>0.0</td>\n      <td>0.0</td>\n      <td>0.0</td>\n      <td>0.0</td>\n      <td>0.0</td>\n      <td>0.0</td>\n      <td>1.0</td>\n    </tr>\n    <tr>\n      <th>4</th>\n      <td>0.0</td>\n      <td>0.0</td>\n      <td>0.0</td>\n      <td>0.0</td>\n      <td>0.0</td>\n      <td>0.0</td>\n      <td>0.0</td>\n      <td>0.0</td>\n      <td>0.0</td>\n      <td>0.0</td>\n      <td>...</td>\n      <td>0.0</td>\n      <td>0.0</td>\n      <td>0.0</td>\n      <td>0.0</td>\n      <td>0.0</td>\n      <td>0.0</td>\n      <td>0.0</td>\n      <td>0.0</td>\n      <td>0.0</td>\n      <td>1.0</td>\n    </tr>\n  </tbody>\n</table>\n<p>5 rows × 110 columns</p>\n</div>",
      "text/plain": "   Feature0  Feature1  Feature2  Feature3  Feature4  Feature5  Feature6  \\\n0       0.0       0.0       0.0       0.0       0.0       0.0       0.0   \n1       0.0       0.0       0.0       0.0       0.0       0.0       0.0   \n2       0.0       0.0       0.0       0.0       0.0       0.0       0.0   \n3       0.0       0.0       0.0       0.0       0.0       0.0       0.0   \n4       0.0       0.0       0.0       0.0       0.0       0.0       0.0   \n\n   Feature7  Feature8  Feature9  ...  Feature100  Feature101  Feature102  \\\n0       0.0       0.0       0.0  ...         0.0         0.0         0.0   \n1       0.0       0.0       0.0  ...         0.0         0.0         0.0   \n2       0.0       0.0       0.0  ...         0.0         0.0         0.0   \n3       0.0       0.0       0.0  ...         0.0         0.0         0.0   \n4       0.0       0.0       0.0  ...         0.0         0.0         0.0   \n\n   Feature103  Feature104  Feature105  Feature106  Feature107  Feature108  \\\n0         0.0         0.0         0.0         0.0         0.0         0.0   \n1         0.0         0.0         0.0         0.0         0.0         0.0   \n2         0.0         0.0         0.0         0.0         0.0         0.0   \n3         0.0         0.0         0.0         0.0         0.0         0.0   \n4         0.0         0.0         0.0         0.0         0.0         0.0   \n\n   Label0  \n0     0.0  \n1     1.0  \n2     1.0  \n3     1.0  \n4     1.0  \n\n[5 rows x 110 columns]"
     },
     "execution_count": 1,
     "metadata": {},
     "output_type": "execute_result"
    }
   ],
   "source": [
    "%run f109_info.py\n",
    "\n",
    "import pandas as pd\n",
    "import numpy as np\n",
    "\n",
    "data = pd.read_csv('data/2020-01-23/kodkod-f109-lto_unique.csv')\n",
    "n_features = 109\n",
    "\n",
    "data.head()"
   ]
  },
  {
   "cell_type": "markdown",
   "metadata": {},
   "source": [
    "## Data insights\n",
    "\n",
    "Firstly, we check how many positive and negative samples exist in the data."
   ]
  },
  {
   "cell_type": "code",
   "execution_count": 2,
   "metadata": {},
   "outputs": [
    {
     "name": "stdout",
     "output_type": "stream",
     "text": "We have 172723 samples in the dataset.\nFor 126424 of these, ProB is able to find a solution (0.732%)\nFor 46299 of these, ProB is _not_ able to find a solution (0.268%)\n"
    }
   ],
   "source": [
    "sample_count = len(data)\n",
    "positive = data[data[\"Label0\"] == 1]\n",
    "negative = data[data[\"Label0\"] == 0]\n",
    "\n",
    "print(\"We have %d samples in the dataset.\" % sample_count)\n",
    "print(\"For %d of these, ProB is able to find a solution (%0.3f%%)\" % (len(positive), len(positive)/sample_count))\n",
    "print(\"For %d of these, ProB is _not_ able to find a solution (%0.3f%%)\" % (len(negative), len(negative)/sample_count))"
   ]
  },
  {
   "cell_type": "code",
   "execution_count": 3,
   "metadata": {},
   "outputs": [
    {
     "data": {
      "text/plain": "Text(0, 0.5, '# Samples')"
     },
     "execution_count": 3,
     "metadata": {},
     "output_type": "execute_result"
    },
    {
     "data": {
      "image/png": "[encoded data removed]",
      "image/svg+xml": "<?xml version=\"1.0\" encoding=\"utf-8\" standalone=\"no\"?>\n<!DOCTYPE svg PUBLIC \"-//W3C//DTD SVG 1.1//EN\"\n  \"http://www.w3.org/Graphics/SVG/1.1/DTD/svg11.dtd\">\n<!-- Created with matplotlib (https://matplotlib.org/) -->\n<svg height=\"245.2025pt\" version=\"1.1\" viewBox=\"0 0 408.053125 245.2025\" width=\"408.053125pt\" xmlns=\"http://www.w3.org/2000/svg\" xmlns:xlink=\"http://www.w3.org/1999/xlink\">\n <defs>\n  <style type=\"text/css\">\n*{stroke-linecap:butt;stroke-linejoin:round;}\n  </style>\n </defs>\n <g id=\"figure_1\">\n  <g id=\"patch_1\">\n   <path d=\"M 0 245.2025 \nL 408.053125 245.2025 \nL 408.053125 0 \nL 0 0 \nz\n\" style=\"fill:none;\"/>\n  </g>\n  <g id=\"axes_1\">\n   <g id=\"patch_2\">\n    <path d=\"M 66.053125 224.64 \nL 400.853125 224.64 \nL 400.853125 7.2 \nL 66.053125 7.2 \nz\n\" style=\"fill:#ffffff;\"/>\n   </g>\n   <g id=\"patch_3\">\n    <path clip-path=\"url(#pe324cfa0c5)\" d=\"M 149.753125 224.64 \nL 233.453125 224.64 \nL 233.453125 17.554286 \nL 149.753125 17.554286 \nz\n\" style=\"fill:#1f77b4;\"/>\n   </g>\n   <g id=\"patch_4\">\n    <path clip-path=\"url(#pe324cfa0c5)\" d=\"M 233.453125 224.64 \nL 317.153125 224.64 \nL 317.153125 148.801065 \nL 233.453125 148.801065 \nz\n\" style=\"fill:#ff7f0e;\"/>\n   </g>\n   <g id=\"matplotlib.axis_1\">\n    <g id=\"xtick_1\">\n     <g id=\"line2d_1\">\n      <defs>\n       <path d=\"M 0 0 \nL 0 3.5 \n\" id=\"m2af8837751\" style=\"stroke:#000000;stroke-width:0.8;\"/>\n      </defs>\n      <g>\n       <use style=\"stroke:#000000;stroke-width:0.8;\" x=\"233.453125\" xlink:href=\"#m2af8837751\" y=\"224.64\"/>\n      </g>\n     </g>\n     <g id=\"text_1\">\n      <!-- 0 -->\n      <defs>\n       <path d=\"M 31.78125 66.40625 \nQ 24.171875 66.40625 20.328125 58.90625 \nQ 16.5 51.421875 16.5 36.375 \nQ 16.5 21.390625 20.328125 13.890625 \nQ 24.171875 6.390625 31.78125 6.390625 \nQ 39.453125 6.390625 43.28125 13.890625 \nQ 47.125 21.390625 47.125 36.375 \nQ 47.125 51.421875 43.28125 58.90625 \nQ 39.453125 66.40625 31.78125 66.40625 \nz\nM 31.78125 74.21875 \nQ 44.046875 74.21875 50.515625 64.515625 \nQ 56.984375 54.828125 56.984375 36.375 \nQ 56.984375 17.96875 50.515625 8.265625 \nQ 44.046875 -1.421875 31.78125 -1.421875 \nQ 19.53125 -1.421875 13.0625 8.265625 \nQ 6.59375 17.96875 6.59375 36.375 \nQ 6.59375 54.828125 13.0625 64.515625 \nQ 19.53125 74.21875 31.78125 74.21875 \nz\n\" id=\"DejaVuSans-48\"/>\n      </defs>\n      <g transform=\"translate(236.2125 238.0025)rotate(-90)scale(0.1 -0.1)\">\n       <use xlink:href=\"#DejaVuSans-48\"/>\n      </g>\n     </g>\n    </g>\n   </g>\n   <g id=\"matplotlib.axis_2\">\n    <g id=\"ytick_1\">\n     <g id=\"line2d_2\">\n      <defs>\n       <path d=\"M 0 0 \nL -3.5 0 \n\" id=\"m1c4b276c58\" style=\"stroke:#000000;stroke-width:0.8;\"/>\n      </defs>\n      <g>\n       <use style=\"stroke:#000000;stroke-width:0.8;\" x=\"66.053125\" xlink:href=\"#m1c4b276c58\" y=\"224.64\"/>\n      </g>\n     </g>\n     <g id=\"text_2\">\n      <!-- 0 -->\n      <g transform=\"translate(52.690625 228.439219)scale(0.1 -0.1)\">\n       <use xlink:href=\"#DejaVuSans-48\"/>\n      </g>\n     </g>\n    </g>\n    <g id=\"ytick_2\">\n     <g id=\"line2d_3\">\n      <g>\n       <use style=\"stroke:#000000;stroke-width:0.8;\" x=\"66.053125\" xlink:href=\"#m1c4b276c58\" y=\"191.879493\"/>\n      </g>\n     </g>\n     <g id=\"text_3\">\n      <!-- 20000 -->\n      <defs>\n       <path d=\"M 19.1875 8.296875 \nL 53.609375 8.296875 \nL 53.609375 0 \nL 7.328125 0 \nL 7.328125 8.296875 \nQ 12.9375 14.109375 22.625 23.890625 \nQ 32.328125 33.6875 34.8125 36.53125 \nQ 39.546875 41.84375 41.421875 45.53125 \nQ 43.3125 49.21875 43.3125 52.78125 \nQ 43.3125 58.59375 39.234375 62.25 \nQ 35.15625 65.921875 28.609375 65.921875 \nQ 23.96875 65.921875 18.8125 64.3125 \nQ 13.671875 62.703125 7.8125 59.421875 \nL 7.8125 69.390625 \nQ 13.765625 71.78125 18.9375 73 \nQ 24.125 74.21875 28.421875 74.21875 \nQ 39.75 74.21875 46.484375 68.546875 \nQ 53.21875 62.890625 53.21875 53.421875 \nQ 53.21875 48.921875 51.53125 44.890625 \nQ 49.859375 40.875 45.40625 35.40625 \nQ 44.1875 33.984375 37.640625 27.21875 \nQ 31.109375 20.453125 19.1875 8.296875 \nz\n\" id=\"DejaVuSans-50\"/>\n      </defs>\n      <g transform=\"translate(27.240625 195.678712)scale(0.1 -0.1)\">\n       <use xlink:href=\"#DejaVuSans-50\"/>\n       <use x=\"63.623047\" xlink:href=\"#DejaVuSans-48\"/>\n       <use x=\"127.246094\" xlink:href=\"#DejaVuSans-48\"/>\n       <use x=\"190.869141\" xlink:href=\"#DejaVuSans-48\"/>\n       <use x=\"254.492188\" xlink:href=\"#DejaVuSans-48\"/>\n      </g>\n     </g>\n    </g>\n    <g id=\"ytick_3\">\n     <g id=\"line2d_4\">\n      <g>\n       <use style=\"stroke:#000000;stroke-width:0.8;\" x=\"66.053125\" xlink:href=\"#m1c4b276c58\" y=\"159.118987\"/>\n      </g>\n     </g>\n     <g id=\"text_4\">\n      <!-- 40000 -->\n      <defs>\n       <path d=\"M 37.796875 64.3125 \nL 12.890625 25.390625 \nL 37.796875 25.390625 \nz\nM 35.203125 72.90625 \nL 47.609375 72.90625 \nL 47.609375 25.390625 \nL 58.015625 25.390625 \nL 58.015625 17.1875 \nL 47.609375 17.1875 \nL 47.609375 0 \nL 37.796875 0 \nL 37.796875 17.1875 \nL 4.890625 17.1875 \nL 4.890625 26.703125 \nz\n\" id=\"DejaVuSans-52\"/>\n      </defs>\n      <g transform=\"translate(27.240625 162.918206)scale(0.1 -0.1)\">\n       <use xlink:href=\"#DejaVuSans-52\"/>\n       <use x=\"63.623047\" xlink:href=\"#DejaVuSans-48\"/>\n       <use x=\"127.246094\" xlink:href=\"#DejaVuSans-48\"/>\n       <use x=\"190.869141\" xlink:href=\"#DejaVuSans-48\"/>\n       <use x=\"254.492188\" xlink:href=\"#DejaVuSans-48\"/>\n      </g>\n     </g>\n    </g>\n    <g id=\"ytick_4\">\n     <g id=\"line2d_5\">\n      <g>\n       <use style=\"stroke:#000000;stroke-width:0.8;\" x=\"66.053125\" xlink:href=\"#m1c4b276c58\" y=\"126.35848\"/>\n      </g>\n     </g>\n     <g id=\"text_5\">\n      <!-- 60000 -->\n      <defs>\n       <path d=\"M 33.015625 40.375 \nQ 26.375 40.375 22.484375 35.828125 \nQ 18.609375 31.296875 18.609375 23.390625 \nQ 18.609375 15.53125 22.484375 10.953125 \nQ 26.375 6.390625 33.015625 6.390625 \nQ 39.65625 6.390625 43.53125 10.953125 \nQ 47.40625 15.53125 47.40625 23.390625 \nQ 47.40625 31.296875 43.53125 35.828125 \nQ 39.65625 40.375 33.015625 40.375 \nz\nM 52.59375 71.296875 \nL 52.59375 62.3125 \nQ 48.875 64.0625 45.09375 64.984375 \nQ 41.3125 65.921875 37.59375 65.921875 \nQ 27.828125 65.921875 22.671875 59.328125 \nQ 17.53125 52.734375 16.796875 39.40625 \nQ 19.671875 43.65625 24.015625 45.921875 \nQ 28.375 48.1875 33.59375 48.1875 \nQ 44.578125 48.1875 50.953125 41.515625 \nQ 57.328125 34.859375 57.328125 23.390625 \nQ 57.328125 12.15625 50.6875 5.359375 \nQ 44.046875 -1.421875 33.015625 -1.421875 \nQ 20.359375 -1.421875 13.671875 8.265625 \nQ 6.984375 17.96875 6.984375 36.375 \nQ 6.984375 53.65625 15.1875 63.9375 \nQ 23.390625 74.21875 37.203125 74.21875 \nQ 40.921875 74.21875 44.703125 73.484375 \nQ 48.484375 72.75 52.59375 71.296875 \nz\n\" id=\"DejaVuSans-54\"/>\n      </defs>\n      <g transform=\"translate(27.240625 130.157699)scale(0.1 -0.1)\">\n       <use xlink:href=\"#DejaVuSans-54\"/>\n       <use x=\"63.623047\" xlink:href=\"#DejaVuSans-48\"/>\n       <use x=\"127.246094\" xlink:href=\"#DejaVuSans-48\"/>\n       <use x=\"190.869141\" xlink:href=\"#DejaVuSans-48\"/>\n       <use x=\"254.492188\" xlink:href=\"#DejaVuSans-48\"/>\n      </g>\n     </g>\n    </g>\n    <g id=\"ytick_5\">\n     <g id=\"line2d_6\">\n      <g>\n       <use style=\"stroke:#000000;stroke-width:0.8;\" x=\"66.053125\" xlink:href=\"#m1c4b276c58\" y=\"93.597974\"/>\n      </g>\n     </g>\n     <g id=\"text_6\">\n      <!-- 80000 -->\n      <defs>\n       <path d=\"M 31.78125 34.625 \nQ 24.75 34.625 20.71875 30.859375 \nQ 16.703125 27.09375 16.703125 20.515625 \nQ 16.703125 13.921875 20.71875 10.15625 \nQ 24.75 6.390625 31.78125 6.390625 \nQ 38.8125 6.390625 42.859375 10.171875 \nQ 46.921875 13.96875 46.921875 20.515625 \nQ 46.921875 27.09375 42.890625 30.859375 \nQ 38.875 34.625 31.78125 34.625 \nz\nM 21.921875 38.8125 \nQ 15.578125 40.375 12.03125 44.71875 \nQ 8.5 49.078125 8.5 55.328125 \nQ 8.5 64.0625 14.71875 69.140625 \nQ 20.953125 74.21875 31.78125 74.21875 \nQ 42.671875 74.21875 48.875 69.140625 \nQ 55.078125 64.0625 55.078125 55.328125 \nQ 55.078125 49.078125 51.53125 44.71875 \nQ 48 40.375 41.703125 38.8125 \nQ 48.828125 37.15625 52.796875 32.3125 \nQ 56.78125 27.484375 56.78125 20.515625 \nQ 56.78125 9.90625 50.3125 4.234375 \nQ 43.84375 -1.421875 31.78125 -1.421875 \nQ 19.734375 -1.421875 13.25 4.234375 \nQ 6.78125 9.90625 6.78125 20.515625 \nQ 6.78125 27.484375 10.78125 32.3125 \nQ 14.796875 37.15625 21.921875 38.8125 \nz\nM 18.3125 54.390625 \nQ 18.3125 48.734375 21.84375 45.5625 \nQ 25.390625 42.390625 31.78125 42.390625 \nQ 38.140625 42.390625 41.71875 45.5625 \nQ 45.3125 48.734375 45.3125 54.390625 \nQ 45.3125 60.0625 41.71875 63.234375 \nQ 38.140625 66.40625 31.78125 66.40625 \nQ 25.390625 66.40625 21.84375 63.234375 \nQ 18.3125 60.0625 18.3125 54.390625 \nz\n\" id=\"DejaVuSans-56\"/>\n      </defs>\n      <g transform=\"translate(27.240625 97.397192)scale(0.1 -0.1)\">\n       <use xlink:href=\"#DejaVuSans-56\"/>\n       <use x=\"63.623047\" xlink:href=\"#DejaVuSans-48\"/>\n       <use x=\"127.246094\" xlink:href=\"#DejaVuSans-48\"/>\n       <use x=\"190.869141\" xlink:href=\"#DejaVuSans-48\"/>\n       <use x=\"254.492188\" xlink:href=\"#DejaVuSans-48\"/>\n      </g>\n     </g>\n    </g>\n    <g id=\"ytick_6\">\n     <g id=\"line2d_7\">\n      <g>\n       <use style=\"stroke:#000000;stroke-width:0.8;\" x=\"66.053125\" xlink:href=\"#m1c4b276c58\" y=\"60.837467\"/>\n      </g>\n     </g>\n     <g id=\"text_7\">\n      <!-- 100000 -->\n      <defs>\n       <path d=\"M 12.40625 8.296875 \nL 28.515625 8.296875 \nL 28.515625 63.921875 \nL 10.984375 60.40625 \nL 10.984375 69.390625 \nL 28.421875 72.90625 \nL 38.28125 72.90625 \nL 38.28125 8.296875 \nL 54.390625 8.296875 \nL 54.390625 0 \nL 12.40625 0 \nz\n\" id=\"DejaVuSans-49\"/>\n      </defs>\n      <g transform=\"translate(20.878125 64.636686)scale(0.1 -0.1)\">\n       <use xlink:href=\"#DejaVuSans-49\"/>\n       <use x=\"63.623047\" xlink:href=\"#DejaVuSans-48\"/>\n       <use x=\"127.246094\" xlink:href=\"#DejaVuSans-48\"/>\n       <use x=\"190.869141\" xlink:href=\"#DejaVuSans-48\"/>\n       <use x=\"254.492188\" xlink:href=\"#DejaVuSans-48\"/>\n       <use x=\"318.115234\" xlink:href=\"#DejaVuSans-48\"/>\n      </g>\n     </g>\n    </g>\n    <g id=\"ytick_7\">\n     <g id=\"line2d_8\">\n      <g>\n       <use style=\"stroke:#000000;stroke-width:0.8;\" x=\"66.053125\" xlink:href=\"#m1c4b276c58\" y=\"28.07696\"/>\n      </g>\n     </g>\n     <g id=\"text_8\">\n      <!-- 120000 -->\n      <g transform=\"translate(20.878125 31.876179)scale(0.1 -0.1)\">\n       <use xlink:href=\"#DejaVuSans-49\"/>\n       <use x=\"63.623047\" xlink:href=\"#DejaVuSans-50\"/>\n       <use x=\"127.246094\" xlink:href=\"#DejaVuSans-48\"/>\n       <use x=\"190.869141\" xlink:href=\"#DejaVuSans-48\"/>\n       <use x=\"254.492188\" xlink:href=\"#DejaVuSans-48\"/>\n       <use x=\"318.115234\" xlink:href=\"#DejaVuSans-48\"/>\n      </g>\n     </g>\n    </g>\n    <g id=\"text_9\">\n     <!-- # Samples -->\n     <defs>\n      <path d=\"M 51.125 44 \nL 36.921875 44 \nL 32.8125 27.6875 \nL 47.125 27.6875 \nz\nM 43.796875 71.78125 \nL 38.71875 51.515625 \nL 52.984375 51.515625 \nL 58.109375 71.78125 \nL 65.921875 71.78125 \nL 60.890625 51.515625 \nL 76.125 51.515625 \nL 76.125 44 \nL 58.984375 44 \nL 54.984375 27.6875 \nL 70.515625 27.6875 \nL 70.515625 20.21875 \nL 53.078125 20.21875 \nL 48 0 \nL 40.1875 0 \nL 45.21875 20.21875 \nL 30.90625 20.21875 \nL 25.875 0 \nL 18.015625 0 \nL 23.09375 20.21875 \nL 7.71875 20.21875 \nL 7.71875 27.6875 \nL 24.90625 27.6875 \nL 29 44 \nL 13.28125 44 \nL 13.28125 51.515625 \nL 30.90625 51.515625 \nL 35.890625 71.78125 \nz\n\" id=\"DejaVuSans-35\"/>\n      <path id=\"DejaVuSans-32\"/>\n      <path d=\"M 53.515625 70.515625 \nL 53.515625 60.890625 \nQ 47.90625 63.578125 42.921875 64.890625 \nQ 37.9375 66.21875 33.296875 66.21875 \nQ 25.25 66.21875 20.875 63.09375 \nQ 16.5 59.96875 16.5 54.203125 \nQ 16.5 49.359375 19.40625 46.890625 \nQ 22.3125 44.4375 30.421875 42.921875 \nL 36.375 41.703125 \nQ 47.40625 39.59375 52.65625 34.296875 \nQ 57.90625 29 57.90625 20.125 \nQ 57.90625 9.515625 50.796875 4.046875 \nQ 43.703125 -1.421875 29.984375 -1.421875 \nQ 24.8125 -1.421875 18.96875 -0.25 \nQ 13.140625 0.921875 6.890625 3.21875 \nL 6.890625 13.375 \nQ 12.890625 10.015625 18.65625 8.296875 \nQ 24.421875 6.59375 29.984375 6.59375 \nQ 38.421875 6.59375 43.015625 9.90625 \nQ 47.609375 13.234375 47.609375 19.390625 \nQ 47.609375 24.75 44.3125 27.78125 \nQ 41.015625 30.8125 33.5 32.328125 \nL 27.484375 33.5 \nQ 16.453125 35.6875 11.515625 40.375 \nQ 6.59375 45.0625 6.59375 53.421875 \nQ 6.59375 63.09375 13.40625 68.65625 \nQ 20.21875 74.21875 32.171875 74.21875 \nQ 37.3125 74.21875 42.625 73.28125 \nQ 47.953125 72.359375 53.515625 70.515625 \nz\n\" id=\"DejaVuSans-83\"/>\n      <path d=\"M 34.28125 27.484375 \nQ 23.390625 27.484375 19.1875 25 \nQ 14.984375 22.515625 14.984375 16.5 \nQ 14.984375 11.71875 18.140625 8.90625 \nQ 21.296875 6.109375 26.703125 6.109375 \nQ 34.1875 6.109375 38.703125 11.40625 \nQ 43.21875 16.703125 43.21875 25.484375 \nL 43.21875 27.484375 \nz\nM 52.203125 31.203125 \nL 52.203125 0 \nL 43.21875 0 \nL 43.21875 8.296875 \nQ 40.140625 3.328125 35.546875 0.953125 \nQ 30.953125 -1.421875 24.3125 -1.421875 \nQ 15.921875 -1.421875 10.953125 3.296875 \nQ 6 8.015625 6 15.921875 \nQ 6 25.140625 12.171875 29.828125 \nQ 18.359375 34.515625 30.609375 34.515625 \nL 43.21875 34.515625 \nL 43.21875 35.40625 \nQ 43.21875 41.609375 39.140625 45 \nQ 35.0625 48.390625 27.6875 48.390625 \nQ 23 48.390625 18.546875 47.265625 \nQ 14.109375 46.140625 10.015625 43.890625 \nL 10.015625 52.203125 \nQ 14.9375 54.109375 19.578125 55.046875 \nQ 24.21875 56 28.609375 56 \nQ 40.484375 56 46.34375 49.84375 \nQ 52.203125 43.703125 52.203125 31.203125 \nz\n\" id=\"DejaVuSans-97\"/>\n      <path d=\"M 52 44.1875 \nQ 55.375 50.25 60.0625 53.125 \nQ 64.75 56 71.09375 56 \nQ 79.640625 56 84.28125 50.015625 \nQ 88.921875 44.046875 88.921875 33.015625 \nL 88.921875 0 \nL 79.890625 0 \nL 79.890625 32.71875 \nQ 79.890625 40.578125 77.09375 44.375 \nQ 74.3125 48.1875 68.609375 48.1875 \nQ 61.625 48.1875 57.5625 43.546875 \nQ 53.515625 38.921875 53.515625 30.90625 \nL 53.515625 0 \nL 44.484375 0 \nL 44.484375 32.71875 \nQ 44.484375 40.625 41.703125 44.40625 \nQ 38.921875 48.1875 33.109375 48.1875 \nQ 26.21875 48.1875 22.15625 43.53125 \nQ 18.109375 38.875 18.109375 30.90625 \nL 18.109375 0 \nL 9.078125 0 \nL 9.078125 54.6875 \nL 18.109375 54.6875 \nL 18.109375 46.1875 \nQ 21.1875 51.21875 25.484375 53.609375 \nQ 29.78125 56 35.6875 56 \nQ 41.65625 56 45.828125 52.96875 \nQ 50 49.953125 52 44.1875 \nz\n\" id=\"DejaVuSans-109\"/>\n      <path d=\"M 18.109375 8.203125 \nL 18.109375 -20.796875 \nL 9.078125 -20.796875 \nL 9.078125 54.6875 \nL 18.109375 54.6875 \nL 18.109375 46.390625 \nQ 20.953125 51.265625 25.265625 53.625 \nQ 29.59375 56 35.59375 56 \nQ 45.5625 56 51.78125 48.09375 \nQ 58.015625 40.1875 58.015625 27.296875 \nQ 58.015625 14.40625 51.78125 6.484375 \nQ 45.5625 -1.421875 35.59375 -1.421875 \nQ 29.59375 -1.421875 25.265625 0.953125 \nQ 20.953125 3.328125 18.109375 8.203125 \nz\nM 48.6875 27.296875 \nQ 48.6875 37.203125 44.609375 42.84375 \nQ 40.53125 48.484375 33.40625 48.484375 \nQ 26.265625 48.484375 22.1875 42.84375 \nQ 18.109375 37.203125 18.109375 27.296875 \nQ 18.109375 17.390625 22.1875 11.75 \nQ 26.265625 6.109375 33.40625 6.109375 \nQ 40.53125 6.109375 44.609375 11.75 \nQ 48.6875 17.390625 48.6875 27.296875 \nz\n\" id=\"DejaVuSans-112\"/>\n      <path d=\"M 9.421875 75.984375 \nL 18.40625 75.984375 \nL 18.40625 0 \nL 9.421875 0 \nz\n\" id=\"DejaVuSans-108\"/>\n      <path d=\"M 56.203125 29.59375 \nL 56.203125 25.203125 \nL 14.890625 25.203125 \nQ 15.484375 15.921875 20.484375 11.0625 \nQ 25.484375 6.203125 34.421875 6.203125 \nQ 39.59375 6.203125 44.453125 7.46875 \nQ 49.3125 8.734375 54.109375 11.28125 \nL 54.109375 2.78125 \nQ 49.265625 0.734375 44.1875 -0.34375 \nQ 39.109375 -1.421875 33.890625 -1.421875 \nQ 20.796875 -1.421875 13.15625 6.1875 \nQ 5.515625 13.8125 5.515625 26.8125 \nQ 5.515625 40.234375 12.765625 48.109375 \nQ 20.015625 56 32.328125 56 \nQ 43.359375 56 49.78125 48.890625 \nQ 56.203125 41.796875 56.203125 29.59375 \nz\nM 47.21875 32.234375 \nQ 47.125 39.59375 43.09375 43.984375 \nQ 39.0625 48.390625 32.421875 48.390625 \nQ 24.90625 48.390625 20.390625 44.140625 \nQ 15.875 39.890625 15.1875 32.171875 \nz\n\" id=\"DejaVuSans-101\"/>\n      <path d=\"M 44.28125 53.078125 \nL 44.28125 44.578125 \nQ 40.484375 46.53125 36.375 47.5 \nQ 32.28125 48.484375 27.875 48.484375 \nQ 21.1875 48.484375 17.84375 46.4375 \nQ 14.5 44.390625 14.5 40.28125 \nQ 14.5 37.15625 16.890625 35.375 \nQ 19.28125 33.59375 26.515625 31.984375 \nL 29.59375 31.296875 \nQ 39.15625 29.25 43.1875 25.515625 \nQ 47.21875 21.78125 47.21875 15.09375 \nQ 47.21875 7.46875 41.1875 3.015625 \nQ 35.15625 -1.421875 24.609375 -1.421875 \nQ 20.21875 -1.421875 15.453125 -0.5625 \nQ 10.6875 0.296875 5.421875 2 \nL 5.421875 11.28125 \nQ 10.40625 8.6875 15.234375 7.390625 \nQ 20.0625 6.109375 24.8125 6.109375 \nQ 31.15625 6.109375 34.5625 8.28125 \nQ 37.984375 10.453125 37.984375 14.40625 \nQ 37.984375 18.0625 35.515625 20.015625 \nQ 33.0625 21.96875 24.703125 23.78125 \nL 21.578125 24.515625 \nQ 13.234375 26.265625 9.515625 29.90625 \nQ 5.8125 33.546875 5.8125 39.890625 \nQ 5.8125 47.609375 11.28125 51.796875 \nQ 16.75 56 26.8125 56 \nQ 31.78125 56 36.171875 55.265625 \nQ 40.578125 54.546875 44.28125 53.078125 \nz\n\" id=\"DejaVuSans-115\"/>\n     </defs>\n     <g transform=\"translate(14.798438 143.052031)rotate(-90)scale(0.1 -0.1)\">\n      <use xlink:href=\"#DejaVuSans-35\"/>\n      <use x=\"83.789062\" xlink:href=\"#DejaVuSans-32\"/>\n      <use x=\"115.576172\" xlink:href=\"#DejaVuSans-83\"/>\n      <use x=\"179.052734\" xlink:href=\"#DejaVuSans-97\"/>\n      <use x=\"240.332031\" xlink:href=\"#DejaVuSans-109\"/>\n      <use x=\"337.744141\" xlink:href=\"#DejaVuSans-112\"/>\n      <use x=\"401.220703\" xlink:href=\"#DejaVuSans-108\"/>\n      <use x=\"429.003906\" xlink:href=\"#DejaVuSans-101\"/>\n      <use x=\"490.527344\" xlink:href=\"#DejaVuSans-115\"/>\n     </g>\n    </g>\n   </g>\n   <g id=\"patch_5\">\n    <path d=\"M 66.053125 224.64 \nL 66.053125 7.2 \n\" style=\"fill:none;stroke:#000000;stroke-linecap:square;stroke-linejoin:miter;stroke-width:0.8;\"/>\n   </g>\n   <g id=\"patch_6\">\n    <path d=\"M 400.853125 224.64 \nL 400.853125 7.2 \n\" style=\"fill:none;stroke:#000000;stroke-linecap:square;stroke-linejoin:miter;stroke-width:0.8;\"/>\n   </g>\n   <g id=\"patch_7\">\n    <path d=\"M 66.053125 224.64 \nL 400.853125 224.64 \n\" style=\"fill:none;stroke:#000000;stroke-linecap:square;stroke-linejoin:miter;stroke-width:0.8;\"/>\n   </g>\n   <g id=\"patch_8\">\n    <path d=\"M 66.053125 7.2 \nL 400.853125 7.2 \n\" style=\"fill:none;stroke:#000000;stroke-linecap:square;stroke-linejoin:miter;stroke-width:0.8;\"/>\n   </g>\n   <g id=\"legend_1\">\n    <g id=\"patch_9\">\n     <path d=\"M 318.115625 44.55625 \nL 393.853125 44.55625 \nQ 395.853125 44.55625 395.853125 42.55625 \nL 395.853125 14.2 \nQ 395.853125 12.2 393.853125 12.2 \nL 318.115625 12.2 \nQ 316.115625 12.2 316.115625 14.2 \nL 316.115625 42.55625 \nQ 316.115625 44.55625 318.115625 44.55625 \nz\n\" style=\"fill:#ffffff;opacity:0.8;stroke:#cccccc;stroke-linejoin:miter;\"/>\n    </g>\n    <g id=\"patch_10\">\n     <path d=\"M 320.115625 23.798437 \nL 340.115625 23.798437 \nL 340.115625 16.798437 \nL 320.115625 16.798437 \nz\n\" style=\"fill:#1f77b4;\"/>\n    </g>\n    <g id=\"text_10\">\n     <!-- positive -->\n     <defs>\n      <path d=\"M 30.609375 48.390625 \nQ 23.390625 48.390625 19.1875 42.75 \nQ 14.984375 37.109375 14.984375 27.296875 \nQ 14.984375 17.484375 19.15625 11.84375 \nQ 23.34375 6.203125 30.609375 6.203125 \nQ 37.796875 6.203125 41.984375 11.859375 \nQ 46.1875 17.53125 46.1875 27.296875 \nQ 46.1875 37.015625 41.984375 42.703125 \nQ 37.796875 48.390625 30.609375 48.390625 \nz\nM 30.609375 56 \nQ 42.328125 56 49.015625 48.375 \nQ 55.71875 40.765625 55.71875 27.296875 \nQ 55.71875 13.875 49.015625 6.21875 \nQ 42.328125 -1.421875 30.609375 -1.421875 \nQ 18.84375 -1.421875 12.171875 6.21875 \nQ 5.515625 13.875 5.515625 27.296875 \nQ 5.515625 40.765625 12.171875 48.375 \nQ 18.84375 56 30.609375 56 \nz\n\" id=\"DejaVuSans-111\"/>\n      <path d=\"M 9.421875 54.6875 \nL 18.40625 54.6875 \nL 18.40625 0 \nL 9.421875 0 \nz\nM 9.421875 75.984375 \nL 18.40625 75.984375 \nL 18.40625 64.59375 \nL 9.421875 64.59375 \nz\n\" id=\"DejaVuSans-105\"/>\n      <path d=\"M 18.3125 70.21875 \nL 18.3125 54.6875 \nL 36.8125 54.6875 \nL 36.8125 47.703125 \nL 18.3125 47.703125 \nL 18.3125 18.015625 \nQ 18.3125 11.328125 20.140625 9.421875 \nQ 21.96875 7.515625 27.59375 7.515625 \nL 36.8125 7.515625 \nL 36.8125 0 \nL 27.59375 0 \nQ 17.1875 0 13.234375 3.875 \nQ 9.28125 7.765625 9.28125 18.015625 \nL 9.28125 47.703125 \nL 2.6875 47.703125 \nL 2.6875 54.6875 \nL 9.28125 54.6875 \nL 9.28125 70.21875 \nz\n\" id=\"DejaVuSans-116\"/>\n      <path d=\"M 2.984375 54.6875 \nL 12.5 54.6875 \nL 29.59375 8.796875 \nL 46.6875 54.6875 \nL 56.203125 54.6875 \nL 35.6875 0 \nL 23.484375 0 \nz\n\" id=\"DejaVuSans-118\"/>\n     </defs>\n     <g transform=\"translate(348.115625 23.798437)scale(0.1 -0.1)\">\n      <use xlink:href=\"#DejaVuSans-112\"/>\n      <use x=\"63.476562\" xlink:href=\"#DejaVuSans-111\"/>\n      <use x=\"124.658203\" xlink:href=\"#DejaVuSans-115\"/>\n      <use x=\"176.757812\" xlink:href=\"#DejaVuSans-105\"/>\n      <use x=\"204.541016\" xlink:href=\"#DejaVuSans-116\"/>\n      <use x=\"243.75\" xlink:href=\"#DejaVuSans-105\"/>\n      <use x=\"271.533203\" xlink:href=\"#DejaVuSans-118\"/>\n      <use x=\"330.712891\" xlink:href=\"#DejaVuSans-101\"/>\n     </g>\n    </g>\n    <g id=\"patch_11\">\n     <path d=\"M 320.115625 38.476562 \nL 340.115625 38.476562 \nL 340.115625 31.476562 \nL 320.115625 31.476562 \nz\n\" style=\"fill:#ff7f0e;\"/>\n    </g>\n    <g id=\"text_11\">\n     <!-- negative -->\n     <defs>\n      <path d=\"M 54.890625 33.015625 \nL 54.890625 0 \nL 45.90625 0 \nL 45.90625 32.71875 \nQ 45.90625 40.484375 42.875 44.328125 \nQ 39.84375 48.1875 33.796875 48.1875 \nQ 26.515625 48.1875 22.3125 43.546875 \nQ 18.109375 38.921875 18.109375 30.90625 \nL 18.109375 0 \nL 9.078125 0 \nL 9.078125 54.6875 \nL 18.109375 54.6875 \nL 18.109375 46.1875 \nQ 21.34375 51.125 25.703125 53.5625 \nQ 30.078125 56 35.796875 56 \nQ 45.21875 56 50.046875 50.171875 \nQ 54.890625 44.34375 54.890625 33.015625 \nz\n\" id=\"DejaVuSans-110\"/>\n      <path d=\"M 45.40625 27.984375 \nQ 45.40625 37.75 41.375 43.109375 \nQ 37.359375 48.484375 30.078125 48.484375 \nQ 22.859375 48.484375 18.828125 43.109375 \nQ 14.796875 37.75 14.796875 27.984375 \nQ 14.796875 18.265625 18.828125 12.890625 \nQ 22.859375 7.515625 30.078125 7.515625 \nQ 37.359375 7.515625 41.375 12.890625 \nQ 45.40625 18.265625 45.40625 27.984375 \nz\nM 54.390625 6.78125 \nQ 54.390625 -7.171875 48.1875 -13.984375 \nQ 42 -20.796875 29.203125 -20.796875 \nQ 24.46875 -20.796875 20.265625 -20.09375 \nQ 16.0625 -19.390625 12.109375 -17.921875 \nL 12.109375 -9.1875 \nQ 16.0625 -11.328125 19.921875 -12.34375 \nQ 23.78125 -13.375 27.78125 -13.375 \nQ 36.625 -13.375 41.015625 -8.765625 \nQ 45.40625 -4.15625 45.40625 5.171875 \nL 45.40625 9.625 \nQ 42.625 4.78125 38.28125 2.390625 \nQ 33.9375 0 27.875 0 \nQ 17.828125 0 11.671875 7.65625 \nQ 5.515625 15.328125 5.515625 27.984375 \nQ 5.515625 40.671875 11.671875 48.328125 \nQ 17.828125 56 27.875 56 \nQ 33.9375 56 38.28125 53.609375 \nQ 42.625 51.21875 45.40625 46.390625 \nL 45.40625 54.6875 \nL 54.390625 54.6875 \nz\n\" id=\"DejaVuSans-103\"/>\n     </defs>\n     <g transform=\"translate(348.115625 38.476562)scale(0.1 -0.1)\">\n      <use xlink:href=\"#DejaVuSans-110\"/>\n      <use x=\"63.378906\" xlink:href=\"#DejaVuSans-101\"/>\n      <use x=\"124.902344\" xlink:href=\"#DejaVuSans-103\"/>\n      <use x=\"188.378906\" xlink:href=\"#DejaVuSans-97\"/>\n      <use x=\"249.658203\" xlink:href=\"#DejaVuSans-116\"/>\n      <use x=\"288.867188\" xlink:href=\"#DejaVuSans-105\"/>\n      <use x=\"316.650391\" xlink:href=\"#DejaVuSans-118\"/>\n      <use x=\"375.830078\" xlink:href=\"#DejaVuSans-101\"/>\n     </g>\n    </g>\n   </g>\n  </g>\n </g>\n <defs>\n  <clipPath id=\"pe324cfa0c5\">\n   <rect height=\"217.44\" width=\"334.8\" x=\"66.053125\" y=\"7.2\"/>\n  </clipPath>\n </defs>\n</svg>\n",
      "text/plain": "<Figure size 432x288 with 1 Axes>"
     },
     "metadata": {
      "needs_background": "light"
     },
     "output_type": "display_data"
    }
   ],
   "source": [
    "%matplotlib inline\n",
    "\n",
    "class_balance = pd.DataFrame(data={\"positive\": [len(positive)], \"negative\": [len(negative)]})\n",
    "class_balance_plot = class_balance.plot(kind=\"bar\")\n",
    "class_balance_plot.set_ylabel(\"# Samples\")"
   ]
  },
  {
   "cell_type": "markdown",
   "metadata": {},
   "source": [
    "Now we will inspect how often each feature is used in the data in the first place. Thus we can evaluate how much significance each evaluation over the subdomains has."
   ]
  },
  {
   "cell_type": "code",
   "execution_count": 4,
   "metadata": {},
   "outputs": [
    {
     "data": {
      "text/html": "<div>\n<style scoped>\n    .dataframe tbody tr th:only-of-type {\n        vertical-align: middle;\n    }\n\n    .dataframe tbody tr th {\n        vertical-align: top;\n    }\n\n    .dataframe thead th {\n        text-align: right;\n    }\n</style>\n<table border=\"1\" class=\"dataframe\">\n  <thead>\n    <tr style=\"text-align: right;\">\n      <th></th>\n      <th>Feature0</th>\n      <th>Feature1</th>\n      <th>Feature2</th>\n      <th>Feature3</th>\n      <th>Feature4</th>\n      <th>Feature5</th>\n      <th>Feature6</th>\n      <th>Feature7</th>\n      <th>Feature8</th>\n      <th>Feature9</th>\n      <th>...</th>\n      <th>Feature99</th>\n      <th>Feature100</th>\n      <th>Feature101</th>\n      <th>Feature102</th>\n      <th>Feature103</th>\n      <th>Feature104</th>\n      <th>Feature105</th>\n      <th>Feature106</th>\n      <th>Feature107</th>\n      <th>Feature108</th>\n    </tr>\n  </thead>\n  <tbody>\n    <tr>\n      <th>0</th>\n      <td>103259</td>\n      <td>146983</td>\n      <td>138849</td>\n      <td>138849</td>\n      <td>138849</td>\n      <td>172626</td>\n      <td>129808</td>\n      <td>119579</td>\n      <td>137698</td>\n      <td>25585</td>\n      <td>...</td>\n      <td>441</td>\n      <td>1061</td>\n      <td>906</td>\n      <td>303</td>\n      <td>1143</td>\n      <td>484</td>\n      <td>505</td>\n      <td>129</td>\n      <td>454</td>\n      <td>54</td>\n    </tr>\n  </tbody>\n</table>\n<p>1 rows × 109 columns</p>\n</div>",
      "text/plain": "   Feature0  Feature1  Feature2  Feature3  Feature4  Feature5  Feature6  \\\n0    103259    146983    138849    138849    138849    172626    129808   \n\n   Feature7  Feature8  Feature9  ...  Feature99  Feature100  Feature101  \\\n0    119579    137698     25585  ...        441        1061         906   \n\n   Feature102  Feature103  Feature104  Feature105  Feature106  Feature107  \\\n0         303        1143         484         505         129         454   \n\n   Feature108  \n0          54  \n\n[1 rows x 109 columns]"
     },
     "execution_count": 4,
     "metadata": {},
     "output_type": "execute_result"
    }
   ],
   "source": [
    "feature_uses = data[data > 0].count() \n",
    "rel_feature_uses = feature_uses/sample_count\n",
    "\n",
    "fd = {}\n",
    "for f in range(n_features):\n",
    "    fd[\"Feature%d\" % f] = [feature_uses[f]]\n",
    "feature_data = pd.DataFrame(data=fd)\n",
    "feature_data"
   ]
  },
  {
   "cell_type": "code",
   "execution_count": 5,
   "metadata": {},
   "outputs": [
    {
     "data": {
      "text/html": "<div>\n<style scoped>\n    .dataframe tbody tr th:only-of-type {\n        vertical-align: middle;\n    }\n\n    .dataframe tbody tr th {\n        vertical-align: top;\n    }\n\n    .dataframe thead th {\n        text-align: right;\n    }\n</style>\n<table border=\"1\" class=\"dataframe\">\n  <thead>\n    <tr style=\"text-align: right;\">\n      <th></th>\n      <th>Feature0</th>\n      <th>Feature1</th>\n      <th>Feature2</th>\n      <th>Feature3</th>\n      <th>Feature4</th>\n      <th>Feature5</th>\n      <th>Feature6</th>\n      <th>Feature7</th>\n      <th>Feature8</th>\n      <th>Feature9</th>\n      <th>...</th>\n      <th>Feature99</th>\n      <th>Feature100</th>\n      <th>Feature101</th>\n      <th>Feature102</th>\n      <th>Feature103</th>\n      <th>Feature104</th>\n      <th>Feature105</th>\n      <th>Feature106</th>\n      <th>Feature107</th>\n      <th>Feature108</th>\n    </tr>\n  </thead>\n  <tbody>\n    <tr>\n      <th>0</th>\n      <td>0.59783</td>\n      <td>0.850975</td>\n      <td>0.803883</td>\n      <td>0.803883</td>\n      <td>0.803883</td>\n      <td>0.999438</td>\n      <td>0.751539</td>\n      <td>0.692317</td>\n      <td>0.797219</td>\n      <td>0.148127</td>\n      <td>...</td>\n      <td>0.002553</td>\n      <td>0.006143</td>\n      <td>0.005245</td>\n      <td>0.001754</td>\n      <td>0.006618</td>\n      <td>0.002802</td>\n      <td>0.002924</td>\n      <td>0.000747</td>\n      <td>0.002628</td>\n      <td>0.000313</td>\n    </tr>\n  </tbody>\n</table>\n<p>1 rows × 109 columns</p>\n</div>",
      "text/plain": "   Feature0  Feature1  Feature2  Feature3  Feature4  Feature5  Feature6  \\\n0   0.59783  0.850975  0.803883  0.803883  0.803883  0.999438  0.751539   \n\n   Feature7  Feature8  Feature9  ...  Feature99  Feature100  Feature101  \\\n0  0.692317  0.797219  0.148127  ...   0.002553    0.006143    0.005245   \n\n   Feature102  Feature103  Feature104  Feature105  Feature106  Feature107  \\\n0    0.001754    0.006618    0.002802    0.002924    0.000747    0.002628   \n\n   Feature108  \n0    0.000313  \n\n[1 rows x 109 columns]"
     },
     "execution_count": 5,
     "metadata": {},
     "output_type": "execute_result"
    }
   ],
   "source": [
    "# We also calculate the relative amount of feature uses.\n",
    "fd = {}\n",
    "for f in range(n_features):\n",
    "    fd[\"Feature%d\" % f] = [rel_feature_uses[f]]\n",
    "rel_feature_data = pd.DataFrame(data=fd)\n",
    "rel_feature_data"
   ]
  },
  {
   "cell_type": "code",
   "execution_count": 6,
   "metadata": {},
   "outputs": [
    {
     "data": {
      "text/html": "<div>\n<style scoped>\n    .dataframe tbody tr th:only-of-type {\n        vertical-align: middle;\n    }\n\n    .dataframe tbody tr th {\n        vertical-align: top;\n    }\n\n    .dataframe thead th {\n        text-align: right;\n    }\n</style>\n<table border=\"1\" class=\"dataframe\">\n  <thead>\n    <tr style=\"text-align: right;\">\n      <th></th>\n      <th>Feature0</th>\n      <th>Feature1</th>\n      <th>Feature2</th>\n      <th>Feature3</th>\n      <th>Feature4</th>\n      <th>Feature5</th>\n      <th>Feature6</th>\n      <th>Feature7</th>\n      <th>Feature8</th>\n      <th>Feature9</th>\n      <th>...</th>\n      <th>Feature99</th>\n      <th>Feature100</th>\n      <th>Feature101</th>\n      <th>Feature102</th>\n      <th>Feature103</th>\n      <th>Feature104</th>\n      <th>Feature105</th>\n      <th>Feature106</th>\n      <th>Feature107</th>\n      <th>Feature108</th>\n    </tr>\n    <tr>\n      <th>Label0</th>\n      <th></th>\n      <th></th>\n      <th></th>\n      <th></th>\n      <th></th>\n      <th></th>\n      <th></th>\n      <th></th>\n      <th></th>\n      <th></th>\n      <th></th>\n      <th></th>\n      <th></th>\n      <th></th>\n      <th></th>\n      <th></th>\n      <th></th>\n      <th></th>\n      <th></th>\n      <th></th>\n      <th></th>\n    </tr>\n  </thead>\n  <tbody>\n    <tr>\n      <th>0.0</th>\n      <td>2.021771</td>\n      <td>3.354037</td>\n      <td>0.593150</td>\n      <td>0.369225</td>\n      <td>0.626693</td>\n      <td>56.444129</td>\n      <td>0.331780</td>\n      <td>0.471196</td>\n      <td>0.18931</td>\n      <td>0.007390</td>\n      <td>...</td>\n      <td>0.001195</td>\n      <td>0.002575</td>\n      <td>0.004785</td>\n      <td>0.000926</td>\n      <td>0.003982</td>\n      <td>0.001188</td>\n      <td>0.001947</td>\n      <td>0.000047</td>\n      <td>0.001307</td>\n      <td>0.000258</td>\n    </tr>\n    <tr>\n      <th>1.0</th>\n      <td>1.712008</td>\n      <td>2.289566</td>\n      <td>0.573897</td>\n      <td>0.420759</td>\n      <td>0.655666</td>\n      <td>12.945036</td>\n      <td>-8.120015</td>\n      <td>8.789025</td>\n      <td>0.31639</td>\n      <td>0.013951</td>\n      <td>...</td>\n      <td>0.002022</td>\n      <td>0.006065</td>\n      <td>0.003384</td>\n      <td>0.000255</td>\n      <td>0.005303</td>\n      <td>0.001128</td>\n      <td>0.001183</td>\n      <td>0.000130</td>\n      <td>0.002882</td>\n      <td>0.000211</td>\n    </tr>\n  </tbody>\n</table>\n<p>2 rows × 109 columns</p>\n</div>",
      "text/plain": "        Feature0  Feature1  Feature2  Feature3  Feature4   Feature5  Feature6  \\\nLabel0                                                                          \n0.0     2.021771  3.354037  0.593150  0.369225  0.626693  56.444129  0.331780   \n1.0     1.712008  2.289566  0.573897  0.420759  0.655666  12.945036 -8.120015   \n\n        Feature7  Feature8  Feature9  ...  Feature99  Feature100  Feature101  \\\nLabel0                                ...                                      \n0.0     0.471196   0.18931  0.007390  ...   0.001195    0.002575    0.004785   \n1.0     8.789025   0.31639  0.013951  ...   0.002022    0.006065    0.003384   \n\n        Feature102  Feature103  Feature104  Feature105  Feature106  \\\nLabel0                                                               \n0.0       0.000926    0.003982    0.001188    0.001947    0.000047   \n1.0       0.000255    0.005303    0.001128    0.001183    0.000130   \n\n        Feature107  Feature108  \nLabel0                          \n0.0       0.001307    0.000258  \n1.0       0.002882    0.000211  \n\n[2 rows x 109 columns]"
     },
     "execution_count": 6,
     "metadata": {},
     "output_type": "execute_result"
    }
   ],
   "source": [
    "mean_diffs = data.groupby(\"Label0\").mean()\n",
    "mean_diffs"
   ]
  },
  {
   "cell_type": "markdown",
   "metadata": {},
   "source": [
    "Let us list the sorted differences in mean by feature."
   ]
  },
  {
   "cell_type": "code",
   "execution_count": 7,
   "metadata": {},
   "outputs": [
    {
     "name": "stdout",
     "output_type": "stream",
     "text": "Set operations per conjunct 8.94426102389625\nBoolean literals per conjunct 7.124572455278539\nRelations per conjunct 7.050813865319233\nforward composition ratio of rel ops 5.7867369856544695\nEquality per conjunct 5.5181637705523405\nPowersets per conjunct 5.361658833061185\nGeneral relations ratio of all relations 4.879249446057292\nLogic ops per conjunct 4.360291323556933\nFunctions per conjunct 4.118581148833556\nQuantifiers per conjunct 4.009189310569779\nSet inclusions per conjunct 3.841617680573157\nRel ops per conjunct 3.7420894678106733\nFunction applications per conjunct 3.631939108445291\nfront insertions ratio per seq op 3.6280676179006597\nNumber of identifiers per conjunct 3.406842581914202\nInequality per conjunct 3.2955608997444616\nIntersections per set set op 3.2586252802858193\nRelational overrides ratio of rel ops 3.0463251113473553\nLambda-expression ratio over functions 2.6579195673766405\nRelational inversions ratio of rel ops 2.6504702497112334\n\\exists ratio of all quantifiers 2.4359608493548626\nBijective, partial function ratio over functions 2.30542639521456\nFunction var ratio of identifiers 2.2524558709842233\nRelational images ratio of rel ops 2.0554855424826317\nSubsets per set inclusion op 2.0232947206480842\nArithmetic ops per conjunct 1.996788523601311\n`last` calls ratio per seq op 1.9013183029159335\nGeneral, total function ratio over functions 1.8458758851669106\nPowersets per set op 1.8431584883177805\nBoolean conversions per conjunct 1.6572143003227864\ntail restrictions ratio per seq op 1.6458659578187789\nSet var ratio of identifiers 1.6088326378655446\n`first` calls ratio per seq op 1.5888556004828764\nComparissons ratio of arithmetic ops 1.578810141167285\nNested Powerset ration of powersets 1.505611796123154\nInjective, partial function ratio over functions 1.500544567205851\nMax conjunct depth per conjunct 1.4649226866271376\n#ids with bounded domains ratio of all identifers, symbolic 1.4494677640587372\nSet unions per set set op 1.4314537665388625\n`concatenation` calls ratio per seq op 1.4141376841334523\n#identifier relations per id 1.3700015982037148\nSeq ops per conjunct 1.2874384896125786\n`front` calls ratio per seq op 1.2249468655673372\nnumber of iterations per conjunct 1.222120914114967\naverage nesting depth of quantifiers 1.2107371968970098\nSet memberships ratio of set inclusion ops 1.1894408872006166\nNumber of conjuncts (log2) 1.1809353039039217\nDivision ratio of arithmetic ops 1.1602206148542393\nGeneral prod ratio of arithmetic ops 1.1580640083960259\n\\forall ratio of all quantifiers 1.149489630045888\nMultiplication ratio of arithmetic ops 1.1466628490176227\nModulo ratio of arithmetic ops 1.1375301199319605\n`tail` calls ratio per seq op 1.1285912132437135\navg. power set nesting depth 1.117694555970995\n#ids with unbounded domains ratio of all identifers, explicit 1.0746049596318121\nfront restrictions ratio per seq op 1.0531413430492313\nRelation var ratio of identifiers 1.0428306717348095\nnumber of negations per conjunct 1.0335481350756106\nmax negation depth per number of negations 0.9558101317096052\nQuantified set unions per set set op 0.9449169620055942\n#ids with semi-bounded domains ratio of all identifers, symbolic 0.9376460960793176\nRelational domain ratio of rel ops 0.9370049824760458\nNormal sequence ratio of all sequences 0.8851816625152659\nmax negation depth per conjunct 0.8775216350182479\nGeneral, partial function ratio over functions 0.8692610867125671\nBijective, total function ratio over functions 0.8322794216619649\nDomain subtraction ratio of rel ops 0.8053546179929942\n`succ` ratio of arithmetic ops 0.7944263510001323\nTotal amount of sequences per conjunct 0.7688832510156483\ntail insertions ratio per seq op 0.7508720762220632\n#ids with unbounded domains ratio of all identifers, symbolic 0.7504436971973916\nDomain restriction ratio of rel ops 0.6935273038836174\n`pred` ratio of arithmetic ops 0.670586086589516\nInjective, total function ratio over functions 0.6630442466167448\nRelational range ratio of rel ops 0.6241049808831788\nGeneral sum ratio of arithmetic ops 0.609337400714889\nAddition ratio of arithmetic ops 0.6002212776035162\nImplications per logic ops 0.5983447073400964\n`reverse` calls ratio per seq op 0.5910423960291067\nNegative set memberships per set inclusion op 0.5429881768596602\nBoolean var ratio of identifiers 0.5391803788711573\nEquivalences per logic ops 0.5297197287419086\nInteger var ratio of identifiers 0.5180222306901124\nSet comprehensions per conjunct 0.5087152354911927\n#ids with semi-bounded domains ratio of all identifers, explicit 0.4879532307092477\nprj1 ratio of rel ops 0.4814827592911321\nprj2 ratio of rel ops 0.4608479835487216\nBijective relations ratio of all relations 0.453922983642738\nTotal relations ratio of all relations 0.453922983642738\nnumber of closures per conjunct 0.45349815393899473\n`permutation` calls ratio per seq op 0.4245197135990023\nGeneral set unions per set set op 0.4088414324962593\nStrict subsets per set inclusion op 0.40017529998044543\nParallel products ratio of rel ops 0.3767919459862535\nSurjective relations ratio of all relations 0.3725191573766903\ngeneral concatenations ratio per seq op 0.36466219217456547\n#ids with bounded domains ratio of all identifers, explicit 0.3587947038801364\nRange restriction ratio of rel ops 0.3285477513347814\nQuantified intersections per set set op 0.32049465774696523\nSurjective, total function ratio over functions 0.26034641830067423\nDirect products ratio of rel ops 0.23379500839583636\nGeneral intersections per set set op 0.2080514156202921\nRange subtraction ratio of rel ops 0.18026771725578739\nSurjective, partial function ratio over functions 0.10928309176754411\nDisjunctions per logic ops 0.053611885952784946\nConjunctions per logic ops -0.04085947273678421\nSet subtractions per set set op nan\nInjective sequence ratio of all sequences nan\n`size` calls ratio per seq op nan\n"
    }
   ],
   "source": [
    "sorted_mean_diffs = ((mean_diffs.iloc[0] / mean_diffs.iloc[1])).sort_values(ascending=False)\n",
    "\n",
    "for k in sorted_mean_diffs.keys():\n",
    "    fid = int(k[7:])\n",
    "    print(f109_name(fid), sorted_mean_diffs[k])"
   ]
  },
  {
   "cell_type": "markdown",
   "metadata": {},
   "source": [
    "## Training a Classifier\n",
    "\n",
    "First, let's check the performance a decision tree or a random forest can reach on a designated train and test set."
   ]
  },
  {
   "cell_type": "markdown",
   "metadata": {},
   "source": [
    "### Prepare the training and test data"
   ]
  },
  {
   "cell_type": "code",
   "execution_count": 8,
   "metadata": {},
   "outputs": [],
   "source": [
    "from sklearn.model_selection import train_test_split\n",
    "\n",
    "train, test = train_test_split(data, test_size = 0.2)\n",
    "train_x = train[train.columns[0:n_features]]\n",
    "train_y = train[\"Label0\"]\n",
    "\n",
    "test_x = test[test.columns[0:n_features]]\n",
    "test_y = test[\"Label0\"]"
   ]
  },
  {
   "cell_type": "code",
   "execution_count": 9,
   "metadata": {},
   "outputs": [
    {
     "data": {
      "text/plain": "<Figure size 432x288 with 0 Axes>"
     },
     "metadata": {},
     "output_type": "display_data"
    }
   ],
   "source": [
    "%run printing.py"
   ]
  },
  {
   "cell_type": "markdown",
   "metadata": {},
   "source": [
    "### Decision Tree"
   ]
  },
  {
   "cell_type": "code",
   "execution_count": 10,
   "metadata": {},
   "outputs": [
    {
     "data": {
      "text/plain": "DecisionTreeClassifier(ccp_alpha=0.0, class_weight='balanced', criterion='gini',\n                       max_depth=None, max_features=None, max_leaf_nodes=None,\n                       min_impurity_decrease=0.0, min_impurity_split=None,\n                       min_samples_leaf=1, min_samples_split=2,\n                       min_weight_fraction_leaf=0.0, presort='deprecated',\n                       random_state=None, splitter='best')"
     },
     "execution_count": 10,
     "metadata": {},
     "output_type": "execute_result"
    }
   ],
   "source": [
    "from sklearn.tree import DecisionTreeClassifier\n",
    "\n",
    "tree = DecisionTreeClassifier(class_weight=\"balanced\")\n",
    "\n",
    "tree.fit(train_x, train_y)"
   ]
  },
  {
   "cell_type": "code",
   "execution_count": 11,
   "metadata": {},
   "outputs": [
    {
     "name": "stdout",
     "output_type": "stream",
     "text": "Test accuracy: 0.904\nTest balanced accuracy: 0.875\nTest precision: 0.929\nTest recall: 0.940\nTest F1: 0.935\n"
    }
   ],
   "source": [
    "print_classifier_stats(tree, test_x, test_y)"
   ]
  },
  {
   "cell_type": "markdown",
   "metadata": {},
   "source": [
    "### Random Forest and Gini Importance\n",
    "\n",
    "Next we will train a random forest with Gini Impurity and also calculate the respective gini importances of each feature."
   ]
  },
  {
   "cell_type": "code",
   "execution_count": 12,
   "metadata": {},
   "outputs": [
    {
     "data": {
      "text/plain": "RandomForestClassifier(bootstrap=False, ccp_alpha=0.0, class_weight='balanced',\n                       criterion='gini', max_depth=None, max_features=0.7,\n                       max_leaf_nodes=None, max_samples=None,\n                       min_impurity_decrease=0.0, min_impurity_split=None,\n                       min_samples_leaf=1, min_samples_split=2,\n                       min_weight_fraction_leaf=0.0, n_estimators=100, n_jobs=6,\n                       oob_score=False, random_state=124, verbose=0,\n                       warm_start=False)"
     },
     "execution_count": 12,
     "metadata": {},
     "output_type": "execute_result"
    }
   ],
   "source": [
    "from sklearn.ensemble import RandomForestClassifier\n",
    "\n",
    "forest_0 = RandomForestClassifier(\n",
    "    n_estimators=100, # 100 Trees.\n",
    "    criterion=\"gini\", # Using Gini index instead of \"entropy\"\n",
    "    n_jobs=6, # Number of CPUs to use.\n",
    "    bootstrap=False,\n",
    "    max_features=0.7,\n",
    "    random_state=124,\n",
    "    class_weight=\"balanced\")\n",
    "\n",
    "forest_0.fit(train_x, train_y)\n"
   ]
  },
  {
   "cell_type": "code",
   "execution_count": 13,
   "metadata": {},
   "outputs": [
    {
     "name": "stdout",
     "output_type": "stream",
     "text": "Test accuracy: 0.926\nTest balanced accuracy: 0.906\nTest precision: 0.952\nTest recall: 0.948\nTest F1: 0.950\n"
    }
   ],
   "source": [
    "print_classifier_stats(forest_0, test_x, test_y)\n"
   ]
  },
  {
   "cell_type": "markdown",
   "metadata": {},
   "source": [
    "## Training on the full data set\n",
    "\n",
    "For the feature evaluation it might be more of interest to not exclude the test set from the training data. We do not aim for a good predictor but instead for an analysis over the whole dataset."
   ]
  },
  {
   "cell_type": "code",
   "execution_count": 14,
   "metadata": {},
   "outputs": [
    {
     "data": {
      "text/plain": "RandomForestClassifier(bootstrap=False, ccp_alpha=0.0, class_weight='balanced',\n                       criterion='gini', max_depth=None, max_features=0.7,\n                       max_leaf_nodes=None, max_samples=None,\n                       min_impurity_decrease=0.0, min_impurity_split=None,\n                       min_samples_leaf=1, min_samples_split=2,\n                       min_weight_fraction_leaf=0.0, n_estimators=50, n_jobs=6,\n                       oob_score=False, random_state=123, verbose=0,\n                       warm_start=False)"
     },
     "execution_count": 14,
     "metadata": {},
     "output_type": "execute_result"
    }
   ],
   "source": [
    "X = data[data.columns[0:n_features]]\n",
    "Y = data[\"Label0\"]\n",
    "\n",
    "forest = RandomForestClassifier(\n",
    "    n_estimators=50, # 50 Trees.\n",
    "    criterion=\"gini\", # Using Gini index instead of \"entropy\"\n",
    "    n_jobs=6, # Number of CPUs to use.\n",
    "    bootstrap=False,\n",
    "    max_features=0.7,\n",
    "    random_state=123,\n",
    "    class_weight=\"balanced\")\n",
    "\n",
    "forest.fit(X, Y)"
   ]
  },
  {
   "cell_type": "code",
   "execution_count": 15,
   "metadata": {},
   "outputs": [
    {
     "name": "stdout",
     "output_type": "stream",
     "text": "Test accuracy: 0.979\nTest balanced accuracy: 0.964\nTest precision: 0.971\nTest recall: 1.000\nTest F1: 0.985\n"
    }
   ],
   "source": [
    "print_classifier_stats(forest, X, Y)"
   ]
  },
  {
   "cell_type": "markdown",
   "metadata": {},
   "source": [
    "List features by importance"
   ]
  },
  {
   "cell_type": "code",
   "execution_count": 16,
   "metadata": {},
   "outputs": [],
   "source": [
    "importances = forest.feature_importances_\n",
    "std = np.std([tree.feature_importances_ for tree in forest.estimators_],\n",
    "             axis=0)\n",
    "indices = np.argsort(importances)[::-1]"
   ]
  },
  {
   "cell_type": "code",
   "execution_count": 17,
   "metadata": {},
   "outputs": [
    {
     "name": "stdout",
     "output_type": "stream",
     "text": "Feature ranking:\n  1. feature  80 (importance: 0.145793, rel. usage: 0.479328):  [Functions  ]  Function applications per conjunct\n  2. feature  23 (importance: 0.046781, rel. usage: 0.472676):  [Identifiers]  Function var ratio of identifiers\n  3. feature  74 (importance: 0.036300, rel. usage: 0.117541):  [Relations  ]  forward composition ratio of rel ops\n  4. feature  42 (importance: 0.031909, rel. usage: 0.342896):  [Set theory ]  Set operations per conjunct\n  5. feature   6 (importance: 0.027650, rel. usage: 0.751539):  [Logic      ]  Conjunctions per logic ops\n  6. feature   7 (importance: 0.026906, rel. usage: 0.692317):  [Logic      ]  Disjunctions per logic ops\n  7. feature   8 (importance: 0.024424, rel. usage: 0.797219):  [Logic      ]  Implications per logic ops\n  8. feature  58 (importance: 0.024329, rel. usage: 0.441308):  [Relations  ]  avg. power set nesting depth\n  9. feature  18 (importance: 0.024317, rel. usage: 0.999635):  [Identifiers]  Number of identifiers per conjunct\n 10. feature  67 (importance: 0.023729, rel. usage: 0.153002):  [Relations  ]  Relational overrides ratio of rel ops\n 11. feature  16 (importance: 0.019125, rel. usage: 0.784690):  [Equality   ]  Equality per conjunct\n 12. feature  21 (importance: 0.018501, rel. usage: 0.643614):  [Identifiers]  Set var ratio of identifiers\n 13. feature  55 (importance: 0.018248, rel. usage: 0.441308):  [Set theory ]  Powersets per conjunct\n 14. feature  71 (importance: 0.018218, rel. usage: 0.261615):  [Relations  ]  Relational range ratio of rel ops\n 15. feature  45 (importance: 0.018016, rel. usage: 0.652924):  [Set theory ]  Negative set memberships per set inclusion op\n 16. feature   1 (importance: 0.017836, rel. usage: 0.850975):  [Logic      ]  Max conjunct depth per conjunct\n 17. feature  79 (importance: 0.017722, rel. usage: 0.675903):  [Functions  ]  Functions per conjunct\n 18. feature   5 (importance: 0.017188, rel. usage: 0.999438):  [Logic      ]  Logic ops per conjunct\n 19. feature  17 (importance: 0.016858, rel. usage: 0.729555):  [Identifiers]  Inequality per conjunct\n 20. feature  44 (importance: 0.016415, rel. usage: 0.861866):  [Set theory ]  Set memberships ratio of set inclusion ops\n 21. feature  82 (importance: 0.016397, rel. usage: 0.457727):  [Functions  ]  General, total function ratio over functions\n 22. feature  41 (importance: 0.016229, rel. usage: 0.966177):  [Set theory ]  Set inclusions per conjunct\n 23. feature  12 (importance: 0.013755, rel. usage: 0.471541):  [Quantifiers]  Quantifiers per conjunct\n 24. feature  89 (importance: 0.013544, rel. usage: 0.030760):  [Sequences  ]  Lambda-expression ratio over functions\n 25. feature  31 (importance: 0.013468, rel. usage: 0.602103):  [Arithmetic ]  Arithmetic ops per conjunct\n 26. feature  70 (importance: 0.013458, rel. usage: 0.412875):  [Relations  ]  Relational domain ratio of rel ops\n 27. feature  46 (importance: 0.013348, rel. usage: 0.317288):  [Set theory ]  Subsets per set inclusion op\n 28. feature  14 (importance: 0.013275, rel. usage: 0.405036):  [Quantifiers]  \\exists ratio of all quantifiers\n 29. feature  19 (importance: 0.013015, rel. usage: 0.465589):  [Identifiers]  Integer var ratio of identifiers\n 30. feature  65 (importance: 0.011697, rel. usage: 0.267810):  [Relations  ]  Relational images ratio of rel ops\n 31. feature   4 (importance: 0.011538, rel. usage: 0.803883):  [Logic      ]  max negation depth per number of negations\n 32. feature  30 (importance: 0.011050, rel. usage: 0.974323):  [Arithmetic ]  #ids with unbounded domains ratio of all identifers, explicit\n 33. feature   2 (importance: 0.010865, rel. usage: 0.803883):  [Logic      ]  number of negations per conjunct\n 34. feature  60 (importance: 0.010625, rel. usage: 0.583923):  [Relations  ]  Rel ops per conjunct\n 35. feature  24 (importance: 0.010301, rel. usage: 0.467222):  [Identifiers]  #identifier relations per id\n 36. feature   0 (importance: 0.010288, rel. usage: 0.597830):  [Logic      ]  Number of conjuncts (log2)\n 37. feature  25 (importance: 0.010221, rel. usage: 0.443606):  [Identifiers]  #ids with bounded domains ratio of all identifers, symbolic\n 38. feature  57 (importance: 0.010214, rel. usage: 0.441308):  [Set theory ]  Powersets per set op\n 39. feature  27 (importance: 0.010127, rel. usage: 0.992838):  [Identifiers]  #ids with semi-bounded domains ratio of all identifers, symbolic\n 40. feature  10 (importance: 0.010116, rel. usage: 0.327895):  [Logic      ]  Boolean literals per conjunct\n 41. feature  15 (importance: 0.009873, rel. usage: 0.471541):  [Equality   ]  average nesting depth of quantifiers\n 42. feature  28 (importance: 0.009623, rel. usage: 0.425415):  [Identifiers]  #ids with semi-bounded domains ratio of all identifers, explicit\n 43. feature  22 (importance: 0.009460, rel. usage: 0.344280):  [Identifiers]  Relation var ratio of identifiers\n 44. feature  29 (importance: 0.009072, rel. usage: 0.270734):  [Identifiers]  #ids with unbounded domains ratio of all identifers, symbolic\n 45. feature  66 (importance: 0.008939, rel. usage: 0.239956):  [Relations  ]  Relational inversions ratio of rel ops\n 46. feature  33 (importance: 0.008229, rel. usage: 0.108005):  [Arithmetic ]  Multiplication ratio of arithmetic ops\n 47. feature   3 (importance: 0.008053, rel. usage: 0.803883):  [Logic      ]  max negation depth per conjunct\n 48. feature  48 (importance: 0.007737, rel. usage: 0.244507):  [Set theory ]  Set unions per set set op\n 49. feature  81 (importance: 0.007233, rel. usage: 0.341836):  [Functions  ]  General, partial function ratio over functions\n 50. feature  36 (importance: 0.006911, rel. usage: 0.479872):  [Arithmetic ]  Comparissons ratio of arithmetic ops\n 51. feature  32 (importance: 0.006862, rel. usage: 0.228794):  [Arithmetic ]  Addition ratio of arithmetic ops\n 52. feature  61 (importance: 0.006674, rel. usage: 0.154444):  [Relations  ]  General relations ratio of all relations\n 53. feature  20 (importance: 0.005851, rel. usage: 0.162902):  [Identifiers]  Boolean var ratio of identifiers\n 54. feature  49 (importance: 0.005139, rel. usage: 0.248160):  [Set theory ]  Intersections per set set op\n 55. feature  47 (importance: 0.004989, rel. usage: 0.129010):  [Set theory ]  Strict subsets per set inclusion op\n 56. feature   9 (importance: 0.004450, rel. usage: 0.148127):  [Logic      ]  Equivalences per logic ops\n 57. feature  90 (importance: 0.004399, rel. usage: 0.046022):  [Sequences  ]  Total amount of sequences per conjunct\n 58. feature  76 (importance: 0.004064, rel. usage: 0.046155):  [Relations  ]  Domain subtraction ratio of rel ops\n 59. feature  75 (importance: 0.003854, rel. usage: 0.130052):  [Relations  ]  Domain restriction ratio of rel ops\n 60. feature  59 (importance: 0.003619, rel. usage: 0.165803):  [Relations  ]  Relations per conjunct\n 61. feature  88 (importance: 0.003577, rel. usage: 0.068433):  [Functions  ]  Bijective, total function ratio over functions\n 62. feature  13 (importance: 0.003179, rel. usage: 0.272917):  [Quantifiers]  \\forall ratio of all quantifiers\n 63. feature  91 (importance: 0.003066, rel. usage: 0.032242):  [Sequences  ]  Seq ops per conjunct\n 64. feature  34 (importance: 0.002546, rel. usage: 0.016784):  [Arithmetic ]  Division ratio of arithmetic ops\n 65. feature  43 (importance: 0.002258, rel. usage: 0.040545):  [Set theory ]  Set comprehensions per conjunct\n 66. feature  77 (importance: 0.001969, rel. usage: 0.046027):  [Relations  ]  Range restriction ratio of rel ops\n 67. feature  97 (importance: 0.001579, rel. usage: 0.006195):  [Sequences  ]  `last` calls ratio per seq op\n 68. feature  92 (importance: 0.001516, rel. usage: 0.046022):  [Sequences  ]  Normal sequence ratio of all sequences\n 69. feature  95 (importance: 0.001299, rel. usage: 0.009130):  [Sequences  ]  `first` calls ratio per seq op\n 70. feature  83 (importance: 0.001151, rel. usage: 0.123603):  [Functions  ]  Injective, partial function ratio over functions\n 71. feature  26 (importance: 0.001140, rel. usage: 0.044181):  [Identifiers]  #ids with bounded domains ratio of all identifers, explicit\n 72. feature  84 (importance: 0.001085, rel. usage: 0.023865):  [Functions  ]  Injective, total function ratio over functions\n 73. feature  38 (importance: 0.000742, rel. usage: 0.001291):  [Arithmetic ]  General prod ratio of arithmetic ops\n 74. feature  35 (importance: 0.000601, rel. usage: 0.010473):  [Arithmetic ]  Modulo ratio of arithmetic ops\n 75. feature 100 (importance: 0.000566, rel. usage: 0.006143):  [Sequences  ]  `permutation` calls ratio per seq op\n 76. feature 103 (importance: 0.000556, rel. usage: 0.006618):  [Sequences  ]  tail insertions ratio per seq op\n 77. feature  78 (importance: 0.000473, rel. usage: 0.018764):  [Functions  ]  Range subtraction ratio of rel ops\n 78. feature  96 (importance: 0.000374, rel. usage: 0.006415):  [Sequences  ]  `tail` calls ratio per seq op\n 79. feature  37 (importance: 0.000310, rel. usage: 0.003480):  [Arithmetic ]  General sum ratio of arithmetic ops\n 80. feature 107 (importance: 0.000309, rel. usage: 0.002628):  [Closure    ]  number of closures per conjunct\n 81. feature 101 (importance: 0.000306, rel. usage: 0.005245):  [Sequences  ]  `concatenation` calls ratio per seq op\n 82. feature  11 (importance: 0.000268, rel. usage: 0.008407):  [Quantifiers]  Boolean conversions per conjunct\n 83. feature  51 (importance: 0.000213, rel. usage: 0.005274):  [Set theory ]  General set unions per set set op\n 84. feature  72 (importance: 0.000207, rel. usage: 0.007445):  [Relations  ]  prj1 ratio of rel ops\n 85. feature  99 (importance: 0.000191, rel. usage: 0.002553):  [Sequences  ]  `reverse` calls ratio per seq op\n 86. feature  85 (importance: 0.000174, rel. usage: 0.021584):  [Functions  ]  Surjective, partial function ratio over functions\n 87. feature  73 (importance: 0.000173, rel. usage: 0.007289):  [Relations  ]  prj2 ratio of rel ops\n 88. feature  98 (importance: 0.000167, rel. usage: 0.001696):  [Sequences  ]  `front` calls ratio per seq op\n 89. feature 105 (importance: 0.000153, rel. usage: 0.002924):  [Sequences  ]  tail restrictions ratio per seq op\n 90. feature  86 (importance: 0.000149, rel. usage: 0.013380):  [Functions  ]  Surjective, total function ratio over functions\n 91. feature 104 (importance: 0.000135, rel. usage: 0.002802):  [Sequences  ]  front restrictions ratio per seq op\n 92. feature  53 (importance: 0.000124, rel. usage: 0.005251):  [Set theory ]  Quantified set unions per set set op\n 93. feature  56 (importance: 0.000123, rel. usage: 0.007509):  [Set theory ]  Nested Powerset ration of powersets\n 94. feature  40 (importance: 0.000096, rel. usage: 0.000706):  [Set theory ]  `pred` ratio of arithmetic ops\n 95. feature  69 (importance: 0.000085, rel. usage: 0.003485):  [Relations  ]  Parallel products ratio of rel ops\n 96. feature  63 (importance: 0.000059, rel. usage: 0.011359):  [Relations  ]  Surjective relations ratio of all relations\n 97. feature  52 (importance: 0.000054, rel. usage: 0.002686):  [Set theory ]  General intersections per set set op\n 98. feature  68 (importance: 0.000050, rel. usage: 0.003155):  [Relations  ]  Direct products ratio of rel ops\n 99. feature  54 (importance: 0.000048, rel. usage: 0.002796):  [Set theory ]  Quantified intersections per set set op\n100. feature  87 (importance: 0.000031, rel. usage: 0.000179):  [Functions  ]  Bijective, partial function ratio over functions\n"
    }
   ],
   "source": [
    "# Print the feature ranking\n",
    "print(\"Feature ranking:\")\n",
    "\n",
    "cat_count_top50 = {}\n",
    "cat_count_top100 = {}\n",
    "for f in range(100):\n",
    "    cat = f109_category(indices[f])\n",
    "    cat_count_top100[cat] = cat_count_top100.get(cat, 0) + 1\n",
    "    if f < 50:\n",
    "        cat_count_top50[cat] = cat_count_top50.get(cat, 0) + 1\n",
    "    print(\"%3d. feature %3d (importance: %1.6f, rel. usage: %1.6f):  [%-11s]  %s\" % (f + 1, indices[f], importances[indices[f]], rel_feature_uses[indices[f]], cat, f109_name(indices[f])))"
   ]
  },
  {
   "cell_type": "markdown",
   "metadata": {},
   "source": [
    "How many of the features of each category made it to the top 100?"
   ]
  },
  {
   "cell_type": "code",
   "execution_count": 18,
   "metadata": {},
   "outputs": [],
   "source": [
    "cat_count_total = {}\n",
    "for f in range(n_features):\n",
    "    cat = f109_category(f)\n",
    "    cat_count_total[cat] = cat_count_total.get(cat, 0) + 1"
   ]
  },
  {
   "cell_type": "markdown",
   "metadata": {},
   "source": [
    "### Category count in Top 100"
   ]
  },
  {
   "cell_type": "code",
   "execution_count": 19,
   "metadata": {},
   "outputs": [
    {
     "name": "stdout",
     "output_type": "stream",
     "text": "Logic      : 11/11, 1.000%\nQuantifiers:  4/ 4, 1.000%\nEquality   :  2/ 2, 1.000%\nIdentifiers: 13/13, 1.000%\nArithmetic :  9/10, 0.900%\nSet theory : 17/18, 0.944%\nRelations  : 18/20, 0.900%\nFunctions  : 11/11, 1.000%\nSequences  : 14/17, 0.824%\nClosure    :  1/ 3, 0.333%\n"
    }
   ],
   "source": [
    "for cat, count in cat_count_total.items():\n",
    "    top100 = cat_count_top100.get(cat, 0)\n",
    "    print(\"%-11s: %2d/%2d, %.3f%%\" % (cat, top100, count, top100/count))"
   ]
  },
  {
   "cell_type": "markdown",
   "metadata": {},
   "source": [
    "### Category count in Top 50"
   ]
  },
  {
   "cell_type": "code",
   "execution_count": 20,
   "metadata": {},
   "outputs": [
    {
     "name": "stdout",
     "output_type": "stream",
     "text": "Logic      : 10/11, 0.909%\nQuantifiers:  2/ 4, 0.500%\nEquality   :  2/ 2, 1.000%\nIdentifiers: 11/13, 0.846%\nArithmetic :  4/10, 0.400%\nSet theory :  8/18, 0.444%\nRelations  :  8/20, 0.400%\nFunctions  :  4/11, 0.364%\nSequences  :  1/17, 0.059%\nClosure    :  0/ 3, 0.000%\n"
    }
   ],
   "source": [
    "for cat, count in cat_count_total.items():\n",
    "    top50 = cat_count_top50.get(cat, 0)\n",
    "    print(\"%-11s: %2d/%2d, %.3f%%\" % (cat, top50, count, top50/count))"
   ]
  },
  {
   "cell_type": "markdown",
   "metadata": {},
   "source": [
    "### Category counts Top 50 vs. Top 100"
   ]
  },
  {
   "cell_type": "code",
   "execution_count": 21,
   "metadata": {},
   "outputs": [
    {
     "name": "stdout",
     "output_type": "stream",
     "text": "------------ T100  T50   Decline\nLogic      : 1.000 0.909 0.091\nQuantifiers: 1.000 0.500 0.500\nEquality   : 1.000 1.000 0.000\nIdentifiers: 1.000 0.846 0.154\nArithmetic : 0.900 0.400 0.556\nSet theory : 0.944 0.444 0.529\nRelations  : 0.900 0.400 0.556\nFunctions  : 1.000 0.364 0.636\nSequences  : 0.824 0.059 0.929\nClosure    : 0.333 0.000 1.000\n"
    }
   ],
   "source": [
    "print(\"------------ %-5s %-5s Decline\" % (\"T100\", \"T50\"))\n",
    "for cat, count in cat_count_total.items():\n",
    "    top50 = cat_count_top50.get(cat, 0)\n",
    "    top100 = cat_count_top100.get(cat, 0)\n",
    "    print(\"%-11s: %.3f %.3f %.3f\" % (cat, top100/count, top50/count, ((top100-top50)/top100) if top100>0 else 0))\n"
   ]
  },
  {
   "cell_type": "markdown",
   "metadata": {},
   "source": [
    "## Taking a look at permutation importance\n",
    "\n",
    "While the Gini index captures the average gain of splitting on each feature in their respective position in the tree, the permutation importance is more robust against variable codependencies."
   ]
  },
  {
   "cell_type": "code",
   "execution_count": 22,
   "metadata": {},
   "outputs": [],
   "source": [
    "from sklearn.inspection import permutation_importance\n",
    "\n",
    "perm_importances = permutation_importance(forest, X, Y, scoring='balanced_accuracy', n_repeats=5, n_jobs=1, random_state=1234)\n",
    "perm_indices = perm_importances.importances_mean.argsort()[::-1]"
   ]
  },
  {
   "cell_type": "code",
   "execution_count": 23,
   "metadata": {},
   "outputs": [
    {
     "name": "stdout",
     "output_type": "stream",
     "text": "Feature ranking:\n  1. feature  80 (importance: 0.154543, rel. usage: 0.479328):  [Functions  ]  Function applications per conjunct\n  2. feature   8 (importance: 0.039193, rel. usage: 0.797219):  [Logic      ]  Implications per logic ops\n  3. feature  12 (importance: 0.034015, rel. usage: 0.471541):  [Quantifiers]  Quantifiers per conjunct\n  4. feature  55 (importance: 0.025178, rel. usage: 0.441308):  [Set theory ]  Powersets per conjunct\n  5. feature   6 (importance: 0.023195, rel. usage: 0.751539):  [Logic      ]  Conjunctions per logic ops\n  6. feature  82 (importance: 0.022805, rel. usage: 0.457727):  [Functions  ]  General, total function ratio over functions\n  7. feature  67 (importance: 0.017552, rel. usage: 0.153002):  [Relations  ]  Relational overrides ratio of rel ops\n  8. feature  18 (importance: 0.017419, rel. usage: 0.999635):  [Identifiers]  Number of identifiers per conjunct\n  9. feature  66 (importance: 0.015934, rel. usage: 0.239956):  [Relations  ]  Relational inversions ratio of rel ops\n 10. feature   7 (importance: 0.015406, rel. usage: 0.692317):  [Logic      ]  Disjunctions per logic ops\n 11. feature  74 (importance: 0.014064, rel. usage: 0.117541):  [Relations  ]  forward composition ratio of rel ops\n 12. feature  89 (importance: 0.012544, rel. usage: 0.030760):  [Sequences  ]  Lambda-expression ratio over functions\n 13. feature  17 (importance: 0.011379, rel. usage: 0.729555):  [Identifiers]  Inequality per conjunct\n 14. feature   1 (importance: 0.009135, rel. usage: 0.850975):  [Logic      ]  Max conjunct depth per conjunct\n 15. feature  41 (importance: 0.008512, rel. usage: 0.966177):  [Set theory ]  Set inclusions per conjunct\n 16. feature  21 (importance: 0.007960, rel. usage: 0.643614):  [Identifiers]  Set var ratio of identifiers\n 17. feature  58 (importance: 0.006852, rel. usage: 0.441308):  [Relations  ]  avg. power set nesting depth\n 18. feature  23 (importance: 0.006306, rel. usage: 0.472676):  [Identifiers]  Function var ratio of identifiers\n 19. feature   4 (importance: 0.006280, rel. usage: 0.803883):  [Logic      ]  max negation depth per number of negations\n 20. feature  44 (importance: 0.006216, rel. usage: 0.861866):  [Set theory ]  Set memberships ratio of set inclusion ops\n 21. feature  15 (importance: 0.006174, rel. usage: 0.471541):  [Equality   ]  average nesting depth of quantifiers\n 22. feature  10 (importance: 0.006145, rel. usage: 0.327895):  [Logic      ]  Boolean literals per conjunct\n 23. feature  65 (importance: 0.006001, rel. usage: 0.267810):  [Relations  ]  Relational images ratio of rel ops\n 24. feature  16 (importance: 0.005696, rel. usage: 0.784690):  [Equality   ]  Equality per conjunct\n 25. feature  45 (importance: 0.005502, rel. usage: 0.652924):  [Set theory ]  Negative set memberships per set inclusion op\n 26. feature  48 (importance: 0.005004, rel. usage: 0.244507):  [Set theory ]  Set unions per set set op\n 27. feature  24 (importance: 0.004821, rel. usage: 0.467222):  [Identifiers]  #identifier relations per id\n 28. feature   5 (importance: 0.004675, rel. usage: 0.999438):  [Logic      ]  Logic ops per conjunct\n 29. feature  79 (importance: 0.004549, rel. usage: 0.675903):  [Functions  ]  Functions per conjunct\n 30. feature  70 (importance: 0.004402, rel. usage: 0.412875):  [Relations  ]  Relational domain ratio of rel ops\n 31. feature  19 (importance: 0.004015, rel. usage: 0.465589):  [Identifiers]  Integer var ratio of identifiers\n 32. feature  60 (importance: 0.003934, rel. usage: 0.583923):  [Relations  ]  Rel ops per conjunct\n 33. feature  33 (importance: 0.003711, rel. usage: 0.108005):  [Arithmetic ]  Multiplication ratio of arithmetic ops\n 34. feature  46 (importance: 0.003519, rel. usage: 0.317288):  [Set theory ]  Subsets per set inclusion op\n 35. feature  90 (importance: 0.003273, rel. usage: 0.046022):  [Sequences  ]  Total amount of sequences per conjunct\n 36. feature  31 (importance: 0.003207, rel. usage: 0.602103):  [Arithmetic ]  Arithmetic ops per conjunct\n 37. feature  22 (importance: 0.003074, rel. usage: 0.344280):  [Identifiers]  Relation var ratio of identifiers\n 38. feature  25 (importance: 0.003027, rel. usage: 0.443606):  [Identifiers]  #ids with bounded domains ratio of all identifers, symbolic\n 39. feature  42 (importance: 0.002826, rel. usage: 0.342896):  [Set theory ]  Set operations per conjunct\n 40. feature  28 (importance: 0.002706, rel. usage: 0.425415):  [Identifiers]  #ids with semi-bounded domains ratio of all identifers, explicit\n 41. feature  81 (importance: 0.002574, rel. usage: 0.341836):  [Functions  ]  General, partial function ratio over functions\n 42. feature  76 (importance: 0.002382, rel. usage: 0.046155):  [Relations  ]  Domain subtraction ratio of rel ops\n 43. feature   2 (importance: 0.002145, rel. usage: 0.803883):  [Logic      ]  number of negations per conjunct\n 44. feature  27 (importance: 0.001889, rel. usage: 0.992838):  [Identifiers]  #ids with semi-bounded domains ratio of all identifers, symbolic\n 45. feature  59 (importance: 0.001387, rel. usage: 0.165803):  [Relations  ]  Relations per conjunct\n 46. feature  30 (importance: 0.001373, rel. usage: 0.974323):  [Arithmetic ]  #ids with unbounded domains ratio of all identifers, explicit\n 47. feature  29 (importance: 0.001325, rel. usage: 0.270734):  [Identifiers]  #ids with unbounded domains ratio of all identifers, symbolic\n 48. feature  47 (importance: 0.001260, rel. usage: 0.129010):  [Set theory ]  Strict subsets per set inclusion op\n 49. feature  71 (importance: 0.001183, rel. usage: 0.261615):  [Relations  ]  Relational range ratio of rel ops\n 50. feature  32 (importance: 0.001116, rel. usage: 0.228794):  [Arithmetic ]  Addition ratio of arithmetic ops\n 51. feature  36 (importance: 0.001108, rel. usage: 0.479872):  [Arithmetic ]  Comparissons ratio of arithmetic ops\n 52. feature   3 (importance: 0.001090, rel. usage: 0.803883):  [Logic      ]  max negation depth per conjunct\n 53. feature  34 (importance: 0.000788, rel. usage: 0.016784):  [Arithmetic ]  Division ratio of arithmetic ops\n 54. feature  20 (importance: 0.000759, rel. usage: 0.162902):  [Identifiers]  Boolean var ratio of identifiers\n 55. feature   9 (importance: 0.000722, rel. usage: 0.148127):  [Logic      ]  Equivalences per logic ops\n 56. feature  97 (importance: 0.000664, rel. usage: 0.006195):  [Sequences  ]  `last` calls ratio per seq op\n 57. feature  91 (importance: 0.000638, rel. usage: 0.032242):  [Sequences  ]  Seq ops per conjunct\n 58. feature  43 (importance: 0.000556, rel. usage: 0.040545):  [Set theory ]  Set comprehensions per conjunct\n 59. feature  88 (importance: 0.000547, rel. usage: 0.068433):  [Functions  ]  Bijective, total function ratio over functions\n 60. feature  57 (importance: 0.000543, rel. usage: 0.441308):  [Set theory ]  Powersets per set op\n 61. feature  95 (importance: 0.000421, rel. usage: 0.009130):  [Sequences  ]  `first` calls ratio per seq op\n 62. feature  38 (importance: 0.000364, rel. usage: 0.001291):  [Arithmetic ]  General prod ratio of arithmetic ops\n 63. feature  13 (importance: 0.000358, rel. usage: 0.272917):  [Quantifiers]  \\forall ratio of all quantifiers\n 64. feature  77 (importance: 0.000321, rel. usage: 0.046027):  [Relations  ]  Range restriction ratio of rel ops\n 65. feature 100 (importance: 0.000187, rel. usage: 0.006143):  [Sequences  ]  `permutation` calls ratio per seq op\n 66. feature  35 (importance: 0.000141, rel. usage: 0.010473):  [Arithmetic ]  Modulo ratio of arithmetic ops\n 67. feature 103 (importance: 0.000138, rel. usage: 0.006618):  [Sequences  ]  tail insertions ratio per seq op\n 68. feature  26 (importance: 0.000132, rel. usage: 0.044181):  [Identifiers]  #ids with bounded domains ratio of all identifers, explicit\n 69. feature  84 (importance: 0.000125, rel. usage: 0.023865):  [Functions  ]  Injective, total function ratio over functions\n 70. feature  61 (importance: 0.000117, rel. usage: 0.154444):  [Relations  ]  General relations ratio of all relations\n 71. feature  99 (importance: 0.000094, rel. usage: 0.002553):  [Sequences  ]  `reverse` calls ratio per seq op\n 72. feature  98 (importance: 0.000088, rel. usage: 0.001696):  [Sequences  ]  `front` calls ratio per seq op\n 73. feature  37 (importance: 0.000074, rel. usage: 0.003480):  [Arithmetic ]  General sum ratio of arithmetic ops\n 74. feature  49 (importance: 0.000067, rel. usage: 0.248160):  [Set theory ]  Intersections per set set op\n 75. feature  96 (importance: 0.000063, rel. usage: 0.006415):  [Sequences  ]  `tail` calls ratio per seq op\n 76. feature  56 (importance: 0.000058, rel. usage: 0.007509):  [Set theory ]  Nested Powerset ration of powersets\n 77. feature  83 (importance: 0.000058, rel. usage: 0.123603):  [Functions  ]  Injective, partial function ratio over functions\n 78. feature  78 (importance: 0.000054, rel. usage: 0.018764):  [Functions  ]  Range subtraction ratio of rel ops\n 79. feature  11 (importance: 0.000053, rel. usage: 0.008407):  [Quantifiers]  Boolean conversions per conjunct\n 80. feature 107 (importance: 0.000044, rel. usage: 0.002628):  [Closure    ]  number of closures per conjunct\n 81. feature  75 (importance: 0.000039, rel. usage: 0.130052):  [Relations  ]  Domain restriction ratio of rel ops\n 82. feature  72 (importance: 0.000034, rel. usage: 0.007445):  [Relations  ]  prj1 ratio of rel ops\n 83. feature  92 (importance: 0.000032, rel. usage: 0.046022):  [Sequences  ]  Normal sequence ratio of all sequences\n 84. feature  14 (importance: 0.000030, rel. usage: 0.405036):  [Quantifiers]  \\exists ratio of all quantifiers\n 85. feature 101 (importance: 0.000023, rel. usage: 0.005245):  [Sequences  ]  `concatenation` calls ratio per seq op\n 86. feature  69 (importance: 0.000021, rel. usage: 0.003485):  [Relations  ]  Parallel products ratio of rel ops\n 87. feature 104 (importance: 0.000020, rel. usage: 0.002802):  [Sequences  ]  front restrictions ratio per seq op\n 88. feature  40 (importance: 0.000020, rel. usage: 0.000706):  [Set theory ]  `pred` ratio of arithmetic ops\n 89. feature   0 (importance: 0.000019, rel. usage: 0.597830):  [Logic      ]  Number of conjuncts (log2)\n 90. feature  85 (importance: 0.000018, rel. usage: 0.021584):  [Functions  ]  Surjective, partial function ratio over functions\n 91. feature  86 (importance: 0.000014, rel. usage: 0.013380):  [Functions  ]  Surjective, total function ratio over functions\n 92. feature  87 (importance: 0.000007, rel. usage: 0.000179):  [Functions  ]  Bijective, partial function ratio over functions\n 93. feature  73 (importance: 0.000007, rel. usage: 0.007289):  [Relations  ]  prj2 ratio of rel ops\n 94. feature  53 (importance: 0.000007, rel. usage: 0.005251):  [Set theory ]  Quantified set unions per set set op\n 95. feature 108 (importance: 0.000000, rel. usage: 0.000313):  [Closure    ]  number of iterations per conjunct\n 96. feature  39 (importance: 0.000000, rel. usage: 0.000677):  [Arithmetic ]  `succ` ratio of arithmetic ops\n 97. feature  50 (importance: 0.000000, rel. usage: 0.000000):  [Set theory ]  Set subtractions per set set op\n 98. feature  51 (importance: 0.000000, rel. usage: 0.005274):  [Set theory ]  General set unions per set set op\n 99. feature  52 (importance: 0.000000, rel. usage: 0.002686):  [Set theory ]  General intersections per set set op\n100. feature  62 (importance: 0.000000, rel. usage: 0.005483):  [Relations  ]  Total relations ratio of all relations\n"
    }
   ],
   "source": [
    "# Print the feature ranking\n",
    "print(\"Feature ranking:\")\n",
    "\n",
    "pcat_count_top50 = {}\n",
    "pcat_count_top100 = {}\n",
    "for f in range(100):\n",
    "    cat = f109_category(perm_indices[f])\n",
    "    pcat_count_top100[cat] = pcat_count_top100.get(cat, 0) + 1\n",
    "    if f < 50:\n",
    "        pcat_count_top50[cat] = pcat_count_top50.get(cat, 0) + 1\n",
    "    print(\"%3d. feature %3d (importance: %1.6f, rel. usage: %1.6f):  [%-11s]  %s\" % (f + 1, perm_indices[f], perm_importances.importances_mean[perm_indices[f]], rel_feature_uses[perm_indices[f]], cat, f109_name(perm_indices[f])))"
   ]
  },
  {
   "cell_type": "code",
   "execution_count": 24,
   "metadata": {},
   "outputs": [
    {
     "name": "stdout",
     "output_type": "stream",
     "text": "------------ T100  T50   Decline\nLogic      : 1.000 0.727 0.273\nQuantifiers: 1.000 0.250 0.750\nEquality   : 1.000 1.000 0.000\nIdentifiers: 1.000 0.846 0.154\nArithmetic : 1.000 0.400 0.600\nSet theory : 0.944 0.444 0.529\nRelations  : 0.850 0.500 0.412\nFunctions  : 1.000 0.364 0.636\nSequences  : 0.765 0.118 0.846\nClosure    : 0.667 0.000 1.000\n"
    }
   ],
   "source": [
    "print(\"------------ %-5s %-5s Decline\" % (\"T100\", \"T50\"))\n",
    "for cat, count in cat_count_total.items():\n",
    "    top50 = pcat_count_top50.get(cat, 0)\n",
    "    top100 = pcat_count_top100.get(cat, 0)\n",
    "    print(\"%-11s: %.3f %.3f %.3f\" % (cat, top100/count, top50/count, ((top100-top50)/top100) if top100>0 else 0))\n"
   ]
  },
  {
   "cell_type": "markdown",
   "metadata": {},
   "source": [
    "## Top 50/100 comparison between Gini Importance and Permutation Importance"
   ]
  },
  {
   "cell_type": "code",
   "execution_count": 25,
   "metadata": {},
   "outputs": [
    {
     "name": "stdout",
     "output_type": "stream",
     "text": ".             Gini         Permutation\n.             T100  T50    T100  T50  \nLogic      :  1.000 0.909  1.000 0.727\nQuantifiers:  1.000 0.500  1.000 0.250\nEquality   :  1.000 1.000  1.000 1.000\nIdentifiers:  1.000 0.846  1.000 0.846\nArithmetic :  0.900 0.400  1.000 0.400\nSet theory :  0.944 0.444  0.944 0.444\nRelations  :  0.900 0.400  0.850 0.500\nFunctions  :  1.000 0.364  1.000 0.364\nSequences  :  0.824 0.059  0.765 0.118\nClosure    :  0.333 0.000  0.667 0.000\n"
    }
   ],
   "source": [
    "print(\".             Gini         Permutation\")\n",
    "print(\".             %-5s %-5s  %-5s %-5s\" % (\"T100\", \"T50\", \"T100\", \"T50\"))\n",
    "for cat, count in cat_count_total.items():\n",
    "    top50 = cat_count_top50.get(cat, 0)\n",
    "    top100 = cat_count_top100.get(cat, 0)\n",
    "    ptop50 = pcat_count_top50.get(cat, 0)\n",
    "    ptop100 = pcat_count_top100.get(cat, 0)\n",
    "    print(\"%-11s:  %.3f %.3f  %.3f %.3f\" % (cat, top100/count, top50/count, ptop100/count, ptop50/count))\n"
   ]
  },
  {
   "cell_type": "markdown",
   "metadata": {},
   "source": [
    "## Taking a look at the individual decision trees"
   ]
  },
  {
   "cell_type": "code",
   "execution_count": 26,
   "metadata": {},
   "outputs": [],
   "source": [
    "%run feature_stats.py\n",
    "\n",
    "def calc_feature_stats(feature_ids):\n",
    "    \"\"\"Returns a dictionary over the given feature ids as keys.\n",
    "    For each feature, another dictionary with the following structure is returned:\n",
    "        {'rank-gini': rank_gini_importance, 'rank-permutation': rank_permutation_importance,\n",
    "         'tendency': tendency,\n",
    "         'thresholds': {'list': thresholds,\n",
    "                        'avg': avg_threshold,\n",
    "                        'median': median_threshold},\n",
    "         'num_lower_below_threshold': num_left_lower,\n",
    "         'num_lower_above_threshold': num_right_lower}\n",
    "    The entry might be an empty dictionary if the corresponding feature was not used.\n",
    "    \"\"\"\n",
    "    stats = {}\n",
    "    for fid in feature_ids:\n",
    "        rank_gini = np.argwhere(indices == fid)[0][0]+1\n",
    "        rank_perm = np.argwhere(perm_indices == fid)[0][0]+1\n",
    "        thresholds = []\n",
    "        num_left_lower = 0\n",
    "        num_right_lower = 0\n",
    "        for tinfo in ftree_infos:\n",
    "            split_info = tinfo['splits'][fid]\n",
    "            if split_info == {}: continue # Feature not used in this tree.\n",
    "            thresholds.append(split_info['threshold'])\n",
    "            if split_info['unknown_rate'] > split_info['unknown_rate_left']:\n",
    "                num_left_lower += 1\n",
    "            else:\n",
    "                num_right_lower += 1\n",
    "        thresholds.sort()\n",
    "        if (len(thresholds) == 0):\n",
    "            stats[fid] = {}\n",
    "            continue\n",
    "        avg_threshold = sum(thresholds)/len(ftree_infos)\n",
    "        med_threshold = thresholds[len(thresholds)//2]\n",
    "        tendency = num_right_lower - num_left_lower\n",
    "        stats[fid] = {'rank-gini': rank_gini, 'rank-permutation': rank_perm,\n",
    "                      'tendency': tendency, 'thresholds': {'list': thresholds, 'avg': avg_threshold, 'median': med_threshold},\n",
    "                      'num_lower_below_threshold': num_left_lower, 'num_lower_above_threshold': num_right_lower}\n",
    "    return stats\n",
    "\n",
    "\n",
    "def print_feature_stats(feature_stats):\n",
    "    for fid in sorted(feature_stats.keys()):\n",
    "        stats = feature_stats.get(fid)\n",
    "        if stats == {}:\n",
    "            print(f109_name(fid))\n",
    "            print(\"  feature is not used.\")\n",
    "            continue\n",
    "        print(f109_name(fid))\n",
    "        print(\"  - Gini rank no.\", stats['rank-gini'], \"  Perm. rank no.\", stats['rank-permutation'], \"-\")\n",
    "        print(\"  avg threshold: %.3f (min %.3f, max %.3f, median %.3f)\" % (stats['thresholds']['avg'], stats['thresholds']['list'][0], stats['thresholds']['list'][-1], stats['thresholds']['median']))\n",
    "        tendency = stats['tendency']\n",
    "        num_left_lower = stats['num_lower_below_threshold']\n",
    "        num_right_lower = stats['num_lower_above_threshold']\n",
    "        print(\"  %.2f%% of trees observe higher solvability if below threshold, %.2f%% above\" % (100*num_left_lower/len(ftree_infos), 100*num_right_lower/len(ftree_infos)))\n",
    "        print(\"  tendency of %s values for more solvable constraints (tendency value: %d)\" % (\"higher\" if tendency > 0 else \"lower\", tendency))\n",
    "\n",
    "\n",
    "def print_feature_group_stats(features, category_name):\n",
    "    print(\"#\", category_name)\n",
    "    fs = calc_feature_stats(features)\n",
    "    tendencies = [fs[s]['tendency'] for s in fs.keys() if fs[s] != {}]\n",
    "    print(\"  Average tendency:\", sum(tendencies)/len(tendencies))\n",
    "    print_feature_stats(fs)\n",
    "\n"
   ]
  },
  {
   "cell_type": "code",
   "execution_count": 27,
   "metadata": {},
   "outputs": [],
   "source": [
    "forest_trees = forest.estimators_\n",
    "\n",
    "ftree_infos = []\n",
    "\n",
    "for tree in forest_trees:\n",
    "    ftree_infos.append(gather_tree_info(tree))"
   ]
  },
  {
   "cell_type": "markdown",
   "metadata": {},
   "source": [
    "For the top 50 features, what are the thresholds and where do they lead?\n",
    "The tendency values range from -50 to 50 (including) and show how many trees in the forest lead to an answer if the value is below (-50) or above (+50) their respective threshold."
   ]
  },
  {
   "cell_type": "code",
   "execution_count": 28,
   "metadata": {},
   "outputs": [
    {
     "name": "stdout",
     "output_type": "stream",
     "text": "-> Function applications per conjunct\n  avg threshold: 0.419 (min 0.090, max 9.000, median 0.116)\n  52.00% of trees observe higher solvability if below threshold, 48.00% above\n  tendency of lower values for more solvable constraints (tendency value: -2)\n-> Function var ratio of identifiers\n  avg threshold: 0.033 (min 0.009, max 0.155, median 0.024)\n  36.00% of trees observe higher solvability if below threshold, 64.00% above\n  tendency of higher values for more solvable constraints (tendency value: 14)\n-> forward composition ratio of rel ops\n  avg threshold: 0.426 (min 0.155, max 1.000, median 0.321)\n  56.00% of trees observe higher solvability if below threshold, 44.00% above\n  tendency of lower values for more solvable constraints (tendency value: -6)\n-> Set operations per conjunct\n  avg threshold: 0.779 (min 0.017, max 6.000, median 0.500)\n  12.00% of trees observe higher solvability if below threshold, 88.00% above\n  tendency of higher values for more solvable constraints (tendency value: 38)\n-> Conjunctions per logic ops\n  avg threshold: 0.591 (min -5.125, max 0.986, median 0.854)\n  74.00% of trees observe higher solvability if below threshold, 26.00% above\n  tendency of lower values for more solvable constraints (tendency value: -24)\n-> Disjunctions per logic ops\n  avg threshold: 8.782 (min 0.167, max 109.500, median 3.333)\n  66.00% of trees observe higher solvability if below threshold, 34.00% above\n  tendency of lower values for more solvable constraints (tendency value: -16)\n-> Implications per logic ops\n  avg threshold: 0.539 (min 0.019, max 0.750, median 0.631)\n  6.00% of trees observe higher solvability if below threshold, 94.00% above\n  tendency of higher values for more solvable constraints (tendency value: 44)\n-> avg. power set nesting depth\n  avg threshold: 0.431 (min 0.018, max 0.750, median 0.500)\n  46.00% of trees observe higher solvability if below threshold, 54.00% above\n  tendency of higher values for more solvable constraints (tendency value: 4)\n-> Number of identifiers per conjunct\n  avg threshold: 2.448 (min 0.017, max 10.167, median 1.044)\n  32.00% of trees observe higher solvability if below threshold, 68.00% above\n  tendency of higher values for more solvable constraints (tendency value: 18)\n-> Relational overrides ratio of rel ops\n  avg threshold: 0.509 (min 0.083, max 0.900, median 0.500)\n  44.00% of trees observe higher solvability if below threshold, 56.00% above\n  tendency of higher values for more solvable constraints (tendency value: 6)\n-> Equality per conjunct\n  avg threshold: 0.815 (min 0.007, max 12.500, median 0.500)\n  8.00% of trees observe higher solvability if below threshold, 92.00% above\n  tendency of higher values for more solvable constraints (tendency value: 42)\n-> Set var ratio of identifiers\n  avg threshold: 0.454 (min 0.012, max 0.929, median 0.500)\n  58.00% of trees observe higher solvability if below threshold, 42.00% above\n  tendency of lower values for more solvable constraints (tendency value: -8)\n-> Powersets per conjunct\n  avg threshold: 0.473 (min 0.004, max 0.696, median 0.696)\n  74.00% of trees observe higher solvability if below threshold, 26.00% above\n  tendency of lower values for more solvable constraints (tendency value: -24)\n-> Relational range ratio of rel ops\n  avg threshold: 0.462 (min 0.200, max 1.000, median 0.500)\n  28.00% of trees observe higher solvability if below threshold, 72.00% above\n  tendency of higher values for more solvable constraints (tendency value: 22)\n-> Negative set memberships per set inclusion op\n  avg threshold: 0.485 (min 0.024, max 1.000, median 0.500)\n  30.00% of trees observe higher solvability if below threshold, 70.00% above\n  tendency of higher values for more solvable constraints (tendency value: 20)\n-> Max conjunct depth per conjunct\n  avg threshold: 1.772 (min 0.500, max 4.978, median 1.829)\n  34.00% of trees observe higher solvability if below threshold, 66.00% above\n  tendency of higher values for more solvable constraints (tendency value: 16)\n-> Functions per conjunct\n  avg threshold: 0.966 (min 0.016, max 3.500, median 0.682)\n  36.00% of trees observe higher solvability if below threshold, 64.00% above\n  tendency of higher values for more solvable constraints (tendency value: 14)\n-> Logic ops per conjunct\n  avg threshold: 2.136 (min 0.018, max 22.500, median 0.750)\n  24.00% of trees observe higher solvability if below threshold, 76.00% above\n  tendency of higher values for more solvable constraints (tendency value: 26)\n-> Inequality per conjunct\n  avg threshold: 0.762 (min 0.022, max 9.500, median 0.500)\n  46.00% of trees observe higher solvability if below threshold, 54.00% above\n  tendency of higher values for more solvable constraints (tendency value: 4)\n-> Set memberships ratio of set inclusion ops\n  avg threshold: 0.626 (min 0.167, max 1.000, median 0.658)\n  34.00% of trees observe higher solvability if below threshold, 66.00% above\n  tendency of higher values for more solvable constraints (tendency value: 16)\n-> General, total function ratio over functions\n  avg threshold: 0.643 (min 0.091, max 1.000, median 0.750)\n  38.00% of trees observe higher solvability if below threshold, 62.00% above\n  tendency of higher values for more solvable constraints (tendency value: 12)\n-> Set inclusions per conjunct\n  avg threshold: 1.500 (min 0.061, max 12.500, median 0.659)\n  20.00% of trees observe higher solvability if below threshold, 80.00% above\n  tendency of higher values for more solvable constraints (tendency value: 30)\n-> Quantifiers per conjunct\n  avg threshold: 0.093 (min 0.027, max 0.775, median 0.031)\n  14.00% of trees observe higher solvability if below threshold, 86.00% above\n  tendency of higher values for more solvable constraints (tendency value: 36)\n-> Lambda-expression ratio over functions\n  avg threshold: 0.744 (min 0.167, max 0.875, median 0.818)\n  6.00% of trees observe higher solvability if below threshold, 94.00% above\n  tendency of higher values for more solvable constraints (tendency value: 44)\n-> Arithmetic ops per conjunct\n  avg threshold: 1.320 (min 0.019, max 8.750, median 0.984)\n  42.00% of trees observe higher solvability if below threshold, 58.00% above\n  tendency of higher values for more solvable constraints (tendency value: 8)\n-> Relational domain ratio of rel ops\n  avg threshold: 0.625 (min 0.125, max 1.000, median 0.500)\n  20.00% of trees observe higher solvability if below threshold, 80.00% above\n  tendency of higher values for more solvable constraints (tendency value: 30)\n-> Subsets per set inclusion op\n  avg threshold: 0.338 (min 0.042, max 0.750, median 0.404)\n  28.00% of trees observe higher solvability if below threshold, 72.00% above\n  tendency of higher values for more solvable constraints (tendency value: 22)\n-> \\exists ratio of all quantifiers\n  avg threshold: 0.601 (min 0.100, max 1.000, median 0.500)\n  42.00% of trees observe higher solvability if below threshold, 58.00% above\n  tendency of higher values for more solvable constraints (tendency value: 8)\n-> Integer var ratio of identifiers\n  avg threshold: 0.340 (min 0.016, max 1.000, median 0.300)\n  28.00% of trees observe higher solvability if below threshold, 72.00% above\n  tendency of higher values for more solvable constraints (tendency value: 22)\n-> Relational images ratio of rel ops\n  avg threshold: 0.333 (min 0.100, max 1.000, median 0.191)\n  74.00% of trees observe higher solvability if below threshold, 26.00% above\n  tendency of lower values for more solvable constraints (tendency value: -24)\n-> max negation depth per number of negations\n  avg threshold: 0.610 (min 0.167, max 1.000, median 0.583)\n  46.00% of trees observe higher solvability if below threshold, 54.00% above\n  tendency of higher values for more solvable constraints (tendency value: 4)\n-> #ids with unbounded domains ratio of all identifers, explicit\n  avg threshold: 0.817 (min 0.500, max 1.000, median 0.913)\n  40.00% of trees observe higher solvability if below threshold, 60.00% above\n  tendency of higher values for more solvable constraints (tendency value: 10)\n-> number of negations per conjunct\n  avg threshold: 0.665 (min 0.011, max 3.500, median 0.417)\n  46.00% of trees observe higher solvability if below threshold, 54.00% above\n  tendency of higher values for more solvable constraints (tendency value: 4)\n-> Rel ops per conjunct\n  avg threshold: 1.154 (min 0.019, max 8.000, median 0.578)\n  16.00% of trees observe higher solvability if below threshold, 84.00% above\n  tendency of higher values for more solvable constraints (tendency value: 34)\n-> #identifier relations per id\n  avg threshold: 0.384 (min 0.010, max 1.254, median 0.250)\n  28.00% of trees observe higher solvability if below threshold, 72.00% above\n  tendency of higher values for more solvable constraints (tendency value: 22)\n-> Number of conjuncts (log2)\n  avg threshold: 3.473 (min 0.500, max 7.285, median 3.857)\n  18.00% of trees observe higher solvability if below threshold, 82.00% above\n  tendency of higher values for more solvable constraints (tendency value: 32)\n-> #ids with bounded domains ratio of all identifers, symbolic\n  avg threshold: 0.417 (min 0.019, max 1.000, median 0.333)\n  50.00% of trees observe higher solvability if below threshold, 50.00% above\n  tendency of lower values for more solvable constraints (tendency value: 0)\n-> Powersets per set op\n  avg threshold: 990000.235 (min 0.056, max 3000000.000, median 500000.000)\n  32.00% of trees observe higher solvability if below threshold, 68.00% above\n  tendency of higher values for more solvable constraints (tendency value: 18)\n-> #ids with semi-bounded domains ratio of all identifers, symbolic\n  avg threshold: 0.768 (min 0.029, max 1.000, median 0.977)\n  32.00% of trees observe higher solvability if below threshold, 68.00% above\n  tendency of higher values for more solvable constraints (tendency value: 18)\n-> Boolean literals per conjunct\n  avg threshold: 1.134 (min 0.003, max 7.500, median 0.500)\n  36.00% of trees observe higher solvability if below threshold, 64.00% above\n  tendency of higher values for more solvable constraints (tendency value: 14)\n-> average nesting depth of quantifiers\n  avg threshold: 0.466 (min 0.015, max 1.000, median 0.450)\n  40.00% of trees observe higher solvability if below threshold, 60.00% above\n  tendency of higher values for more solvable constraints (tendency value: 10)\n-> #ids with semi-bounded domains ratio of all identifers, explicit\n  avg threshold: 0.374 (min 0.008, max 1.000, median 0.292)\n  44.00% of trees observe higher solvability if below threshold, 56.00% above\n  tendency of higher values for more solvable constraints (tendency value: 6)\n-> Relation var ratio of identifiers\n  avg threshold: 0.143 (min 0.008, max 0.583, median 0.083)\n  42.00% of trees observe higher solvability if below threshold, 58.00% above\n  tendency of higher values for more solvable constraints (tendency value: 8)\n-> #ids with unbounded domains ratio of all identifers, symbolic\n  avg threshold: 0.239 (min 0.008, max 1.000, median 0.146)\n  34.00% of trees observe higher solvability if below threshold, 66.00% above\n  tendency of higher values for more solvable constraints (tendency value: 16)\n-> Relational inversions ratio of rel ops\n  avg threshold: 0.090 (min 0.028, max 0.667, median 0.067)\n  90.00% of trees observe higher solvability if below threshold, 10.00% above\n  tendency of lower values for more solvable constraints (tendency value: -40)\n-> Multiplication ratio of arithmetic ops\n  avg threshold: 0.607 (min 0.500, max 1.000, median 0.500)\n  76.00% of trees observe higher solvability if below threshold, 24.00% above\n  tendency of lower values for more solvable constraints (tendency value: -26)\n-> max negation depth per conjunct\n  avg threshold: 0.413 (min 0.007, max 1.500, median 0.250)\n  34.00% of trees observe higher solvability if below threshold, 66.00% above\n  tendency of higher values for more solvable constraints (tendency value: 16)\n-> Set unions per set set op\n  avg threshold: 0.583 (min 0.186, max 1.000, median 0.500)\n  32.00% of trees observe higher solvability if below threshold, 68.00% above\n  tendency of higher values for more solvable constraints (tendency value: 18)\n-> General, partial function ratio over functions\n  avg threshold: 0.591 (min 0.250, max 1.000, median 0.500)\n  46.00% of trees observe higher solvability if below threshold, 54.00% above\n  tendency of higher values for more solvable constraints (tendency value: 4)\n-> Comparissons ratio of arithmetic ops\n  avg threshold: 0.636 (min 0.056, max 1.000, median 0.500)\n  36.00% of trees observe higher solvability if below threshold, 64.00% above\n  tendency of higher values for more solvable constraints (tendency value: 14)\n"
    }
   ],
   "source": [
    "for fid in indices[0:50]:\n",
    "    print(\"->\", f109_name(fid))\n",
    "    thresholds = []\n",
    "    num_left_lower = 0\n",
    "    num_right_lower = 0\n",
    "    for tinfo in ftree_infos:\n",
    "        split_info = tinfo['splits'][fid]\n",
    "        if split_info == {}: continue # Feature not used in this tree.\n",
    "        thresholds.append(split_info['threshold'])\n",
    "        if split_info['unknown_rate'] > split_info['unknown_rate_left']:\n",
    "            num_left_lower += 1\n",
    "        else:\n",
    "            num_right_lower += 1\n",
    "    thresholds.sort()\n",
    "    avg_threshold = sum(thresholds)/len(ftree_infos)\n",
    "    med_threshold = thresholds[len(ftree_infos)//2]\n",
    "    print(\"  avg threshold: %.3f (min %.3f, max %.3f, median %.3f)\" % (avg_threshold, thresholds[0], thresholds[-1], med_threshold))\n",
    "    print(\"  %.2f%% of trees observe higher solvability if below threshold, %.2f%% above\" % (100*num_left_lower/len(ftree_infos), 100*num_right_lower/len(ftree_infos)))\n",
    "    tendency = num_right_lower - num_left_lower\n",
    "    print(\"  tendency of %s values for more solvable constraints (tendency value: %d)\" % (\"higher\" if tendency > 0 else \"lower\", tendency))\n"
   ]
  },
  {
   "cell_type": "markdown",
   "metadata": {},
   "source": [
    "We see that certain features, while having high relevancy for classification, display a tendency around 0. \n",
    "But what does that mean regarding their relevancy? Naively it look as the feature is not a language-subset in which the backend performs worse but rather that unknown-results are related to the rest of the predicate. Depending on the random data subset the respective tree was trained on, the threshold might split into better or worse samples."
   ]
  },
  {
   "cell_type": "markdown",
   "metadata": {},
   "source": [
    "### Display of tendencies per category"
   ]
  },
  {
   "cell_type": "code",
   "execution_count": 29,
   "metadata": {},
   "outputs": [
    {
     "name": "stdout",
     "output_type": "stream",
     "text": "# Logic\n  Average tendency: 6.333333333333333\nNumber of conjuncts (log2)\n  - Gini rank no. 36   Perm. rank no. 89 -\n  avg threshold: 3.473 (min 0.500, max 7.285, median 3.857)\n  18.00% of trees observe higher solvability if below threshold, 82.00% above\n  tendency of higher values for more solvable constraints (tendency value: 32)\nMax conjunct depth per conjunct\n  - Gini rank no. 16   Perm. rank no. 14 -\n  avg threshold: 1.772 (min 0.500, max 4.978, median 1.829)\n  34.00% of trees observe higher solvability if below threshold, 66.00% above\n  tendency of higher values for more solvable constraints (tendency value: 16)\nnumber of negations per conjunct\n  - Gini rank no. 33   Perm. rank no. 43 -\n  avg threshold: 0.665 (min 0.011, max 3.500, median 0.417)\n  46.00% of trees observe higher solvability if below threshold, 54.00% above\n  tendency of higher values for more solvable constraints (tendency value: 4)\nmax negation depth per conjunct\n  - Gini rank no. 47   Perm. rank no. 52 -\n  avg threshold: 0.413 (min 0.007, max 1.500, median 0.250)\n  34.00% of trees observe higher solvability if below threshold, 66.00% above\n  tendency of higher values for more solvable constraints (tendency value: 16)\nmax negation depth per number of negations\n  - Gini rank no. 31   Perm. rank no. 19 -\n  avg threshold: 0.610 (min 0.167, max 1.000, median 0.583)\n  46.00% of trees observe higher solvability if below threshold, 54.00% above\n  tendency of higher values for more solvable constraints (tendency value: 4)\nLogic ops per conjunct\n  - Gini rank no. 18   Perm. rank no. 28 -\n  avg threshold: 2.136 (min 0.018, max 22.500, median 0.750)\n  24.00% of trees observe higher solvability if below threshold, 76.00% above\n  tendency of higher values for more solvable constraints (tendency value: 26)\nConjunctions per logic ops\n  - Gini rank no. 5   Perm. rank no. 5 -\n  avg threshold: 0.591 (min -5.125, max 0.986, median 0.854)\n  74.00% of trees observe higher solvability if below threshold, 26.00% above\n  tendency of lower values for more solvable constraints (tendency value: -24)\nDisjunctions per logic ops\n  - Gini rank no. 6   Perm. rank no. 10 -\n  avg threshold: 8.782 (min 0.167, max 109.500, median 3.333)\n  66.00% of trees observe higher solvability if below threshold, 34.00% above\n  tendency of lower values for more solvable constraints (tendency value: -16)\nImplications per logic ops\n  - Gini rank no. 7   Perm. rank no. 2 -\n  avg threshold: 0.539 (min 0.019, max 0.750, median 0.631)\n  6.00% of trees observe higher solvability if below threshold, 94.00% above\n  tendency of higher values for more solvable constraints (tendency value: 44)\nEquivalences per logic ops\n  - Gini rank no. 56   Perm. rank no. 55 -\n  avg threshold: 0.274 (min 0.013, max 0.583, median 0.250)\n  54.00% of trees observe higher solvability if below threshold, 46.00% above\n  tendency of lower values for more solvable constraints (tendency value: -4)\nBoolean literals per conjunct\n  - Gini rank no. 40   Perm. rank no. 22 -\n  avg threshold: 1.134 (min 0.003, max 7.500, median 0.500)\n  36.00% of trees observe higher solvability if below threshold, 64.00% above\n  tendency of higher values for more solvable constraints (tendency value: 14)\nBoolean conversions per conjunct\n  - Gini rank no. 82   Perm. rank no. 79 -\n  avg threshold: 1.477 (min 0.083, max 2.500, median 1.500)\n  86.00% of trees observe higher solvability if below threshold, 14.00% above\n  tendency of lower values for more solvable constraints (tendency value: -36)\n"
    }
   ],
   "source": [
    "print_feature_group_stats(range(12), \"Logic\")"
   ]
  },
  {
   "cell_type": "code",
   "execution_count": 30,
   "metadata": {},
   "outputs": [
    {
     "name": "stdout",
     "output_type": "stream",
     "text": "# Quantifiers\n  Average tendency: 11.5\nQuantifiers per conjunct\n  - Gini rank no. 23   Perm. rank no. 3 -\n  avg threshold: 0.093 (min 0.027, max 0.775, median 0.031)\n  14.00% of trees observe higher solvability if below threshold, 86.00% above\n  tendency of higher values for more solvable constraints (tendency value: 36)\n\\forall ratio of all quantifiers\n  - Gini rank no. 62   Perm. rank no. 63 -\n  avg threshold: 0.599 (min 0.250, max 1.000, median 0.500)\n  58.00% of trees observe higher solvability if below threshold, 42.00% above\n  tendency of lower values for more solvable constraints (tendency value: -8)\n\\exists ratio of all quantifiers\n  - Gini rank no. 28   Perm. rank no. 84 -\n  avg threshold: 0.601 (min 0.100, max 1.000, median 0.500)\n  42.00% of trees observe higher solvability if below threshold, 58.00% above\n  tendency of higher values for more solvable constraints (tendency value: 8)\naverage nesting depth of quantifiers\n  - Gini rank no. 41   Perm. rank no. 21 -\n  avg threshold: 0.466 (min 0.015, max 1.000, median 0.450)\n  40.00% of trees observe higher solvability if below threshold, 60.00% above\n  tendency of higher values for more solvable constraints (tendency value: 10)\n"
    }
   ],
   "source": [
    "print_feature_group_stats(range(12, 16), \"Quantifiers\") "
   ]
  },
  {
   "cell_type": "code",
   "execution_count": 31,
   "metadata": {},
   "outputs": [
    {
     "name": "stdout",
     "output_type": "stream",
     "text": "# Equality\n  Average tendency: 23.0\nEquality per conjunct\n  - Gini rank no. 11   Perm. rank no. 24 -\n  avg threshold: 0.815 (min 0.007, max 12.500, median 0.500)\n  8.00% of trees observe higher solvability if below threshold, 92.00% above\n  tendency of higher values for more solvable constraints (tendency value: 42)\nInequality per conjunct\n  - Gini rank no. 19   Perm. rank no. 13 -\n  avg threshold: 0.762 (min 0.022, max 9.500, median 0.500)\n  46.00% of trees observe higher solvability if below threshold, 54.00% above\n  tendency of higher values for more solvable constraints (tendency value: 4)\n"
    }
   ],
   "source": [
    "print_feature_group_stats(range(16, 18), \"Equality\") "
   ]
  },
  {
   "cell_type": "code",
   "execution_count": 32,
   "metadata": {},
   "outputs": [
    {
     "name": "stdout",
     "output_type": "stream",
     "text": "# Identifiers\n  Average tendency: 6.615384615384615\nNumber of identifiers per conjunct\n  - Gini rank no. 9   Perm. rank no. 8 -\n  avg threshold: 2.448 (min 0.017, max 10.167, median 1.044)\n  32.00% of trees observe higher solvability if below threshold, 68.00% above\n  tendency of higher values for more solvable constraints (tendency value: 18)\nInteger var ratio of identifiers\n  - Gini rank no. 29   Perm. rank no. 31 -\n  avg threshold: 0.340 (min 0.016, max 1.000, median 0.300)\n  28.00% of trees observe higher solvability if below threshold, 72.00% above\n  tendency of higher values for more solvable constraints (tendency value: 22)\nBoolean var ratio of identifiers\n  - Gini rank no. 53   Perm. rank no. 54 -\n  avg threshold: 0.340 (min 0.013, max 1.000, median 0.250)\n  84.00% of trees observe higher solvability if below threshold, 16.00% above\n  tendency of lower values for more solvable constraints (tendency value: -34)\nSet var ratio of identifiers\n  - Gini rank no. 12   Perm. rank no. 16 -\n  avg threshold: 0.454 (min 0.012, max 0.929, median 0.500)\n  58.00% of trees observe higher solvability if below threshold, 42.00% above\n  tendency of lower values for more solvable constraints (tendency value: -8)\nRelation var ratio of identifiers\n  - Gini rank no. 43   Perm. rank no. 37 -\n  avg threshold: 0.143 (min 0.008, max 0.583, median 0.083)\n  42.00% of trees observe higher solvability if below threshold, 58.00% above\n  tendency of higher values for more solvable constraints (tendency value: 8)\nFunction var ratio of identifiers\n  - Gini rank no. 2   Perm. rank no. 18 -\n  avg threshold: 0.033 (min 0.009, max 0.155, median 0.024)\n  36.00% of trees observe higher solvability if below threshold, 64.00% above\n  tendency of higher values for more solvable constraints (tendency value: 14)\n#identifier relations per id\n  - Gini rank no. 35   Perm. rank no. 27 -\n  avg threshold: 0.384 (min 0.010, max 1.254, median 0.250)\n  28.00% of trees observe higher solvability if below threshold, 72.00% above\n  tendency of higher values for more solvable constraints (tendency value: 22)\n#ids with bounded domains ratio of all identifers, symbolic\n  - Gini rank no. 37   Perm. rank no. 38 -\n  avg threshold: 0.417 (min 0.019, max 1.000, median 0.333)\n  50.00% of trees observe higher solvability if below threshold, 50.00% above\n  tendency of lower values for more solvable constraints (tendency value: 0)\n#ids with bounded domains ratio of all identifers, explicit\n  - Gini rank no. 71   Perm. rank no. 68 -\n  avg threshold: 0.222 (min 0.036, max 0.833, median 0.205)\n  56.00% of trees observe higher solvability if below threshold, 44.00% above\n  tendency of lower values for more solvable constraints (tendency value: -6)\n#ids with semi-bounded domains ratio of all identifers, symbolic\n  - Gini rank no. 39   Perm. rank no. 44 -\n  avg threshold: 0.768 (min 0.029, max 1.000, median 0.977)\n  32.00% of trees observe higher solvability if below threshold, 68.00% above\n  tendency of higher values for more solvable constraints (tendency value: 18)\n#ids with semi-bounded domains ratio of all identifers, explicit\n  - Gini rank no. 42   Perm. rank no. 40 -\n  avg threshold: 0.374 (min 0.008, max 1.000, median 0.292)\n  44.00% of trees observe higher solvability if below threshold, 56.00% above\n  tendency of higher values for more solvable constraints (tendency value: 6)\n#ids with unbounded domains ratio of all identifers, symbolic\n  - Gini rank no. 44   Perm. rank no. 47 -\n  avg threshold: 0.239 (min 0.008, max 1.000, median 0.146)\n  34.00% of trees observe higher solvability if below threshold, 66.00% above\n  tendency of higher values for more solvable constraints (tendency value: 16)\n#ids with unbounded domains ratio of all identifers, explicit\n  - Gini rank no. 32   Perm. rank no. 46 -\n  avg threshold: 0.817 (min 0.500, max 1.000, median 0.913)\n  40.00% of trees observe higher solvability if below threshold, 60.00% above\n  tendency of higher values for more solvable constraints (tendency value: 10)\n"
    }
   ],
   "source": [
    "print_feature_group_stats(range(18, 31), \"Identifiers\") "
   ]
  },
  {
   "cell_type": "code",
   "execution_count": 33,
   "metadata": {},
   "outputs": [
    {
     "name": "stdout",
     "output_type": "stream",
     "text": "# Arithmetic\n  Average tendency: -8.8\nArithmetic ops per conjunct\n  - Gini rank no. 25   Perm. rank no. 36 -\n  avg threshold: 1.320 (min 0.019, max 8.750, median 0.984)\n  42.00% of trees observe higher solvability if below threshold, 58.00% above\n  tendency of higher values for more solvable constraints (tendency value: 8)\nAddition ratio of arithmetic ops\n  - Gini rank no. 51   Perm. rank no. 50 -\n  avg threshold: 0.538 (min 0.071, max 1.000, median 0.500)\n  40.00% of trees observe higher solvability if below threshold, 60.00% above\n  tendency of higher values for more solvable constraints (tendency value: 10)\nMultiplication ratio of arithmetic ops\n  - Gini rank no. 46   Perm. rank no. 33 -\n  avg threshold: 0.607 (min 0.500, max 1.000, median 0.500)\n  76.00% of trees observe higher solvability if below threshold, 24.00% above\n  tendency of lower values for more solvable constraints (tendency value: -26)\nDivision ratio of arithmetic ops\n  - Gini rank no. 64   Perm. rank no. 53 -\n  avg threshold: 0.405 (min 0.062, max 1.000, median 0.429)\n  82.00% of trees observe higher solvability if below threshold, 18.00% above\n  tendency of lower values for more solvable constraints (tendency value: -32)\nModulo ratio of arithmetic ops\n  - Gini rank no. 74   Perm. rank no. 66 -\n  avg threshold: 0.303 (min 0.111, max 1.000, median 0.250)\n  78.00% of trees observe higher solvability if below threshold, 22.00% above\n  tendency of lower values for more solvable constraints (tendency value: -28)\nComparissons ratio of arithmetic ops\n  - Gini rank no. 50   Perm. rank no. 51 -\n  avg threshold: 0.636 (min 0.056, max 1.000, median 0.500)\n  36.00% of trees observe higher solvability if below threshold, 64.00% above\n  tendency of higher values for more solvable constraints (tendency value: 14)\nGeneral sum ratio of arithmetic ops\n  - Gini rank no. 79   Perm. rank no. 73 -\n  avg threshold: 0.206 (min 0.004, max 0.708, median 0.100)\n  82.00% of trees observe higher solvability if below threshold, 18.00% above\n  tendency of lower values for more solvable constraints (tendency value: -32)\nGeneral prod ratio of arithmetic ops\n  - Gini rank no. 73   Perm. rank no. 62 -\n  avg threshold: 0.182 (min 0.004, max 0.833, median 0.083)\n  94.00% of trees observe higher solvability if below threshold, 6.00% above\n  tendency of lower values for more solvable constraints (tendency value: -44)\n`succ` ratio of arithmetic ops\n  - Gini rank no. 102   Perm. rank no. 96 -\n  avg threshold: 0.033 (min 0.015, max 0.196, median 0.042)\n  8.00% of trees observe higher solvability if below threshold, 32.00% above\n  tendency of higher values for more solvable constraints (tendency value: 12)\n`pred` ratio of arithmetic ops\n  - Gini rank no. 94   Perm. rank no. 88 -\n  avg threshold: 0.531 (min 0.007, max 1.000, median 0.500)\n  18.00% of trees observe higher solvability if below threshold, 78.00% above\n  tendency of higher values for more solvable constraints (tendency value: 30)\n"
    }
   ],
   "source": [
    "print_feature_group_stats(range(31, 41), \"Arithmetic\") "
   ]
  },
  {
   "cell_type": "code",
   "execution_count": 34,
   "metadata": {},
   "outputs": [
    {
     "name": "stdout",
     "output_type": "stream",
     "text": "# Set theory\n  Average tendency: 9.058823529411764\nSet inclusions per conjunct\n  - Gini rank no. 22   Perm. rank no. 15 -\n  avg threshold: 1.500 (min 0.061, max 12.500, median 0.659)\n  20.00% of trees observe higher solvability if below threshold, 80.00% above\n  tendency of higher values for more solvable constraints (tendency value: 30)\nSet operations per conjunct\n  - Gini rank no. 4   Perm. rank no. 39 -\n  avg threshold: 0.779 (min 0.017, max 6.000, median 0.500)\n  12.00% of trees observe higher solvability if below threshold, 88.00% above\n  tendency of higher values for more solvable constraints (tendency value: 38)\nSet comprehensions per conjunct\n  - Gini rank no. 65   Perm. rank no. 58 -\n  avg threshold: 0.531 (min 0.015, max 3.000, median 0.250)\n  76.00% of trees observe higher solvability if below threshold, 24.00% above\n  tendency of lower values for more solvable constraints (tendency value: -26)\nSet memberships ratio of set inclusion ops\n  - Gini rank no. 20   Perm. rank no. 20 -\n  avg threshold: 0.626 (min 0.167, max 1.000, median 0.658)\n  34.00% of trees observe higher solvability if below threshold, 66.00% above\n  tendency of higher values for more solvable constraints (tendency value: 16)\nNegative set memberships per set inclusion op\n  - Gini rank no. 15   Perm. rank no. 25 -\n  avg threshold: 0.485 (min 0.024, max 1.000, median 0.500)\n  30.00% of trees observe higher solvability if below threshold, 70.00% above\n  tendency of higher values for more solvable constraints (tendency value: 20)\nSubsets per set inclusion op\n  - Gini rank no. 27   Perm. rank no. 34 -\n  avg threshold: 0.338 (min 0.042, max 0.750, median 0.404)\n  28.00% of trees observe higher solvability if below threshold, 72.00% above\n  tendency of higher values for more solvable constraints (tendency value: 22)\nStrict subsets per set inclusion op\n  - Gini rank no. 55   Perm. rank no. 48 -\n  avg threshold: 0.425 (min 0.083, max 1.000, median 0.417)\n  62.00% of trees observe higher solvability if below threshold, 38.00% above\n  tendency of lower values for more solvable constraints (tendency value: -12)\nSet unions per set set op\n  - Gini rank no. 48   Perm. rank no. 26 -\n  avg threshold: 0.583 (min 0.186, max 1.000, median 0.500)\n  32.00% of trees observe higher solvability if below threshold, 68.00% above\n  tendency of higher values for more solvable constraints (tendency value: 18)\nIntersections per set set op\n  - Gini rank no. 54   Perm. rank no. 74 -\n  avg threshold: 0.526 (min 0.167, max 1.000, median 0.500)\n  36.00% of trees observe higher solvability if below threshold, 64.00% above\n  tendency of higher values for more solvable constraints (tendency value: 14)\nSet subtractions per set set op\n  feature is not used.\nGeneral set unions per set set op\n  - Gini rank no. 83   Perm. rank no. 98 -\n  avg threshold: 0.209 (min 0.011, max 0.417, median 0.250)\n  40.00% of trees observe higher solvability if below threshold, 60.00% above\n  tendency of higher values for more solvable constraints (tendency value: 10)\nGeneral intersections per set set op\n  - Gini rank no. 97   Perm. rank no. 99 -\n  avg threshold: 0.172 (min 0.005, max 0.500, median 0.125)\n  44.00% of trees observe higher solvability if below threshold, 54.00% above\n  tendency of higher values for more solvable constraints (tendency value: 5)\nQuantified set unions per set set op\n  - Gini rank no. 92   Perm. rank no. 94 -\n  avg threshold: 0.087 (min 0.002, max 0.268, median 0.056)\n  40.00% of trees observe higher solvability if below threshold, 52.00% above\n  tendency of higher values for more solvable constraints (tendency value: 6)\nQuantified intersections per set set op\n  - Gini rank no. 99   Perm. rank no. 109 -\n  avg threshold: 0.052 (min 0.003, max 0.125, median 0.056)\n  28.00% of trees observe higher solvability if below threshold, 54.00% above\n  tendency of higher values for more solvable constraints (tendency value: 13)\nPowersets per conjunct\n  - Gini rank no. 13   Perm. rank no. 4 -\n  avg threshold: 0.473 (min 0.004, max 0.696, median 0.696)\n  74.00% of trees observe higher solvability if below threshold, 26.00% above\n  tendency of lower values for more solvable constraints (tendency value: -24)\nNested Powerset ration of powersets\n  - Gini rank no. 93   Perm. rank no. 76 -\n  avg threshold: 0.258 (min 0.081, max 0.476, median 0.250)\n  48.00% of trees observe higher solvability if below threshold, 52.00% above\n  tendency of higher values for more solvable constraints (tendency value: 2)\nPowersets per set op\n  - Gini rank no. 38   Perm. rank no. 60 -\n  avg threshold: 990000.235 (min 0.056, max 3000000.000, median 500000.000)\n  32.00% of trees observe higher solvability if below threshold, 68.00% above\n  tendency of higher values for more solvable constraints (tendency value: 18)\navg. power set nesting depth\n  - Gini rank no. 8   Perm. rank no. 17 -\n  avg threshold: 0.431 (min 0.018, max 0.750, median 0.500)\n  46.00% of trees observe higher solvability if below threshold, 54.00% above\n  tendency of higher values for more solvable constraints (tendency value: 4)\n"
    }
   ],
   "source": [
    "print_feature_group_stats(range(41, 59), \"Set theory\") "
   ]
  },
  {
   "cell_type": "code",
   "execution_count": 35,
   "metadata": {},
   "outputs": [
    {
     "name": "stdout",
     "output_type": "stream",
     "text": "# Relations\n  Average tendency: -2.2\nRelations per conjunct\n  - Gini rank no. 60   Perm. rank no. 45 -\n  avg threshold: 0.703 (min 0.045, max 2.500, median 0.708)\n  68.00% of trees observe higher solvability if below threshold, 32.00% above\n  tendency of lower values for more solvable constraints (tendency value: -18)\nRel ops per conjunct\n  - Gini rank no. 34   Perm. rank no. 32 -\n  avg threshold: 1.154 (min 0.019, max 8.000, median 0.578)\n  16.00% of trees observe higher solvability if below threshold, 84.00% above\n  tendency of higher values for more solvable constraints (tendency value: 34)\nGeneral relations ratio of all relations\n  - Gini rank no. 52   Perm. rank no. 70 -\n  avg threshold: 0.670 (min 0.500, max 1.000, median 0.500)\n  62.00% of trees observe higher solvability if below threshold, 38.00% above\n  tendency of lower values for more solvable constraints (tendency value: -12)\nTotal relations ratio of all relations\n  - Gini rank no. 103   Perm. rank no. 100 -\n  avg threshold: 0.052 (min 0.100, max 0.267, median 0.267)\n  10.00% of trees observe higher solvability if below threshold, 14.00% above\n  tendency of higher values for more solvable constraints (tendency value: 2)\nSurjective relations ratio of all relations\n  - Gini rank no. 96   Perm. rank no. 101 -\n  avg threshold: 0.182 (min 0.167, max 0.800, median 0.500)\n  14.00% of trees observe higher solvability if below threshold, 26.00% above\n  tendency of higher values for more solvable constraints (tendency value: 6)\nBijective relations ratio of all relations\n  - Gini rank no. 105   Perm. rank no. 102 -\n  avg threshold: 0.029 (min 0.100, max 0.267, median 0.100)\n  4.00% of trees observe higher solvability if below threshold, 18.00% above\n  tendency of higher values for more solvable constraints (tendency value: 7)\nRelational images ratio of rel ops\n  - Gini rank no. 30   Perm. rank no. 23 -\n  avg threshold: 0.333 (min 0.100, max 1.000, median 0.191)\n  74.00% of trees observe higher solvability if below threshold, 26.00% above\n  tendency of lower values for more solvable constraints (tendency value: -24)\nRelational inversions ratio of rel ops\n  - Gini rank no. 45   Perm. rank no. 9 -\n  avg threshold: 0.090 (min 0.028, max 0.667, median 0.067)\n  90.00% of trees observe higher solvability if below threshold, 10.00% above\n  tendency of lower values for more solvable constraints (tendency value: -40)\nRelational overrides ratio of rel ops\n  - Gini rank no. 10   Perm. rank no. 7 -\n  avg threshold: 0.509 (min 0.083, max 0.900, median 0.500)\n  44.00% of trees observe higher solvability if below threshold, 56.00% above\n  tendency of higher values for more solvable constraints (tendency value: 6)\nDirect products ratio of rel ops\n  - Gini rank no. 98   Perm. rank no. 103 -\n  avg threshold: 0.141 (min 0.077, max 0.833, median 0.125)\n  38.00% of trees observe higher solvability if below threshold, 46.00% above\n  tendency of higher values for more solvable constraints (tendency value: 4)\nParallel products ratio of rel ops\n  - Gini rank no. 95   Perm. rank no. 86 -\n  avg threshold: 0.282 (min 0.071, max 0.700, median 0.236)\n  74.00% of trees observe higher solvability if below threshold, 24.00% above\n  tendency of lower values for more solvable constraints (tendency value: -25)\nRelational domain ratio of rel ops\n  - Gini rank no. 26   Perm. rank no. 30 -\n  avg threshold: 0.625 (min 0.125, max 1.000, median 0.500)\n  20.00% of trees observe higher solvability if below threshold, 80.00% above\n  tendency of higher values for more solvable constraints (tendency value: 30)\nRelational range ratio of rel ops\n  - Gini rank no. 14   Perm. rank no. 49 -\n  avg threshold: 0.462 (min 0.200, max 1.000, median 0.500)\n  28.00% of trees observe higher solvability if below threshold, 72.00% above\n  tendency of higher values for more solvable constraints (tendency value: 22)\nprj1 ratio of rel ops\n  - Gini rank no. 84   Perm. rank no. 82 -\n  avg threshold: 0.208 (min 0.018, max 1.000, median 0.160)\n  68.00% of trees observe higher solvability if below threshold, 32.00% above\n  tendency of lower values for more solvable constraints (tendency value: -18)\nprj2 ratio of rel ops\n  - Gini rank no. 87   Perm. rank no. 93 -\n  avg threshold: 0.163 (min 0.071, max 0.500, median 0.160)\n  60.00% of trees observe higher solvability if below threshold, 40.00% above\n  tendency of lower values for more solvable constraints (tendency value: -10)\nforward composition ratio of rel ops\n  - Gini rank no. 3   Perm. rank no. 11 -\n  avg threshold: 0.426 (min 0.155, max 1.000, median 0.321)\n  56.00% of trees observe higher solvability if below threshold, 44.00% above\n  tendency of lower values for more solvable constraints (tendency value: -6)\nDomain restriction ratio of rel ops\n  - Gini rank no. 59   Perm. rank no. 81 -\n  avg threshold: 0.342 (min 0.100, max 1.000, median 0.310)\n  80.00% of trees observe higher solvability if below threshold, 20.00% above\n  tendency of lower values for more solvable constraints (tendency value: -30)\nDomain subtraction ratio of rel ops\n  - Gini rank no. 58   Perm. rank no. 42 -\n  avg threshold: 0.718 (min 0.083, max 1.000, median 0.833)\n  74.00% of trees observe higher solvability if below threshold, 26.00% above\n  tendency of lower values for more solvable constraints (tendency value: -24)\nRange restriction ratio of rel ops\n  - Gini rank no. 66   Perm. rank no. 64 -\n  avg threshold: 0.249 (min 0.100, max 0.500, median 0.167)\n  36.00% of trees observe higher solvability if below threshold, 64.00% above\n  tendency of higher values for more solvable constraints (tendency value: 14)\nRange subtraction ratio of rel ops\n  - Gini rank no. 77   Perm. rank no. 78 -\n  avg threshold: 0.291 (min 0.100, max 0.500, median 0.167)\n  12.00% of trees observe higher solvability if below threshold, 88.00% above\n  tendency of higher values for more solvable constraints (tendency value: 38)\n"
    }
   ],
   "source": [
    "print_feature_group_stats(range(59, 79), \"Relations\") "
   ]
  },
  {
   "cell_type": "code",
   "execution_count": 36,
   "metadata": {},
   "outputs": [
    {
     "name": "stdout",
     "output_type": "stream",
     "text": "# Functions\n  Average tendency: 5.2727272727272725\nFunctions per conjunct\n  - Gini rank no. 17   Perm. rank no. 29 -\n  avg threshold: 0.966 (min 0.016, max 3.500, median 0.682)\n  36.00% of trees observe higher solvability if below threshold, 64.00% above\n  tendency of higher values for more solvable constraints (tendency value: 14)\nFunction applications per conjunct\n  - Gini rank no. 1   Perm. rank no. 1 -\n  avg threshold: 0.419 (min 0.090, max 9.000, median 0.116)\n  52.00% of trees observe higher solvability if below threshold, 48.00% above\n  tendency of lower values for more solvable constraints (tendency value: -2)\nGeneral, partial function ratio over functions\n  - Gini rank no. 49   Perm. rank no. 41 -\n  avg threshold: 0.591 (min 0.250, max 1.000, median 0.500)\n  46.00% of trees observe higher solvability if below threshold, 54.00% above\n  tendency of higher values for more solvable constraints (tendency value: 4)\nGeneral, total function ratio over functions\n  - Gini rank no. 21   Perm. rank no. 6 -\n  avg threshold: 0.643 (min 0.091, max 1.000, median 0.750)\n  38.00% of trees observe higher solvability if below threshold, 62.00% above\n  tendency of higher values for more solvable constraints (tendency value: 12)\nInjective, partial function ratio over functions\n  - Gini rank no. 70   Perm. rank no. 77 -\n  avg threshold: 0.493 (min 0.167, max 0.900, median 0.500)\n  44.00% of trees observe higher solvability if below threshold, 56.00% above\n  tendency of higher values for more solvable constraints (tendency value: 6)\nInjective, total function ratio over functions\n  - Gini rank no. 72   Perm. rank no. 69 -\n  avg threshold: 0.434 (min 0.167, max 0.667, median 0.500)\n  30.00% of trees observe higher solvability if below threshold, 70.00% above\n  tendency of higher values for more solvable constraints (tendency value: 20)\nSurjective, partial function ratio over functions\n  - Gini rank no. 86   Perm. rank no. 90 -\n  avg threshold: 0.467 (min 0.167, max 0.500, median 0.500)\n  24.00% of trees observe higher solvability if below threshold, 76.00% above\n  tendency of higher values for more solvable constraints (tendency value: 26)\nSurjective, total function ratio over functions\n  - Gini rank no. 90   Perm. rank no. 91 -\n  avg threshold: 0.310 (min 0.071, max 0.667, median 0.333)\n  70.00% of trees observe higher solvability if below threshold, 30.00% above\n  tendency of lower values for more solvable constraints (tendency value: -20)\nBijective, partial function ratio over functions\n  - Gini rank no. 100   Perm. rank no. 92 -\n  avg threshold: 0.068 (min 0.062, max 0.500, median 0.062)\n  46.00% of trees observe higher solvability if below threshold, 30.00% above\n  tendency of lower values for more solvable constraints (tendency value: -8)\nBijective, total function ratio over functions\n  - Gini rank no. 61   Perm. rank no. 59 -\n  avg threshold: 0.563 (min 0.167, max 1.000, median 0.500)\n  88.00% of trees observe higher solvability if below threshold, 12.00% above\n  tendency of lower values for more solvable constraints (tendency value: -38)\nLambda-expression ratio over functions\n  - Gini rank no. 24   Perm. rank no. 12 -\n  avg threshold: 0.744 (min 0.167, max 0.875, median 0.818)\n  6.00% of trees observe higher solvability if below threshold, 94.00% above\n  tendency of higher values for more solvable constraints (tendency value: 44)\n"
    }
   ],
   "source": [
    "print_feature_group_stats(range(79, 90), \"Functions\") "
   ]
  },
  {
   "cell_type": "code",
   "execution_count": 37,
   "metadata": {},
   "outputs": [
    {
     "name": "stdout",
     "output_type": "stream",
     "text": "# Sequences\n  Average tendency: -8.0\nTotal amount of sequences per conjunct\n  - Gini rank no. 57   Perm. rank no. 35 -\n  avg threshold: 0.581 (min 0.040, max 5.000, median 0.270)\n  20.00% of trees observe higher solvability if below threshold, 80.00% above\n  tendency of higher values for more solvable constraints (tendency value: 30)\nSeq ops per conjunct\n  - Gini rank no. 63   Perm. rank no. 57 -\n  avg threshold: 2.232 (min 0.125, max 7.250, median 1.500)\n  70.00% of trees observe higher solvability if below threshold, 30.00% above\n  tendency of lower values for more solvable constraints (tendency value: -20)\nNormal sequence ratio of all sequences\n  - Gini rank no. 68   Perm. rank no. 83 -\n  avg threshold: 0.820 (min 0.500, max 1.000, median 1.000)\n  38.00% of trees observe higher solvability if below threshold, 62.00% above\n  tendency of higher values for more solvable constraints (tendency value: 12)\nInjective sequence ratio of all sequences\n  feature is not used.\n`size` calls ratio per seq op\n  feature is not used.\n`first` calls ratio per seq op\n  - Gini rank no. 69   Perm. rank no. 61 -\n  avg threshold: 0.459 (min 0.118, max 1.000, median 0.500)\n  78.00% of trees observe higher solvability if below threshold, 22.00% above\n  tendency of lower values for more solvable constraints (tendency value: -28)\n`tail` calls ratio per seq op\n  - Gini rank no. 78   Perm. rank no. 75 -\n  avg threshold: 0.641 (min 0.167, max 0.833, median 0.750)\n  74.00% of trees observe higher solvability if below threshold, 26.00% above\n  tendency of lower values for more solvable constraints (tendency value: -24)\n`last` calls ratio per seq op\n  - Gini rank no. 67   Perm. rank no. 56 -\n  avg threshold: 0.493 (min 0.095, max 1.000, median 0.500)\n  90.00% of trees observe higher solvability if below threshold, 10.00% above\n  tendency of lower values for more solvable constraints (tendency value: -40)\n`front` calls ratio per seq op\n  - Gini rank no. 88   Perm. rank no. 72 -\n  avg threshold: 0.586 (min 0.024, max 0.750, median 0.750)\n  66.00% of trees observe higher solvability if below threshold, 34.00% above\n  tendency of lower values for more solvable constraints (tendency value: -16)\n`reverse` calls ratio per seq op\n  - Gini rank no. 85   Perm. rank no. 71 -\n  avg threshold: 0.767 (min 0.167, max 1.000, median 0.833)\n  44.00% of trees observe higher solvability if below threshold, 56.00% above\n  tendency of higher values for more solvable constraints (tendency value: 6)\n`permutation` calls ratio per seq op\n  - Gini rank no. 75   Perm. rank no. 65 -\n  avg threshold: 0.558 (min 0.417, max 1.000, median 0.500)\n  96.00% of trees observe higher solvability if below threshold, 4.00% above\n  tendency of lower values for more solvable constraints (tendency value: -46)\n`concatenation` calls ratio per seq op\n  - Gini rank no. 81   Perm. rank no. 85 -\n  avg threshold: 0.370 (min 0.091, max 0.667, median 0.333)\n  46.00% of trees observe higher solvability if below threshold, 54.00% above\n  tendency of higher values for more solvable constraints (tendency value: 4)\nfront insertions ratio per seq op\n  - Gini rank no. 101   Perm. rank no. 106 -\n  avg threshold: 0.056 (min 0.083, max 0.292, median 0.125)\n  30.00% of trees observe higher solvability if below threshold, 12.00% above\n  tendency of lower values for more solvable constraints (tendency value: -9)\ntail insertions ratio per seq op\n  - Gini rank no. 76   Perm. rank no. 67 -\n  avg threshold: 0.616 (min 0.167, max 1.000, median 0.500)\n  50.00% of trees observe higher solvability if below threshold, 50.00% above\n  tendency of lower values for more solvable constraints (tendency value: 0)\nfront restrictions ratio per seq op\n  - Gini rank no. 91   Perm. rank no. 87 -\n  avg threshold: 0.423 (min 0.083, max 0.750, median 0.500)\n  24.00% of trees observe higher solvability if below threshold, 70.00% above\n  tendency of higher values for more solvable constraints (tendency value: 23)\ntail restrictions ratio per seq op\n  - Gini rank no. 89   Perm. rank no. 107 -\n  avg threshold: 0.235 (min 0.083, max 0.875, median 0.167)\n  58.00% of trees observe higher solvability if below threshold, 26.00% above\n  tendency of lower values for more solvable constraints (tendency value: -16)\ngeneral concatenations ratio per seq op\n  - Gini rank no. 106   Perm. rank no. 108 -\n  avg threshold: 0.050 (min 0.167, max 0.500, median 0.250)\n  4.00% of trees observe higher solvability if below threshold, 12.00% above\n  tendency of higher values for more solvable constraints (tendency value: 4)\n"
    }
   ],
   "source": [
    "print_feature_group_stats(range(90, 107), \"Sequences\") "
   ]
  },
  {
   "cell_type": "code",
   "execution_count": 38,
   "metadata": {},
   "outputs": [
    {
     "name": "stdout",
     "output_type": "stream",
     "text": "# Closure and Iterate\n  Average tendency: 12.5\nnumber of closures per conjunct\n  - Gini rank no. 80   Perm. rank no. 80 -\n  avg threshold: 0.713 (min 0.031, max 3.333, median 0.464)\n  42.00% of trees observe higher solvability if below threshold, 58.00% above\n  tendency of higher values for more solvable constraints (tendency value: 8)\nnumber of iterations per conjunct\n  - Gini rank no. 104   Perm. rank no. 95 -\n  avg threshold: 0.152 (min 0.011, max 1.000, median 0.250)\n  6.00% of trees observe higher solvability if below threshold, 40.00% above\n  tendency of higher values for more solvable constraints (tendency value: 17)\n"
    }
   ],
   "source": [
    "print_feature_group_stats(range(107, 109), \"Closure and Iterate\")"
   ]
  },
  {
   "cell_type": "markdown",
   "metadata": {},
   "source": [
    "### Gather information over the learned rules with inTrees"
   ]
  },
  {
   "cell_type": "code",
   "execution_count": 0,
   "metadata": {},
   "outputs": [],
   "source": [
    "%run intrees.py"
   ]
  },
  {
   "cell_type": "code",
   "execution_count": 0,
   "metadata": {},
   "outputs": [],
   "source": [
    "extracted_rules = extract_rules(forest)"
   ]
  },
  {
   "cell_type": "markdown",
   "metadata": {},
   "source": [
    "How many rules did we collect?"
   ]
  },
  {
   "cell_type": "code",
   "execution_count": 0,
   "metadata": {},
   "outputs": [],
   "source": [
    "rule_count = 0\n",
    "for tree in forest.estimators_:\n",
    "    rule_set = extracted_rules[tree]\n",
    "    rule_count += len(rule_set)\n",
    "rule_count"
   ]
  },
  {
   "cell_type": "markdown",
   "metadata": {},
   "source": [
    "How many conditions can we collect?"
   ]
  },
  {
   "cell_type": "code",
   "execution_count": 0,
   "metadata": {},
   "outputs": [],
   "source": [
    "extracted_conds = extract_conditions(forest, max_depth=15)"
   ]
  },
  {
   "cell_type": "code",
   "execution_count": 0,
   "metadata": {},
   "outputs": [],
   "source": [
    "cond_count = 0\n",
    "for tree in forest.estimators_:\n",
    "    conds = extracted_conds[tree]\n",
    "    cond_count += len(conds)\n",
    "cond_count"
   ]
  },
  {
   "cell_type": "code",
   "execution_count": 0,
   "metadata": {},
   "outputs": [],
   "source": [
    "avg_rule_length = 0\n",
    "avg_rule_error = 0\n",
    "avg_rule_freq = 0\n",
    "\n",
    "annotated_rules = [] # Tuples (rule, frequency, error, length, tree)\n",
    "\n",
    "for tree in forest.estimators_:\n",
    "    rule_set = extracted_rules[tree]\n",
    "    for rule in rule_set:\n",
    "        rl = rule_length(tree, rule)\n",
    "        re = rule_error(tree, rule)\n",
    "        rf = rule_frequency(tree, rule)\n",
    "        avg_rule_length += rl\n",
    "        avg_rule_error += re\n",
    "        avg_rule_freq += rf\n",
    "        annotated_rules += [(rule, rf, re, rl, tree)]\n",
    "\n",
    "avg_rule_error /= rule_count\n",
    "avg_rule_length /= rule_count\n",
    "avg_rule_freq /= rule_count\n",
    "\n",
    "print(\"Avg frequency:\", avg_rule_freq)\n",
    "print(\"Avg error:\", avg_rule_error)\n",
    "print(\"Avg length:\", avg_rule_length)"
   ]
  },
  {
   "cell_type": "code",
   "execution_count": 0,
   "metadata": {},
   "outputs": [],
   "source": [
    "def pretty_print_rule(rule):\n",
    "    cond, target = rule\n",
    "    for (_, fid, thresh, leq) in cond:\n",
    "        comp_sign = \"<=\" if leq else \">\"\n",
    "        print(\"# %3d: %s %s %.3f\" % (fid, f109_name(fid), comp_sign, thresh))\n",
    "    print(\"=> %d\" % target)"
   ]
  },
  {
   "cell_type": "code",
   "execution_count": 0,
   "metadata": {},
   "outputs": [],
   "source": [
    "# Top 10 rules sorted by frequency, length, and error\n",
    "for ranked_rule in sorted(annotated_rules, key = lambda r: (1/r[1], 1/r[3], r[2]))[0:10]:\n",
    "    pretty_print_rule(ranked_rule[0])\n",
    "    print(\"Freq.: %f, error: %f, length: %d\" % (ranked_rule[1], ranked_rule[2], ranked_rule[3]))\n",
    "    print()"
   ]
  },
  {
   "cell_type": "code",
   "execution_count": 0,
   "metadata": {},
   "outputs": [],
   "source": [
    "# Prints the first five rules for unkown\n",
    "count = 0\n",
    "for ranked_rule in sorted(annotated_rules, key = lambda r: (1/r[1], 1/r[3], r[2])):\n",
    "    rule = ranked_rule[0]\n",
    "    if rule[1] == 0:\n",
    "        pretty_print_rule(rule)\n",
    "        print()\n",
    "        count += 1\n",
    "    if count >= 5: break\n",
    "        "
   ]
  },
  {
   "cell_type": "markdown",
   "metadata": {},
   "source": [
    "Further, we will investigate only the rules which concern themselves with negative outcomes."
   ]
  },
  {
   "cell_type": "code",
   "execution_count": 0,
   "metadata": {},
   "outputs": [],
   "source": [
    "neg_rules = []\n",
    "for tree in extracted_rules:\n",
    "    neg_rules += [(c, o) for (c, o) in extracted_rules[tree] if o == 0]\n",
    "len(neg_rules)"
   ]
  },
  {
   "cell_type": "code",
   "execution_count": 0,
   "metadata": {},
   "outputs": [],
   "source": [
    "# This calculates the support and confidence of each rule **restricted onto the longest 5000 rules***\n",
    "max_depth = 10 # Only considering first 10 items in each rule\n",
    "sneg_rules = sorted(neg_rules, key=lambda x: 1/len(x[0]))\n",
    "annotated_neg_rules = analyse_rule_set(sneg_rules[:5000], max_depth=max_depth)"
   ]
  },
  {
   "cell_type": "code",
   "execution_count": 0,
   "metadata": {},
   "outputs": [],
   "source": [
    "def pretty_print_assoc_rule(rule):\n",
    "    (cond, target) = rule\n",
    "    for c in sorted(cond, key=lambda x: 1/perm_importances.importances_mean[x[0]]):\n",
    "        fid, leq = c\n",
    "        print(f109_name(fid), \"(low)\" if leq else \"(**high**)\", \"perm. imp.: %.2f\" % perm_importances.importances_mean[fid])\n",
    "    print(\"=>\", target)"
   ]
  },
  {
   "cell_type": "code",
   "execution_count": 0,
   "metadata": {},
   "outputs": [],
   "source": [
    "ar_c, ar_o, _, _ = sorted(annotated_neg_rules, key=lambda r: 1/(r[2]+1))[0]\n",
    "pretty_print_assoc_rule((ar_c, ar_o))"
   ]
  },
  {
   "cell_type": "code",
   "execution_count": 0,
   "metadata": {},
   "outputs": [],
   "source": [
    "seen = set([])\n",
    "for (cond, out, supp, conf) in sorted(annotated_neg_rules, key=lambda r: 1/(r[2]+1)):\n",
    "    if not frozenset(cond) in seen:\n",
    "        seen.add(frozenset(cond))\n",
    "        pretty_print_assoc_rule((cond, out))\n",
    "        print('Support: %.2f%%, Confidence: %.2f' % (supp*100, conf))\n",
    "        print()"
   ]
  },
  {
   "cell_type": "code",
   "execution_count": null,
   "metadata": {},
   "outputs": [],
   "source": []
  }
 ],
 "metadata": {
  "file_extension": ".py",
  "kernelspec": {
   "display_name": "Python 3.7.3 64-bit ('base': conda)",
   "language": "python",
   "name": "python37364bitbasecondaa44689f717164eca8bd0dfe8b5d9d391"
  },
  "language_info": {
   "codemirror_mode": {
    "name": "ipython",
    "version": 3
   },
   "file_extension": ".py",
   "mimetype": "text/x-python",
   "name": "python",
   "nbconvert_exporter": "python",
   "pygments_lexer": "ipython3",
   "version": "3.7.3-final"
  },
  "mimetype": "text/x-python",
  "name": "python",
  "npconvert_exporter": "python",
  "pygments_lexer": "ipython3",
  "version": 3
 },
 "nbformat": 4,
 "nbformat_minor": 2
}