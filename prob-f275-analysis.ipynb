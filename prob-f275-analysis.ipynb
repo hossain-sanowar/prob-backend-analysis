{
 "nbformat": 4,
 "nbformat_minor": 2,
 "metadata": {
  "language_info": {
   "name": "python",
   "codemirror_mode": {
    "name": "ipython",
    "version": 3
   },
   "version": "3.7.3-final"
  },
  "orig_nbformat": 2,
  "file_extension": ".py",
  "mimetype": "text/x-python",
  "name": "python",
  "npconvert_exporter": "python",
  "pygments_lexer": "ipython3",
  "version": 3,
  "kernelspec": {
   "name": "python37364bitbasecondaa44689f717164eca8bd0dfe8b5d9d391",
   "display_name": "Python 3.7.3 64-bit ('base': conda)"
  }
 },
 "cells": [
  {
   "cell_type": "markdown",
   "execution_count": null,
   "metadata": {},
   "outputs": [],
   "source": [
    "# Analysis of ProB backend over the 275 features set\n",
    "\n",
    "In this note book we will explore the ProB native backend with default settings over the F275 feature set by employing decision trees and random forests."
   ]
  },
  {
   "cell_type": "code",
   "execution_count": 1,
   "metadata": {},
   "outputs": [
    {
     "data": {
      "text/html": "<div>\n<style scoped>\n    .dataframe tbody tr th:only-of-type {\n        vertical-align: middle;\n    }\n\n    .dataframe tbody tr th {\n        vertical-align: top;\n    }\n\n    .dataframe thead th {\n        text-align: right;\n    }\n</style>\n<table border=\"1\" class=\"dataframe\">\n  <thead>\n    <tr style=\"text-align: right;\">\n      <th></th>\n      <th>Feature0</th>\n      <th>Feature1</th>\n      <th>Feature2</th>\n      <th>Feature3</th>\n      <th>Feature4</th>\n      <th>Feature5</th>\n      <th>Feature6</th>\n      <th>Feature7</th>\n      <th>Feature8</th>\n      <th>Feature9</th>\n      <th>...</th>\n      <th>Feature266</th>\n      <th>Feature267</th>\n      <th>Feature268</th>\n      <th>Feature269</th>\n      <th>Feature270</th>\n      <th>Feature271</th>\n      <th>Feature272</th>\n      <th>Feature273</th>\n      <th>Feature274</th>\n      <th>Label0</th>\n    </tr>\n  </thead>\n  <tbody>\n    <tr>\n      <th>0</th>\n      <td>100.0</td>\n      <td>0.06</td>\n      <td>0.19</td>\n      <td>0.02</td>\n      <td>0.105263</td>\n      <td>0.06</td>\n      <td>0.13</td>\n      <td>0.1</td>\n      <td>0.06</td>\n      <td>0.35</td>\n      <td>...</td>\n      <td>0.0</td>\n      <td>0.0</td>\n      <td>0.0</td>\n      <td>0.0</td>\n      <td>0.0</td>\n      <td>0.0</td>\n      <td>0.0</td>\n      <td>0.0</td>\n      <td>0.0</td>\n      <td>1</td>\n    </tr>\n    <tr>\n      <th>1</th>\n      <td>100.0</td>\n      <td>0.06</td>\n      <td>0.19</td>\n      <td>0.03</td>\n      <td>0.157895</td>\n      <td>-0.86</td>\n      <td>1.05</td>\n      <td>0.1</td>\n      <td>0.06</td>\n      <td>0.35</td>\n      <td>...</td>\n      <td>0.0</td>\n      <td>0.0</td>\n      <td>0.0</td>\n      <td>0.0</td>\n      <td>0.0</td>\n      <td>0.0</td>\n      <td>0.0</td>\n      <td>0.0</td>\n      <td>0.0</td>\n      <td>1</td>\n    </tr>\n    <tr>\n      <th>2</th>\n      <td>100.0</td>\n      <td>0.06</td>\n      <td>0.20</td>\n      <td>0.02</td>\n      <td>0.100000</td>\n      <td>0.07</td>\n      <td>0.12</td>\n      <td>0.1</td>\n      <td>0.06</td>\n      <td>0.35</td>\n      <td>...</td>\n      <td>0.0</td>\n      <td>0.0</td>\n      <td>0.0</td>\n      <td>0.0</td>\n      <td>0.0</td>\n      <td>0.0</td>\n      <td>0.0</td>\n      <td>0.0</td>\n      <td>0.0</td>\n      <td>1</td>\n    </tr>\n    <tr>\n      <th>3</th>\n      <td>100.0</td>\n      <td>0.06</td>\n      <td>0.20</td>\n      <td>0.03</td>\n      <td>0.150000</td>\n      <td>-0.87</td>\n      <td>1.06</td>\n      <td>0.1</td>\n      <td>0.06</td>\n      <td>0.35</td>\n      <td>...</td>\n      <td>0.0</td>\n      <td>0.0</td>\n      <td>0.0</td>\n      <td>0.0</td>\n      <td>0.0</td>\n      <td>0.0</td>\n      <td>0.0</td>\n      <td>0.0</td>\n      <td>0.0</td>\n      <td>1</td>\n    </tr>\n    <tr>\n      <th>4</th>\n      <td>100.0</td>\n      <td>0.06</td>\n      <td>0.20</td>\n      <td>0.04</td>\n      <td>0.200000</td>\n      <td>0.07</td>\n      <td>0.12</td>\n      <td>0.1</td>\n      <td>0.06</td>\n      <td>0.35</td>\n      <td>...</td>\n      <td>0.0</td>\n      <td>0.0</td>\n      <td>0.0</td>\n      <td>0.0</td>\n      <td>0.0</td>\n      <td>0.0</td>\n      <td>0.0</td>\n      <td>0.0</td>\n      <td>0.0</td>\n      <td>1</td>\n    </tr>\n  </tbody>\n</table>\n<p>5 rows × 276 columns</p>\n</div>",
      "text/plain": "   Feature0  Feature1  Feature2  Feature3  Feature4  Feature5  Feature6  \\\n0     100.0      0.06      0.19      0.02  0.105263      0.06      0.13   \n1     100.0      0.06      0.19      0.03  0.157895     -0.86      1.05   \n2     100.0      0.06      0.20      0.02  0.100000      0.07      0.12   \n3     100.0      0.06      0.20      0.03  0.150000     -0.87      1.06   \n4     100.0      0.06      0.20      0.04  0.200000      0.07      0.12   \n\n   Feature7  Feature8  Feature9  ...  Feature266  Feature267  Feature268  \\\n0       0.1      0.06      0.35  ...         0.0         0.0         0.0   \n1       0.1      0.06      0.35  ...         0.0         0.0         0.0   \n2       0.1      0.06      0.35  ...         0.0         0.0         0.0   \n3       0.1      0.06      0.35  ...         0.0         0.0         0.0   \n4       0.1      0.06      0.35  ...         0.0         0.0         0.0   \n\n   Feature269  Feature270  Feature271  Feature272  Feature273  Feature274  \\\n0         0.0         0.0         0.0         0.0         0.0         0.0   \n1         0.0         0.0         0.0         0.0         0.0         0.0   \n2         0.0         0.0         0.0         0.0         0.0         0.0   \n3         0.0         0.0         0.0         0.0         0.0         0.0   \n4         0.0         0.0         0.0         0.0         0.0         0.0   \n\n   Label0  \n0       1  \n1       1  \n2       1  \n3       1  \n4       1  \n\n[5 rows x 276 columns]"
     },
     "execution_count": 1,
     "metadata": {},
     "output_type": "execute_result"
    }
   ],
   "source": [
    "%run f275_info.py\n",
    "\n",
    "import pandas as pd\n",
    "import numpy as np\n",
    "\n",
    "data = pd.read_csv('data/2020-01-10/prob-f275_unique.csv')\n",
    "n_features = 275\n",
    "\n",
    "data.head()"
   ]
  },
  {
   "cell_type": "markdown",
   "execution_count": null,
   "metadata": {},
   "outputs": [],
   "source": [
    "## Data insights\n",
    "\n",
    "Firstly, we check how many positive and negative samples exist in the data."
   ]
  },
  {
   "cell_type": "code",
   "execution_count": 2,
   "metadata": {},
   "outputs": [
    {
     "name": "stdout",
     "output_type": "stream",
     "text": "We have 106230 samples in the dataset.\nFor 95750 of these, ProB is able to find a solution (0.901%)\nFor 10480 of these, ProB is _not_ able to find a solution (0.099%)\n"
    }
   ],
   "source": [
    "sample_count = len(data)\n",
    "positive = data[data[\"Label0\"] == 1]\n",
    "negative = data[data[\"Label0\"] == 0]\n",
    "\n",
    "print(\"We have %d samples in the dataset.\" % sample_count)\n",
    "print(\"For %d of these, ProB is able to find a solution (%0.3f%%)\" % (len(positive), len(positive)/sample_count))\n",
    "print(\"For %d of these, ProB is _not_ able to find a solution (%0.3f%%)\" % (len(negative), len(negative)/sample_count))"
   ]
  },
  {
   "cell_type": "code",
   "execution_count": 3,
   "metadata": {},
   "outputs": [
    {
     "data": {
      "text/plain": "Text(0, 0.5, '# Samples')"
     },
     "execution_count": 3,
     "metadata": {},
     "output_type": "execute_result"
    },
    {
     "data": {
      "image/png": "[encoded data removed]",
      "image/svg+xml": "<?xml version=\"1.0\" encoding=\"utf-8\" standalone=\"no\"?>\n<!DOCTYPE svg PUBLIC \"-//W3C//DTD SVG 1.1//EN\"\n  \"http://www.w3.org/Graphics/SVG/1.1/DTD/svg11.dtd\">\n<!-- Created with matplotlib (https://matplotlib.org/) -->\n<svg height=\"247.839227pt\" version=\"1.1\" viewBox=\"0 0 408.053125 247.839227\" width=\"408.053125pt\" xmlns=\"http://www.w3.org/2000/svg\" xmlns:xlink=\"http://www.w3.org/1999/xlink\">\n <defs>\n  <style type=\"text/css\">\n*{stroke-linecap:butt;stroke-linejoin:round;}\n  </style>\n </defs>\n <g id=\"figure_1\">\n  <g id=\"patch_1\">\n   <path d=\"M 0 247.839227 \nL 408.053125 247.839227 \nL 408.053125 0 \nL 0 0 \nz\n\" style=\"fill:none;\"/>\n  </g>\n  <g id=\"axes_1\">\n   <g id=\"patch_2\">\n    <path d=\"M 66.053125 227.276727 \nL 400.853125 227.276727 \nL 400.853125 9.836727 \nL 66.053125 9.836727 \nz\n\" style=\"fill:#ffffff;\"/>\n   </g>\n   <g id=\"patch_3\">\n    <path clip-path=\"url(#pc595601017)\" d=\"M 149.753125 227.276727 \nL 233.453125 227.276727 \nL 233.453125 20.191013 \nL 149.753125 20.191013 \nz\n\" style=\"fill:#1f77b4;\"/>\n   </g>\n   <g id=\"patch_4\">\n    <path clip-path=\"url(#pc595601017)\" d=\"M 233.453125 227.276727 \nL 317.153125 227.276727 \nL 317.153125 204.610844 \nL 233.453125 204.610844 \nz\n\" style=\"fill:#ff7f0e;\"/>\n   </g>\n   <g id=\"matplotlib.axis_1\">\n    <g id=\"xtick_1\">\n     <g id=\"line2d_1\">\n      <defs>\n       <path d=\"M 0 0 \nL 0 3.5 \n\" id=\"mdfa95320cf\" style=\"stroke:#000000;stroke-width:0.8;\"/>\n      </defs>\n      <g>\n       <use style=\"stroke:#000000;stroke-width:0.8;\" x=\"233.453125\" xlink:href=\"#mdfa95320cf\" y=\"227.276727\"/>\n      </g>\n     </g>\n     <g id=\"text_1\">\n      <!-- 0 -->\n      <defs>\n       <path d=\"M 31.78125 66.40625 \nQ 24.171875 66.40625 20.328125 58.90625 \nQ 16.5 51.421875 16.5 36.375 \nQ 16.5 21.390625 20.328125 13.890625 \nQ 24.171875 6.390625 31.78125 6.390625 \nQ 39.453125 6.390625 43.28125 13.890625 \nQ 47.125 21.390625 47.125 36.375 \nQ 47.125 51.421875 43.28125 58.90625 \nQ 39.453125 66.40625 31.78125 66.40625 \nz\nM 31.78125 74.21875 \nQ 44.046875 74.21875 50.515625 64.515625 \nQ 56.984375 54.828125 56.984375 36.375 \nQ 56.984375 17.96875 50.515625 8.265625 \nQ 44.046875 -1.421875 31.78125 -1.421875 \nQ 19.53125 -1.421875 13.0625 8.265625 \nQ 6.59375 17.96875 6.59375 36.375 \nQ 6.59375 54.828125 13.0625 64.515625 \nQ 19.53125 74.21875 31.78125 74.21875 \nz\n\" id=\"DejaVuSans-48\"/>\n      </defs>\n      <g transform=\"translate(236.2125 240.639227)rotate(-90)scale(0.1 -0.1)\">\n       <use xlink:href=\"#DejaVuSans-48\"/>\n      </g>\n     </g>\n    </g>\n   </g>\n   <g id=\"matplotlib.axis_2\">\n    <g id=\"ytick_1\">\n     <g id=\"line2d_2\">\n      <defs>\n       <path d=\"M 0 0 \nL -3.5 0 \n\" id=\"mb7d2f0cd35\" style=\"stroke:#000000;stroke-width:0.8;\"/>\n      </defs>\n      <g>\n       <use style=\"stroke:#000000;stroke-width:0.8;\" x=\"66.053125\" xlink:href=\"#mb7d2f0cd35\" y=\"227.276727\"/>\n      </g>\n     </g>\n     <g id=\"text_2\">\n      <!-- 0 -->\n      <g transform=\"translate(52.690625 231.075946)scale(0.1 -0.1)\">\n       <use xlink:href=\"#DejaVuSans-48\"/>\n      </g>\n     </g>\n    </g>\n    <g id=\"ytick_2\">\n     <g id=\"line2d_3\">\n      <g>\n       <use style=\"stroke:#000000;stroke-width:0.8;\" x=\"66.053125\" xlink:href=\"#mb7d2f0cd35\" y=\"184.021225\"/>\n      </g>\n     </g>\n     <g id=\"text_3\">\n      <!-- 20000 -->\n      <defs>\n       <path d=\"M 19.1875 8.296875 \nL 53.609375 8.296875 \nL 53.609375 0 \nL 7.328125 0 \nL 7.328125 8.296875 \nQ 12.9375 14.109375 22.625 23.890625 \nQ 32.328125 33.6875 34.8125 36.53125 \nQ 39.546875 41.84375 41.421875 45.53125 \nQ 43.3125 49.21875 43.3125 52.78125 \nQ 43.3125 58.59375 39.234375 62.25 \nQ 35.15625 65.921875 28.609375 65.921875 \nQ 23.96875 65.921875 18.8125 64.3125 \nQ 13.671875 62.703125 7.8125 59.421875 \nL 7.8125 69.390625 \nQ 13.765625 71.78125 18.9375 73 \nQ 24.125 74.21875 28.421875 74.21875 \nQ 39.75 74.21875 46.484375 68.546875 \nQ 53.21875 62.890625 53.21875 53.421875 \nQ 53.21875 48.921875 51.53125 44.890625 \nQ 49.859375 40.875 45.40625 35.40625 \nQ 44.1875 33.984375 37.640625 27.21875 \nQ 31.109375 20.453125 19.1875 8.296875 \nz\n\" id=\"DejaVuSans-50\"/>\n      </defs>\n      <g transform=\"translate(27.240625 187.820444)scale(0.1 -0.1)\">\n       <use xlink:href=\"#DejaVuSans-50\"/>\n       <use x=\"63.623047\" xlink:href=\"#DejaVuSans-48\"/>\n       <use x=\"127.246094\" xlink:href=\"#DejaVuSans-48\"/>\n       <use x=\"190.869141\" xlink:href=\"#DejaVuSans-48\"/>\n       <use x=\"254.492188\" xlink:href=\"#DejaVuSans-48\"/>\n      </g>\n     </g>\n    </g>\n    <g id=\"ytick_3\">\n     <g id=\"line2d_4\">\n      <g>\n       <use style=\"stroke:#000000;stroke-width:0.8;\" x=\"66.053125\" xlink:href=\"#mb7d2f0cd35\" y=\"140.765724\"/>\n      </g>\n     </g>\n     <g id=\"text_4\">\n      <!-- 40000 -->\n      <defs>\n       <path d=\"M 37.796875 64.3125 \nL 12.890625 25.390625 \nL 37.796875 25.390625 \nz\nM 35.203125 72.90625 \nL 47.609375 72.90625 \nL 47.609375 25.390625 \nL 58.015625 25.390625 \nL 58.015625 17.1875 \nL 47.609375 17.1875 \nL 47.609375 0 \nL 37.796875 0 \nL 37.796875 17.1875 \nL 4.890625 17.1875 \nL 4.890625 26.703125 \nz\n\" id=\"DejaVuSans-52\"/>\n      </defs>\n      <g transform=\"translate(27.240625 144.564943)scale(0.1 -0.1)\">\n       <use xlink:href=\"#DejaVuSans-52\"/>\n       <use x=\"63.623047\" xlink:href=\"#DejaVuSans-48\"/>\n       <use x=\"127.246094\" xlink:href=\"#DejaVuSans-48\"/>\n       <use x=\"190.869141\" xlink:href=\"#DejaVuSans-48\"/>\n       <use x=\"254.492188\" xlink:href=\"#DejaVuSans-48\"/>\n      </g>\n     </g>\n    </g>\n    <g id=\"ytick_4\">\n     <g id=\"line2d_5\">\n      <g>\n       <use style=\"stroke:#000000;stroke-width:0.8;\" x=\"66.053125\" xlink:href=\"#mb7d2f0cd35\" y=\"97.510222\"/>\n      </g>\n     </g>\n     <g id=\"text_5\">\n      <!-- 60000 -->\n      <defs>\n       <path d=\"M 33.015625 40.375 \nQ 26.375 40.375 22.484375 35.828125 \nQ 18.609375 31.296875 18.609375 23.390625 \nQ 18.609375 15.53125 22.484375 10.953125 \nQ 26.375 6.390625 33.015625 6.390625 \nQ 39.65625 6.390625 43.53125 10.953125 \nQ 47.40625 15.53125 47.40625 23.390625 \nQ 47.40625 31.296875 43.53125 35.828125 \nQ 39.65625 40.375 33.015625 40.375 \nz\nM 52.59375 71.296875 \nL 52.59375 62.3125 \nQ 48.875 64.0625 45.09375 64.984375 \nQ 41.3125 65.921875 37.59375 65.921875 \nQ 27.828125 65.921875 22.671875 59.328125 \nQ 17.53125 52.734375 16.796875 39.40625 \nQ 19.671875 43.65625 24.015625 45.921875 \nQ 28.375 48.1875 33.59375 48.1875 \nQ 44.578125 48.1875 50.953125 41.515625 \nQ 57.328125 34.859375 57.328125 23.390625 \nQ 57.328125 12.15625 50.6875 5.359375 \nQ 44.046875 -1.421875 33.015625 -1.421875 \nQ 20.359375 -1.421875 13.671875 8.265625 \nQ 6.984375 17.96875 6.984375 36.375 \nQ 6.984375 53.65625 15.1875 63.9375 \nQ 23.390625 74.21875 37.203125 74.21875 \nQ 40.921875 74.21875 44.703125 73.484375 \nQ 48.484375 72.75 52.59375 71.296875 \nz\n\" id=\"DejaVuSans-54\"/>\n      </defs>\n      <g transform=\"translate(27.240625 101.309441)scale(0.1 -0.1)\">\n       <use xlink:href=\"#DejaVuSans-54\"/>\n       <use x=\"63.623047\" xlink:href=\"#DejaVuSans-48\"/>\n       <use x=\"127.246094\" xlink:href=\"#DejaVuSans-48\"/>\n       <use x=\"190.869141\" xlink:href=\"#DejaVuSans-48\"/>\n       <use x=\"254.492188\" xlink:href=\"#DejaVuSans-48\"/>\n      </g>\n     </g>\n    </g>\n    <g id=\"ytick_5\">\n     <g id=\"line2d_6\">\n      <g>\n       <use style=\"stroke:#000000;stroke-width:0.8;\" x=\"66.053125\" xlink:href=\"#mb7d2f0cd35\" y=\"54.25472\"/>\n      </g>\n     </g>\n     <g id=\"text_6\">\n      <!-- 80000 -->\n      <defs>\n       <path d=\"M 31.78125 34.625 \nQ 24.75 34.625 20.71875 30.859375 \nQ 16.703125 27.09375 16.703125 20.515625 \nQ 16.703125 13.921875 20.71875 10.15625 \nQ 24.75 6.390625 31.78125 6.390625 \nQ 38.8125 6.390625 42.859375 10.171875 \nQ 46.921875 13.96875 46.921875 20.515625 \nQ 46.921875 27.09375 42.890625 30.859375 \nQ 38.875 34.625 31.78125 34.625 \nz\nM 21.921875 38.8125 \nQ 15.578125 40.375 12.03125 44.71875 \nQ 8.5 49.078125 8.5 55.328125 \nQ 8.5 64.0625 14.71875 69.140625 \nQ 20.953125 74.21875 31.78125 74.21875 \nQ 42.671875 74.21875 48.875 69.140625 \nQ 55.078125 64.0625 55.078125 55.328125 \nQ 55.078125 49.078125 51.53125 44.71875 \nQ 48 40.375 41.703125 38.8125 \nQ 48.828125 37.15625 52.796875 32.3125 \nQ 56.78125 27.484375 56.78125 20.515625 \nQ 56.78125 9.90625 50.3125 4.234375 \nQ 43.84375 -1.421875 31.78125 -1.421875 \nQ 19.734375 -1.421875 13.25 4.234375 \nQ 6.78125 9.90625 6.78125 20.515625 \nQ 6.78125 27.484375 10.78125 32.3125 \nQ 14.796875 37.15625 21.921875 38.8125 \nz\nM 18.3125 54.390625 \nQ 18.3125 48.734375 21.84375 45.5625 \nQ 25.390625 42.390625 31.78125 42.390625 \nQ 38.140625 42.390625 41.71875 45.5625 \nQ 45.3125 48.734375 45.3125 54.390625 \nQ 45.3125 60.0625 41.71875 63.234375 \nQ 38.140625 66.40625 31.78125 66.40625 \nQ 25.390625 66.40625 21.84375 63.234375 \nQ 18.3125 60.0625 18.3125 54.390625 \nz\n\" id=\"DejaVuSans-56\"/>\n      </defs>\n      <g transform=\"translate(27.240625 58.053939)scale(0.1 -0.1)\">\n       <use xlink:href=\"#DejaVuSans-56\"/>\n       <use x=\"63.623047\" xlink:href=\"#DejaVuSans-48\"/>\n       <use x=\"127.246094\" xlink:href=\"#DejaVuSans-48\"/>\n       <use x=\"190.869141\" xlink:href=\"#DejaVuSans-48\"/>\n       <use x=\"254.492188\" xlink:href=\"#DejaVuSans-48\"/>\n      </g>\n     </g>\n    </g>\n    <g id=\"ytick_6\">\n     <g id=\"line2d_7\">\n      <g>\n       <use style=\"stroke:#000000;stroke-width:0.8;\" x=\"66.053125\" xlink:href=\"#mb7d2f0cd35\" y=\"10.999219\"/>\n      </g>\n     </g>\n     <g id=\"text_7\">\n      <!-- 100000 -->\n      <defs>\n       <path d=\"M 12.40625 8.296875 \nL 28.515625 8.296875 \nL 28.515625 63.921875 \nL 10.984375 60.40625 \nL 10.984375 69.390625 \nL 28.421875 72.90625 \nL 38.28125 72.90625 \nL 38.28125 8.296875 \nL 54.390625 8.296875 \nL 54.390625 0 \nL 12.40625 0 \nz\n\" id=\"DejaVuSans-49\"/>\n      </defs>\n      <g transform=\"translate(20.878125 14.798437)scale(0.1 -0.1)\">\n       <use xlink:href=\"#DejaVuSans-49\"/>\n       <use x=\"63.623047\" xlink:href=\"#DejaVuSans-48\"/>\n       <use x=\"127.246094\" xlink:href=\"#DejaVuSans-48\"/>\n       <use x=\"190.869141\" xlink:href=\"#DejaVuSans-48\"/>\n       <use x=\"254.492188\" xlink:href=\"#DejaVuSans-48\"/>\n       <use x=\"318.115234\" xlink:href=\"#DejaVuSans-48\"/>\n      </g>\n     </g>\n    </g>\n    <g id=\"text_8\">\n     <!-- # Samples -->\n     <defs>\n      <path d=\"M 51.125 44 \nL 36.921875 44 \nL 32.8125 27.6875 \nL 47.125 27.6875 \nz\nM 43.796875 71.78125 \nL 38.71875 51.515625 \nL 52.984375 51.515625 \nL 58.109375 71.78125 \nL 65.921875 71.78125 \nL 60.890625 51.515625 \nL 76.125 51.515625 \nL 76.125 44 \nL 58.984375 44 \nL 54.984375 27.6875 \nL 70.515625 27.6875 \nL 70.515625 20.21875 \nL 53.078125 20.21875 \nL 48 0 \nL 40.1875 0 \nL 45.21875 20.21875 \nL 30.90625 20.21875 \nL 25.875 0 \nL 18.015625 0 \nL 23.09375 20.21875 \nL 7.71875 20.21875 \nL 7.71875 27.6875 \nL 24.90625 27.6875 \nL 29 44 \nL 13.28125 44 \nL 13.28125 51.515625 \nL 30.90625 51.515625 \nL 35.890625 71.78125 \nz\n\" id=\"DejaVuSans-35\"/>\n      <path id=\"DejaVuSans-32\"/>\n      <path d=\"M 53.515625 70.515625 \nL 53.515625 60.890625 \nQ 47.90625 63.578125 42.921875 64.890625 \nQ 37.9375 66.21875 33.296875 66.21875 \nQ 25.25 66.21875 20.875 63.09375 \nQ 16.5 59.96875 16.5 54.203125 \nQ 16.5 49.359375 19.40625 46.890625 \nQ 22.3125 44.4375 30.421875 42.921875 \nL 36.375 41.703125 \nQ 47.40625 39.59375 52.65625 34.296875 \nQ 57.90625 29 57.90625 20.125 \nQ 57.90625 9.515625 50.796875 4.046875 \nQ 43.703125 -1.421875 29.984375 -1.421875 \nQ 24.8125 -1.421875 18.96875 -0.25 \nQ 13.140625 0.921875 6.890625 3.21875 \nL 6.890625 13.375 \nQ 12.890625 10.015625 18.65625 8.296875 \nQ 24.421875 6.59375 29.984375 6.59375 \nQ 38.421875 6.59375 43.015625 9.90625 \nQ 47.609375 13.234375 47.609375 19.390625 \nQ 47.609375 24.75 44.3125 27.78125 \nQ 41.015625 30.8125 33.5 32.328125 \nL 27.484375 33.5 \nQ 16.453125 35.6875 11.515625 40.375 \nQ 6.59375 45.0625 6.59375 53.421875 \nQ 6.59375 63.09375 13.40625 68.65625 \nQ 20.21875 74.21875 32.171875 74.21875 \nQ 37.3125 74.21875 42.625 73.28125 \nQ 47.953125 72.359375 53.515625 70.515625 \nz\n\" id=\"DejaVuSans-83\"/>\n      <path d=\"M 34.28125 27.484375 \nQ 23.390625 27.484375 19.1875 25 \nQ 14.984375 22.515625 14.984375 16.5 \nQ 14.984375 11.71875 18.140625 8.90625 \nQ 21.296875 6.109375 26.703125 6.109375 \nQ 34.1875 6.109375 38.703125 11.40625 \nQ 43.21875 16.703125 43.21875 25.484375 \nL 43.21875 27.484375 \nz\nM 52.203125 31.203125 \nL 52.203125 0 \nL 43.21875 0 \nL 43.21875 8.296875 \nQ 40.140625 3.328125 35.546875 0.953125 \nQ 30.953125 -1.421875 24.3125 -1.421875 \nQ 15.921875 -1.421875 10.953125 3.296875 \nQ 6 8.015625 6 15.921875 \nQ 6 25.140625 12.171875 29.828125 \nQ 18.359375 34.515625 30.609375 34.515625 \nL 43.21875 34.515625 \nL 43.21875 35.40625 \nQ 43.21875 41.609375 39.140625 45 \nQ 35.0625 48.390625 27.6875 48.390625 \nQ 23 48.390625 18.546875 47.265625 \nQ 14.109375 46.140625 10.015625 43.890625 \nL 10.015625 52.203125 \nQ 14.9375 54.109375 19.578125 55.046875 \nQ 24.21875 56 28.609375 56 \nQ 40.484375 56 46.34375 49.84375 \nQ 52.203125 43.703125 52.203125 31.203125 \nz\n\" id=\"DejaVuSans-97\"/>\n      <path d=\"M 52 44.1875 \nQ 55.375 50.25 60.0625 53.125 \nQ 64.75 56 71.09375 56 \nQ 79.640625 56 84.28125 50.015625 \nQ 88.921875 44.046875 88.921875 33.015625 \nL 88.921875 0 \nL 79.890625 0 \nL 79.890625 32.71875 \nQ 79.890625 40.578125 77.09375 44.375 \nQ 74.3125 48.1875 68.609375 48.1875 \nQ 61.625 48.1875 57.5625 43.546875 \nQ 53.515625 38.921875 53.515625 30.90625 \nL 53.515625 0 \nL 44.484375 0 \nL 44.484375 32.71875 \nQ 44.484375 40.625 41.703125 44.40625 \nQ 38.921875 48.1875 33.109375 48.1875 \nQ 26.21875 48.1875 22.15625 43.53125 \nQ 18.109375 38.875 18.109375 30.90625 \nL 18.109375 0 \nL 9.078125 0 \nL 9.078125 54.6875 \nL 18.109375 54.6875 \nL 18.109375 46.1875 \nQ 21.1875 51.21875 25.484375 53.609375 \nQ 29.78125 56 35.6875 56 \nQ 41.65625 56 45.828125 52.96875 \nQ 50 49.953125 52 44.1875 \nz\n\" id=\"DejaVuSans-109\"/>\n      <path d=\"M 18.109375 8.203125 \nL 18.109375 -20.796875 \nL 9.078125 -20.796875 \nL 9.078125 54.6875 \nL 18.109375 54.6875 \nL 18.109375 46.390625 \nQ 20.953125 51.265625 25.265625 53.625 \nQ 29.59375 56 35.59375 56 \nQ 45.5625 56 51.78125 48.09375 \nQ 58.015625 40.1875 58.015625 27.296875 \nQ 58.015625 14.40625 51.78125 6.484375 \nQ 45.5625 -1.421875 35.59375 -1.421875 \nQ 29.59375 -1.421875 25.265625 0.953125 \nQ 20.953125 3.328125 18.109375 8.203125 \nz\nM 48.6875 27.296875 \nQ 48.6875 37.203125 44.609375 42.84375 \nQ 40.53125 48.484375 33.40625 48.484375 \nQ 26.265625 48.484375 22.1875 42.84375 \nQ 18.109375 37.203125 18.109375 27.296875 \nQ 18.109375 17.390625 22.1875 11.75 \nQ 26.265625 6.109375 33.40625 6.109375 \nQ 40.53125 6.109375 44.609375 11.75 \nQ 48.6875 17.390625 48.6875 27.296875 \nz\n\" id=\"DejaVuSans-112\"/>\n      <path d=\"M 9.421875 75.984375 \nL 18.40625 75.984375 \nL 18.40625 0 \nL 9.421875 0 \nz\n\" id=\"DejaVuSans-108\"/>\n      <path d=\"M 56.203125 29.59375 \nL 56.203125 25.203125 \nL 14.890625 25.203125 \nQ 15.484375 15.921875 20.484375 11.0625 \nQ 25.484375 6.203125 34.421875 6.203125 \nQ 39.59375 6.203125 44.453125 7.46875 \nQ 49.3125 8.734375 54.109375 11.28125 \nL 54.109375 2.78125 \nQ 49.265625 0.734375 44.1875 -0.34375 \nQ 39.109375 -1.421875 33.890625 -1.421875 \nQ 20.796875 -1.421875 13.15625 6.1875 \nQ 5.515625 13.8125 5.515625 26.8125 \nQ 5.515625 40.234375 12.765625 48.109375 \nQ 20.015625 56 32.328125 56 \nQ 43.359375 56 49.78125 48.890625 \nQ 56.203125 41.796875 56.203125 29.59375 \nz\nM 47.21875 32.234375 \nQ 47.125 39.59375 43.09375 43.984375 \nQ 39.0625 48.390625 32.421875 48.390625 \nQ 24.90625 48.390625 20.390625 44.140625 \nQ 15.875 39.890625 15.1875 32.171875 \nz\n\" id=\"DejaVuSans-101\"/>\n      <path d=\"M 44.28125 53.078125 \nL 44.28125 44.578125 \nQ 40.484375 46.53125 36.375 47.5 \nQ 32.28125 48.484375 27.875 48.484375 \nQ 21.1875 48.484375 17.84375 46.4375 \nQ 14.5 44.390625 14.5 40.28125 \nQ 14.5 37.15625 16.890625 35.375 \nQ 19.28125 33.59375 26.515625 31.984375 \nL 29.59375 31.296875 \nQ 39.15625 29.25 43.1875 25.515625 \nQ 47.21875 21.78125 47.21875 15.09375 \nQ 47.21875 7.46875 41.1875 3.015625 \nQ 35.15625 -1.421875 24.609375 -1.421875 \nQ 20.21875 -1.421875 15.453125 -0.5625 \nQ 10.6875 0.296875 5.421875 2 \nL 5.421875 11.28125 \nQ 10.40625 8.6875 15.234375 7.390625 \nQ 20.0625 6.109375 24.8125 6.109375 \nQ 31.15625 6.109375 34.5625 8.28125 \nQ 37.984375 10.453125 37.984375 14.40625 \nQ 37.984375 18.0625 35.515625 20.015625 \nQ 33.0625 21.96875 24.703125 23.78125 \nL 21.578125 24.515625 \nQ 13.234375 26.265625 9.515625 29.90625 \nQ 5.8125 33.546875 5.8125 39.890625 \nQ 5.8125 47.609375 11.28125 51.796875 \nQ 16.75 56 26.8125 56 \nQ 31.78125 56 36.171875 55.265625 \nQ 40.578125 54.546875 44.28125 53.078125 \nz\n\" id=\"DejaVuSans-115\"/>\n     </defs>\n     <g transform=\"translate(14.798438 145.688758)rotate(-90)scale(0.1 -0.1)\">\n      <use xlink:href=\"#DejaVuSans-35\"/>\n      <use x=\"83.789062\" xlink:href=\"#DejaVuSans-32\"/>\n      <use x=\"115.576172\" xlink:href=\"#DejaVuSans-83\"/>\n      <use x=\"179.052734\" xlink:href=\"#DejaVuSans-97\"/>\n      <use x=\"240.332031\" xlink:href=\"#DejaVuSans-109\"/>\n      <use x=\"337.744141\" xlink:href=\"#DejaVuSans-112\"/>\n      <use x=\"401.220703\" xlink:href=\"#DejaVuSans-108\"/>\n      <use x=\"429.003906\" xlink:href=\"#DejaVuSans-101\"/>\n      <use x=\"490.527344\" xlink:href=\"#DejaVuSans-115\"/>\n     </g>\n    </g>\n   </g>\n   <g id=\"patch_5\">\n    <path d=\"M 66.053125 227.276727 \nL 66.053125 9.836727 \n\" style=\"fill:none;stroke:#000000;stroke-linecap:square;stroke-linejoin:miter;stroke-width:0.8;\"/>\n   </g>\n   <g id=\"patch_6\">\n    <path d=\"M 400.853125 227.276727 \nL 400.853125 9.836727 \n\" style=\"fill:none;stroke:#000000;stroke-linecap:square;stroke-linejoin:miter;stroke-width:0.8;\"/>\n   </g>\n   <g id=\"patch_7\">\n    <path d=\"M 66.053125 227.276727 \nL 400.853125 227.276727 \n\" style=\"fill:none;stroke:#000000;stroke-linecap:square;stroke-linejoin:miter;stroke-width:0.8;\"/>\n   </g>\n   <g id=\"patch_8\">\n    <path d=\"M 66.053125 9.836727 \nL 400.853125 9.836727 \n\" style=\"fill:none;stroke:#000000;stroke-linecap:square;stroke-linejoin:miter;stroke-width:0.8;\"/>\n   </g>\n   <g id=\"legend_1\">\n    <g id=\"patch_9\">\n     <path d=\"M 318.115625 47.192977 \nL 393.853125 47.192977 \nQ 395.853125 47.192977 395.853125 45.192977 \nL 395.853125 16.836727 \nQ 395.853125 14.836727 393.853125 14.836727 \nL 318.115625 14.836727 \nQ 316.115625 14.836727 316.115625 16.836727 \nL 316.115625 45.192977 \nQ 316.115625 47.192977 318.115625 47.192977 \nz\n\" style=\"fill:#ffffff;opacity:0.8;stroke:#cccccc;stroke-linejoin:miter;\"/>\n    </g>\n    <g id=\"patch_10\">\n     <path d=\"M 320.115625 26.435165 \nL 340.115625 26.435165 \nL 340.115625 19.435165 \nL 320.115625 19.435165 \nz\n\" style=\"fill:#1f77b4;\"/>\n    </g>\n    <g id=\"text_9\">\n     <!-- positive -->\n     <defs>\n      <path d=\"M 30.609375 48.390625 \nQ 23.390625 48.390625 19.1875 42.75 \nQ 14.984375 37.109375 14.984375 27.296875 \nQ 14.984375 17.484375 19.15625 11.84375 \nQ 23.34375 6.203125 30.609375 6.203125 \nQ 37.796875 6.203125 41.984375 11.859375 \nQ 46.1875 17.53125 46.1875 27.296875 \nQ 46.1875 37.015625 41.984375 42.703125 \nQ 37.796875 48.390625 30.609375 48.390625 \nz\nM 30.609375 56 \nQ 42.328125 56 49.015625 48.375 \nQ 55.71875 40.765625 55.71875 27.296875 \nQ 55.71875 13.875 49.015625 6.21875 \nQ 42.328125 -1.421875 30.609375 -1.421875 \nQ 18.84375 -1.421875 12.171875 6.21875 \nQ 5.515625 13.875 5.515625 27.296875 \nQ 5.515625 40.765625 12.171875 48.375 \nQ 18.84375 56 30.609375 56 \nz\n\" id=\"DejaVuSans-111\"/>\n      <path d=\"M 9.421875 54.6875 \nL 18.40625 54.6875 \nL 18.40625 0 \nL 9.421875 0 \nz\nM 9.421875 75.984375 \nL 18.40625 75.984375 \nL 18.40625 64.59375 \nL 9.421875 64.59375 \nz\n\" id=\"DejaVuSans-105\"/>\n      <path d=\"M 18.3125 70.21875 \nL 18.3125 54.6875 \nL 36.8125 54.6875 \nL 36.8125 47.703125 \nL 18.3125 47.703125 \nL 18.3125 18.015625 \nQ 18.3125 11.328125 20.140625 9.421875 \nQ 21.96875 7.515625 27.59375 7.515625 \nL 36.8125 7.515625 \nL 36.8125 0 \nL 27.59375 0 \nQ 17.1875 0 13.234375 3.875 \nQ 9.28125 7.765625 9.28125 18.015625 \nL 9.28125 47.703125 \nL 2.6875 47.703125 \nL 2.6875 54.6875 \nL 9.28125 54.6875 \nL 9.28125 70.21875 \nz\n\" id=\"DejaVuSans-116\"/>\n      <path d=\"M 2.984375 54.6875 \nL 12.5 54.6875 \nL 29.59375 8.796875 \nL 46.6875 54.6875 \nL 56.203125 54.6875 \nL 35.6875 0 \nL 23.484375 0 \nz\n\" id=\"DejaVuSans-118\"/>\n     </defs>\n     <g transform=\"translate(348.115625 26.435165)scale(0.1 -0.1)\">\n      <use xlink:href=\"#DejaVuSans-112\"/>\n      <use x=\"63.476562\" xlink:href=\"#DejaVuSans-111\"/>\n      <use x=\"124.658203\" xlink:href=\"#DejaVuSans-115\"/>\n      <use x=\"176.757812\" xlink:href=\"#DejaVuSans-105\"/>\n      <use x=\"204.541016\" xlink:href=\"#DejaVuSans-116\"/>\n      <use x=\"243.75\" xlink:href=\"#DejaVuSans-105\"/>\n      <use x=\"271.533203\" xlink:href=\"#DejaVuSans-118\"/>\n      <use x=\"330.712891\" xlink:href=\"#DejaVuSans-101\"/>\n     </g>\n    </g>\n    <g id=\"patch_11\">\n     <path d=\"M 320.115625 41.11329 \nL 340.115625 41.11329 \nL 340.115625 34.11329 \nL 320.115625 34.11329 \nz\n\" style=\"fill:#ff7f0e;\"/>\n    </g>\n    <g id=\"text_10\">\n     <!-- negative -->\n     <defs>\n      <path d=\"M 54.890625 33.015625 \nL 54.890625 0 \nL 45.90625 0 \nL 45.90625 32.71875 \nQ 45.90625 40.484375 42.875 44.328125 \nQ 39.84375 48.1875 33.796875 48.1875 \nQ 26.515625 48.1875 22.3125 43.546875 \nQ 18.109375 38.921875 18.109375 30.90625 \nL 18.109375 0 \nL 9.078125 0 \nL 9.078125 54.6875 \nL 18.109375 54.6875 \nL 18.109375 46.1875 \nQ 21.34375 51.125 25.703125 53.5625 \nQ 30.078125 56 35.796875 56 \nQ 45.21875 56 50.046875 50.171875 \nQ 54.890625 44.34375 54.890625 33.015625 \nz\n\" id=\"DejaVuSans-110\"/>\n      <path d=\"M 45.40625 27.984375 \nQ 45.40625 37.75 41.375 43.109375 \nQ 37.359375 48.484375 30.078125 48.484375 \nQ 22.859375 48.484375 18.828125 43.109375 \nQ 14.796875 37.75 14.796875 27.984375 \nQ 14.796875 18.265625 18.828125 12.890625 \nQ 22.859375 7.515625 30.078125 7.515625 \nQ 37.359375 7.515625 41.375 12.890625 \nQ 45.40625 18.265625 45.40625 27.984375 \nz\nM 54.390625 6.78125 \nQ 54.390625 -7.171875 48.1875 -13.984375 \nQ 42 -20.796875 29.203125 -20.796875 \nQ 24.46875 -20.796875 20.265625 -20.09375 \nQ 16.0625 -19.390625 12.109375 -17.921875 \nL 12.109375 -9.1875 \nQ 16.0625 -11.328125 19.921875 -12.34375 \nQ 23.78125 -13.375 27.78125 -13.375 \nQ 36.625 -13.375 41.015625 -8.765625 \nQ 45.40625 -4.15625 45.40625 5.171875 \nL 45.40625 9.625 \nQ 42.625 4.78125 38.28125 2.390625 \nQ 33.9375 0 27.875 0 \nQ 17.828125 0 11.671875 7.65625 \nQ 5.515625 15.328125 5.515625 27.984375 \nQ 5.515625 40.671875 11.671875 48.328125 \nQ 17.828125 56 27.875 56 \nQ 33.9375 56 38.28125 53.609375 \nQ 42.625 51.21875 45.40625 46.390625 \nL 45.40625 54.6875 \nL 54.390625 54.6875 \nz\n\" id=\"DejaVuSans-103\"/>\n     </defs>\n     <g transform=\"translate(348.115625 41.11329)scale(0.1 -0.1)\">\n      <use xlink:href=\"#DejaVuSans-110\"/>\n      <use x=\"63.378906\" xlink:href=\"#DejaVuSans-101\"/>\n      <use x=\"124.902344\" xlink:href=\"#DejaVuSans-103\"/>\n      <use x=\"188.378906\" xlink:href=\"#DejaVuSans-97\"/>\n      <use x=\"249.658203\" xlink:href=\"#DejaVuSans-116\"/>\n      <use x=\"288.867188\" xlink:href=\"#DejaVuSans-105\"/>\n      <use x=\"316.650391\" xlink:href=\"#DejaVuSans-118\"/>\n      <use x=\"375.830078\" xlink:href=\"#DejaVuSans-101\"/>\n     </g>\n    </g>\n   </g>\n  </g>\n </g>\n <defs>\n  <clipPath id=\"pc595601017\">\n   <rect height=\"217.44\" width=\"334.8\" x=\"66.053125\" y=\"9.836727\"/>\n  </clipPath>\n </defs>\n</svg>\n",
      "text/plain": "<Figure size 432x288 with 1 Axes>"
     },
     "metadata": {
      "needs_background": "light"
     },
     "output_type": "display_data"
    }
   ],
   "source": [
    "%matplotlib inline\n",
    "\n",
    "class_balance = pd.DataFrame(data={\"positive\": [len(positive)], \"negative\": [len(negative)]})\n",
    "class_balance_plot = class_balance.plot(kind=\"bar\")\n",
    "class_balance_plot.set_ylabel(\"# Samples\")"
   ]
  },
  {
   "cell_type": "markdown",
   "execution_count": null,
   "metadata": {},
   "outputs": [],
   "source": [
    "Now we will inspect how often each feature is used in the data in the first place. Thus we can evaluate how much significance each evaluation over the subdomains has."
   ]
  },
  {
   "cell_type": "code",
   "execution_count": 4,
   "metadata": {},
   "outputs": [
    {
     "data": {
      "text/html": "<div>\n<style scoped>\n    .dataframe tbody tr th:only-of-type {\n        vertical-align: middle;\n    }\n\n    .dataframe tbody tr th {\n        vertical-align: top;\n    }\n\n    .dataframe thead th {\n        text-align: right;\n    }\n</style>\n<table border=\"1\" class=\"dataframe\">\n  <thead>\n    <tr style=\"text-align: right;\">\n      <th></th>\n      <th>Feature0</th>\n      <th>Feature1</th>\n      <th>Feature2</th>\n      <th>Feature3</th>\n      <th>Feature4</th>\n      <th>Feature5</th>\n      <th>Feature6</th>\n      <th>Feature7</th>\n      <th>Feature8</th>\n      <th>Feature9</th>\n      <th>...</th>\n      <th>Feature265</th>\n      <th>Feature266</th>\n      <th>Feature267</th>\n      <th>Feature268</th>\n      <th>Feature269</th>\n      <th>Feature270</th>\n      <th>Feature271</th>\n      <th>Feature272</th>\n      <th>Feature273</th>\n      <th>Feature274</th>\n    </tr>\n  </thead>\n  <tbody>\n    <tr>\n      <th>0</th>\n      <td>106230</td>\n      <td>106230</td>\n      <td>88271</td>\n      <td>88271</td>\n      <td>88271</td>\n      <td>77213</td>\n      <td>75919</td>\n      <td>88446</td>\n      <td>18776</td>\n      <td>106152</td>\n      <td>...</td>\n      <td>206</td>\n      <td>0</td>\n      <td>136</td>\n      <td>8</td>\n      <td>2</td>\n      <td>0</td>\n      <td>545</td>\n      <td>22</td>\n      <td>545</td>\n      <td>22</td>\n    </tr>\n  </tbody>\n</table>\n<p>1 rows × 275 columns</p>\n</div>",
      "text/plain": "   Feature0  Feature1  Feature2  Feature3  Feature4  Feature5  Feature6  \\\n0    106230    106230     88271     88271     88271     77213     75919   \n\n   Feature7  Feature8  Feature9  ...  Feature265  Feature266  Feature267  \\\n0     88446     18776    106152  ...         206           0         136   \n\n   Feature268  Feature269  Feature270  Feature271  Feature272  Feature273  \\\n0           8           2           0         545          22         545   \n\n   Feature274  \n0          22  \n\n[1 rows x 275 columns]"
     },
     "execution_count": 4,
     "metadata": {},
     "output_type": "execute_result"
    }
   ],
   "source": [
    "feature_uses = data[data > 1e-7].count() # For some values, 1e-7 is the lowest instead of 0.\n",
    "rel_feature_uses = feature_uses/sample_count\n",
    "\n",
    "fd = {}\n",
    "for f in range(n_features):\n",
    "    fd[\"Feature%d\" % f] = [feature_uses[f]]\n",
    "feature_data = pd.DataFrame(data=fd)\n",
    "feature_data"
   ]
  },
  {
   "cell_type": "code",
   "execution_count": 5,
   "metadata": {},
   "outputs": [
    {
     "data": {
      "text/html": "<div>\n<style scoped>\n    .dataframe tbody tr th:only-of-type {\n        vertical-align: middle;\n    }\n\n    .dataframe tbody tr th {\n        vertical-align: top;\n    }\n\n    .dataframe thead th {\n        text-align: right;\n    }\n</style>\n<table border=\"1\" class=\"dataframe\">\n  <thead>\n    <tr style=\"text-align: right;\">\n      <th></th>\n      <th>Feature0</th>\n      <th>Feature1</th>\n      <th>Feature2</th>\n      <th>Feature3</th>\n      <th>Feature4</th>\n      <th>Feature5</th>\n      <th>Feature6</th>\n      <th>Feature7</th>\n      <th>Feature8</th>\n      <th>Feature9</th>\n      <th>...</th>\n      <th>Feature265</th>\n      <th>Feature266</th>\n      <th>Feature267</th>\n      <th>Feature268</th>\n      <th>Feature269</th>\n      <th>Feature270</th>\n      <th>Feature271</th>\n      <th>Feature272</th>\n      <th>Feature273</th>\n      <th>Feature274</th>\n    </tr>\n  </thead>\n  <tbody>\n    <tr>\n      <th>0</th>\n      <td>1.0</td>\n      <td>1.0</td>\n      <td>0.830942</td>\n      <td>0.830942</td>\n      <td>0.830942</td>\n      <td>0.726847</td>\n      <td>0.714666</td>\n      <td>0.83259</td>\n      <td>0.176749</td>\n      <td>0.999266</td>\n      <td>...</td>\n      <td>0.001939</td>\n      <td>0.0</td>\n      <td>0.00128</td>\n      <td>0.000075</td>\n      <td>0.000019</td>\n      <td>0.0</td>\n      <td>0.00513</td>\n      <td>0.000207</td>\n      <td>0.00513</td>\n      <td>0.000207</td>\n    </tr>\n  </tbody>\n</table>\n<p>1 rows × 275 columns</p>\n</div>",
      "text/plain": "   Feature0  Feature1  Feature2  Feature3  Feature4  Feature5  Feature6  \\\n0       1.0       1.0  0.830942  0.830942  0.830942  0.726847  0.714666   \n\n   Feature7  Feature8  Feature9  ...  Feature265  Feature266  Feature267  \\\n0   0.83259  0.176749  0.999266  ...    0.001939         0.0     0.00128   \n\n   Feature268  Feature269  Feature270  Feature271  Feature272  Feature273  \\\n0    0.000075    0.000019         0.0     0.00513    0.000207     0.00513   \n\n   Feature274  \n0    0.000207  \n\n[1 rows x 275 columns]"
     },
     "execution_count": 5,
     "metadata": {},
     "output_type": "execute_result"
    }
   ],
   "source": [
    "# We also calculate the relative amount of feature uses.\n",
    "fd = {}\n",
    "for f in range(n_features):\n",
    "    fd[\"Feature%d\" % f] = [rel_feature_uses[f]]\n",
    "rel_feature_data = pd.DataFrame(data=fd)\n",
    "rel_feature_data"
   ]
  },
  {
   "cell_type": "code",
   "execution_count": 6,
   "metadata": {},
   "outputs": [
    {
     "data": {
      "text/html": "<div>\n<style scoped>\n    .dataframe tbody tr th:only-of-type {\n        vertical-align: middle;\n    }\n\n    .dataframe tbody tr th {\n        vertical-align: top;\n    }\n\n    .dataframe thead th {\n        text-align: right;\n    }\n</style>\n<table border=\"1\" class=\"dataframe\">\n  <thead>\n    <tr style=\"text-align: right;\">\n      <th></th>\n      <th>Feature0</th>\n      <th>Feature1</th>\n      <th>Feature2</th>\n      <th>Feature3</th>\n      <th>Feature4</th>\n      <th>Feature5</th>\n      <th>Feature6</th>\n      <th>Feature7</th>\n      <th>Feature8</th>\n      <th>Feature9</th>\n      <th>...</th>\n      <th>Feature265</th>\n      <th>Feature266</th>\n      <th>Feature267</th>\n      <th>Feature268</th>\n      <th>Feature269</th>\n      <th>Feature270</th>\n      <th>Feature271</th>\n      <th>Feature272</th>\n      <th>Feature273</th>\n      <th>Feature274</th>\n    </tr>\n    <tr>\n      <th>Label0</th>\n      <th></th>\n      <th></th>\n      <th></th>\n      <th></th>\n      <th></th>\n      <th></th>\n      <th></th>\n      <th></th>\n      <th></th>\n      <th></th>\n      <th></th>\n      <th></th>\n      <th></th>\n      <th></th>\n      <th></th>\n      <th></th>\n      <th></th>\n      <th></th>\n      <th></th>\n      <th></th>\n      <th></th>\n    </tr>\n  </thead>\n  <tbody>\n    <tr>\n      <th>0</th>\n      <td>10.416221</td>\n      <td>1.755806</td>\n      <td>0.340443</td>\n      <td>0.287682</td>\n      <td>0.559232</td>\n      <td>26.505638</td>\n      <td>1.454835</td>\n      <td>4.018525</td>\n      <td>0.390720</td>\n      <td>32.369717</td>\n      <td>...</td>\n      <td>0.003220</td>\n      <td>0.0</td>\n      <td>0.001240</td>\n      <td>0.000000</td>\n      <td>0.000000</td>\n      <td>0.0</td>\n      <td>0.008779</td>\n      <td>0.001622</td>\n      <td>0.003096</td>\n      <td>0.000620</td>\n    </tr>\n    <tr>\n      <th>1</th>\n      <td>11.663070</td>\n      <td>1.216280</td>\n      <td>0.478940</td>\n      <td>0.372724</td>\n      <td>0.711640</td>\n      <td>6.759599</td>\n      <td>2.100983</td>\n      <td>1.905493</td>\n      <td>0.191821</td>\n      <td>10.957896</td>\n      <td>...</td>\n      <td>0.001717</td>\n      <td>0.0</td>\n      <td>0.001285</td>\n      <td>0.000084</td>\n      <td>0.000021</td>\n      <td>0.0</td>\n      <td>0.007781</td>\n      <td>0.000115</td>\n      <td>0.003232</td>\n      <td>0.000089</td>\n    </tr>\n  </tbody>\n</table>\n<p>2 rows × 275 columns</p>\n</div>",
      "text/plain": "         Feature0  Feature1  Feature2  Feature3  Feature4   Feature5  \\\nLabel0                                                                 \n0       10.416221  1.755806  0.340443  0.287682  0.559232  26.505638   \n1       11.663070  1.216280  0.478940  0.372724  0.711640   6.759599   \n\n        Feature6  Feature7  Feature8   Feature9  ...  Feature265  Feature266  \\\nLabel0                                           ...                           \n0       1.454835  4.018525  0.390720  32.369717  ...    0.003220         0.0   \n1       2.100983  1.905493  0.191821  10.957896  ...    0.001717         0.0   \n\n        Feature267  Feature268  Feature269  Feature270  Feature271  \\\nLabel0                                                               \n0         0.001240    0.000000    0.000000         0.0    0.008779   \n1         0.001285    0.000084    0.000021         0.0    0.007781   \n\n        Feature272  Feature273  Feature274  \nLabel0                                      \n0         0.001622    0.003096    0.000620  \n1         0.000115    0.003232    0.000089  \n\n[2 rows x 275 columns]"
     },
     "execution_count": 6,
     "metadata": {},
     "output_type": "execute_result"
    }
   ],
   "source": [
    "data.groupby(\"Label0\").mean()"
   ]
  },
  {
   "cell_type": "markdown",
   "execution_count": null,
   "metadata": {},
   "outputs": [],
   "source": [
    "## Training a Classifier\n",
    "\n",
    "First, let's check the performance a decision tree or a random forest can reach on a designated train and test set."
   ]
  },
  {
   "cell_type": "markdown",
   "execution_count": null,
   "metadata": {},
   "outputs": [],
   "source": [
    "### Prepare the training and test data"
   ]
  },
  {
   "cell_type": "code",
   "execution_count": 7,
   "metadata": {},
   "outputs": [],
   "source": [
    "from sklearn.model_selection import train_test_split\n",
    "\n",
    "train, test = train_test_split(data, test_size = 0.2)\n",
    "train_x = train[train.columns[0:n_features]]\n",
    "train_y = train[\"Label0\"]\n",
    "\n",
    "test_x = test[test.columns[0:n_features]]\n",
    "test_y = test[\"Label0\"]"
   ]
  },
  {
   "cell_type": "code",
   "execution_count": 8,
   "metadata": {},
   "outputs": [
    {
     "data": {
      "text/plain": "<Figure size 432x288 with 0 Axes>"
     },
     "metadata": {},
     "output_type": "display_data"
    }
   ],
   "source": [
    "%run printing.py"
   ]
  },
  {
   "cell_type": "markdown",
   "execution_count": null,
   "metadata": {},
   "outputs": [],
   "source": [
    "### Decision Tree"
   ]
  },
  {
   "cell_type": "code",
   "execution_count": 9,
   "metadata": {},
   "outputs": [
    {
     "data": {
      "text/plain": "DecisionTreeClassifier(ccp_alpha=0.0, class_weight='balanced', criterion='gini',\n                       max_depth=None, max_features=None, max_leaf_nodes=None,\n                       min_impurity_decrease=0.0, min_impurity_split=None,\n                       min_samples_leaf=1, min_samples_split=2,\n                       min_weight_fraction_leaf=0.0, presort='deprecated',\n                       random_state=None, splitter='best')"
     },
     "execution_count": 9,
     "metadata": {},
     "output_type": "execute_result"
    }
   ],
   "source": [
    "from sklearn.tree import DecisionTreeClassifier\n",
    "\n",
    "tree = DecisionTreeClassifier(class_weight=\"balanced\")\n",
    "\n",
    "tree.fit(train_x, train_y)"
   ]
  },
  {
   "cell_type": "code",
   "execution_count": 10,
   "metadata": {},
   "outputs": [
    {
     "name": "stdout",
     "output_type": "stream",
     "text": "Test accuracy: 0.917\nTest balanced accuracy: 0.767\nTest precision: 0.954\nTest recall: 0.955\nTest F1: 0.954\n"
    }
   ],
   "source": [
    "print_classifier_stats(tree, test_x, test_y)"
   ]
  },
  {
   "cell_type": "markdown",
   "execution_count": null,
   "metadata": {},
   "outputs": [],
   "source": [
    "### Random Forest and Gini Importance\n",
    "\n",
    "Next we will train a random forest with Gini Impurity and also calculate the respective gini importances of each feature."
   ]
  },
  {
   "cell_type": "code",
   "execution_count": 11,
   "metadata": {},
   "outputs": [
    {
     "data": {
      "text/plain": "RandomForestClassifier(bootstrap=False, ccp_alpha=0.0, class_weight='balanced',\n                       criterion='gini', max_depth=None, max_features=0.7,\n                       max_leaf_nodes=None, max_samples=None,\n                       min_impurity_decrease=0.0, min_impurity_split=None,\n                       min_samples_leaf=1, min_samples_split=2,\n                       min_weight_fraction_leaf=0.0, n_estimators=100, n_jobs=6,\n                       oob_score=False, random_state=124, verbose=0,\n                       warm_start=False)"
     },
     "execution_count": 11,
     "metadata": {},
     "output_type": "execute_result"
    }
   ],
   "source": [
    "from sklearn.ensemble import RandomForestClassifier\n",
    "\n",
    "forest_0 = RandomForestClassifier(\n",
    "    n_estimators=100, # 100 Trees.\n",
    "    criterion=\"gini\", # Using Gini index instead of \"entropy\"\n",
    "    n_jobs=6, # Number of CPUs to use.\n",
    "    bootstrap=False,\n",
    "    max_features=0.7,\n",
    "    random_state=124,\n",
    "    class_weight=\"balanced\")\n",
    "\n",
    "forest_0.fit(train_x, train_y)\n"
   ]
  },
  {
   "cell_type": "code",
   "execution_count": 12,
   "metadata": {},
   "outputs": [
    {
     "name": "stdout",
     "output_type": "stream",
     "text": "Test accuracy: 0.933\nTest balanced accuracy: 0.819\nTest precision: 0.969\nTest recall: 0.958\nTest F1: 0.963\n"
    }
   ],
   "source": [
    "print_classifier_stats(forest_0, test_x, test_y)\n"
   ]
  },
  {
   "cell_type": "markdown",
   "execution_count": null,
   "metadata": {},
   "outputs": [],
   "source": [
    "## Training on the full data set\n",
    "\n",
    "For the feature evaluation it might be more of interest to not exclude the test set from the training data. We do not aim for a good predictor but instead for an analysis over the whole dataset."
   ]
  },
  {
   "cell_type": "code",
   "execution_count": 13,
   "metadata": {},
   "outputs": [
    {
     "data": {
      "text/plain": "RandomForestClassifier(bootstrap=False, ccp_alpha=0.0, class_weight='balanced',\n                       criterion='gini', max_depth=None, max_features=0.7,\n                       max_leaf_nodes=None, max_samples=None,\n                       min_impurity_decrease=0.0, min_impurity_split=None,\n                       min_samples_leaf=1, min_samples_split=2,\n                       min_weight_fraction_leaf=0.0, n_estimators=100, n_jobs=6,\n                       oob_score=False, random_state=123, verbose=0,\n                       warm_start=False)"
     },
     "execution_count": 13,
     "metadata": {},
     "output_type": "execute_result"
    }
   ],
   "source": [
    "X = data[data.columns[0:n_features]]\n",
    "Y = data[\"Label0\"]\n",
    "\n",
    "forest = RandomForestClassifier(\n",
    "    n_estimators=100, # 100 Trees.\n",
    "    criterion=\"gini\", # Using Gini index instead of \"entropy\"\n",
    "    n_jobs=6, # Number of CPUs to use.\n",
    "    bootstrap=False,\n",
    "    max_features=0.7,\n",
    "    random_state=123,\n",
    "    class_weight=\"balanced\")\n",
    "\n",
    "forest.fit(X, Y)"
   ]
  },
  {
   "cell_type": "code",
   "execution_count": 14,
   "metadata": {},
   "outputs": [],
   "source": [
    "# metrics and classification matrix here"
   ]
  },
  {
   "cell_type": "markdown",
   "execution_count": null,
   "metadata": {},
   "outputs": [],
   "source": [
    "List features by importance"
   ]
  },
  {
   "cell_type": "code",
   "execution_count": 15,
   "metadata": {},
   "outputs": [],
   "source": [
    "importances = forest.feature_importances_\n",
    "std = np.std([tree.feature_importances_ for tree in forest.estimators_],\n",
    "             axis=0)\n",
    "indices = np.argsort(importances)[::-1]"
   ]
  },
  {
   "cell_type": "code",
   "execution_count": 16,
   "metadata": {},
   "outputs": [
    {
     "name": "stdout",
     "output_type": "stream",
     "text": "Feature ranking:\n  1. feature 211 (importance: 0.124089, rel. usage: 0.693891):  [Functions  ]  Functions or function applications per conjunct\n  2. feature   5 (importance: 0.062887, rel. usage: 0.726847):  [Logic      ]  Conjunctions per conjunct\n  3. feature 209 (importance: 0.038982, rel. usage: 0.548376):  [Functions  ]  Function applications per conjunct\n  4. feature   3 (importance: 0.023413, rel. usage: 0.830942):  [Logic      ]  max negation depth per conjunct\n  5. feature 108 (importance: 0.022271, rel. usage: 0.864417):  [Set theory ]  Set memberships per set inclusion op\n  6. feature   6 (importance: 0.021852, rel. usage: 0.714666):  [Logic      ]  Disjunctions per conjunct\n  7. feature  20 (importance: 0.019793, rel. usage: 0.800075):  [Equality   ]  Equality per conjunct\n  8. feature  55 (importance: 0.018981, rel. usage: 0.177944):  [Arithmetic ]  Additions per conjunct\n  9. feature 109 (importance: 0.018844, rel. usage: 0.676278):  [Set theory ]  Negative set memberships per set inclusion op\n 10. feature  91 (importance: 0.018017, rel. usage: 0.864417):  [Set theory ]  Set memberships per conjunct\n 11. feature  45 (importance: 0.017784, rel. usage: 0.491123):  [Arithmetic ]  Number of arithmetic ops\n 12. feature   7 (importance: 0.015900, rel. usage: 0.832590):  [Logic      ]  Implications per conjunct\n 13. feature  76 (importance: 0.015714, rel. usage: 0.864417):  [Set theory ]  Set memberships\n 14. feature   2 (importance: 0.015564, rel. usage: 0.830942):  [Logic      ]  number of negations per conjunct\n 15. feature   4 (importance: 0.015226, rel. usage: 0.830942):  [Logic      ]  max negation depth per number of negations\n 16. feature  21 (importance: 0.014962, rel. usage: 0.717669):  [Equality   ]  Inequality per conjunct\n 17. feature   9 (importance: 0.014209, rel. usage: 0.999266):  [Logic      ]  Logic ops per conjunct\n 18. feature  74 (importance: 0.013948, rel. usage: 0.985851):  [Set theory ]  Set inclusions\n 19. feature  92 (importance: 0.013851, rel. usage: 0.676278):  [Set theory ]  Negative set memberships per conjunct\n 20. feature 106 (importance: 0.012249, rel. usage: 0.985851):  [Set theory ]  Set inclusions per conjunct\n 21. feature 221 (importance: 0.011717, rel. usage: 0.548376):  [Functions  ]  Function applications ratio over functions\n 22. feature  34 (importance: 0.011691, rel. usage: 0.992130):  [Identifiers]  #ids with semi-bounded domains per conjunct, symbolic\n 23. feature  37 (importance: 0.011206, rel. usage: 0.968672):  [Identifiers]  #ids with unbounded domains per conjunct, explicit\n 24. feature  30 (importance: 0.010267, rel. usage: 0.999350):  [Identifiers]  Identifiers per conjunct\n 25. feature  10 (importance: 0.010205, rel. usage: 0.340996):  [Logic      ]  Boolean literals per conjunct\n 26. feature 190 (importance: 0.010156, rel. usage: 0.548376):  [Functions  ]  Function applications\n 27. feature  26 (importance: 0.009987, rel. usage: 0.992130):  [Identifiers]  #ids with semi-bounded domains, symbolic\n 28. feature  65 (importance: 0.009947, rel. usage: 0.177944):  [Arithmetic ]  Addition ratio of arithmetic ops\n 29. feature  13 (importance: 0.009726, rel. usage: 0.278951):  [Quantifiers]  Universal quantifiers per conjunct\n 30. feature 110 (importance: 0.009649, rel. usage: 0.284882):  [Set theory ]  Subsets per set inclusion op\n 31. feature  44 (importance: 0.009358, rel. usage: 0.968672):  [Identifiers]  #ids with unbounded domains ratio of all identifers, explicit\n 32. feature  22 (importance: 0.009353, rel. usage: 0.999350):  [Identifiers]  Number of identifiers\n 33. feature  35 (importance: 0.009244, rel. usage: 0.473021):  [Identifiers]  #ids with semi-bounded domains per conjunct, explicit\n 34. feature 180 (importance: 0.008678, rel. usage: 0.315608):  [Relations  ]  Relational domain ratio of rel ops\n 35. feature   1 (importance: 0.008651, rel. usage: 1.000000):  [Logic      ]  Max conjunct depth per conjunct\n 36. feature 170 (importance: 0.008456, rel. usage: 0.429144):  [Relations  ]  Rel ops per conjunct\n 37. feature  17 (importance: 0.007655, rel. usage: 0.278951):  [Quantifiers]  \\forall ratio of all quantifiers\n 38. feature  29 (importance: 0.007419, rel. usage: 0.968672):  [Identifiers]  #ids with unbounded domains, explicit\n 39. feature  93 (importance: 0.007410, rel. usage: 0.284882):  [Set theory ]  Subsets per conjunct\n 40. feature  77 (importance: 0.007267, rel. usage: 0.676278):  [Set theory ]  Negated set memberships\n 41. feature 210 (importance: 0.007070, rel. usage: 0.652697):  [Functions  ]  Functions per conjunct\n 42. feature 201 (importance: 0.006690, rel. usage: 0.512548):  [Functions  ]  General, total function per conjunct\n 43. feature  38 (importance: 0.006479, rel. usage: 0.483799):  [Identifiers]  #identifier relations ratio of all identifers\n 44. feature 220 (importance: 0.006423, rel. usage: 0.016530):  [Functions  ]  Lambda-expression ratio over functions\n 45. feature  42 (importance: 0.006393, rel. usage: 0.473021):  [Identifiers]  #ids with semi-bounded domains ratio of all identifers, explicit\n 46. feature  41 (importance: 0.005712, rel. usage: 0.992130):  [Identifiers]  #ids with semi-bounded domains ratio of all identifers, symbolic\n 47. feature  64 (importance: 0.005692, rel. usage: 0.491123):  [Arithmetic ]  Arithmetic ops per conjunct\n 48. feature  18 (importance: 0.005552, rel. usage: 0.378951):  [Quantifiers]  \\exists ratio of all quantifiers\n 49. feature  14 (importance: 0.005456, rel. usage: 0.378951):  [Quantifiers]  Existential quantifiers per conjunct\n 50. feature  98 (importance: 0.005349, rel. usage: 0.152537):  [Set theory ]  Set unions per conjunct\n 51. feature 132 (importance: 0.005262, rel. usage: 0.429144):  [Relations  ]  Number of rel ops\n 52. feature  23 (importance: 0.005043, rel. usage: 0.483799):  [Identifiers]  #identifier relations\n 53. feature 181 (importance: 0.005018, rel. usage: 0.196762):  [Relations  ]  Relational range ratio of rel ops\n 54. feature  31 (importance: 0.004935, rel. usage: 0.483799):  [Identifiers]  #identifier relations per conjunct\n 55. feature  78 (importance: 0.004827, rel. usage: 0.284882):  [Set theory ]  Subsets\n 56. feature 160 (importance: 0.004824, rel. usage: 0.315608):  [Relations  ]  Relational domainper conjunct\n 57. feature  39 (importance: 0.004810, rel. usage: 0.458759):  [Identifiers]  #ids with bounded domains ratio of all identifers, symbolic\n 58. feature 189 (importance: 0.004528, rel. usage: 0.652697):  [Functions  ]  Number of functions\n 59. feature  94 (importance: 0.004517, rel. usage: 0.125012):  [Set theory ]  Strict subsets per conjunct\n 60. feature  97 (importance: 0.004472, rel. usage: 0.183988):  [Set theory ]  number of `card(.)` calls per conjunct\n 61. feature 127 (importance: 0.004292, rel. usage: 0.342220):  [Set theory ]  Powersets per set op\n 62. feature  83 (importance: 0.004152, rel. usage: 0.152537):  [Set theory ]  Set unions\n 63. feature 111 (importance: 0.004091, rel. usage: 0.125012):  [Set theory ]  Strict subsets per set inclusion op\n 64. feature 142 (importance: 0.004048, rel. usage: 0.315608):  [Relations  ]  Relational domain\n 65. feature 208 (importance: 0.003994, rel. usage: 0.016530):  [Functions  ]  Lambda-expression per conjunct\n 66. feature  16 (importance: 0.003902, rel. usage: 0.452744):  [Quantifiers]  Quantifiers per conjunct\n 67. feature  15 (importance: 0.003857, rel. usage: 0.452744):  [Quantifiers]  max depth of nested quantifiers per conjunct\n 68. feature  32 (importance: 0.003855, rel. usage: 0.458759):  [Identifiers]  #ids with bounded domains per conjunct, symbolic\n 69. feature  19 (importance: 0.003737, rel. usage: 0.452744):  [Quantifiers]  average nesting depth of quantifiers\n 70. feature 175 (importance: 0.003713, rel. usage: 0.222141):  [Relations  ]  Relational images ratio of rel ops\n 71. feature  99 (importance: 0.003713, rel. usage: 0.296366):  [Set theory ]  Intersections per conjunct\n 72. feature  79 (importance: 0.003612, rel. usage: 0.125012):  [Set theory ]  Strict subsets\n 73. feature 124 (importance: 0.003554, rel. usage: 0.342220):  [Set theory ]  Powersets per conjunct\n 74. feature 129 (importance: 0.003522, rel. usage: 0.342220):  [Set theory ]  avg. power set nesting depth\n 75. feature 176 (importance: 0.003452, rel. usage: 0.142088):  [Relations  ]  Relational inversions ratio of rel ops\n 76. feature  43 (importance: 0.003309, rel. usage: 0.141730):  [Identifiers]  #ids with unbounded domains ratio of all identifers, symbolic\n 77. feature 192 (importance: 0.003242, rel. usage: 0.512548):  [Functions  ]  General, total function\n 78. feature 213 (importance: 0.003082, rel. usage: 0.512548):  [Functions  ]  General, total function ratio over functions\n 79. feature  59 (importance: 0.003076, rel. usage: 0.363466):  [Arithmetic ]  Comparissons per conjunct\n 80. feature 112 (importance: 0.003016, rel. usage: 0.152537):  [Set theory ]  Set unions per set inclusion op\n 81. feature 107 (importance: 0.003001, rel. usage: 0.351483):  [Set theory ]  Set operations per conjunct\n 82. feature  82 (importance: 0.002925, rel. usage: 0.183988):  [Set theory ]  number of `card(.)` calls\n 83. feature  12 (importance: 0.002874, rel. usage: 0.452744):  [Quantifiers]  Number of quantifiers\n 84. feature 200 (importance: 0.002805, rel. usage: 0.271844):  [Functions  ]  General, partial function per conjunct\n 85. feature  24 (importance: 0.002776, rel. usage: 0.458759):  [Identifiers]  #ids with bounded domains, symbolic\n 86. feature  50 (importance: 0.002721, rel. usage: 0.363466):  [Arithmetic ]  Comparison operators\n 87. feature   0 (importance: 0.002674, rel. usage: 1.000000):  [Logic      ]  Number of top-level conjuncts\n 88. feature 199 (importance: 0.002647, rel. usage: 0.016530):  [Functions  ]  Lambda-expression\n 89. feature  69 (importance: 0.002619, rel. usage: 0.363466):  [Arithmetic ]  Comparissons ratio of arithmetic ops\n 90. feature 212 (importance: 0.002571, rel. usage: 0.271844):  [Functions  ]  General, partial function ratio over functions\n 91. feature  46 (importance: 0.002553, rel. usage: 0.177944):  [Arithmetic ]  Additions\n 92. feature 151 (importance: 0.002357, rel. usage: 0.141504):  [Relations  ]  Number of general relationsper conjunct\n 93. feature  66 (importance: 0.002277, rel. usage: 0.094644):  [Arithmetic ]  Multiplication ratio of arithmetic ops\n 94. feature 161 (importance: 0.002191, rel. usage: 0.196762):  [Relations  ]  Relational rangeper conjunct\n 95. feature 121 (importance: 0.002123, rel. usage: 0.342220):  [Set theory ]  number of power sets\n 96. feature 138 (importance: 0.002050, rel. usage: 0.142088):  [Relations  ]  Relational inversions\n 97. feature 119 (importance: 0.002004, rel. usage: 0.018046):  [Set theory ]  Number of set comprehensions per set inclusion op\n 98. feature  75 (importance: 0.002003, rel. usage: 0.351483):  [Set theory ]  Set operations\n 99. feature 155 (importance: 0.001951, rel. usage: 0.222141):  [Relations  ]  Relational imagesper conjunct\n100. feature  36 (importance: 0.001930, rel. usage: 0.141730):  [Identifiers]  #ids with unbounded domains per conjunct, symbolic\n"
    }
   ],
   "source": [
    "# Print the feature ranking\n",
    "print(\"Feature ranking:\")\n",
    "\n",
    "cat_count_top50 = {}\n",
    "cat_count_top100 = {}\n",
    "for f in range(100):\n",
    "    cat = f275_category(indices[f])\n",
    "    cat_count_top100[cat] = cat_count_top100.get(cat, 0) + 1\n",
    "    if f < 50:\n",
    "        cat_count_top50[cat] = cat_count_top50.get(cat, 0) + 1\n",
    "    print(\"%3d. feature %3d (importance: %1.6f, rel. usage: %1.6f):  [%-11s]  %s\" % (f + 1, indices[f], importances[indices[f]], rel_feature_uses[indices[f]], cat, f275_name(indices[f])))"
   ]
  },
  {
   "cell_type": "markdown",
   "execution_count": null,
   "metadata": {},
   "outputs": [],
   "source": [
    "How many of the features of each category made it to the top 100?"
   ]
  },
  {
   "cell_type": "code",
   "execution_count": 17,
   "metadata": {},
   "outputs": [],
   "source": [
    "cat_count_total = {}\n",
    "for f in range(n_features):\n",
    "    cat = f275_category(f)\n",
    "    cat_count_total[cat] = cat_count_total.get(cat, 0) + 1"
   ]
  },
  {
   "cell_type": "markdown",
   "execution_count": null,
   "metadata": {},
   "outputs": [],
   "source": [
    "### Category count in Top 100"
   ]
  },
  {
   "cell_type": "code",
   "execution_count": 18,
   "metadata": {},
   "outputs": [
    {
     "name": "stdout",
     "output_type": "stream",
     "text": "Logic      : 10/11, 0.909%\nQuantifiers:  8/ 9, 0.889%\nEquality   :  2/ 2, 1.000%\nIdentifiers: 18/23, 0.783%\nArithmetic :  9/29, 0.310%\nSet theory : 27/57, 0.474%\nRelations  : 12/58, 0.207%\nFunctions  : 14/33, 0.424%\nSequences  :  0/49, 0.000%\nClosure    :  0/ 4, 0.000%\n"
    }
   ],
   "source": [
    "for cat, count in cat_count_total.items():\n",
    "    top100 = cat_count_top100.get(cat, 0)\n",
    "    print(\"%-11s: %2d/%2d, %.3f%%\" % (cat, top100, count, top100/count))"
   ]
  },
  {
   "cell_type": "markdown",
   "execution_count": null,
   "metadata": {},
   "outputs": [],
   "source": [
    "### Category count in Top 50"
   ]
  },
  {
   "cell_type": "code",
   "execution_count": 19,
   "metadata": {},
   "outputs": [
    {
     "name": "stdout",
     "output_type": "stream",
     "text": "Logic      :  9/11, 0.818%\nQuantifiers:  4/ 9, 0.444%\nEquality   :  2/ 2, 1.000%\nIdentifiers: 11/23, 0.478%\nArithmetic :  4/29, 0.138%\nSet theory : 11/57, 0.193%\nRelations  :  2/58, 0.034%\nFunctions  :  7/33, 0.212%\nSequences  :  0/49, 0.000%\nClosure    :  0/ 4, 0.000%\n"
    }
   ],
   "source": [
    "for cat, count in cat_count_total.items():\n",
    "    top50 = cat_count_top50.get(cat, 0)\n",
    "    print(\"%-11s: %2d/%2d, %.3f%%\" % (cat, top50, count, top50/count))"
   ]
  },
  {
   "cell_type": "markdown",
   "execution_count": null,
   "metadata": {},
   "outputs": [],
   "source": [
    "### Category counts Top 50 vs. Top 100"
   ]
  },
  {
   "cell_type": "code",
   "execution_count": 20,
   "metadata": {},
   "outputs": [
    {
     "name": "stdout",
     "output_type": "stream",
     "text": "------------ T100  T50   Decline\nLogic      : 0.909 0.818 0.100\nQuantifiers: 0.889 0.444 0.500\nEquality   : 1.000 1.000 0.000\nIdentifiers: 0.783 0.478 0.389\nArithmetic : 0.310 0.138 0.556\nSet theory : 0.474 0.193 0.593\nRelations  : 0.207 0.034 0.833\nFunctions  : 0.424 0.212 0.500\nSequences  : 0.000 0.000 0.000\nClosure    : 0.000 0.000 0.000\n"
    }
   ],
   "source": [
    "print(\"------------ %-5s %-5s Decline\" % (\"T100\", \"T50\"))\n",
    "for cat, count in cat_count_total.items():\n",
    "    top50 = cat_count_top50.get(cat, 0)\n",
    "    top100 = cat_count_top100.get(cat, 0)\n",
    "    print(\"%-11s: %.3f %.3f %.3f\" % (cat, top100/count, top50/count, ((top100-top50)/top100) if top100>0 else 0))\n"
   ]
  },
  {
   "cell_type": "markdown",
   "execution_count": null,
   "metadata": {},
   "outputs": [],
   "source": [
    "## Taking a look at permutation importance\n",
    "\n",
    "While the Gini index captures the average gain of splitting on each feature in their respective position in the tree, the permutation importance is more robust against variable codependencies."
   ]
  },
  {
   "cell_type": "code",
   "execution_count": 21,
   "metadata": {},
   "outputs": [],
   "source": [
    "from sklearn.inspection import permutation_importance\n",
    "\n",
    "perm_importances = permutation_importance(forest, X, Y, scoring='balanced_accuracy', n_repeats=5, n_jobs=1, random_state=1234)\n",
    "perm_indices = perm_importances.importances_mean.argsort()[::-1]"
   ]
  },
  {
   "cell_type": "code",
   "execution_count": 22,
   "metadata": {},
   "outputs": [
    {
     "name": "stdout",
     "output_type": "stream",
     "text": "Feature ranking:\n  1. feature 211 (importance: 0.257536, rel. usage: 0.693891):  [Functions  ]  Functions or function applications per conjunct\n  2. feature   5 (importance: 0.191051, rel. usage: 0.726847):  [Logic      ]  Conjunctions per conjunct\n  3. feature   3 (importance: 0.092207, rel. usage: 0.830942):  [Logic      ]  max negation depth per conjunct\n  4. feature  45 (importance: 0.047287, rel. usage: 0.491123):  [Arithmetic ]  Number of arithmetic ops\n  5. feature  20 (importance: 0.043272, rel. usage: 0.800075):  [Equality   ]  Equality per conjunct\n  6. feature  55 (importance: 0.042528, rel. usage: 0.177944):  [Arithmetic ]  Additions per conjunct\n  7. feature  74 (importance: 0.028922, rel. usage: 0.985851):  [Set theory ]  Set inclusions\n  8. feature  35 (importance: 0.023831, rel. usage: 0.473021):  [Identifiers]  #ids with semi-bounded domains per conjunct, explicit\n  9. feature  76 (importance: 0.023702, rel. usage: 0.864417):  [Set theory ]  Set memberships\n 10. feature   2 (importance: 0.022589, rel. usage: 0.830942):  [Logic      ]  number of negations per conjunct\n 11. feature   6 (importance: 0.021265, rel. usage: 0.714666):  [Logic      ]  Disjunctions per conjunct\n 12. feature 108 (importance: 0.020673, rel. usage: 0.864417):  [Set theory ]  Set memberships per set inclusion op\n 13. feature 190 (importance: 0.020480, rel. usage: 0.548376):  [Functions  ]  Function applications\n 14. feature 209 (importance: 0.019266, rel. usage: 0.548376):  [Functions  ]  Function applications per conjunct\n 15. feature   4 (importance: 0.018864, rel. usage: 0.830942):  [Logic      ]  max negation depth per number of negations\n 16. feature   7 (importance: 0.014884, rel. usage: 0.832590):  [Logic      ]  Implications per conjunct\n 17. feature  21 (importance: 0.013766, rel. usage: 0.717669):  [Equality   ]  Inequality per conjunct\n 18. feature  17 (importance: 0.012249, rel. usage: 0.278951):  [Quantifiers]  \\forall ratio of all quantifiers\n 19. feature 109 (importance: 0.010592, rel. usage: 0.676278):  [Set theory ]  Negative set memberships per set inclusion op\n 20. feature  91 (importance: 0.010034, rel. usage: 0.864417):  [Set theory ]  Set memberships per conjunct\n 21. feature  10 (importance: 0.009059, rel. usage: 0.340996):  [Logic      ]  Boolean literals per conjunct\n 22. feature  13 (importance: 0.007033, rel. usage: 0.278951):  [Quantifiers]  Universal quantifiers per conjunct\n 23. feature   9 (importance: 0.006301, rel. usage: 0.999266):  [Logic      ]  Logic ops per conjunct\n 24. feature  18 (importance: 0.005828, rel. usage: 0.378951):  [Quantifiers]  \\exists ratio of all quantifiers\n 25. feature  38 (importance: 0.005776, rel. usage: 0.483799):  [Identifiers]  #identifier relations ratio of all identifers\n 26. feature 180 (importance: 0.005285, rel. usage: 0.315608):  [Relations  ]  Relational domain ratio of rel ops\n 27. feature  41 (importance: 0.004656, rel. usage: 0.992130):  [Identifiers]  #ids with semi-bounded domains ratio of all identifers, symbolic\n 28. feature 220 (importance: 0.004587, rel. usage: 0.016530):  [Functions  ]  Lambda-expression ratio over functions\n 29. feature 181 (importance: 0.004412, rel. usage: 0.196762):  [Relations  ]  Relational range ratio of rel ops\n 30. feature 106 (importance: 0.004337, rel. usage: 0.985851):  [Set theory ]  Set inclusions per conjunct\n 31. feature  14 (importance: 0.004245, rel. usage: 0.378951):  [Quantifiers]  Existential quantifiers per conjunct\n 32. feature  37 (importance: 0.003914, rel. usage: 0.968672):  [Identifiers]  #ids with unbounded domains per conjunct, explicit\n 33. feature  22 (importance: 0.003765, rel. usage: 0.999350):  [Identifiers]  Number of identifiers\n 34. feature 175 (importance: 0.003457, rel. usage: 0.222141):  [Relations  ]  Relational images ratio of rel ops\n 35. feature  34 (importance: 0.002890, rel. usage: 0.992130):  [Identifiers]  #ids with semi-bounded domains per conjunct, symbolic\n 36. feature  92 (importance: 0.002790, rel. usage: 0.676278):  [Set theory ]  Negative set memberships per conjunct\n 37. feature  44 (importance: 0.002561, rel. usage: 0.968672):  [Identifiers]  #ids with unbounded domains ratio of all identifers, explicit\n 38. feature 110 (importance: 0.002401, rel. usage: 0.284882):  [Set theory ]  Subsets per set inclusion op\n 39. feature 221 (importance: 0.002216, rel. usage: 0.548376):  [Functions  ]  Function applications ratio over functions\n 40. feature  43 (importance: 0.001517, rel. usage: 0.141730):  [Identifiers]  #ids with unbounded domains ratio of all identifers, symbolic\n 41. feature  97 (importance: 0.001393, rel. usage: 0.183988):  [Set theory ]  number of `card(.)` calls per conjunct\n 42. feature  19 (importance: 0.001389, rel. usage: 0.452744):  [Quantifiers]  average nesting depth of quantifiers\n 43. feature  39 (importance: 0.001131, rel. usage: 0.458759):  [Identifiers]  #ids with bounded domains ratio of all identifers, symbolic\n 44. feature  30 (importance: 0.001045, rel. usage: 0.999350):  [Identifiers]  Identifiers per conjunct\n 45. feature  94 (importance: 0.001043, rel. usage: 0.125012):  [Set theory ]  Strict subsets per conjunct\n 46. feature  31 (importance: 0.000979, rel. usage: 0.483799):  [Identifiers]  #identifier relations per conjunct\n 47. feature  65 (importance: 0.000941, rel. usage: 0.177944):  [Arithmetic ]  Addition ratio of arithmetic ops\n 48. feature  78 (importance: 0.000928, rel. usage: 0.284882):  [Set theory ]  Subsets\n 49. feature  93 (importance: 0.000885, rel. usage: 0.284882):  [Set theory ]  Subsets per conjunct\n 50. feature 112 (importance: 0.000838, rel. usage: 0.152537):  [Set theory ]  Set unions per set inclusion op\n 51. feature 138 (importance: 0.000823, rel. usage: 0.142088):  [Relations  ]  Relational inversions\n 52. feature 212 (importance: 0.000759, rel. usage: 0.271844):  [Functions  ]  General, partial function ratio over functions\n 53. feature 176 (importance: 0.000754, rel. usage: 0.142088):  [Relations  ]  Relational inversions ratio of rel ops\n 54. feature 201 (importance: 0.000721, rel. usage: 0.512548):  [Functions  ]  General, total function per conjunct\n 55. feature  99 (importance: 0.000676, rel. usage: 0.296366):  [Set theory ]  Intersections per conjunct\n 56. feature 111 (importance: 0.000653, rel. usage: 0.125012):  [Set theory ]  Strict subsets per set inclusion op\n 57. feature  26 (importance: 0.000649, rel. usage: 0.992130):  [Identifiers]  #ids with semi-bounded domains, symbolic\n 58. feature 127 (importance: 0.000647, rel. usage: 0.342220):  [Set theory ]  Powersets per set op\n 59. feature  77 (importance: 0.000511, rel. usage: 0.676278):  [Set theory ]  Negated set memberships\n 60. feature  24 (importance: 0.000501, rel. usage: 0.458759):  [Identifiers]  #ids with bounded domains, symbolic\n 61. feature 151 (importance: 0.000499, rel. usage: 0.141504):  [Relations  ]  Number of general relationsper conjunct\n 62. feature 165 (importance: 0.000493, rel. usage: 0.070526):  [Relations  ]  Domain restrictionper conjunct\n 63. feature  42 (importance: 0.000476, rel. usage: 0.473021):  [Identifiers]  #ids with semi-bounded domains ratio of all identifers, explicit\n 64. feature 187 (importance: 0.000399, rel. usage: 0.063466):  [Relations  ]  Range restriction ratio of rel ops\n 65. feature 200 (importance: 0.000388, rel. usage: 0.271844):  [Functions  ]  General, partial function per conjunct\n 66. feature 124 (importance: 0.000373, rel. usage: 0.342220):  [Set theory ]  Powersets per conjunct\n 67. feature   1 (importance: 0.000308, rel. usage: 1.000000):  [Logic      ]  Max conjunct depth per conjunct\n 68. feature 210 (importance: 0.000291, rel. usage: 0.652697):  [Functions  ]  Functions per conjunct\n 69. feature  23 (importance: 0.000270, rel. usage: 0.483799):  [Identifiers]  #identifier relations\n 70. feature  33 (importance: 0.000250, rel. usage: 0.047021):  [Identifiers]  #ids with bounded domains per conjunct, explicit\n 71. feature  69 (importance: 0.000242, rel. usage: 0.363466):  [Arithmetic ]  Comparissons ratio of arithmetic ops\n 72. feature  64 (importance: 0.000204, rel. usage: 0.491123):  [Arithmetic ]  Arithmetic ops per conjunct\n 73. feature 213 (importance: 0.000202, rel. usage: 0.512548):  [Functions  ]  General, total function ratio over functions\n 74. feature  29 (importance: 0.000192, rel. usage: 0.968672):  [Identifiers]  #ids with unbounded domains, explicit\n 75. feature 184 (importance: 0.000191, rel. usage: 0.060454):  [Relations  ]  forward composition ratio of rel ops\n 76. feature 115 (importance: 0.000187, rel. usage: 0.007022):  [Set theory ]  General set unions per set inclusion op\n 77. feature  68 (importance: 0.000180, rel. usage: 0.007295):  [Arithmetic ]  Modulo ratio of arithmetic ops\n 78. feature  82 (importance: 0.000173, rel. usage: 0.183988):  [Set theory ]  number of `card(.)` calls\n 79. feature 137 (importance: 0.000165, rel. usage: 0.222141):  [Relations  ]  Relational images\n 80. feature 129 (importance: 0.000162, rel. usage: 0.342220):  [Set theory ]  avg. power set nesting depth\n 81. feature  15 (importance: 0.000158, rel. usage: 0.452744):  [Quantifiers]  max depth of nested quantifiers per conjunct\n 82. feature 214 (importance: 0.000150, rel. usage: 0.069961):  [Functions  ]  Injective, partial function ratio over functions\n 83. feature 199 (importance: 0.000146, rel. usage: 0.016530):  [Functions  ]  Lambda-expression\n 84. feature 170 (importance: 0.000126, rel. usage: 0.429144):  [Relations  ]  Rel ops per conjunct\n 85. feature   8 (importance: 0.000124, rel. usage: 0.176749):  [Logic      ]  Equivalencies per conjunct\n 86. feature  11 (importance: 0.000095, rel. usage: 0.003643):  [Quantifiers]  number of boolean conversions per conjunct\n 87. feature 160 (importance: 0.000095, rel. usage: 0.315608):  [Relations  ]  Relational domainper conjunct\n 88. feature  56 (importance: 0.000090, rel. usage: 0.094644):  [Arithmetic ]  Multiplications per conjunct\n 89. feature  27 (importance: 0.000079, rel. usage: 0.473021):  [Identifiers]  #ids with semi-bounded domains, explicit-\n 90. feature 161 (importance: 0.000067, rel. usage: 0.196762):  [Relations  ]  Relational rangeper conjunct\n 91. feature 186 (importance: 0.000062, rel. usage: 0.009752):  [Relations  ]  Domain subtraction ratio of rel ops\n 92. feature 113 (importance: 0.000061, rel. usage: 0.296366):  [Set theory ]  Intersections per set inclusion op\n 93. feature  66 (importance: 0.000051, rel. usage: 0.094644):  [Arithmetic ]  Multiplication ratio of arithmetic ops\n 94. feature  25 (importance: 0.000049, rel. usage: 0.047021):  [Identifiers]  #ids with bounded domains, explicit\n 95. feature 119 (importance: 0.000048, rel. usage: 0.018046):  [Set theory ]  Number of set comprehensions per set inclusion op\n 96. feature 247 (importance: 0.000048, rel. usage: 0.008218):  [Sequences  ]  `permutation` calls per conjunct\n 97. feature  58 (importance: 0.000048, rel. usage: 0.007295):  [Arithmetic ]  Modulo per conjunct\n 98. feature 177 (importance: 0.000048, rel. usage: 0.018516):  [Relations  ]  Relational overrides ratio of rel ops\n 99. feature 208 (importance: 0.000048, rel. usage: 0.016530):  [Functions  ]  Lambda-expression per conjunct\n100. feature 130 (importance: 0.000045, rel. usage: 0.342220):  [Set theory ]  avg. nested power set depth\n"
    }
   ],
   "source": [
    "# Print the feature ranking\n",
    "print(\"Feature ranking:\")\n",
    "\n",
    "pcat_count_top50 = {}\n",
    "pcat_count_top100 = {}\n",
    "for f in range(100):\n",
    "    cat = f275_category(perm_indices[f])\n",
    "    pcat_count_top100[cat] = pcat_count_top100.get(cat, 0) + 1\n",
    "    if f < 50:\n",
    "        pcat_count_top50[cat] = pcat_count_top50.get(cat, 0) + 1\n",
    "    print(\"%3d. feature %3d (importance: %1.6f, rel. usage: %1.6f):  [%-11s]  %s\" % (f + 1, perm_indices[f], perm_importances.importances_mean[perm_indices[f]], rel_feature_uses[perm_indices[f]], cat, f275_name(perm_indices[f])))"
   ]
  },
  {
   "cell_type": "code",
   "execution_count": 23,
   "metadata": {},
   "outputs": [
    {
     "name": "stdout",
     "output_type": "stream",
     "text": "------------ T100  T50   Decline\nLogic      : 0.909 0.727 0.200\nQuantifiers: 0.778 0.556 0.286\nEquality   : 1.000 1.000 0.000\nIdentifiers: 0.826 0.478 0.421\nArithmetic : 0.310 0.103 0.667\nSet theory : 0.421 0.228 0.458\nRelations  : 0.259 0.052 0.800\nFunctions  : 0.394 0.152 0.615\nSequences  : 0.020 0.000 1.000\nClosure    : 0.000 0.000 0.000\n"
    }
   ],
   "source": [
    "print(\"------------ %-5s %-5s Decline\" % (\"T100\", \"T50\"))\n",
    "for cat, count in cat_count_total.items():\n",
    "    top50 = pcat_count_top50.get(cat, 0)\n",
    "    top100 = pcat_count_top100.get(cat, 0)\n",
    "    print(\"%-11s: %.3f %.3f %.3f\" % (cat, top100/count, top50/count, ((top100-top50)/top100) if top100>0 else 0))\n"
   ]
  },
  {
   "cell_type": "markdown",
   "execution_count": null,
   "metadata": {},
   "outputs": [],
   "source": [
    "## Top 50/100 comparison between Gini Importance and Permutation Importance"
   ]
  },
  {
   "cell_type": "code",
   "execution_count": 24,
   "metadata": {},
   "outputs": [
    {
     "name": "stdout",
     "output_type": "stream",
     "text": ".             Gini         Permutation\n.             T100  T50    T100  T50  \nLogic      :  0.909 0.818  0.909 0.727\nQuantifiers:  0.889 0.444  0.778 0.556\nEquality   :  1.000 1.000  1.000 1.000\nIdentifiers:  0.783 0.478  0.826 0.478\nArithmetic :  0.310 0.138  0.310 0.103\nSet theory :  0.474 0.193  0.421 0.228\nRelations  :  0.207 0.034  0.259 0.052\nFunctions  :  0.424 0.212  0.394 0.152\nSequences  :  0.000 0.000  0.020 0.000\nClosure    :  0.000 0.000  0.000 0.000\n"
    }
   ],
   "source": [
    "print(\".             Gini         Permutation\")\n",
    "print(\".             %-5s %-5s  %-5s %-5s\" % (\"T100\", \"T50\", \"T100\", \"T50\"))\n",
    "for cat, count in cat_count_total.items():\n",
    "    top50 = cat_count_top50.get(cat, 0)\n",
    "    top100 = cat_count_top100.get(cat, 0)\n",
    "    ptop50 = pcat_count_top50.get(cat, 0)\n",
    "    ptop100 = pcat_count_top100.get(cat, 0)\n",
    "    print(\"%-11s:  %.3f %.3f  %.3f %.3f\" % (cat, top100/count, top50/count, ptop100/count, ptop50/count))\n"
   ]
  },
  {
   "cell_type": "markdown",
   "execution_count": null,
   "metadata": {},
   "outputs": [],
   "source": [
    "## Taking a look at the individual decision trees"
   ]
  },
  {
   "cell_type": "code",
   "execution_count": 47,
   "metadata": {},
   "outputs": [],
   "source": [
    "%run feature_stats.py\n",
    "\n",
    "def calc_feature_stats(feature_ids):\n",
    "    \"\"\"Returns a dictionary over the given feature ids as keys.\n",
    "    For each feature, another dictionary with the following structure is returned:\n",
    "        {'rank-gini': rank_gini_importance, 'rank-permutation': rank_permutation_importance,\n",
    "         'tendency': tendency,\n",
    "         'thresholds': {'list': thresholds,\n",
    "                        'avg': avg_threshold,\n",
    "                        'median': median_threshold},\n",
    "         'num_lower_below_threshold': num_left_lower,\n",
    "         'num_lower_above_threshold': num_right_lower}\n",
    "    The entry might be an empty dictionary if the corresponding feature was not used.\n",
    "    \"\"\"\n",
    "    stats = {}\n",
    "    for fid in feature_ids:\n",
    "        rank_gini = np.argwhere(indices == fid)[0][0]+1\n",
    "        rank_perm = np.argwhere(perm_indices == fid)[0][0]+1\n",
    "        thresholds = []\n",
    "        num_left_lower = 0\n",
    "        num_right_lower = 0\n",
    "        for tinfo in ftree_infos:\n",
    "            split_info = tinfo['splits'][fid]\n",
    "            if split_info == {}: continue # Feature not used in this tree.\n",
    "            thresholds.append(split_info['threshold'])\n",
    "            if split_info['unknown_rate'] > split_info['unknown_rate_left']:\n",
    "                num_left_lower += 1\n",
    "            else:\n",
    "                num_right_lower += 1\n",
    "        thresholds.sort()\n",
    "        if (len(thresholds) == 0):\n",
    "            stats[fid] = {}\n",
    "            continue\n",
    "        avg_threshold = sum(thresholds)/len(ftree_infos)\n",
    "        med_threshold = thresholds[len(thresholds)//2]\n",
    "        tendency = num_right_lower - num_left_lower\n",
    "        stats[fid] = {'rank-gini': rank_gini, 'rank-permutation': rank_perm,\n",
    "                      'tendency': tendency, 'thresholds': {'list': thresholds, 'avg': avg_threshold, 'median': med_threshold},\n",
    "                      'num_lower_below_threshold': num_left_lower, 'num_lower_above_threshold': num_right_lower}\n",
    "    return stats\n",
    "\n",
    "\n",
    "def print_feature_stats(feature_stats):\n",
    "    for fid in sorted(feature_stats.keys()):\n",
    "        stats = feature_stats.get(fid)\n",
    "        if stats == {}:\n",
    "            print(f275_name(fid))\n",
    "            print(\"  feature is not used.\")\n",
    "            continue\n",
    "        print(f275_name(fid))\n",
    "        print(\"  - Gini rank no.\", stats['rank-gini'], \"  Perm. rank no.\", stats['rank-permutation'], \"-\")\n",
    "        print(\"  avg threshold: %.3f (min %.3f, max %.3f, median %.3f)\" % (stats['thresholds']['avg'], stats['thresholds']['list'][0], stats['thresholds']['list'][-1], stats['thresholds']['median']))\n",
    "        tendency = stats['tendency']\n",
    "        num_left_lower = stats['num_lower_below_threshold']\n",
    "        num_right_lower = stats['num_lower_above_threshold']\n",
    "        print(\"  %.2f%% of trees observe higher solvability if below threshold, %.2f%% above\" % (100*num_left_lower/len(ftree_infos), 100*num_right_lower/len(ftree_infos)))\n",
    "        print(\"  tendency of %s values for more solvable constraints (tendency value: %d)\" % (\"higher\" if tendency > 0 else \"lower\", tendency))\n",
    "\n",
    "\n",
    "def print_feature_group_stats(features, category_name):\n",
    "    print(\"#\", category_name)\n",
    "    fs = calc_feature_stats(features)\n",
    "    tendencies = [fs[s]['tendency'] for s in fs.keys() if fs[s] != {}]\n",
    "    print(\"  Average tendency:\", sum(tendencies)/len(tendencies))\n",
    "    print_feature_stats(fs)\n",
    "\n"
   ]
  },
  {
   "cell_type": "code",
   "execution_count": 26,
   "metadata": {},
   "outputs": [],
   "source": [
    "forest_trees = forest.estimators_\n",
    "\n",
    "ftree_infos = []\n",
    "\n",
    "for tree in forest_trees:\n",
    "    ftree_infos.append(gather_tree_info(tree))"
   ]
  },
  {
   "cell_type": "markdown",
   "execution_count": null,
   "metadata": {},
   "outputs": [],
   "source": [
    "For the top 50 features, what are the thresholds and where do they lead?\n",
    "The tendency values range from -100 to 100 (including) and show how many trees in the forest lead to an answer if the value is below (-100) or above (+100) their respective threshold."
   ]
  },
  {
   "cell_type": "code",
   "execution_count": 27,
   "metadata": {},
   "outputs": [
    {
     "name": "stdout",
     "output_type": "stream",
     "text": "-> Functions or function applications per conjunct\n  avg threshold: 0.894 (min 0.055, max 1.500, median 1.015)\n  88.00% of trees observe higher solvability if below threshold, 12.00% above\n  tendency of lower values for more solvable constraints (tendency value: -76)\n-> Conjunctions per conjunct\n  avg threshold: 4.536 (min -0.751, max 11.929, median 6.857)\n  40.00% of trees observe higher solvability if below threshold, 60.00% above\n  tendency of higher values for more solvable constraints (tendency value: 20)\n-> Function applications per conjunct\n  avg threshold: 0.307 (min 0.018, max 0.784, median 0.239)\n  71.00% of trees observe higher solvability if below threshold, 29.00% above\n  tendency of lower values for more solvable constraints (tendency value: -42)\n-> max negation depth per conjunct\n  avg threshold: 0.723 (min 0.004, max 2.500, median 0.583)\n  53.00% of trees observe higher solvability if below threshold, 47.00% above\n  tendency of lower values for more solvable constraints (tendency value: -6)\n-> Set memberships per set inclusion op\n  avg threshold: 0.613 (min 0.011, max 0.944, median 0.550)\n  57.00% of trees observe higher solvability if below threshold, 43.00% above\n  tendency of lower values for more solvable constraints (tendency value: -14)\n-> Disjunctions per conjunct\n  avg threshold: 0.948 (min 0.073, max 6.000, median 0.550)\n  46.00% of trees observe higher solvability if below threshold, 54.00% above\n  tendency of higher values for more solvable constraints (tendency value: 8)\n-> Equality per conjunct\n  avg threshold: 1.030 (min 0.054, max 12.500, median 0.500)\n  44.00% of trees observe higher solvability if below threshold, 56.00% above\n  tendency of higher values for more solvable constraints (tendency value: 12)\n-> Additions per conjunct\n  avg threshold: 0.232 (min 0.006, max 1.929, median 0.006)\n  81.00% of trees observe higher solvability if below threshold, 19.00% above\n  tendency of lower values for more solvable constraints (tendency value: -62)\n-> Negative set memberships per set inclusion op\n  avg threshold: 0.400 (min 0.006, max 0.917, median 0.367)\n  47.00% of trees observe higher solvability if below threshold, 53.00% above\n  tendency of higher values for more solvable constraints (tendency value: 6)\n-> Set memberships per conjunct\n  avg threshold: 1.385 (min 0.075, max 4.500, median 0.840)\n  67.00% of trees observe higher solvability if below threshold, 33.00% above\n  tendency of lower values for more solvable constraints (tendency value: -34)\n-> Number of arithmetic ops\n  avg threshold: 1.430 (min 0.500, max 4.500, median 1.500)\n  53.00% of trees observe higher solvability if below threshold, 47.00% above\n  tendency of lower values for more solvable constraints (tendency value: -6)\n-> Implications per conjunct\n  avg threshold: 0.306 (min 0.009, max 1.500, median 0.022)\n  35.00% of trees observe higher solvability if below threshold, 65.00% above\n  tendency of higher values for more solvable constraints (tendency value: 30)\n-> Set memberships\n  avg threshold: 4.775 (min 0.500, max 29.500, median 2.500)\n  54.00% of trees observe higher solvability if below threshold, 46.00% above\n  tendency of lower values for more solvable constraints (tendency value: -8)\n-> number of negations per conjunct\n  avg threshold: 0.827 (min 0.004, max 2.846, median 0.633)\n  69.00% of trees observe higher solvability if below threshold, 31.00% above\n  tendency of lower values for more solvable constraints (tendency value: -38)\n-> max negation depth per number of negations\n  avg threshold: 0.748 (min 0.056, max 0.875, median 0.833)\n  68.00% of trees observe higher solvability if below threshold, 32.00% above\n  tendency of lower values for more solvable constraints (tendency value: -36)\n-> Inequality per conjunct\n  avg threshold: 0.591 (min 0.089, max 0.971, median 0.686)\n  60.00% of trees observe higher solvability if below threshold, 40.00% above\n  tendency of lower values for more solvable constraints (tendency value: -20)\n-> Logic ops per conjunct\n  avg threshold: 2.024 (min 0.009, max 21.900, median 1.500)\n  29.00% of trees observe higher solvability if below threshold, 71.00% above\n  tendency of higher values for more solvable constraints (tendency value: 42)\n-> Set inclusions\n  avg threshold: 5.855 (min 0.500, max 59.500, median 3.000)\n  50.00% of trees observe higher solvability if below threshold, 50.00% above\n  tendency of lower values for more solvable constraints (tendency value: 0)\n-> Negative set memberships per conjunct\n  avg threshold: 1.032 (min 0.031, max 5.500, median 0.953)\n  35.00% of trees observe higher solvability if below threshold, 65.00% above\n  tendency of higher values for more solvable constraints (tendency value: 30)\n-> Set inclusions per conjunct\n  avg threshold: 2.367 (min 0.026, max 9.500, median 2.500)\n  51.00% of trees observe higher solvability if below threshold, 49.00% above\n  tendency of lower values for more solvable constraints (tendency value: -2)\n-> Function applications ratio over functions\n  avg threshold: 0.461 (min 0.043, max 0.917, median 0.450)\n  55.00% of trees observe higher solvability if below threshold, 45.00% above\n  tendency of lower values for more solvable constraints (tendency value: -10)\n-> #ids with semi-bounded domains per conjunct, symbolic\n  avg threshold: 2.348 (min 0.095, max 15.500, median 1.500)\n  48.00% of trees observe higher solvability if below threshold, 52.00% above\n  tendency of higher values for more solvable constraints (tendency value: 4)\n-> #ids with unbounded domains per conjunct, explicit\n  avg threshold: 1.960 (min 0.088, max 8.500, median 1.500)\n  55.00% of trees observe higher solvability if below threshold, 45.00% above\n  tendency of lower values for more solvable constraints (tendency value: -10)\n-> Identifiers per conjunct\n  avg threshold: 2.440 (min 0.225, max 21.500, median 1.500)\n  32.00% of trees observe higher solvability if below threshold, 68.00% above\n  tendency of higher values for more solvable constraints (tendency value: 36)\n-> Boolean literals per conjunct\n  avg threshold: 0.749 (min 0.004, max 8.712, median 0.417)\n  21.00% of trees observe higher solvability if below threshold, 79.00% above\n  tendency of higher values for more solvable constraints (tendency value: 58)\n-> Function applications\n  avg threshold: 3.595 (min 0.500, max 26.500, median 2.500)\n  37.00% of trees observe higher solvability if below threshold, 63.00% above\n  tendency of higher values for more solvable constraints (tendency value: 26)\n-> #ids with semi-bounded domains, symbolic\n  avg threshold: 7.045 (min 0.500, max 48.500, median 2.500)\n  44.00% of trees observe higher solvability if below threshold, 56.00% above\n  tendency of higher values for more solvable constraints (tendency value: 12)\n-> Addition ratio of arithmetic ops\n  avg threshold: 0.359 (min 0.044, max 0.833, median 0.417)\n  58.00% of trees observe higher solvability if below threshold, 42.00% above\n  tendency of lower values for more solvable constraints (tendency value: -16)\n-> Universal quantifiers per conjunct\n  avg threshold: 0.303 (min 0.007, max 1.500, median 0.208)\n  39.00% of trees observe higher solvability if below threshold, 61.00% above\n  tendency of higher values for more solvable constraints (tendency value: 22)\n-> Subsets per set inclusion op\n  avg threshold: 0.347 (min 0.020, max 0.833, median 0.310)\n  45.00% of trees observe higher solvability if below threshold, 55.00% above\n  tendency of higher values for more solvable constraints (tendency value: 10)\n-> #ids with unbounded domains ratio of all identifers, explicit\n  avg threshold: 0.669 (min 0.100, max 0.978, median 0.750)\n  66.00% of trees observe higher solvability if below threshold, 34.00% above\n  tendency of lower values for more solvable constraints (tendency value: -32)\n-> Number of identifiers\n  avg threshold: 6.445 (min 1.500, max 54.500, median 2.500)\n  53.00% of trees observe higher solvability if below threshold, 47.00% above\n  tendency of lower values for more solvable constraints (tendency value: -6)\n-> #ids with semi-bounded domains per conjunct, explicit\n  avg threshold: 0.277 (min 0.025, max 2.500, median 0.084)\n  21.00% of trees observe higher solvability if below threshold, 79.00% above\n  tendency of higher values for more solvable constraints (tendency value: 58)\n-> Relational domain ratio of rel ops\n  avg threshold: 0.443 (min 0.060, max 0.921, median 0.500)\n  17.00% of trees observe higher solvability if below threshold, 83.00% above\n  tendency of higher values for more solvable constraints (tendency value: 66)\n-> Max conjunct depth per conjunct\n  avg threshold: 1.087 (min 0.020, max 3.500, median 1.250)\n  19.00% of trees observe higher solvability if below threshold, 81.00% above\n  tendency of higher values for more solvable constraints (tendency value: 62)\n-> Rel ops per conjunct\n  avg threshold: 1.146 (min 0.043, max 3.667, median 0.500)\n  28.00% of trees observe higher solvability if below threshold, 72.00% above\n  tendency of higher values for more solvable constraints (tendency value: 44)\n-> \\forall ratio of all quantifiers\n  avg threshold: 0.489 (min 0.100, max 0.900, median 0.500)\n  35.00% of trees observe higher solvability if below threshold, 65.00% above\n  tendency of higher values for more solvable constraints (tendency value: 30)\n-> #ids with unbounded domains, explicit\n  avg threshold: 4.705 (min 0.500, max 45.500, median 2.500)\n  51.00% of trees observe higher solvability if below threshold, 49.00% above\n  tendency of lower values for more solvable constraints (tendency value: -2)\n-> Subsets per conjunct\n  avg threshold: 1.892 (min 0.036, max 5.500, median 1.667)\n  57.00% of trees observe higher solvability if below threshold, 43.00% above\n  tendency of lower values for more solvable constraints (tendency value: -14)\n-> Negated set memberships\n  avg threshold: 2.695 (min 0.500, max 22.000, median 1.500)\n  42.00% of trees observe higher solvability if below threshold, 58.00% above\n  tendency of higher values for more solvable constraints (tendency value: 16)\n-> Functions per conjunct\n  avg threshold: 0.408 (min 0.010, max 3.500, median 0.388)\n  51.00% of trees observe higher solvability if below threshold, 49.00% above\n  tendency of lower values for more solvable constraints (tendency value: -2)\n-> General, total function per conjunct\n  avg threshold: 0.411 (min 0.021, max 8.000, median 0.292)\n  61.00% of trees observe higher solvability if below threshold, 39.00% above\n  tendency of lower values for more solvable constraints (tendency value: -22)\n-> #identifier relations ratio of all identifers\n  avg threshold: 0.572 (min 0.010, max 1.250, median 0.354)\n  55.00% of trees observe higher solvability if below threshold, 45.00% above\n  tendency of lower values for more solvable constraints (tendency value: -10)\n-> Lambda-expression ratio over functions\n  avg threshold: 0.503 (min 0.125, max 0.972, median 0.417)\n  78.00% of trees observe higher solvability if below threshold, 22.00% above\n  tendency of lower values for more solvable constraints (tendency value: -56)\n-> #ids with semi-bounded domains ratio of all identifers, explicit\n  avg threshold: 0.288 (min 0.005, max 0.940, median 0.183)\n  61.00% of trees observe higher solvability if below threshold, 39.00% above\n  tendency of lower values for more solvable constraints (tendency value: -22)\n-> #ids with semi-bounded domains ratio of all identifers, symbolic\n  avg threshold: 0.691 (min 0.167, max 0.981, median 0.714)\n  63.00% of trees observe higher solvability if below threshold, 37.00% above\n  tendency of lower values for more solvable constraints (tendency value: -26)\n-> Arithmetic ops per conjunct\n  avg threshold: 0.851 (min 0.044, max 2.500, median 0.750)\n  56.00% of trees observe higher solvability if below threshold, 44.00% above\n  tendency of lower values for more solvable constraints (tendency value: -12)\n-> \\exists ratio of all quantifiers\n  avg threshold: 0.540 (min 0.100, max 0.950, median 0.500)\n  50.00% of trees observe higher solvability if below threshold, 50.00% above\n  tendency of lower values for more solvable constraints (tendency value: 0)\n-> Existential quantifiers per conjunct\n  avg threshold: 0.364 (min 0.018, max 2.500, median 0.282)\n  59.00% of trees observe higher solvability if below threshold, 41.00% above\n  tendency of lower values for more solvable constraints (tendency value: -18)\n-> Set unions per conjunct\n  avg threshold: 1.058 (min 0.042, max 10.500, median 0.500)\n  36.00% of trees observe higher solvability if below threshold, 64.00% above\n  tendency of higher values for more solvable constraints (tendency value: 28)\n"
    }
   ],
   "source": [
    "for fid in indices[0:50]:\n",
    "    print(\"->\", f275_name(fid))\n",
    "    thresholds = []\n",
    "    num_left_lower = 0\n",
    "    num_right_lower = 0\n",
    "    for tinfo in ftree_infos:\n",
    "        split_info = tinfo['splits'][fid]\n",
    "        if split_info == {}: continue # Feature not used in this tree.\n",
    "        thresholds.append(split_info['threshold'])\n",
    "        if split_info['unknown_rate'] > split_info['unknown_rate_left']:\n",
    "            num_left_lower += 1\n",
    "        else:\n",
    "            num_right_lower += 1\n",
    "    thresholds.sort()\n",
    "    avg_threshold = sum(thresholds)/len(ftree_infos)\n",
    "    med_threshold = thresholds[len(ftree_infos)//2]\n",
    "    print(\"  avg threshold: %.3f (min %.3f, max %.3f, median %.3f)\" % (avg_threshold, thresholds[0], thresholds[-1], med_threshold))\n",
    "    print(\"  %.2f%% of trees observe higher solvability if below threshold, %.2f%% above\" % (100*num_left_lower/len(ftree_infos), 100*num_right_lower/len(ftree_infos)))\n",
    "    tendency = num_right_lower - num_left_lower\n",
    "    print(\"  tendency of %s values for more solvable constraints (tendency value: %d)\" % (\"higher\" if tendency > 0 else \"lower\", tendency))\n"
   ]
  },
  {
   "cell_type": "markdown",
   "execution_count": null,
   "metadata": {},
   "outputs": [],
   "source": [
    "We see that certain features, while having high relevancy for classification, display a tendency around 0. \n",
    "But what does that mean regarding their relevancy? Naively it look as the feature is not a language-subset in which the backend performs worse but rather that unknown-results are related to the rest of the predicate. Depending on the random data subset the respective tree was trained on, the threshold might split into better or worse samples."
   ]
  },
  {
   "cell_type": "markdown",
   "execution_count": null,
   "metadata": {},
   "outputs": [],
   "source": [
    "### Display of tendencies per category"
   ]
  },
  {
   "cell_type": "code",
   "execution_count": 48,
   "metadata": {},
   "outputs": [
    {
     "name": "stdout",
     "output_type": "stream",
     "text": "# Logic\n  Average tendency: 14.363636363636363\nNumber of top-level conjuncts\n  - Gini rank no. 87   Perm. rank no. 275 -\n  avg threshold: 18.730 (min 1.500, max 111.500, median 6.500)\n  43.00% of trees observe higher solvability if below threshold, 57.00% above\n  tendency of higher values for more solvable constraints (tendency value: 14)\nMax conjunct depth per conjunct\n  - Gini rank no. 35   Perm. rank no. 67 -\n  avg threshold: 1.087 (min 0.020, max 3.500, median 1.250)\n  19.00% of trees observe higher solvability if below threshold, 81.00% above\n  tendency of higher values for more solvable constraints (tendency value: 62)\nnumber of negations per conjunct\n  - Gini rank no. 14   Perm. rank no. 10 -\n  avg threshold: 0.827 (min 0.004, max 2.846, median 0.633)\n  69.00% of trees observe higher solvability if below threshold, 31.00% above\n  tendency of lower values for more solvable constraints (tendency value: -38)\nmax negation depth per conjunct\n  - Gini rank no. 4   Perm. rank no. 3 -\n  avg threshold: 0.723 (min 0.004, max 2.500, median 0.583)\n  53.00% of trees observe higher solvability if below threshold, 47.00% above\n  tendency of lower values for more solvable constraints (tendency value: -6)\nmax negation depth per number of negations\n  - Gini rank no. 15   Perm. rank no. 15 -\n  avg threshold: 0.748 (min 0.056, max 0.875, median 0.833)\n  68.00% of trees observe higher solvability if below threshold, 32.00% above\n  tendency of lower values for more solvable constraints (tendency value: -36)\nConjunctions per conjunct\n  - Gini rank no. 2   Perm. rank no. 2 -\n  avg threshold: 4.536 (min -0.751, max 11.929, median 6.857)\n  40.00% of trees observe higher solvability if below threshold, 60.00% above\n  tendency of higher values for more solvable constraints (tendency value: 20)\nDisjunctions per conjunct\n  - Gini rank no. 6   Perm. rank no. 11 -\n  avg threshold: 0.948 (min 0.073, max 6.000, median 0.550)\n  46.00% of trees observe higher solvability if below threshold, 54.00% above\n  tendency of higher values for more solvable constraints (tendency value: 8)\nImplications per conjunct\n  - Gini rank no. 12   Perm. rank no. 16 -\n  avg threshold: 0.306 (min 0.009, max 1.500, median 0.022)\n  35.00% of trees observe higher solvability if below threshold, 65.00% above\n  tendency of higher values for more solvable constraints (tendency value: 30)\nEquivalencies per conjunct\n  - Gini rank no. 114   Perm. rank no. 85 -\n  avg threshold: 0.566 (min 0.022, max 1.500, median 0.375)\n  48.00% of trees observe higher solvability if below threshold, 52.00% above\n  tendency of higher values for more solvable constraints (tendency value: 4)\nLogic ops per conjunct\n  - Gini rank no. 17   Perm. rank no. 23 -\n  avg threshold: 2.024 (min 0.009, max 21.900, median 1.500)\n  29.00% of trees observe higher solvability if below threshold, 71.00% above\n  tendency of higher values for more solvable constraints (tendency value: 42)\nBoolean literals per conjunct\n  - Gini rank no. 25   Perm. rank no. 21 -\n  avg threshold: 0.749 (min 0.004, max 8.712, median 0.417)\n  21.00% of trees observe higher solvability if below threshold, 79.00% above\n  tendency of higher values for more solvable constraints (tendency value: 58)\n"
    }
   ],
   "source": [
    "print_feature_group_stats(range(11), \"Logic\")"
   ]
  },
  {
   "cell_type": "code",
   "execution_count": 49,
   "metadata": {},
   "outputs": [
    {
     "name": "stdout",
     "output_type": "stream",
     "text": "# Quantifiers\n  Average tendency: -5.222222222222222\nnumber of boolean conversions per conjunct\n  - Gini rank no. 157   Perm. rank no. 86 -\n  avg threshold: 0.266 (min 0.020, max 1.000, median 0.250)\n  55.00% of trees observe higher solvability if below threshold, 42.00% above\n  tendency of lower values for more solvable constraints (tendency value: -13)\nNumber of quantifiers\n  - Gini rank no. 83   Perm. rank no. 125 -\n  avg threshold: 2.645 (min 0.500, max 38.500, median 1.500)\n  73.00% of trees observe higher solvability if below threshold, 27.00% above\n  tendency of lower values for more solvable constraints (tendency value: -46)\nUniversal quantifiers per conjunct\n  - Gini rank no. 29   Perm. rank no. 22 -\n  avg threshold: 0.303 (min 0.007, max 1.500, median 0.208)\n  39.00% of trees observe higher solvability if below threshold, 61.00% above\n  tendency of higher values for more solvable constraints (tendency value: 22)\nExistential quantifiers per conjunct\n  - Gini rank no. 49   Perm. rank no. 31 -\n  avg threshold: 0.364 (min 0.018, max 2.500, median 0.282)\n  59.00% of trees observe higher solvability if below threshold, 41.00% above\n  tendency of lower values for more solvable constraints (tendency value: -18)\nmax depth of nested quantifiers per conjunct\n  - Gini rank no. 67   Perm. rank no. 81 -\n  avg threshold: 0.246 (min 0.004, max 1.500, median 0.167)\n  61.00% of trees observe higher solvability if below threshold, 39.00% above\n  tendency of lower values for more solvable constraints (tendency value: -22)\nQuantifiers per conjunct\n  - Gini rank no. 66   Perm. rank no. 123 -\n  avg threshold: 0.514 (min 0.016, max 3.500, median 0.408)\n  63.00% of trees observe higher solvability if below threshold, 37.00% above\n  tendency of lower values for more solvable constraints (tendency value: -26)\n\\forall ratio of all quantifiers\n  - Gini rank no. 37   Perm. rank no. 18 -\n  avg threshold: 0.489 (min 0.100, max 0.900, median 0.500)\n  35.00% of trees observe higher solvability if below threshold, 65.00% above\n  tendency of higher values for more solvable constraints (tendency value: 30)\n\\exists ratio of all quantifiers\n  - Gini rank no. 48   Perm. rank no. 24 -\n  avg threshold: 0.540 (min 0.100, max 0.950, median 0.500)\n  50.00% of trees observe higher solvability if below threshold, 50.00% above\n  tendency of lower values for more solvable constraints (tendency value: 0)\naverage nesting depth of quantifiers\n  - Gini rank no. 69   Perm. rank no. 42 -\n  avg threshold: 0.531 (min 0.100, max 0.833, median 0.500)\n  37.00% of trees observe higher solvability if below threshold, 63.00% above\n  tendency of higher values for more solvable constraints (tendency value: 26)\n"
    }
   ],
   "source": [
    "print_feature_group_stats(range(11, 20), \"Quantifiers\") "
   ]
  },
  {
   "cell_type": "code",
   "execution_count": 50,
   "metadata": {},
   "outputs": [
    {
     "name": "stdout",
     "output_type": "stream",
     "text": "# Equality\n  Average tendency: -4.0\nEquality per conjunct\n  - Gini rank no. 7   Perm. rank no. 5 -\n  avg threshold: 1.030 (min 0.054, max 12.500, median 0.500)\n  44.00% of trees observe higher solvability if below threshold, 56.00% above\n  tendency of higher values for more solvable constraints (tendency value: 12)\nInequality per conjunct\n  - Gini rank no. 16   Perm. rank no. 17 -\n  avg threshold: 0.591 (min 0.089, max 0.971, median 0.686)\n  60.00% of trees observe higher solvability if below threshold, 40.00% above\n  tendency of lower values for more solvable constraints (tendency value: -20)\n"
    }
   ],
   "source": [
    "print_feature_group_stats(range(20, 22), \"Equality\") "
   ]
  },
  {
   "cell_type": "code",
   "execution_count": 51,
   "metadata": {},
   "outputs": [
    {
     "name": "stdout",
     "output_type": "stream",
     "text": "# Identifiers\n  Average tendency: 4.869565217391305\nNumber of identifiers\n  - Gini rank no. 32   Perm. rank no. 33 -\n  avg threshold: 6.445 (min 1.500, max 54.500, median 2.500)\n  53.00% of trees observe higher solvability if below threshold, 47.00% above\n  tendency of lower values for more solvable constraints (tendency value: -6)\n#identifier relations\n  - Gini rank no. 52   Perm. rank no. 69 -\n  avg threshold: 2.665 (min 0.500, max 26.500, median 0.500)\n  41.00% of trees observe higher solvability if below threshold, 59.00% above\n  tendency of higher values for more solvable constraints (tendency value: 18)\n#ids with bounded domains, symbolic\n  - Gini rank no. 85   Perm. rank no. 60 -\n  avg threshold: 2.805 (min 1.000, max 14.000, median 1.000)\n  44.00% of trees observe higher solvability if below threshold, 56.00% above\n  tendency of higher values for more solvable constraints (tendency value: 12)\n#ids with bounded domains, explicit\n  - Gini rank no. 117   Perm. rank no. 94 -\n  avg threshold: 1.435 (min 0.500, max 5.000, median 1.000)\n  34.00% of trees observe higher solvability if below threshold, 66.00% above\n  tendency of higher values for more solvable constraints (tendency value: 32)\n#ids with semi-bounded domains, symbolic\n  - Gini rank no. 27   Perm. rank no. 57 -\n  avg threshold: 7.045 (min 0.500, max 48.500, median 2.500)\n  44.00% of trees observe higher solvability if below threshold, 56.00% above\n  tendency of higher values for more solvable constraints (tendency value: 12)\n#ids with semi-bounded domains, explicit-\n  - Gini rank no. 103   Perm. rank no. 89 -\n  avg threshold: 1.330 (min 0.500, max 8.500, median 1.000)\n  37.00% of trees observe higher solvability if below threshold, 63.00% above\n  tendency of higher values for more solvable constraints (tendency value: 26)\n#ids with unbounded domains, symbolic\n  - Gini rank no. 112   Perm. rank no. 122 -\n  avg threshold: 1.165 (min 0.500, max 4.500, median 0.500)\n  59.00% of trees observe higher solvability if below threshold, 41.00% above\n  tendency of lower values for more solvable constraints (tendency value: -18)\n#ids with unbounded domains, explicit\n  - Gini rank no. 38   Perm. rank no. 74 -\n  avg threshold: 4.705 (min 0.500, max 45.500, median 2.500)\n  51.00% of trees observe higher solvability if below threshold, 49.00% above\n  tendency of lower values for more solvable constraints (tendency value: -2)\nIdentifiers per conjunct\n  - Gini rank no. 24   Perm. rank no. 44 -\n  avg threshold: 2.440 (min 0.225, max 21.500, median 1.500)\n  32.00% of trees observe higher solvability if below threshold, 68.00% above\n  tendency of higher values for more solvable constraints (tendency value: 36)\n#identifier relations per conjunct\n  - Gini rank no. 54   Perm. rank no. 46 -\n  avg threshold: 0.931 (min 0.004, max 6.500, median 0.500)\n  39.00% of trees observe higher solvability if below threshold, 61.00% above\n  tendency of higher values for more solvable constraints (tendency value: 22)\n#ids with bounded domains per conjunct, symbolic\n  - Gini rank no. 68   Perm. rank no. 120 -\n  avg threshold: 0.834 (min 0.009, max 3.000, median 0.646)\n  39.00% of trees observe higher solvability if below threshold, 61.00% above\n  tendency of higher values for more solvable constraints (tendency value: 22)\n#ids with bounded domains per conjunct, explicit\n  - Gini rank no. 141   Perm. rank no. 70 -\n  avg threshold: 0.790 (min 0.047, max 2.500, median 0.750)\n  39.00% of trees observe higher solvability if below threshold, 61.00% above\n  tendency of higher values for more solvable constraints (tendency value: 22)\n#ids with semi-bounded domains per conjunct, symbolic\n  - Gini rank no. 22   Perm. rank no. 35 -\n  avg threshold: 2.348 (min 0.095, max 15.500, median 1.500)\n  48.00% of trees observe higher solvability if below threshold, 52.00% above\n  tendency of higher values for more solvable constraints (tendency value: 4)\n#ids with semi-bounded domains per conjunct, explicit\n  - Gini rank no. 33   Perm. rank no. 8 -\n  avg threshold: 0.277 (min 0.025, max 2.500, median 0.084)\n  21.00% of trees observe higher solvability if below threshold, 79.00% above\n  tendency of higher values for more solvable constraints (tendency value: 58)\n#ids with unbounded domains per conjunct, symbolic\n  - Gini rank no. 100   Perm. rank no. 119 -\n  avg threshold: 1.096 (min 0.021, max 3.500, median 1.500)\n  64.00% of trees observe higher solvability if below threshold, 36.00% above\n  tendency of lower values for more solvable constraints (tendency value: -28)\n#ids with unbounded domains per conjunct, explicit\n  - Gini rank no. 23   Perm. rank no. 32 -\n  avg threshold: 1.960 (min 0.088, max 8.500, median 1.500)\n  55.00% of trees observe higher solvability if below threshold, 45.00% above\n  tendency of lower values for more solvable constraints (tendency value: -10)\n#identifier relations ratio of all identifers\n  - Gini rank no. 43   Perm. rank no. 25 -\n  avg threshold: 0.572 (min 0.010, max 1.250, median 0.354)\n  55.00% of trees observe higher solvability if below threshold, 45.00% above\n  tendency of lower values for more solvable constraints (tendency value: -10)\n#ids with bounded domains ratio of all identifers, symbolic\n  - Gini rank no. 57   Perm. rank no. 43 -\n  avg threshold: 0.450 (min 0.020, max 0.944, median 0.450)\n  56.00% of trees observe higher solvability if below threshold, 44.00% above\n  tendency of lower values for more solvable constraints (tendency value: -12)\n#ids with bounded domains ratio of all identifers, explicit\n  - Gini rank no. 119   Perm. rank no. 118 -\n  avg threshold: 0.229 (min 0.037, max 0.667, median 0.215)\n  37.00% of trees observe higher solvability if below threshold, 63.00% above\n  tendency of higher values for more solvable constraints (tendency value: 26)\n#ids with semi-bounded domains ratio of all identifers, symbolic\n  - Gini rank no. 46   Perm. rank no. 27 -\n  avg threshold: 0.691 (min 0.167, max 0.981, median 0.714)\n  63.00% of trees observe higher solvability if below threshold, 37.00% above\n  tendency of lower values for more solvable constraints (tendency value: -26)\n#ids with semi-bounded domains ratio of all identifers, explicit\n  - Gini rank no. 45   Perm. rank no. 63 -\n  avg threshold: 0.288 (min 0.005, max 0.940, median 0.183)\n  61.00% of trees observe higher solvability if below threshold, 39.00% above\n  tendency of lower values for more solvable constraints (tendency value: -22)\n#ids with unbounded domains ratio of all identifers, symbolic\n  - Gini rank no. 76   Perm. rank no. 40 -\n  avg threshold: 0.430 (min 0.022, max 0.900, median 0.292)\n  56.00% of trees observe higher solvability if below threshold, 44.00% above\n  tendency of lower values for more solvable constraints (tendency value: -12)\n#ids with unbounded domains ratio of all identifers, explicit\n  - Gini rank no. 31   Perm. rank no. 37 -\n  avg threshold: 0.669 (min 0.100, max 0.978, median 0.750)\n  66.00% of trees observe higher solvability if below threshold, 34.00% above\n  tendency of lower values for more solvable constraints (tendency value: -32)\n"
    }
   ],
   "source": [
    "print_feature_group_stats(range(22, 45), \"Identifiers\") "
   ]
  },
  {
   "cell_type": "code",
   "execution_count": 52,
   "metadata": {},
   "outputs": [
    {
     "name": "stdout",
     "output_type": "stream",
     "text": "# Arithmetic\n  Average tendency: -5.206896551724138\nNumber of arithmetic ops\n  - Gini rank no. 11   Perm. rank no. 4 -\n  avg threshold: 1.430 (min 0.500, max 4.500, median 1.500)\n  53.00% of trees observe higher solvability if below threshold, 47.00% above\n  tendency of lower values for more solvable constraints (tendency value: -6)\nAdditions\n  - Gini rank no. 91   Perm. rank no. 117 -\n  avg threshold: 4.445 (min 0.500, max 58.000, median 2.000)\n  62.00% of trees observe higher solvability if below threshold, 38.00% above\n  tendency of lower values for more solvable constraints (tendency value: -24)\nMultiplications\n  - Gini rank no. 115   Perm. rank no. 101 -\n  avg threshold: 2.290 (min 0.500, max 9.500, median 1.500)\n  56.00% of trees observe higher solvability if below threshold, 44.00% above\n  tendency of lower values for more solvable constraints (tendency value: -12)\nDivisions\n  - Gini rank no. 176   Perm. rank no. 116 -\n  avg threshold: 2.335 (min 0.500, max 24.000, median 1.500)\n  41.00% of trees observe higher solvability if below threshold, 38.00% above\n  tendency of lower values for more solvable constraints (tendency value: -3)\nModulo operations\n  - Gini rank no. 167   Perm. rank no. 115 -\n  avg threshold: 1.265 (min 0.500, max 24.000, median 0.500)\n  68.00% of trees observe higher solvability if below threshold, 24.00% above\n  tendency of lower values for more solvable constraints (tendency value: -44)\nComparison operators\n  - Gini rank no. 86   Perm. rank no. 114 -\n  avg threshold: 1.375 (min 0.500, max 6.500, median 1.500)\n  58.00% of trees observe higher solvability if below threshold, 42.00% above\n  tendency of lower values for more solvable constraints (tendency value: -16)\nGeneral sum\n  - Gini rank no. 174   Perm. rank no. 113 -\n  avg threshold: 0.750 (min 0.500, max 3.000, median 0.500)\n  31.00% of trees observe higher solvability if below threshold, 58.00% above\n  tendency of higher values for more solvable constraints (tendency value: 27)\nGeneral prod\n  - Gini rank no. 197   Perm. rank no. 111 -\n  avg threshold: 0.265 (min 0.500, max 1.500, median 0.500)\n  31.00% of trees observe higher solvability if below threshold, 11.00% above\n  tendency of lower values for more solvable constraints (tendency value: -20)\n`succ` calls\n  - Gini rank no. 249   Perm. rank no. 110 -\n  avg threshold: 0.070 (min 3.500, max 3.500, median 3.500)\n  0.00% of trees observe higher solvability if below threshold, 2.00% above\n  tendency of higher values for more solvable constraints (tendency value: 2)\n`pred` calls\n  - Gini rank no. 239   Perm. rank no. 130 -\n  avg threshold: 0.040 (min 0.500, max 1.000, median 0.500)\n  1.00% of trees observe higher solvability if below threshold, 6.00% above\n  tendency of higher values for more solvable constraints (tendency value: 5)\nAdditions per conjunct\n  - Gini rank no. 8   Perm. rank no. 6 -\n  avg threshold: 0.232 (min 0.006, max 1.929, median 0.006)\n  81.00% of trees observe higher solvability if below threshold, 19.00% above\n  tendency of lower values for more solvable constraints (tendency value: -62)\nMultiplications per conjunct\n  - Gini rank no. 107   Perm. rank no. 88 -\n  avg threshold: 0.844 (min 0.020, max 2.750, median 0.500)\n  45.00% of trees observe higher solvability if below threshold, 55.00% above\n  tendency of higher values for more solvable constraints (tendency value: 10)\nDivisions per conjunct\n  - Gini rank no. 179   Perm. rank no. 153 -\n  avg threshold: 0.471 (min 0.028, max 5.333, median 0.500)\n  28.00% of trees observe higher solvability if below threshold, 43.00% above\n  tendency of higher values for more solvable constraints (tendency value: 15)\nModulo per conjunct\n  - Gini rank no. 155   Perm. rank no. 97 -\n  avg threshold: 0.719 (min 0.036, max 5.143, median 0.500)\n  68.00% of trees observe higher solvability if below threshold, 29.00% above\n  tendency of lower values for more solvable constraints (tendency value: -39)\nComparissons per conjunct\n  - Gini rank no. 79   Perm. rank no. 151 -\n  avg threshold: 0.934 (min 0.011, max 2.500, median 0.750)\n  68.00% of trees observe higher solvability if below threshold, 32.00% above\n  tendency of lower values for more solvable constraints (tendency value: -36)\nGeneral sum per conjunct\n  - Gini rank no. 159   Perm. rank no. 149 -\n  avg threshold: 0.495 (min 0.014, max 2.000, median 0.250)\n  36.00% of trees observe higher solvability if below threshold, 63.00% above\n  tendency of higher values for more solvable constraints (tendency value: 27)\nGeneral prod per conjunct\n  - Gini rank no. 199   Perm. rank no. 148 -\n  avg threshold: 0.175 (min 0.023, max 1.000, median 0.500)\n  28.00% of trees observe higher solvability if below threshold, 9.00% above\n  tendency of lower values for more solvable constraints (tendency value: -19)\n`succ` per conjunct\n  - Gini rank no. 243   Perm. rank no. 147 -\n  avg threshold: 0.001 (min 0.026, max 0.081, median 0.042)\n  1.00% of trees observe higher solvability if below threshold, 2.00% above\n  tendency of higher values for more solvable constraints (tendency value: 1)\n`pred` per conjunct\n  - Gini rank no. 190   Perm. rank no. 102 -\n  avg threshold: 0.413 (min 0.035, max 0.750, median 0.750)\n  1.00% of trees observe higher solvability if below threshold, 57.00% above\n  tendency of higher values for more solvable constraints (tendency value: 56)\nArithmetic ops per conjunct\n  - Gini rank no. 47   Perm. rank no. 72 -\n  avg threshold: 0.851 (min 0.044, max 2.500, median 0.750)\n  56.00% of trees observe higher solvability if below threshold, 44.00% above\n  tendency of lower values for more solvable constraints (tendency value: -12)\nAddition ratio of arithmetic ops\n  - Gini rank no. 28   Perm. rank no. 47 -\n  avg threshold: 0.359 (min 0.044, max 0.833, median 0.417)\n  58.00% of trees observe higher solvability if below threshold, 42.00% above\n  tendency of lower values for more solvable constraints (tendency value: -16)\nMultiplication ratio of arithmetic ops\n  - Gini rank no. 93   Perm. rank no. 93 -\n  avg threshold: 0.539 (min 0.250, max 0.909, median 0.500)\n  29.00% of trees observe higher solvability if below threshold, 71.00% above\n  tendency of higher values for more solvable constraints (tendency value: 42)\nDivision ratio of arithmetic ops\n  - Gini rank no. 175   Perm. rank no. 146 -\n  avg threshold: 0.268 (min 0.012, max 0.929, median 0.225)\n  23.00% of trees observe higher solvability if below threshold, 74.00% above\n  tendency of higher values for more solvable constraints (tendency value: 51)\nModulo ratio of arithmetic ops\n  - Gini rank no. 127   Perm. rank no. 77 -\n  avg threshold: 0.683 (min 0.125, max 0.833, median 0.750)\n  96.00% of trees observe higher solvability if below threshold, 4.00% above\n  tendency of lower values for more solvable constraints (tendency value: -92)\nComparissons ratio of arithmetic ops\n  - Gini rank no. 89   Perm. rank no. 71 -\n  avg threshold: 0.577 (min 0.071, max 0.875, median 0.500)\n  64.00% of trees observe higher solvability if below threshold, 36.00% above\n  tendency of lower values for more solvable constraints (tendency value: -28)\nGeneral sum ratio of arithmetic ops\n  - Gini rank no. 162   Perm. rank no. 131 -\n  avg threshold: 0.278 (min 0.011, max 0.833, median 0.275)\n  36.00% of trees observe higher solvability if below threshold, 64.00% above\n  tendency of higher values for more solvable constraints (tendency value: 28)\nGeneral prod ratio of arithmetic ops\n  - Gini rank no. 182   Perm. rank no. 141 -\n  avg threshold: 0.250 (min 0.011, max 0.500, median 0.417)\n  33.00% of trees observe higher solvability if below threshold, 40.00% above\n  tendency of higher values for more solvable constraints (tendency value: 7)\n`succ` ratio of arithmetic ops\n  - Gini rank no. 244   Perm. rank no. 137 -\n  avg threshold: 0.004 (min 0.021, max 0.167, median 0.039)\n  3.00% of trees observe higher solvability if below threshold, 3.00% above\n  tendency of lower values for more solvable constraints (tendency value: 0)\n`pred` ratio of arithmetic ops\n  - Gini rank no. 242   Perm. rank no. 134 -\n  avg threshold: 0.030 (min 0.009, max 0.500, median 0.500)\n  1.00% of trees observe higher solvability if below threshold, 8.00% above\n  tendency of higher values for more solvable constraints (tendency value: 7)\n"
    }
   ],
   "source": [
    "print_feature_group_stats(range(45, 74), \"Arithmetic\") "
   ]
  },
  {
   "cell_type": "code",
   "execution_count": 53,
   "metadata": {},
   "outputs": [
    {
     "name": "stdout",
     "output_type": "stream",
     "text": "# Set theory\n  Average tendency: 16.12962962962963\nSet inclusions\n  - Gini rank no. 18   Perm. rank no. 7 -\n  avg threshold: 5.855 (min 0.500, max 59.500, median 3.000)\n  50.00% of trees observe higher solvability if below threshold, 50.00% above\n  tendency of lower values for more solvable constraints (tendency value: 0)\nSet operations\n  - Gini rank no. 98   Perm. rank no. 132 -\n  avg threshold: 3.420 (min 0.500, max 40.000, median 1.500)\n  31.00% of trees observe higher solvability if below threshold, 69.00% above\n  tendency of higher values for more solvable constraints (tendency value: 38)\nSet memberships\n  - Gini rank no. 13   Perm. rank no. 9 -\n  avg threshold: 4.775 (min 0.500, max 29.500, median 2.500)\n  54.00% of trees observe higher solvability if below threshold, 46.00% above\n  tendency of lower values for more solvable constraints (tendency value: -8)\nNegated set memberships\n  - Gini rank no. 40   Perm. rank no. 59 -\n  avg threshold: 2.695 (min 0.500, max 22.000, median 1.500)\n  42.00% of trees observe higher solvability if below threshold, 58.00% above\n  tendency of higher values for more solvable constraints (tendency value: 16)\nSubsets\n  - Gini rank no. 55   Perm. rank no. 48 -\n  avg threshold: 4.795 (min 0.500, max 27.000, median 1.500)\n  54.00% of trees observe higher solvability if below threshold, 46.00% above\n  tendency of lower values for more solvable constraints (tendency value: -8)\nStrict subsets\n  - Gini rank no. 72   Perm. rank no. 129 -\n  avg threshold: 1.180 (min 0.500, max 9.000, median 0.500)\n  54.00% of trees observe higher solvability if below threshold, 46.00% above\n  tendency of lower values for more solvable constraints (tendency value: -8)\nnumber of `finite(.)` calls\n  - Gini rank no. 203   Perm. rank no. 105 -\n  avg threshold: 0.505 (min 0.500, max 3.500, median 0.500)\n  6.00% of trees observe higher solvability if below threshold, 51.00% above\n  tendency of higher values for more solvable constraints (tendency value: 45)\nnumber of `infinite(.)` calls\n  - Gini rank no. 218   Perm. rank no. 133 -\n  avg threshold: 0.465 (min 0.500, max 3.000, median 1.000)\n  0.00% of trees observe higher solvability if below threshold, 57.00% above\n  tendency of higher values for more solvable constraints (tendency value: 57)\nnumber of `card(.)` calls\n  - Gini rank no. 82   Perm. rank no. 78 -\n  avg threshold: 1.015 (min 0.500, max 3.500, median 0.500)\n  52.00% of trees observe higher solvability if below threshold, 48.00% above\n  tendency of lower values for more solvable constraints (tendency value: -4)\nSet unions\n  - Gini rank no. 62   Perm. rank no. 135 -\n  avg threshold: 2.960 (min 0.500, max 18.500, median 1.000)\n  33.00% of trees observe higher solvability if below threshold, 67.00% above\n  tendency of higher values for more solvable constraints (tendency value: 34)\nIntersections\n  - Gini rank no. 109   Perm. rank no. 136 -\n  avg threshold: 2.830 (min 0.500, max 24.500, median 1.500)\n  44.00% of trees observe higher solvability if below threshold, 56.00% above\n  tendency of higher values for more solvable constraints (tendency value: 12)\nSet subtractions\n  feature is not used.\nGeneral set unions\n  - Gini rank no. 194   Perm. rank no. 139 -\n  avg threshold: 0.675 (min 0.500, max 11.000, median 0.500)\n  22.00% of trees observe higher solvability if below threshold, 39.00% above\n  tendency of higher values for more solvable constraints (tendency value: 17)\nGeneral intersections\n  - Gini rank no. 215   Perm. rank no. 140 -\n  avg threshold: 0.500 (min 0.500, max 2.500, median 1.500)\n  1.00% of trees observe higher solvability if below threshold, 41.00% above\n  tendency of higher values for more solvable constraints (tendency value: 40)\nQuantified set unions\n  - Gini rank no. 222   Perm. rank no. 142 -\n  avg threshold: 0.190 (min 0.500, max 3.000, median 0.500)\n  7.00% of trees observe higher solvability if below threshold, 21.00% above\n  tendency of higher values for more solvable constraints (tendency value: 14)\nQuantified intersections\n  - Gini rank no. 233   Perm. rank no. 144 -\n  avg threshold: 0.135 (min 0.500, max 2.000, median 0.500)\n  3.00% of trees observe higher solvability if below threshold, 9.00% above\n  tendency of higher values for more solvable constraints (tendency value: 6)\nNumber of set comprehensions\n  - Gini rank no. 132   Perm. rank no. 145 -\n  avg threshold: 2.135 (min 0.500, max 11.500, median 1.500)\n  61.00% of trees observe higher solvability if below threshold, 34.00% above\n  tendency of lower values for more solvable constraints (tendency value: -27)\nSet memberships per conjunct\n  - Gini rank no. 10   Perm. rank no. 20 -\n  avg threshold: 1.385 (min 0.075, max 4.500, median 0.840)\n  67.00% of trees observe higher solvability if below threshold, 33.00% above\n  tendency of lower values for more solvable constraints (tendency value: -34)\nNegative set memberships per conjunct\n  - Gini rank no. 19   Perm. rank no. 36 -\n  avg threshold: 1.032 (min 0.031, max 5.500, median 0.953)\n  35.00% of trees observe higher solvability if below threshold, 65.00% above\n  tendency of higher values for more solvable constraints (tendency value: 30)\nSubsets per conjunct\n  - Gini rank no. 39   Perm. rank no. 49 -\n  avg threshold: 1.892 (min 0.036, max 5.500, median 1.667)\n  57.00% of trees observe higher solvability if below threshold, 43.00% above\n  tendency of lower values for more solvable constraints (tendency value: -14)\nStrict subsets per conjunct\n  - Gini rank no. 59   Perm. rank no. 45 -\n  avg threshold: 0.744 (min 0.125, max 2.500, median 0.663)\n  73.00% of trees observe higher solvability if below threshold, 27.00% above\n  tendency of lower values for more solvable constraints (tendency value: -46)\nnumber of `finite(.)` calls per conjunct\n  - Gini rank no. 183   Perm. rank no. 150 -\n  avg threshold: 0.330 (min 0.010, max 1.000, median 0.500)\n  9.00% of trees observe higher solvability if below threshold, 62.00% above\n  tendency of higher values for more solvable constraints (tendency value: 53)\nnumber of `infinite(.)` calls per conjunct\n  - Gini rank no. 206   Perm. rank no. 152 -\n  avg threshold: 0.499 (min 0.014, max 1.000, median 0.500)\n  2.00% of trees observe higher solvability if below threshold, 73.00% above\n  tendency of higher values for more solvable constraints (tendency value: 71)\nnumber of `card(.)` calls per conjunct\n  - Gini rank no. 60   Perm. rank no. 41 -\n  avg threshold: 0.806 (min 0.077, max 2.500, median 0.833)\n  68.00% of trees observe higher solvability if below threshold, 32.00% above\n  tendency of lower values for more solvable constraints (tendency value: -36)\nSet unions per conjunct\n  - Gini rank no. 50   Perm. rank no. 143 -\n  avg threshold: 1.058 (min 0.042, max 10.500, median 0.500)\n  36.00% of trees observe higher solvability if below threshold, 64.00% above\n  tendency of higher values for more solvable constraints (tendency value: 28)\nIntersections per conjunct\n  - Gini rank no. 71   Perm. rank no. 55 -\n  avg threshold: 0.557 (min 0.017, max 2.500, median 0.293)\n  76.00% of trees observe higher solvability if below threshold, 24.00% above\n  tendency of lower values for more solvable constraints (tendency value: -52)\nSet subtractions per conjunct\n  feature is not used.\nGeneral set unions per conjunct\n  - Gini rank no. 185   Perm. rank no. 128 -\n  avg threshold: 0.251 (min 0.008, max 3.500, median 0.300)\n  30.00% of trees observe higher solvability if below threshold, 31.00% above\n  tendency of higher values for more solvable constraints (tendency value: 1)\nGeneral intersections per conjunct\n  - Gini rank no. 209   Perm. rank no. 106 -\n  avg threshold: 0.458 (min 0.008, max 1.750, median 1.000)\n  7.00% of trees observe higher solvability if below threshold, 41.00% above\n  tendency of higher values for more solvable constraints (tendency value: 34)\nQuantified set unions per conjunct\n  - Gini rank no. 208   Perm. rank no. 107 -\n  avg threshold: 0.185 (min 0.007, max 0.833, median 0.386)\n  17.00% of trees observe higher solvability if below threshold, 38.00% above\n  tendency of higher values for more solvable constraints (tendency value: 21)\nQuantified intersections per conjunct\n  - Gini rank no. 212   Perm. rank no. 108 -\n  avg threshold: 0.028 (min 0.004, max 0.500, median 0.014)\n  14.00% of trees observe higher solvability if below threshold, 13.00% above\n  tendency of lower values for more solvable constraints (tendency value: -1)\nNumber of set comprehensions per conjunct\n  - Gini rank no. 128   Perm. rank no. 109 -\n  avg threshold: 0.535 (min 0.008, max 2.250, median 0.500)\n  45.00% of trees observe higher solvability if below threshold, 55.00% above\n  tendency of higher values for more solvable constraints (tendency value: 10)\nSet inclusions per conjunct\n  - Gini rank no. 20   Perm. rank no. 30 -\n  avg threshold: 2.367 (min 0.026, max 9.500, median 2.500)\n  51.00% of trees observe higher solvability if below threshold, 49.00% above\n  tendency of lower values for more solvable constraints (tendency value: -2)\nSet operations per conjunct\n  - Gini rank no. 81   Perm. rank no. 112 -\n  avg threshold: 1.043 (min 0.017, max 12.000, median 0.675)\n  38.00% of trees observe higher solvability if below threshold, 62.00% above\n  tendency of higher values for more solvable constraints (tendency value: 24)\nSet memberships per set inclusion op\n  - Gini rank no. 5   Perm. rank no. 12 -\n  avg threshold: 0.613 (min 0.011, max 0.944, median 0.550)\n  57.00% of trees observe higher solvability if below threshold, 43.00% above\n  tendency of lower values for more solvable constraints (tendency value: -14)\nNegative set memberships per set inclusion op\n  - Gini rank no. 9   Perm. rank no. 19 -\n  avg threshold: 0.400 (min 0.006, max 0.917, median 0.367)\n  47.00% of trees observe higher solvability if below threshold, 53.00% above\n  tendency of higher values for more solvable constraints (tendency value: 6)\nSubsets per set inclusion op\n  - Gini rank no. 30   Perm. rank no. 38 -\n  avg threshold: 0.347 (min 0.020, max 0.833, median 0.310)\n  45.00% of trees observe higher solvability if below threshold, 55.00% above\n  tendency of higher values for more solvable constraints (tendency value: 10)\nStrict subsets per set inclusion op\n  - Gini rank no. 63   Perm. rank no. 56 -\n  avg threshold: 0.417 (min 0.042, max 0.974, median 0.417)\n  63.00% of trees observe higher solvability if below threshold, 37.00% above\n  tendency of lower values for more solvable constraints (tendency value: -26)\nSet unions per set inclusion op\n  - Gini rank no. 80   Perm. rank no. 50 -\n  avg threshold: 0.504 (min 0.125, max 0.889, median 0.500)\n  35.00% of trees observe higher solvability if below threshold, 65.00% above\n  tendency of higher values for more solvable constraints (tendency value: 30)\nIntersections per set inclusion op\n  - Gini rank no. 105   Perm. rank no. 92 -\n  avg threshold: 0.530 (min 0.250, max 0.875, median 0.500)\n  59.00% of trees observe higher solvability if below threshold, 41.00% above\n  tendency of lower values for more solvable constraints (tendency value: -18)\nSet subtractions per set inclusion op\n  feature is not used.\nGeneral set unions per set inclusion op\n  - Gini rank no. 149   Perm. rank no. 76 -\n  avg threshold: 0.260 (min 0.007, max 0.437, median 0.292)\n  38.00% of trees observe higher solvability if below threshold, 62.00% above\n  tendency of higher values for more solvable constraints (tendency value: 24)\nGeneral intersections per set inclusion op\n  - Gini rank no. 201   Perm. rank no. 124 -\n  avg threshold: 0.151 (min 0.007, max 0.438, median 0.173)\n  15.00% of trees observe higher solvability if below threshold, 57.00% above\n  tendency of higher values for more solvable constraints (tendency value: 42)\nQuantified set unions per set inclusion op\n  - Gini rank no. 213   Perm. rank no. 126 -\n  avg threshold: 0.087 (min 0.006, max 0.417, median 0.122)\n  15.00% of trees observe higher solvability if below threshold, 45.00% above\n  tendency of higher values for more solvable constraints (tendency value: 30)\nQuantified intersections per set inclusion op\n  - Gini rank no. 230   Perm. rank no. 127 -\n  avg threshold: 0.019 (min 0.006, max 0.125, median 0.056)\n  6.00% of trees observe higher solvability if below threshold, 27.00% above\n  tendency of higher values for more solvable constraints (tendency value: 21)\nNumber of set comprehensions per set inclusion op\n  - Gini rank no. 97   Perm. rank no. 95 -\n  avg threshold: 0.311 (min 0.018, max 0.778, median 0.292)\n  60.00% of trees observe higher solvability if below threshold, 40.00% above\n  tendency of lower values for more solvable constraints (tendency value: -20)\nNumber of set comprehensions per set ops\n  - Gini rank no. 118   Perm. rank no. 156 -\n  avg threshold: 0.317 (min 0.045, max 0.955, median 0.292)\n  47.00% of trees observe higher solvability if below threshold, 51.00% above\n  tendency of higher values for more solvable constraints (tendency value: 4)\nnumber of power sets\n  - Gini rank no. 95   Perm. rank no. 103 -\n  avg threshold: 1.960 (min 0.500, max 8.000, median 2.000)\n  40.00% of trees observe higher solvability if below threshold, 60.00% above\n  tendency of higher values for more solvable constraints (tendency value: 20)\nnumber of power set nestings $\\mathbb{P}(\\mathbb{P}(...))$\n  - Gini rank no. 180   Perm. rank no. 157 -\n  avg threshold: 1.350 (min 0.500, max 3.500, median 1.000)\n  11.00% of trees observe higher solvability if below threshold, 88.00% above\n  tendency of higher values for more solvable constraints (tendency value: 77)\nmax. power set nesting depth\n  - Gini rank no. 156   Perm. rank no. 244 -\n  avg threshold: 0.730 (min 0.500, max 1.500, median 0.500)\n  19.00% of trees observe higher solvability if below threshold, 81.00% above\n  tendency of higher values for more solvable constraints (tendency value: 62)\nPowersets per conjunct\n  - Gini rank no. 73   Perm. rank no. 66 -\n  avg threshold: 1.283 (min 0.009, max 5.000, median 1.000)\n  37.00% of trees observe higher solvability if below threshold, 63.00% above\n  tendency of higher values for more solvable constraints (tendency value: 26)\nNested powersets per conjunct\n  - Gini rank no. 178   Perm. rank no. 243 -\n  avg threshold: 1.165 (min 0.042, max 3.500, median 1.000)\n  19.00% of trees observe higher solvability if below threshold, 80.00% above\n  tendency of higher values for more solvable constraints (tendency value: 61)\nNested powersets per powerset use\n  - Gini rank no. 184   Perm. rank no. 242 -\n  avg threshold: 0.222 (min 0.028, max 0.475, median 0.250)\n  12.00% of trees observe higher solvability if below threshold, 82.00% above\n  tendency of higher values for more solvable constraints (tendency value: 70)\nPowersets per set op\n  - Gini rank no. 61   Perm. rank no. 58 -\n  avg threshold: 0.512 (min 0.014, max 0.937, median 0.500)\n  25.00% of trees observe higher solvability if below threshold, 75.00% above\n  tendency of higher values for more solvable constraints (tendency value: 50)\nNested powersets per set op\n  - Gini rank no. 173   Perm. rank no. 241 -\n  avg threshold: 0.442 (min 0.053, max 0.833, median 0.500)\n  19.00% of trees observe higher solvability if below threshold, 80.00% above\n  tendency of higher values for more solvable constraints (tendency value: 61)\navg. power set nesting depth\n  - Gini rank no. 74   Perm. rank no. 80 -\n  avg threshold: 0.460 (min 0.095, max 0.750, median 0.417)\n  34.00% of trees observe higher solvability if below threshold, 66.00% above\n  tendency of higher values for more solvable constraints (tendency value: 32)\navg. nested power set depth\n  - Gini rank no. 137   Perm. rank no. 100 -\n  avg threshold: 3700000.397 (min 0.250, max 5000001.000, median 5000000.000)\n  44.00% of trees observe higher solvability if below threshold, 56.00% above\n  tendency of higher values for more solvable constraints (tendency value: 12)\n"
    }
   ],
   "source": [
    "print_feature_group_stats(range(74, 131), \"Set theory\") "
   ]
  },
  {
   "cell_type": "code",
   "execution_count": 54,
   "metadata": {},
   "outputs": [
    {
     "name": "stdout",
     "output_type": "stream",
     "text": "# Relations\n  Average tendency: 12.839285714285714\nNumber of relations\n  - Gini rank no. 126   Perm. rank no. 240 -\n  avg threshold: 1.230 (min 0.500, max 6.500, median 0.500)\n  43.00% of trees observe higher solvability if below threshold, 57.00% above\n  tendency of higher values for more solvable constraints (tendency value: 14)\nNumber of rel ops\n  - Gini rank no. 51   Perm. rank no. 239 -\n  avg threshold: 2.720 (min 0.500, max 55.500, median 1.500)\n  29.00% of trees observe higher solvability if below threshold, 71.00% above\n  tendency of higher values for more solvable constraints (tendency value: 42)\nNumber of general relations\n  - Gini rank no. 122   Perm. rank no. 238 -\n  avg threshold: 1.625 (min 0.500, max 6.000, median 1.000)\n  52.00% of trees observe higher solvability if below threshold, 48.00% above\n  tendency of lower values for more solvable constraints (tendency value: -4)\nNumber of total relations\n  - Gini rank no. 238   Perm. rank no. 237 -\n  avg threshold: 0.065 (min 0.500, max 1.500, median 1.500)\n  2.00% of trees observe higher solvability if below threshold, 4.00% above\n  tendency of higher values for more solvable constraints (tendency value: 2)\nNumber of surjective relations\n  - Gini rank no. 234   Perm. rank no. 236 -\n  avg threshold: 0.050 (min 0.500, max 0.500, median 0.500)\n  5.00% of trees observe higher solvability if below threshold, 5.00% above\n  tendency of lower values for more solvable constraints (tendency value: 0)\nNumber of bijective relations\n  - Gini rank no. 236   Perm. rank no. 235 -\n  avg threshold: 0.065 (min 0.500, max 0.500, median 0.500)\n  2.00% of trees observe higher solvability if below threshold, 11.00% above\n  tendency of higher values for more solvable constraints (tendency value: 9)\nRelational images\n  - Gini rank no. 111   Perm. rank no. 79 -\n  avg threshold: 3.530 (min 0.500, max 16.500, median 1.500)\n  44.00% of trees observe higher solvability if below threshold, 56.00% above\n  tendency of higher values for more solvable constraints (tendency value: 12)\nRelational inversions\n  - Gini rank no. 96   Perm. rank no. 51 -\n  avg threshold: 4.850 (min 0.500, max 11.500, median 6.500)\n  20.00% of trees observe higher solvability if below threshold, 80.00% above\n  tendency of higher values for more solvable constraints (tendency value: 60)\nRelational overrides\n  - Gini rank no. 165   Perm. rank no. 233 -\n  avg threshold: 0.785 (min 0.500, max 4.000, median 0.500)\n  39.00% of trees observe higher solvability if below threshold, 57.00% above\n  tendency of higher values for more solvable constraints (tendency value: 18)\nDirect products\n  - Gini rank no. 241   Perm. rank no. 231 -\n  avg threshold: 0.125 (min 0.500, max 2.000, median 2.000)\n  0.00% of trees observe higher solvability if below threshold, 7.00% above\n  tendency of higher values for more solvable constraints (tendency value: 7)\nParallel products\n  - Gini rank no. 250   Perm. rank no. 218 -\n  avg threshold: 0.015 (min 1.500, max 1.500, median 1.500)\n  1.00% of trees observe higher solvability if below threshold, 0.00% above\n  tendency of lower values for more solvable constraints (tendency value: -1)\nRelational domain\n  - Gini rank no. 64   Perm. rank no. 104 -\n  avg threshold: 2.675 (min 0.500, max 15.500, median 1.500)\n  42.00% of trees observe higher solvability if below threshold, 58.00% above\n  tendency of higher values for more solvable constraints (tendency value: 16)\nRelational range\n  - Gini rank no. 108   Perm. rank no. 230 -\n  avg threshold: 3.115 (min 0.500, max 11.500, median 0.500)\n  37.00% of trees observe higher solvability if below threshold, 63.00% above\n  tendency of higher values for more solvable constraints (tendency value: 26)\nprj1\n  - Gini rank no. 154   Perm. rank no. 229 -\n  avg threshold: 0.330 (min 0.500, max 1.500, median 0.500)\n  24.00% of trees observe higher solvability if below threshold, 39.00% above\n  tendency of higher values for more solvable constraints (tendency value: 15)\nprj2\n  - Gini rank no. 192   Perm. rank no. 228 -\n  avg threshold: 0.415 (min 0.500, max 2.000, median 0.500)\n  9.00% of trees observe higher solvability if below threshold, 36.00% above\n  tendency of higher values for more solvable constraints (tendency value: 27)\nforward composition\n  - Gini rank no. 148   Perm. rank no. 227 -\n  avg threshold: 1.090 (min 0.500, max 4.500, median 0.500)\n  62.00% of trees observe higher solvability if below threshold, 35.00% above\n  tendency of lower values for more solvable constraints (tendency value: -27)\nDomain restriction\n  - Gini rank no. 133   Perm. rank no. 226 -\n  avg threshold: 1.430 (min 0.500, max 5.000, median 1.000)\n  56.00% of trees observe higher solvability if below threshold, 43.00% above\n  tendency of lower values for more solvable constraints (tendency value: -13)\nDomain subtraction\n  - Gini rank no. 187   Perm. rank no. 225 -\n  avg threshold: 0.595 (min 0.500, max 2.000, median 0.500)\n  43.00% of trees observe higher solvability if below threshold, 38.00% above\n  tendency of lower values for more solvable constraints (tendency value: -5)\nRange restriction\n  - Gini rank no. 125   Perm. rank no. 224 -\n  avg threshold: 6.855 (min 0.500, max 17.500, median 2.500)\n  33.00% of trees observe higher solvability if below threshold, 67.00% above\n  tendency of higher values for more solvable constraints (tendency value: 34)\nRange subtraction\n  - Gini rank no. 235   Perm. rank no. 223 -\n  avg threshold: 0.080 (min 0.500, max 2.000, median 0.500)\n  3.00% of trees observe higher solvability if below threshold, 7.00% above\n  tendency of higher values for more solvable constraints (tendency value: 4)\nNumber of general relationsper conjunct\n  - Gini rank no. 92   Perm. rank no. 61 -\n  avg threshold: 0.571 (min 0.045, max 5.500, median 0.367)\n  44.00% of trees observe higher solvability if below threshold, 56.00% above\n  tendency of higher values for more solvable constraints (tendency value: 12)\nNumber of total relationsper conjunct\n  - Gini rank no. 221   Perm. rank no. 222 -\n  avg threshold: 0.135 (min 0.056, max 1.500, median 0.500)\n  11.00% of trees observe higher solvability if below threshold, 10.00% above\n  tendency of lower values for more solvable constraints (tendency value: -1)\nNumber of surjective relationsper conjunct\n  - Gini rank no. 216   Perm. rank no. 221 -\n  avg threshold: 0.073 (min 0.033, max 0.667, median 0.500)\n  7.00% of trees observe higher solvability if below threshold, 14.00% above\n  tendency of higher values for more solvable constraints (tendency value: 7)\nNumber of bijective relationsper conjunct\n  - Gini rank no. 229   Perm. rank no. 220 -\n  avg threshold: 0.067 (min 0.038, max 0.500, median 0.500)\n  6.00% of trees observe higher solvability if below threshold, 14.00% above\n  tendency of higher values for more solvable constraints (tendency value: 8)\nRelational imagesper conjunct\n  - Gini rank no. 99   Perm. rank no. 219 -\n  avg threshold: 0.495 (min 0.045, max 2.500, median 0.276)\n  37.00% of trees observe higher solvability if below threshold, 63.00% above\n  tendency of higher values for more solvable constraints (tendency value: 26)\nRelational inversionsper conjunct\n  - Gini rank no. 110   Perm. rank no. 245 -\n  avg threshold: 0.512 (min 0.017, max 3.000, median 0.411)\n  39.00% of trees observe higher solvability if below threshold, 61.00% above\n  tendency of higher values for more solvable constraints (tendency value: 22)\nRelational overridesper conjunct\n  - Gini rank no. 139   Perm. rank no. 232 -\n  avg threshold: 0.313 (min 0.008, max 1.500, median 0.167)\n  40.00% of trees observe higher solvability if below threshold, 60.00% above\n  tendency of higher values for more solvable constraints (tendency value: 20)\nDirect productsper conjunct\n  - Gini rank no. 240   Perm. rank no. 246 -\n  avg threshold: 0.012 (min 0.083, max 0.567, median 0.222)\n  1.00% of trees observe higher solvability if below threshold, 4.00% above\n  tendency of higher values for more solvable constraints (tendency value: 3)\nParallel productsper conjunct\n  feature is not used.\nRelational domainper conjunct\n  - Gini rank no. 56   Perm. rank no. 87 -\n  avg threshold: 0.836 (min 0.024, max 3.500, median 0.500)\n  38.00% of trees observe higher solvability if below threshold, 62.00% above\n  tendency of higher values for more solvable constraints (tendency value: 24)\nRelational rangeper conjunct\n  - Gini rank no. 94   Perm. rank no. 90 -\n  avg threshold: 0.522 (min 0.028, max 4.500, median 0.417)\n  34.00% of trees observe higher solvability if below threshold, 66.00% above\n  tendency of higher values for more solvable constraints (tendency value: 32)\nprj1per conjunct\n  - Gini rank no. 150   Perm. rank no. 274 -\n  avg threshold: 0.089 (min 0.010, max 0.500, median 0.033)\n  30.00% of trees observe higher solvability if below threshold, 42.00% above\n  tendency of higher values for more solvable constraints (tendency value: 12)\nprj2per conjunct\n  - Gini rank no. 207   Perm. rank no. 273 -\n  avg threshold: 0.100 (min 0.071, max 0.875, median 0.167)\n  9.00% of trees observe higher solvability if below threshold, 21.00% above\n  tendency of higher values for more solvable constraints (tendency value: 12)\nforward compositionper conjunct\n  - Gini rank no. 120   Perm. rank no. 272 -\n  avg threshold: 0.300 (min 0.020, max 1.417, median 0.100)\n  57.00% of trees observe higher solvability if below threshold, 43.00% above\n  tendency of lower values for more solvable constraints (tendency value: -14)\nDomain restrictionper conjunct\n  - Gini rank no. 113   Perm. rank no. 62 -\n  avg threshold: 0.294 (min 0.016, max 1.000, median 0.191)\n  75.00% of trees observe higher solvability if below threshold, 25.00% above\n  tendency of lower values for more solvable constraints (tendency value: -50)\nDomain subtractionper conjunct\n  - Gini rank no. 186   Perm. rank no. 271 -\n  avg threshold: 0.356 (min 0.033, max 2.500, median 0.500)\n  41.00% of trees observe higher solvability if below threshold, 41.00% above\n  tendency of lower values for more solvable constraints (tendency value: 0)\nRange restrictionper conjunct\n  - Gini rank no. 129   Perm. rank no. 270 -\n  avg threshold: 0.540 (min 0.020, max 7.000, median 0.268)\n  25.00% of trees observe higher solvability if below threshold, 75.00% above\n  tendency of higher values for more solvable constraints (tendency value: 50)\nRange subtractionper conjunct\n  - Gini rank no. 237   Perm. rank no. 269 -\n  avg threshold: 0.032 (min 0.038, max 0.500, median 0.364)\n  2.00% of trees observe higher solvability if below threshold, 9.00% above\n  tendency of higher values for more solvable constraints (tendency value: 7)\nRelations per conjunct\n  - Gini rank no. 106   Perm. rank no. 268 -\n  avg threshold: 0.674 (min 0.045, max 6.000, median 0.500)\n  35.00% of trees observe higher solvability if below threshold, 65.00% above\n  tendency of higher values for more solvable constraints (tendency value: 30)\nRel ops per conjunct\n  - Gini rank no. 36   Perm. rank no. 84 -\n  avg threshold: 1.146 (min 0.043, max 3.667, median 0.500)\n  28.00% of trees observe higher solvability if below threshold, 72.00% above\n  tendency of higher values for more solvable constraints (tendency value: 44)\nGeneral relations ratio of all relations\n  - Gini rank no. 135   Perm. rank no. 267 -\n  avg threshold: 0.522 (min 0.500, max 0.882, median 0.500)\n  31.00% of trees observe higher solvability if below threshold, 69.00% above\n  tendency of higher values for more solvable constraints (tendency value: 38)\nTotal relations ratio of all relations\n  - Gini rank no. 217   Perm. rank no. 266 -\n  avg threshold: 0.041 (min 0.100, max 0.254, median 0.167)\n  7.00% of trees observe higher solvability if below threshold, 16.00% above\n  tendency of higher values for more solvable constraints (tendency value: 9)\nSurjective relations ratio of all relations\n  - Gini rank no. 226   Perm. rank no. 265 -\n  avg threshold: 0.019 (min 0.056, max 0.267, median 0.106)\n  4.00% of trees observe higher solvability if below threshold, 12.00% above\n  tendency of higher values for more solvable constraints (tendency value: 8)\nBijective relations ratio of all relations\n  - Gini rank no. 225   Perm. rank no. 264 -\n  avg threshold: 0.031 (min 0.033, max 0.267, median 0.127)\n  13.00% of trees observe higher solvability if below threshold, 11.00% above\n  tendency of lower values for more solvable constraints (tendency value: -2)\nRelational images ratio of rel ops\n  - Gini rank no. 70   Perm. rank no. 34 -\n  avg threshold: 0.458 (min 0.077, max 0.917, median 0.417)\n  33.00% of trees observe higher solvability if below threshold, 67.00% above\n  tendency of higher values for more solvable constraints (tendency value: 34)\nRelational inversions ratio of rel ops\n  - Gini rank no. 75   Perm. rank no. 53 -\n  avg threshold: 0.401 (min 0.026, max 0.833, median 0.417)\n  44.00% of trees observe higher solvability if below threshold, 56.00% above\n  tendency of higher values for more solvable constraints (tendency value: 12)\nRelational overrides ratio of rel ops\n  - Gini rank no. 134   Perm. rank no. 98 -\n  avg threshold: 0.301 (min 0.031, max 0.750, median 0.226)\n  37.00% of trees observe higher solvability if below threshold, 63.00% above\n  tendency of higher values for more solvable constraints (tendency value: 26)\nDirect products ratio of rel ops\n  - Gini rank no. 232   Perm. rank no. 263 -\n  avg threshold: 0.011 (min 0.071, max 0.500, median 0.500)\n  0.00% of trees observe higher solvability if below threshold, 3.00% above\n  tendency of higher values for more solvable constraints (tendency value: 3)\nParallel products ratio of rel ops\n  feature is not used.\nRelational domain ratio of rel ops\n  - Gini rank no. 34   Perm. rank no. 26 -\n  avg threshold: 0.443 (min 0.060, max 0.921, median 0.500)\n  17.00% of trees observe higher solvability if below threshold, 83.00% above\n  tendency of higher values for more solvable constraints (tendency value: 66)\nRelational range ratio of rel ops\n  - Gini rank no. 53   Perm. rank no. 29 -\n  avg threshold: 0.549 (min 0.043, max 0.950, median 0.500)\n  56.00% of trees observe higher solvability if below threshold, 44.00% above\n  tendency of lower values for more solvable constraints (tendency value: -12)\nprj1 ratio of rel ops\n  - Gini rank no. 161   Perm. rank no. 248 -\n  avg threshold: 0.254 (min 0.071, max 0.750, median 0.500)\n  29.00% of trees observe higher solvability if below threshold, 37.00% above\n  tendency of higher values for more solvable constraints (tendency value: 8)\nprj2 ratio of rel ops\n  - Gini rank no. 211   Perm. rank no. 260 -\n  avg threshold: 0.119 (min 0.071, max 0.583, median 0.500)\n  3.00% of trees observe higher solvability if below threshold, 27.00% above\n  tendency of higher values for more solvable constraints (tendency value: 24)\nforward composition ratio of rel ops\n  - Gini rank no. 104   Perm. rank no. 75 -\n  avg threshold: 0.609 (min 0.008, max 0.833, median 0.750)\n  76.00% of trees observe higher solvability if below threshold, 24.00% above\n  tendency of lower values for more solvable constraints (tendency value: -52)\nDomain restriction ratio of rel ops\n  - Gini rank no. 124   Perm. rank no. 259 -\n  avg threshold: 0.263 (min 0.010, max 0.687, median 0.191)\n  54.00% of trees observe higher solvability if below threshold, 46.00% above\n  tendency of lower values for more solvable constraints (tendency value: -8)\nDomain subtraction ratio of rel ops\n  - Gini rank no. 158   Perm. rank no. 91 -\n  avg threshold: 0.250 (min 0.012, max 0.750, median 0.125)\n  38.00% of trees observe higher solvability if below threshold, 62.00% above\n  tendency of higher values for more solvable constraints (tendency value: 24)\nRange restriction ratio of rel ops\n  - Gini rank no. 102   Perm. rank no. 64 -\n  avg threshold: 0.231 (min 0.009, max 0.833, median 0.167)\n  24.00% of trees observe higher solvability if below threshold, 76.00% above\n  tendency of higher values for more solvable constraints (tendency value: 52)\nRange subtraction ratio of rel ops\n  - Gini rank no. 224   Perm. rank no. 258 -\n  avg threshold: 0.042 (min 0.024, max 0.562, median 0.047)\n  7.00% of trees observe higher solvability if below threshold, 16.00% above\n  tendency of higher values for more solvable constraints (tendency value: 9)\n"
    }
   ],
   "source": [
    "print_feature_group_stats(range(131, 189), \"Relations\") "
   ]
  },
  {
   "cell_type": "code",
   "execution_count": 55,
   "metadata": {},
   "outputs": [
    {
     "name": "stdout",
     "output_type": "stream",
     "text": "# Functions\n  Average tendency: -7.909090909090909\nNumber of functions\n  - Gini rank no. 58   Perm. rank no. 257 -\n  avg threshold: 3.010 (min 0.500, max 21.500, median 1.500)\n  57.00% of trees observe higher solvability if below threshold, 43.00% above\n  tendency of lower values for more solvable constraints (tendency value: -14)\nFunction applications\n  - Gini rank no. 26   Perm. rank no. 13 -\n  avg threshold: 3.595 (min 0.500, max 26.500, median 2.500)\n  37.00% of trees observe higher solvability if below threshold, 63.00% above\n  tendency of higher values for more solvable constraints (tendency value: 26)\nGeneral, partial function\n  - Gini rank no. 116   Perm. rank no. 256 -\n  avg threshold: 0.915 (min 0.500, max 6.000, median 0.500)\n  30.00% of trees observe higher solvability if below threshold, 70.00% above\n  tendency of higher values for more solvable constraints (tendency value: 40)\nGeneral, total function\n  - Gini rank no. 77   Perm. rank no. 255 -\n  avg threshold: 3.325 (min 0.500, max 22.000, median 1.500)\n  66.00% of trees observe higher solvability if below threshold, 34.00% above\n  tendency of lower values for more solvable constraints (tendency value: -32)\nInjective, partial function\n  - Gini rank no. 153   Perm. rank no. 254 -\n  avg threshold: 0.650 (min 0.500, max 2.500, median 0.500)\n  24.00% of trees observe higher solvability if below threshold, 76.00% above\n  tendency of higher values for more solvable constraints (tendency value: 52)\nInjective, total function\n  - Gini rank no. 142   Perm. rank no. 253 -\n  avg threshold: 0.610 (min 0.500, max 2.500, median 0.500)\n  29.00% of trees observe higher solvability if below threshold, 70.00% above\n  tendency of higher values for more solvable constraints (tendency value: 41)\nSurjective, partial function\n  - Gini rank no. 163   Perm. rank no. 252 -\n  avg threshold: 0.355 (min 0.500, max 0.500, median 0.500)\n  60.00% of trees observe higher solvability if below threshold, 11.00% above\n  tendency of lower values for more solvable constraints (tendency value: -49)\nSurjective, total function\n  - Gini rank no. 193   Perm. rank no. 251 -\n  avg threshold: 0.345 (min 0.500, max 2.000, median 0.500)\n  22.00% of trees observe higher solvability if below threshold, 37.00% above\n  tendency of higher values for more solvable constraints (tendency value: 15)\nBijective, partial function\n  - Gini rank no. 204   Perm. rank no. 250 -\n  avg threshold: 0.220 (min 0.500, max 0.500, median 0.500)\n  17.00% of trees observe higher solvability if below threshold, 27.00% above\n  tendency of higher values for more solvable constraints (tendency value: 10)\nBijective, total function\n  - Gini rank no. 166   Perm. rank no. 249 -\n  avg threshold: 0.550 (min 0.500, max 1.500, median 0.500)\n  51.00% of trees observe higher solvability if below threshold, 47.00% above\n  tendency of lower values for more solvable constraints (tendency value: -4)\nLambda-expression\n  - Gini rank no. 88   Perm. rank no. 83 -\n  avg threshold: 1.500 (min 0.500, max 17.500, median 1.500)\n  78.00% of trees observe higher solvability if below threshold, 18.00% above\n  tendency of lower values for more solvable constraints (tendency value: -60)\nGeneral, partial function per conjunct\n  - Gini rank no. 84   Perm. rank no. 65 -\n  avg threshold: 0.407 (min 0.031, max 1.500, median 0.450)\n  66.00% of trees observe higher solvability if below threshold, 34.00% above\n  tendency of lower values for more solvable constraints (tendency value: -32)\nGeneral, total function per conjunct\n  - Gini rank no. 42   Perm. rank no. 54 -\n  avg threshold: 0.411 (min 0.021, max 8.000, median 0.292)\n  61.00% of trees observe higher solvability if below threshold, 39.00% above\n  tendency of lower values for more solvable constraints (tendency value: -22)\nInjective, partial function per conjunct\n  - Gini rank no. 121   Perm. rank no. 247 -\n  avg threshold: 0.404 (min 0.015, max 1.500, median 0.500)\n  37.00% of trees observe higher solvability if below threshold, 63.00% above\n  tendency of higher values for more solvable constraints (tendency value: 26)\nInjective, total function per conjunct\n  - Gini rank no. 136   Perm. rank no. 217 -\n  avg threshold: 0.475 (min 0.026, max 0.750, median 0.500)\n  36.00% of trees observe higher solvability if below threshold, 64.00% above\n  tendency of higher values for more solvable constraints (tendency value: 28)\nSurjective, partial function per conjunct\n  - Gini rank no. 151   Perm. rank no. 216 -\n  avg threshold: 0.164 (min 0.015, max 0.750, median 0.131)\n  63.00% of trees observe higher solvability if below threshold, 15.00% above\n  tendency of lower values for more solvable constraints (tendency value: -48)\nSurjective, total function per conjunct\n  - Gini rank no. 160   Perm. rank no. 215 -\n  avg threshold: 0.226 (min 0.008, max 0.750, median 0.225)\n  39.00% of trees observe higher solvability if below threshold, 44.00% above\n  tendency of higher values for more solvable constraints (tendency value: 5)\nBijective, partial function per conjunct\n  - Gini rank no. 205   Perm. rank no. 184 -\n  avg threshold: 0.048 (min 0.015, max 0.500, median 0.125)\n  18.00% of trees observe higher solvability if below threshold, 22.00% above\n  tendency of higher values for more solvable constraints (tendency value: 4)\nBijective, total function per conjunct\n  - Gini rank no. 144   Perm. rank no. 183 -\n  avg threshold: 0.350 (min 0.023, max 1.000, median 0.500)\n  59.00% of trees observe higher solvability if below threshold, 39.00% above\n  tendency of lower values for more solvable constraints (tendency value: -20)\nLambda-expression per conjunct\n  - Gini rank no. 65   Perm. rank no. 99 -\n  avg threshold: 0.311 (min 0.013, max 1.067, median 0.267)\n  70.00% of trees observe higher solvability if below threshold, 29.00% above\n  tendency of lower values for more solvable constraints (tendency value: -41)\nFunction applications per conjunct\n  - Gini rank no. 3   Perm. rank no. 14 -\n  avg threshold: 0.307 (min 0.018, max 0.784, median 0.239)\n  71.00% of trees observe higher solvability if below threshold, 29.00% above\n  tendency of lower values for more solvable constraints (tendency value: -42)\nFunctions per conjunct\n  - Gini rank no. 41   Perm. rank no. 68 -\n  avg threshold: 0.408 (min 0.010, max 3.500, median 0.388)\n  51.00% of trees observe higher solvability if below threshold, 49.00% above\n  tendency of lower values for more solvable constraints (tendency value: -2)\nFunctions or function applications per conjunct\n  - Gini rank no. 1   Perm. rank no. 1 -\n  avg threshold: 0.894 (min 0.055, max 1.500, median 1.015)\n  88.00% of trees observe higher solvability if below threshold, 12.00% above\n  tendency of lower values for more solvable constraints (tendency value: -76)\nGeneral, partial function ratio over functions\n  - Gini rank no. 90   Perm. rank no. 52 -\n  avg threshold: 0.489 (min 0.071, max 0.962, median 0.500)\n  39.00% of trees observe higher solvability if below threshold, 61.00% above\n  tendency of higher values for more solvable constraints (tendency value: 22)\nGeneral, total function ratio over functions\n  - Gini rank no. 78   Perm. rank no. 73 -\n  avg threshold: 0.605 (min 0.167, max 0.944, median 0.500)\n  70.00% of trees observe higher solvability if below threshold, 30.00% above\n  tendency of lower values for more solvable constraints (tendency value: -40)\nInjective, partial function ratio over functions\n  - Gini rank no. 131   Perm. rank no. 82 -\n  avg threshold: 0.503 (min 0.127, max 0.875, median 0.500)\n  29.00% of trees observe higher solvability if below threshold, 71.00% above\n  tendency of higher values for more solvable constraints (tendency value: 42)\nInjective, total function ratio over functions\n  - Gini rank no. 101   Perm. rank no. 182 -\n  avg threshold: 0.472 (min 0.062, max 0.833, median 0.500)\n  32.00% of trees observe higher solvability if below threshold, 66.00% above\n  tendency of higher values for more solvable constraints (tendency value: 34)\nSurjective, partial function ratio over functions\n  - Gini rank no. 146   Perm. rank no. 181 -\n  avg threshold: 0.401 (min 0.062, max 0.750, median 0.500)\n  72.00% of trees observe higher solvability if below threshold, 10.00% above\n  tendency of lower values for more solvable constraints (tendency value: -62)\nSurjective, total function ratio over functions\n  - Gini rank no. 171   Perm. rank no. 180 -\n  avg threshold: 0.392 (min 0.062, max 0.750, median 0.500)\n  41.00% of trees observe higher solvability if below threshold, 40.00% above\n  tendency of lower values for more solvable constraints (tendency value: -1)\nBijective, partial function ratio over functions\n  - Gini rank no. 210   Perm. rank no. 179 -\n  avg threshold: 0.119 (min 0.062, max 0.500, median 0.500)\n  15.00% of trees observe higher solvability if below threshold, 22.00% above\n  tendency of higher values for more solvable constraints (tendency value: 7)\nBijective, total function ratio over functions\n  - Gini rank no. 147   Perm. rank no. 178 -\n  avg threshold: 0.474 (min 0.062, max 0.833, median 0.500)\n  50.00% of trees observe higher solvability if below threshold, 48.00% above\n  tendency of lower values for more solvable constraints (tendency value: -2)\nLambda-expression ratio over functions\n  - Gini rank no. 44   Perm. rank no. 28 -\n  avg threshold: 0.503 (min 0.125, max 0.972, median 0.417)\n  78.00% of trees observe higher solvability if below threshold, 22.00% above\n  tendency of lower values for more solvable constraints (tendency value: -56)\nFunction applications ratio over functions\n  - Gini rank no. 21   Perm. rank no. 39 -\n  avg threshold: 0.461 (min 0.043, max 0.917, median 0.450)\n  55.00% of trees observe higher solvability if below threshold, 45.00% above\n  tendency of lower values for more solvable constraints (tendency value: -10)\n"
    }
   ],
   "source": [
    "print_feature_group_stats(range(189, 222), \"Functions\") "
   ]
  },
  {
   "cell_type": "code",
   "execution_count": 56,
   "metadata": {},
   "outputs": [
    {
     "name": "stdout",
     "output_type": "stream",
     "text": "# Sequences\n  Average tendency: 0.06896551724137931\nNumber of sequences and injective sequences\n  - Gini rank no. 145   Perm. rank no. 177 -\n  avg threshold: 1.075 (min 0.500, max 4.000, median 0.500)\n  64.00% of trees observe higher solvability if below threshold, 36.00% above\n  tendency of lower values for more solvable constraints (tendency value: -28)\nNumber of seq ops\n  - Gini rank no. 152   Perm. rank no. 176 -\n  avg threshold: 0.940 (min 0.500, max 3.000, median 0.500)\n  38.00% of trees observe higher solvability if below threshold, 58.00% above\n  tendency of higher values for more solvable constraints (tendency value: 20)\nNumber of sequences\n  - Gini rank no. 143   Perm. rank no. 175 -\n  avg threshold: 1.400 (min 0.500, max 9.500, median 1.000)\n  63.00% of trees observe higher solvability if below threshold, 37.00% above\n  tendency of lower values for more solvable constraints (tendency value: -26)\nNumber of injective sequences\n  feature is not used.\n`size` calls\n  feature is not used.\n`first` calls\n  - Gini rank no. 198   Perm. rank no. 172 -\n  avg threshold: 0.275 (min 0.500, max 1.000, median 0.500)\n  22.00% of trees observe higher solvability if below threshold, 28.00% above\n  tendency of higher values for more solvable constraints (tendency value: 6)\n`tail` calls\n  - Gini rank no. 214   Perm. rank no. 171 -\n  avg threshold: 0.045 (min 0.500, max 0.500, median 0.500)\n  4.00% of trees observe higher solvability if below threshold, 5.00% above\n  tendency of higher values for more solvable constraints (tendency value: 1)\n`last` calls\n  - Gini rank no. 248   Perm. rank no. 170 -\n  avg threshold: 0.005 (min 0.500, max 0.500, median 0.500)\n  0.00% of trees observe higher solvability if below threshold, 1.00% above\n  tendency of higher values for more solvable constraints (tendency value: 1)\n`front` calls\n  feature is not used.\n`reverse` calls\n  - Gini rank no. 246   Perm. rank no. 168 -\n  avg threshold: 0.005 (min 0.500, max 0.500, median 0.500)\n  0.00% of trees observe higher solvability if below threshold, 1.00% above\n  tendency of higher values for more solvable constraints (tendency value: 1)\n`permutation` calls\n  - Gini rank no. 169   Perm. rank no. 167 -\n  avg threshold: 0.805 (min 0.500, max 2.500, median 0.500)\n  31.00% of trees observe higher solvability if below threshold, 63.00% above\n  tendency of higher values for more solvable constraints (tendency value: 32)\n`concatenation` calls\n  - Gini rank no. 189   Perm. rank no. 166 -\n  avg threshold: 0.450 (min 0.500, max 3.500, median 1.000)\n  29.00% of trees observe higher solvability if below threshold, 7.00% above\n  tendency of lower values for more solvable constraints (tendency value: -22)\nfront insertions\n  feature is not used.\ntail insertions\n  - Gini rank no. 191   Perm. rank no. 164 -\n  avg threshold: 0.335 (min 0.500, max 1.500, median 0.500)\n  46.00% of trees observe higher solvability if below threshold, 11.00% above\n  tendency of lower values for more solvable constraints (tendency value: -35)\nfront restrictions\n  - Gini rank no. 227   Perm. rank no. 163 -\n  avg threshold: 0.085 (min 0.500, max 0.500, median 0.500)\n  0.00% of trees observe higher solvability if below threshold, 17.00% above\n  tendency of higher values for more solvable constraints (tendency value: 17)\ntail restrictions\n  feature is not used.\ngeneral concatenations\n  feature is not used.\nSequences per conjunct\n  - Gini rank no. 138   Perm. rank no. 160 -\n  avg threshold: 0.808 (min 0.050, max 4.500, median 0.500)\n  47.00% of trees observe higher solvability if below threshold, 53.00% above\n  tendency of higher values for more solvable constraints (tendency value: 6)\nInjective sequences per conjunct\n  feature is not used.\n`size` calls per conjunct\n  feature is not used.\n`first` calls per conjunct\n  - Gini rank no. 196   Perm. rank no. 185 -\n  avg threshold: 0.277 (min 0.050, max 1.500, median 0.500)\n  28.00% of trees observe higher solvability if below threshold, 29.00% above\n  tendency of higher values for more solvable constraints (tendency value: 1)\n`tail` calls per conjunct\n  - Gini rank no. 219   Perm. rank no. 186 -\n  avg threshold: 0.031 (min 0.083, max 0.267, median 0.155)\n  4.00% of trees observe higher solvability if below threshold, 17.00% above\n  tendency of higher values for more solvable constraints (tendency value: 13)\n`last` calls per conjunct\n  feature is not used.\n`front` calls per conjunct\n  feature is not used.\n`reverse` calls per conjunct\n  feature is not used.\n`permutation` calls per conjunct\n  - Gini rank no. 123   Perm. rank no. 96 -\n  avg threshold: 0.252 (min 0.063, max 1.250, median 0.134)\n  41.00% of trees observe higher solvability if below threshold, 58.00% above\n  tendency of higher values for more solvable constraints (tendency value: 17)\n`concatenation` calls per conjunct\n  - Gini rank no. 177   Perm. rank no. 213 -\n  avg threshold: 0.677 (min 0.069, max 5.000, median 1.000)\n  35.00% of trees observe higher solvability if below threshold, 26.00% above\n  tendency of lower values for more solvable constraints (tendency value: -9)\nfront insertions per conjunct\n  feature is not used.\ntail insertions per conjunct\n  - Gini rank no. 164   Perm. rank no. 211 -\n  avg threshold: 0.485 (min 0.250, max 1.000, median 0.500)\n  61.00% of trees observe higher solvability if below threshold, 29.00% above\n  tendency of lower values for more solvable constraints (tendency value: -32)\nfront restrictions per conjunct\n  - Gini rank no. 223   Perm. rank no. 210 -\n  avg threshold: 0.030 (min 0.071, max 0.250, median 0.071)\n  0.00% of trees observe higher solvability if below threshold, 22.00% above\n  tendency of higher values for more solvable constraints (tendency value: 22)\ntail restrictions per conjunct\n  feature is not used.\ngeneral concatenations per conjunct\n  feature is not used.\nTotal amount of sequences per conjunct$\n  - Gini rank no. 140   Perm. rank no. 207 -\n  avg threshold: 0.685 (min 0.061, max 4.000, median 0.500)\n  54.00% of trees observe higher solvability if below threshold, 46.00% above\n  tendency of lower values for more solvable constraints (tendency value: -8)\nSeq ops per conjunct\n  - Gini rank no. 130   Perm. rank no. 206 -\n  avg threshold: 0.588 (min 0.016, max 2.000, median 0.500)\n  56.00% of trees observe higher solvability if below threshold, 42.00% above\n  tendency of lower values for more solvable constraints (tendency value: -14)\nNormal sequence ratio of all sequences\n  - Gini rank no. 172   Perm. rank no. 205 -\n  avg threshold: 0.495 (min 0.500, max 0.500, median 0.500)\n  54.00% of trees observe higher solvability if below threshold, 45.00% above\n  tendency of lower values for more solvable constraints (tendency value: -9)\nInjective sequence ratio of all sequences\n  feature is not used.\n`size` calls ratio per seq op\n  feature is not used.\n`first` calls ratio per seq op\n  - Gini rank no. 181   Perm. rank no. 201 -\n  avg threshold: 0.351 (min 0.125, max 0.750, median 0.500)\n  34.00% of trees observe higher solvability if below threshold, 31.00% above\n  tendency of lower values for more solvable constraints (tendency value: -3)\n`tail` calls ratio per seq op\n  - Gini rank no. 202   Perm. rank no. 188 -\n  avg threshold: 0.047 (min 0.250, max 0.500, median 0.250)\n  6.00% of trees observe higher solvability if below threshold, 8.00% above\n  tendency of higher values for more solvable constraints (tendency value: 2)\n`last` calls ratio per seq op\n  - Gini rank no. 247   Perm. rank no. 200 -\n  avg threshold: 0.007 (min 0.250, max 0.500, median 0.500)\n  0.00% of trees observe higher solvability if below threshold, 2.00% above\n  tendency of higher values for more solvable constraints (tendency value: 2)\n`front` calls ratio per seq op\n  feature is not used.\n`reverse` calls ratio per seq op\n  - Gini rank no. 245   Perm. rank no. 198 -\n  avg threshold: 0.010 (min 0.500, max 0.500, median 0.500)\n  0.00% of trees observe higher solvability if below threshold, 2.00% above\n  tendency of higher values for more solvable constraints (tendency value: 2)\n`permutation` calls ratio per seq op\n  - Gini rank no. 168   Perm. rank no. 197 -\n  avg threshold: 0.405 (min 0.250, max 0.750, median 0.500)\n  18.00% of trees observe higher solvability if below threshold, 64.00% above\n  tendency of higher values for more solvable constraints (tendency value: 46)\n`concatenation` calls ratio per seq op\n  - Gini rank no. 200   Perm. rank no. 196 -\n  avg threshold: 0.160 (min 0.333, max 0.833, median 0.500)\n  18.00% of trees observe higher solvability if below threshold, 15.00% above\n  tendency of lower values for more solvable constraints (tendency value: -3)\nfront insertions ratio per seq op\n  feature is not used.\ntail insertions ratio per seq op\n  - Gini rank no. 195   Perm. rank no. 194 -\n  avg threshold: 0.245 (min 0.500, max 0.500, median 0.500)\n  38.00% of trees observe higher solvability if below threshold, 11.00% above\n  tendency of lower values for more solvable constraints (tendency value: -27)\nfront restrictions ratio per seq op\n  - Gini rank no. 220   Perm. rank no. 193 -\n  avg threshold: 0.145 (min 0.500, max 0.500, median 0.500)\n  0.00% of trees observe higher solvability if below threshold, 29.00% above\n  tendency of higher values for more solvable constraints (tendency value: 29)\ntail restrictions ratio per seq op\n  feature is not used.\ngeneral concatenations ratio per seq op\n  feature is not used.\n"
    }
   ],
   "source": [
    "print_feature_group_stats(range(222, 271), \"Sequences\") "
   ]
  },
  {
   "cell_type": "code",
   "execution_count": 57,
   "metadata": {},
   "outputs": [
    {
     "name": "stdout",
     "output_type": "stream",
     "text": "# Closure and Iterate\n  Average tendency: 36.5\nnumber of closures\n  - Gini rank no. 188   Perm. rank no. 190 -\n  avg threshold: 0.610 (min 0.500, max 2.500, median 0.500)\n  16.00% of trees observe higher solvability if below threshold, 76.00% above\n  tendency of higher values for more solvable constraints (tendency value: 60)\nnumber of iterations\n  - Gini rank no. 231   Perm. rank no. 189 -\n  avg threshold: 0.230 (min 0.500, max 0.500, median 0.500)\n  15.00% of trees observe higher solvability if below threshold, 31.00% above\n  tendency of higher values for more solvable constraints (tendency value: 16)\nnumber of closures per conjunct\n  - Gini rank no. 170   Perm. rank no. 234 -\n  avg threshold: 0.277 (min 0.038, max 1.500, median 0.062)\n  24.00% of trees observe higher solvability if below threshold, 74.00% above\n  tendency of higher values for more solvable constraints (tendency value: 50)\nnumber of iterations per conjunct\n  - Gini rank no. 228   Perm. rank no. 155 -\n  avg threshold: 0.233 (min 0.167, max 0.500, median 0.500)\n  19.00% of trees observe higher solvability if below threshold, 39.00% above\n  tendency of higher values for more solvable constraints (tendency value: 20)\n"
    }
   ],
   "source": [
    "print_feature_group_stats(range(271, 275), \"Closure and Iterate\")"
   ]
  },
  {
   "cell_type": "markdown",
   "execution_count": null,
   "metadata": {},
   "outputs": [],
   "source": [
    "### Gather information over the learned rules with inTrees"
   ]
  },
  {
   "cell_type": "code",
   "execution_count": 58,
   "metadata": {},
   "outputs": [],
   "source": [
    "%run intrees.py"
   ]
  },
  {
   "cell_type": "code",
   "execution_count": 59,
   "metadata": {},
   "outputs": [],
   "source": [
    "extracted_rules = extract_rules(forest)"
   ]
  },
  {
   "cell_type": "markdown",
   "execution_count": 96,
   "metadata": {},
   "outputs": [
    {
     "data": {
      "text/plain": "100"
     },
     "execution_count": 96,
     "metadata": {},
     "output_type": "execute_result"
    }
   ],
   "source": [
    "How many rules did we collect?"
   ]
  },
  {
   "cell_type": "code",
   "execution_count": 60,
   "metadata": {},
   "outputs": [
    {
     "data": {
      "text/plain": "791399"
     },
     "execution_count": 60,
     "metadata": {},
     "output_type": "execute_result"
    }
   ],
   "source": [
    "rule_count = 0\n",
    "for tree in forest.estimators_:\n",
    "    rule_set = extracted_rules[tree]\n",
    "    rule_count += len(rule_set)\n",
    "rule_count"
   ]
  },
  {
   "cell_type": "markdown",
   "execution_count": null,
   "metadata": {},
   "outputs": [],
   "source": [
    "How many conditions can we collect?"
   ]
  },
  {
   "cell_type": "code",
   "execution_count": 61,
   "metadata": {},
   "outputs": [],
   "source": [
    "extracted_conds = extract_conditions(forest, max_depth=15)"
   ]
  },
  {
   "cell_type": "code",
   "execution_count": 62,
   "metadata": {},
   "outputs": [
    {
     "data": {
      "text/plain": "152193"
     },
     "execution_count": 62,
     "metadata": {},
     "output_type": "execute_result"
    }
   ],
   "source": [
    "cond_count = 0\n",
    "for tree in forest.estimators_:\n",
    "    conds = extracted_conds[tree]\n",
    "    cond_count += len(conds)\n",
    "cond_count"
   ]
  },
  {
   "cell_type": "code",
   "execution_count": 63,
   "metadata": {},
   "outputs": [
    {
     "name": "stdout",
     "output_type": "stream",
     "text": "Avg frequency: 0.000700126150410644\nAvg error: 0.13790871193250362\nAvg length: 22.538872300824238\n"
    }
   ],
   "source": [
    "avg_rule_length = 0\n",
    "avg_rule_error = 0\n",
    "avg_rule_freq = 0\n",
    "\n",
    "all_rules = []\n",
    "\n",
    "for tree in forest.estimators_:\n",
    "    rule_set = extracted_rules[tree]\n",
    "    for rule in rule_set:\n",
    "        rl = rule_length(tree, rule)\n",
    "        re = rule_error(tree, rule)\n",
    "        rf = rule_frequency(tree, rule)\n",
    "        avg_rule_length += rl\n",
    "        avg_rule_error += re\n",
    "        avg_rule_freq += rf\n",
    "        all_rules += [(rule, rf, re, rl, tree)]\n",
    "\n",
    "avg_rule_error /= rule_count\n",
    "avg_rule_length /= rule_count\n",
    "avg_rule_freq /= rule_count\n",
    "\n",
    "print(\"Avg frequency:\", avg_rule_freq)\n",
    "print(\"Avg error:\", avg_rule_error)\n",
    "print(\"Avg length:\", avg_rule_length)"
   ]
  },
  {
   "cell_type": "code",
   "execution_count": 64,
   "metadata": {},
   "outputs": [
    {
     "name": "stdout",
     "output_type": "stream",
     "text": "Rule: (((0, 211, 1.0145833492279053, False), (5986, 5, 19.416666984558105, False), (12576, 3, 0.75, True), (12577, 38, 0.8544973433017731, False)), 1)\nFreq.: 0.173745, error: 0.130349, length: 4\n\nRule: (((0, 211, 1.0145833492279053, False), (5752, 5, 19.416666984558105, False), (12402, 3, 0.75, True), (12403, 38, 0.8544973433017731, False)), 1)\nFreq.: 0.173745, error: 0.130349, length: 4\n\nRule: (((0, 211, 1.0145833492279053, True), (1, 65, 0.0444664042443037, True), (2, 108, 0.9160798192024231, True), (3, 7, 0.02198067680001259, False), (1255, 209, 0.23904761672019958, True), (1256, 13, 0.49390244483947754, True), (1257, 93, 4.799999952316284, True), (1258, 199, 1.5, True), (1259, 97, 1.0833333134651184, True), (1260, 94, 0.6631205677986145, True), (1261, 138, 6.5, True), (1262, 144, 0.5, True), (1263, 255, 0.1339285746216774, True), (1264, 91, 1.2970588207244873, True), (1265, 28, 4.5, True), (1266, 164, 1.4166666865348816, False)), 0)\nFreq.: 0.097017, error: 0.060487, length: 16\n\nRule: (((0, 211, 1.0145833492279053, True), (1, 55, 0.0060423510149121284, True), (2, 92, 0.9529346525669098, True), (3, 209, 0.23904761672019958, True), (4, 93, 2.9375, True), (5, 94, 0.6631205677986145, True), (6, 47, 4.5, True), (7, 99, 0.9444444477558136, True), (8, 165, 0.5357142984867096, True), (9, 22, 23.5, True), (10, 1, 0.04396135360002518, False), (32, 20, 12.5, True), (33, 247, 0.1339285746216774, True), (34, 170, 1.392307698726654, True), (35, 144, 0.5, True), (36, 68, 0.8333332538604736, True), (37, 13, 0.48076923191547394, True), (38, 199, 1.5, True), (39, 119, 0.41428571939468384, True), (40, 30, 0.40967366099357605, False), (86, 239, 0.2928571552038193, True), (87, 22, 2.5, False), (287, 201, 0.38750000298023224, True), (288, 169, 0.38750000298023224, True), (289, 203, 0.75, True), (290, 97, 0.8166666626930237, True), (291, 75, 17.5, False)), 0)\nFreq.: 0.094314, error: 0.040975, length: 27\n\nRule: (((0, 209, 0.4472222179174423, True), (1, 55, 0.0060423510149121284, True), (2, 93, 4.799999952316284, True), (3, 27, 1.5, True), (4, 5, 8.099999904632568, True), (5, 3, 0.875, True), (6, 220, 0.2666666582226753, True), (7, 209, 0.23904761672019958, True), (8, 47, 4.5, True), (9, 247, 0.1339285746216774, True), (10, 207, 0.1180555559694767, True), (11, 106, 2.316666603088379, True), (12, 156, 0.36602871119976044, True), (13, 94, 0.7416666746139526, True), (14, 182, 0.0714285671710968, True), (15, 37, 0.5201288163661957, False), (135, 119, 0.22500000149011612, True), (136, 255, 1.75, False)), 0)\nFreq.: 0.085868, error: 0.056117, length: 18\n\nRule: (((0, 211, 1.0145833492279053, False), (5932, 5, 19.416666984558105, True), (5933, 30, 15.071428775787354, True), (5934, 65, 0.05606060475111008, True), (5935, 3, 0.09761904925107956, False), (9849, 84, 18.0, False)), 0)\nFreq.: 0.080721, error: 0.394230, length: 6\n\nRule: (((0, 211, 1.0145833492279053, False), (5900, 5, 19.416666984558105, True), (5901, 30, 15.071428775787354, True), (5902, 65, 0.05606060475111008, True), (5903, 3, 0.09761904925107956, False), (9799, 84, 18.0, False)), 0)\nFreq.: 0.080721, error: 0.394230, length: 6\n\nRule: (((0, 211, 1.0145833492279053, False), (5836, 5, 19.416666984558105, True), (5837, 30, 15.071428775787354, True), (5838, 65, 0.05606060475111008, True), (5839, 3, 0.09761904925107956, False), (9613, 84, 18.0, False)), 0)\nFreq.: 0.080721, error: 0.394230, length: 6\n\nRule: (((0, 211, 1.0145833492279053, False), (5876, 5, 19.416666984558105, True), (5877, 30, 15.071428775787354, True), (5878, 65, 0.05606060475111008, True), (5879, 3, 0.09761904925107956, False), (9693, 84, 18.0, False)), 0)\nFreq.: 0.080721, error: 0.394230, length: 6\n\nRule: (((0, 211, 1.0145833492279053, False), (5810, 5, 19.416666984558105, True), (5811, 30, 15.071428775787354, True), (5812, 46, 0.5, True), (5813, 3, 0.09761904925107956, False), (9625, 84, 18.0, False)), 0)\nFreq.: 0.080715, error: 0.394256, length: 6\n\n"
    }
   ],
   "source": [
    "for ranked_rule in sorted(all_rules, key = lambda r: (1/r[1], 1/r[3], r[2]))[0:10]:\n",
    "    print(\"Rule:\", ranked_rule[0])\n",
    "    print(\"Freq.: %f, error: %f, length: %d\" % (ranked_rule[1], ranked_rule[2], ranked_rule[3]))\n",
    "    print()"
   ]
  },
  {
   "cell_type": "code",
   "execution_count": 65,
   "metadata": {},
   "outputs": [],
   "source": [
    "def pretty_print_rule(rule):\n",
    "    cond, target = rule\n",
    "    for (_, fid, thresh, leq) in cond:\n",
    "        comp_sign = \"<=\" if leq else \">\"\n",
    "        print(\"# %3d: %s %s %.3f\" % (fid, f275_name(fid), comp_sign, thresh))\n",
    "    print(\"=> %d\" % target)"
   ]
  },
  {
   "cell_type": "code",
   "execution_count": 67,
   "metadata": {},
   "outputs": [
    {
     "name": "stdout",
     "output_type": "stream",
     "text": "# 211: Functions or function applications per conjunct <= 1.015\n#  65: Addition ratio of arithmetic ops <= 0.044\n# 108: Set memberships per set inclusion op <= 0.916\n#   7: Implications per conjunct > 0.022\n# 209: Function applications per conjunct <= 0.239\n#  13: Universal quantifiers per conjunct <= 0.494\n#  93: Subsets per conjunct <= 4.800\n# 199: Lambda-expression <= 1.500\n#  97: number of `card(.)` calls per conjunct <= 1.083\n#  94: Strict subsets per conjunct <= 0.663\n# 138: Relational inversions <= 6.500\n# 144: prj1 <= 0.500\n# 255: Seq ops per conjunct <= 0.134\n#  91: Set memberships per conjunct <= 1.297\n#  28: #ids with unbounded domains, symbolic <= 4.500\n# 164: forward compositionper conjunct > 1.417\n=> 0\n\n# 211: Functions or function applications per conjunct <= 1.015\n#  55: Additions per conjunct <= 0.006\n#  92: Negative set memberships per conjunct <= 0.953\n# 209: Function applications per conjunct <= 0.239\n#  93: Subsets per conjunct <= 2.938\n#  94: Strict subsets per conjunct <= 0.663\n#  47: Multiplications <= 4.500\n#  99: Intersections per conjunct <= 0.944\n# 165: Domain restrictionper conjunct <= 0.536\n#  22: Number of identifiers <= 23.500\n#   1: Max conjunct depth per conjunct > 0.044\n#  20: Equality per conjunct <= 12.500\n# 247: `permutation` calls per conjunct <= 0.134\n# 170: Rel ops per conjunct <= 1.392\n# 144: prj1 <= 0.500\n#  68: Modulo ratio of arithmetic ops <= 0.833\n#  13: Universal quantifiers per conjunct <= 0.481\n# 199: Lambda-expression <= 1.500\n# 119: Number of set comprehensions per set inclusion op <= 0.414\n#  30: Identifiers per conjunct > 0.410\n# 239: Sequences per conjunct <= 0.293\n#  22: Number of identifiers > 2.500\n# 201: General, total function per conjunct <= 0.388\n# 169: Relations per conjunct <= 0.388\n# 203: Injective, total function per conjunct <= 0.750\n#  97: number of `card(.)` calls per conjunct <= 0.817\n#  75: Set operations > 17.500\n=> 0\n\n# 209: Function applications per conjunct <= 0.447\n#  55: Additions per conjunct <= 0.006\n#  93: Subsets per conjunct <= 4.800\n#  27: #ids with semi-bounded domains, explicit- <= 1.500\n#   5: Conjunctions per conjunct <= 8.100\n#   3: max negation depth per conjunct <= 0.875\n# 220: Lambda-expression ratio over functions <= 0.267\n# 209: Function applications per conjunct <= 0.239\n#  47: Multiplications <= 4.500\n# 247: `permutation` calls per conjunct <= 0.134\n# 207: Bijective, total function per conjunct <= 0.118\n# 106: Set inclusions per conjunct <= 2.317\n# 156: Relational inversionsper conjunct <= 0.366\n#  94: Strict subsets per conjunct <= 0.742\n# 182: prj1 ratio of rel ops <= 0.071\n#  37: #ids with unbounded domains per conjunct, explicit > 0.520\n# 119: Number of set comprehensions per set inclusion op <= 0.225\n# 255: Seq ops per conjunct > 1.750\n=> 0\n\n"
    }
   ],
   "source": [
    "# Prints the first five rules for unkown\n",
    "count = 0\n",
    "for ranked_rule in sorted(all_rules, key = lambda r: (1/r[1], 1/r[3], r[2])):\n",
    "    rule = ranked_rule[0]\n",
    "    count += 1\n",
    "    if rule[1] == 0:\n",
    "        pretty_print_rule(rule)\n",
    "        print()\n",
    "    if count >= 5: break\n",
    "        "
   ]
  },
  {
   "cell_type": "markdown",
   "execution_count": null,
   "metadata": {},
   "outputs": [],
   "source": [
    "We see that, apparently, only three distinct rules exist for deciding the unknown class. This should be investigated further."
   ]
  }
 ]
}